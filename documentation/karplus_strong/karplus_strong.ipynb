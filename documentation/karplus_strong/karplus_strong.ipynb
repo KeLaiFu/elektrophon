{
 "cells": [
  {
   "source": [
    "---\n",
    "layout: default\n",
    "title: karplus strong\n",
    "author: spielhuus\n",
    "tags: documentation\n",
    "---"
   ],
   "cell_type": "markdown",
   "metadata": {}
  },
  {
   "cell_type": "markdown",
   "metadata": {},
   "source": [
    "# Karplus-Strong Synthesis"
   ]
  },
  {
   "cell_type": "markdown",
   "metadata": {},
   "source": [
    "calculating frequencies from midi notes:"
   ]
  },
  {
   "cell_type": "code",
   "execution_count": null,
   "metadata": {},
   "outputs": [],
   "source": [
    "def make_sine_wavetable(n_samples, amps, phases, freqs):\n",
    "    \"\"\"Makes a wavetable from a sum of sines.\"\"\"\n",
    "    t = np.linspace(0, 1, num=n_samples)\n",
    "    wavetable = np.zeros_like(t)\n",
    "    for amp, phase, freq in zip(amps, \n",
    "                                phases,\n",
    "                                freqs):\n",
    "        wavetable += amp * np.sin(np.sin(2 * np.pi * freq * t + phase)) + \\\n",
    "                         amp / 2 * np.sin(np.sin(2 * np.pi * 2 * freq * t + phase))\n",
    "    return wavetable"
   ]
  },
  {
   "cell_type": "code",
   "execution_count": null,
   "metadata": {},
   "outputs": [],
   "source": [
    "def make_triangle_wavetable():\n",
    "    t = np.linspace(0, 1, num=n_samples)\n",
    "    \n",
    "    return wavetable"
   ]
  },
  {
   "cell_type": "code",
   "execution_count": null,
   "metadata": {},
   "outputs": [],
   "source": [
    "import numpy as np\n",
    "import matplotlib.pyplot as plot\n",
    "from IPython.display import Audio"
   ]
  },
  {
   "cell_type": "code",
   "execution_count": null,
   "metadata": {},
   "outputs": [],
   "source": [
    "fs = 8000\n",
    "wavetable_size = fs // 55\n",
    "wavetable = (2 * np.random.randint(0, 2, wavetable_size) - 1).astype(np.float)"
   ]
  },
  {
   "cell_type": "markdown",
   "metadata": {},
   "source": [
    "calculate sine wave with cmsis dsp. \n"
   ]
  },
  {
   "cell_type": "code",
   "execution_count": null,
   "metadata": {},
   "outputs": [],
   "source": [
    "plot.plot(wavetable)\n"
   ]
  },
  {
   "cell_type": "code",
   "execution_count": null,
   "metadata": {},
   "outputs": [],
   "source": [
    "Audio(wavetable, rate=fs)"
   ]
  },
  {
   "cell_type": "code",
   "execution_count": null,
   "metadata": {},
   "outputs": [],
   "source": [
    "def karplus_strong(wavetable, n_samples):\n",
    "    \"\"\"Synthesizes a new waveform from an existing wavetable, modifies last sample by averaging.\"\"\"\n",
    "    samples = []\n",
    "    current_sample = 0\n",
    "    previous_value = 0\n",
    "    while len(samples) < n_samples:\n",
    "        wavetable[current_sample] = 0.5 * (wavetable[current_sample] + previous_value)\n",
    "        samples.append(wavetable[current_sample])\n",
    "        previous_value = samples[-1]\n",
    "        current_sample += 1\n",
    "        current_sample = current_sample % wavetable.size\n",
    "    return np.array(samples)"
   ]
  },
  {
   "cell_type": "code",
   "execution_count": null,
   "metadata": {
    "scrolled": true
   },
   "outputs": [],
   "source": [
    "sample1 = karplus_strong(wavetable, 2 * fs)\n",
    "Audio(sample1, rate=8000)"
   ]
  },
  {
   "cell_type": "markdown",
   "metadata": {},
   "source": [
    "# drums\n"
   ]
  },
  {
   "cell_type": "code",
   "execution_count": null,
   "metadata": {},
   "outputs": [],
   "source": [
    "def karplus_strong_drum(wavetable, n_samples, prob):\n",
    "    \"\"\"Synthesizes a new waveform from an existing wavetable, modifies last sample by averaging.\"\"\"\n",
    "    samples = []\n",
    "    current_sample = 0\n",
    "    previous_value = 0\n",
    "    while len(samples) < n_samples:\n",
    "        r = np.random.binomial(1, prob)\n",
    "        sign = float(r == 1) * 2 - 1\n",
    "        wavetable[current_sample] = sign * 0.5 * (wavetable[current_sample] + previous_value)\n",
    "        samples.append(wavetable[current_sample])\n",
    "        previous_value = samples[-1]\n",
    "        current_sample += 1\n",
    "        current_sample = current_sample % wavetable.size\n",
    "    return np.array(samples)"
   ]
  },
  {
   "cell_type": "code",
   "execution_count": null,
   "metadata": {},
   "outputs": [],
   "source": [
    "wavetable_size = fs // 40 \n",
    "wavetable = np.ones(wavetable_size)"
   ]
  },
  {
   "cell_type": "code",
   "execution_count": null,
   "metadata": {},
   "outputs": [],
   "source": [
    "sample1 = karplus_strong_drum(wavetable, 1 * fs, 0.3)"
   ]
  },
  {
   "cell_type": "code",
   "execution_count": null,
   "metadata": {},
   "outputs": [],
   "source": [
    "Audio(sample1, rate=fs)"
   ]
  },
  {
   "cell_type": "code",
   "execution_count": null,
   "metadata": {},
   "outputs": [],
   "source": [
    "bs = np.arange(0, 1.1, 0.1)"
   ]
  },
  {
   "cell_type": "code",
   "execution_count": null,
   "metadata": {},
   "outputs": [],
   "source": [
    "for b in bs:\n",
    "    wavetable = np.ones(wavetable_size)\n",
    "    sample = karplus_strong_drum(wavetable, 1 * fs, b)\n",
    "    display(Audio(sample, rate=fs))"
   ]
  },
  {
   "cell_type": "code",
   "execution_count": null,
   "metadata": {},
   "outputs": [],
   "source": [
    "fs = 20000\n",
    "for freq in [20, 55, 110, 220, 440, 880, 1288]:\n",
    "    wavetable_size = fs // freq \n",
    "    wavetable = np.ones(wavetable_size)\n",
    "    sample = karplus_strong_drum(wavetable, 2 * fs, 0)\n",
    "    display(Audio(sample, rate=fs))"
   ]
  },
  {
   "cell_type": "code",
   "execution_count": null,
   "metadata": {},
   "outputs": [],
   "source": [
    "## Modifying the algorithm for longer delays"
   ]
  },
  {
   "cell_type": "code",
   "execution_count": null,
   "metadata": {},
   "outputs": [],
   "source": [
    "def karplus_strong_decay(wavetable, n_samples, stretch_factor):\n",
    "    \"\"\"Synthesizes a new waveform from an existing wavetable, modifies last sample by averaging.\n",
    "    Uses a stretch_factor to control for decay.\"\"\"\n",
    "    samples = []\n",
    "    current_sample = 0\n",
    "    previous_value = 0\n",
    "    while len(samples) < n_samples:\n",
    "        r = np.random.binomial(1, 1 - 1/stretch_factor)\n",
    "        if r == 0:\n",
    "            wavetable[current_sample] =  0.5 * (wavetable[current_sample] + previous_value)\n",
    "        samples.append(wavetable[current_sample])\n",
    "        previous_value = samples[-1]\n",
    "        current_sample += 1\n",
    "        current_sample = current_sample % wavetable.size\n",
    "    return np.array(samples)"
   ]
  },
  {
   "cell_type": "code",
   "execution_count": null,
   "metadata": {},
   "outputs": [],
   "source": [
    "fs = 8000"
   ]
  },
  {
   "cell_type": "code",
   "execution_count": null,
   "metadata": {},
   "outputs": [],
   "source": [
    "stretch_factors = [1, 2.1, 3.5, 4, 8]"
   ]
  },
  {
   "cell_type": "code",
   "execution_count": null,
   "metadata": {},
   "outputs": [],
   "source": [
    "freq = 110"
   ]
  },
  {
   "cell_type": "code",
   "execution_count": null,
   "metadata": {},
   "outputs": [],
   "source": [
    "waveforms = []\n",
    "for ind, stretch_factor in enumerate(stretch_factors):\n",
    "    wavetable_size = fs // int(freq)\n",
    "    wavetable = (2 * np.random.randint(0, 2, wavetable_size) - 1).astype(np.float)\n",
    "    sample = karplus_strong_decay(wavetable, 2 * fs, stretch_factor)\n",
    "    waveforms.append(sample)"
   ]
  },
  {
   "cell_type": "code",
   "execution_count": null,
   "metadata": {},
   "outputs": [],
   "source": [
    "for waveform in waveforms:\n",
    "    display(Audio(waveform, rate=fs))"
   ]
  },
  {
   "cell_type": "code",
   "execution_count": null,
   "metadata": {},
   "outputs": [],
   "source": [
    "plot.figure(figsize=(10, 7))\n",
    "for ind, (waveform, stretch_factor) in enumerate(zip(waveforms, stretch_factors)):\n",
    "    plot.plot(waveform - 2 * ind, label='{:.2f} stretch'.format(stretch_factor))\n",
    "plot.legend(loc='upper right')\n",
    "plot.title('full waveforms')\n",
    "\n",
    "a = plot.axes([.5, .1, .4, .4], facecolor='white')\n",
    "plot.yticks([])\n",
    "for ind, (waveform, stretch_factor) in enumerate(zip(waveforms, stretch_factors)):\n",
    "    plot.plot(waveform - 2 * ind, label='{:.2f} stretch'.format(stretch_factor))\n",
    "plot.xlim(0, 1500)\n",
    "plot.title('first samples')\n",
    "plot.tight_layout()"
   ]
  },
  {
   "cell_type": "code",
   "execution_count": null,
   "metadata": {},
   "outputs": [],
   "source": [
    "wavetable_size = fs // int(freq)\n",
    "wavetable = make_sine_wavetable(wavetable_size, [0.3, 0.5, 0.3], [0, 0.5, 0], [1, 3, 9])\n",
    "sample = karplus_strong_decay(wavetable, 5 * fs, stretch_factor=10)\n",
    "plot.subplot(211)\n",
    "plot.plot(sample)\n",
    "plot.subplot(212)\n",
    "plot.plot(sample)\n",
    "plot.xlim(0, 1000)\n",
    "\n",
    "Audio(sample, rate=fs)"
   ]
  },
  {
   "cell_type": "code",
   "execution_count": null,
   "metadata": {},
   "outputs": [],
   "source": []
  },
  {
   "cell_type": "code",
   "execution_count": null,
   "metadata": {},
   "outputs": [],
   "source": []
  }
 ],
 "metadata": {
  "kernelspec": {
   "display_name": "Python 3",
   "language": "python",
   "name": "python3"
  },
  "language_info": {
   "codemirror_mode": {
    "name": "ipython",
    "version": 3
   },
   "file_extension": ".py",
   "mimetype": "text/x-python",
   "name": "python",
   "nbconvert_exporter": "python",
   "pygments_lexer": "ipython3",
   "version": "3.8.5-final"
  }
 },
 "nbformat": 4,
 "nbformat_minor": 2
}