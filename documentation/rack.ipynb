{
 "cells": [
  {
   "cell_type": "code",
   "execution_count": 1,
   "metadata": {
    "tags": []
   },
   "outputs": [],
   "source": [
    "#general definitions and imports\n",
    "%matplotlib inline\n",
    "%config InlineBackend.figure_format = 'svg'\n",
    "\n",
    "import matplotlib.pyplot as plt\n",
    "import matplotlib.lines as lines\n"
   ]
  },
  {
   "cell_type": "markdown",
   "metadata": {},
   "source": [
    "![module](https://img.shields.io/badge/module-mischer-yellow)\n",
    "![status](https://img.shields.io/badge/status-work%20in%20progress-orange)\n",
    "\n",
    "# *eurorack*\n",
    "\n",
    "***table of contents***\n",
    "\n",
    "* [*about*](#about)\n",
    "* [*construction*](#construction)\n",
    "* [*calibration*](#calibration)\n",
    "* [*usage*](#usage)\n",
    "* [*references*](#lreferences)\n",
    "* [*changelog*](#changelog)\n",
    "\n",
    "<br/><br/>\n",
    "\n",
    "## *about*\n",
    "\n",
    "kontrast ist a simple mixer utility module. it can be used as a **mixer**, **attenuator** or **attenuverter** for ac or dc signals. the function depends on the patching and settings of the potentiometers. an attenuverter is used in different modules like the  Serge VCS, Maths and also in the polivoks filter. while this module can be used as a simple mixer you can also adjust cv signals. such a signal can be simply attenuated or inverted. when feeding in a positive singal slope (for example from an adsr). the signal will be turned to a neagative dc singal. if the inpout signal is ac coupled the signal will be inverted. the function is the setting on the potentiometer of the channel. when the potentiometer is at center position. the output signal is attenuated to zero. no output singal is present. when turning to the right. the signal will be stronger until the output signal is equal to the input signal. when turning the potentiomenter to the left, the output signal will be phase shifted by 180°. when you turn the potentiometer to full left the output signal will be the inverted input signal. all the inputs are mixed to the output signal; unless you connect the output of a channel. then this output does not accure on the mixed signal."
   ]
  },
  {
   "cell_type": "code",
   "execution_count": 2,
   "metadata": {
    "tags": []
   },
   "outputs": [
    {
     "output_type": "error",
     "ename": "NameError",
     "evalue": "name 'ax' is not defined",
     "traceback": [
      "\u001b[0;31m---------------------------------------------------------------------------\u001b[0m",
      "\u001b[0;31mNameError\u001b[0m                                 Traceback (most recent call last)",
      "\u001b[0;32m<ipython-input-2-e9ffea95c38f>\u001b[0m in \u001b[0;36m<module>\u001b[0;34m\u001b[0m\n\u001b[1;32m     15\u001b[0m \u001b[0;34m\u001b[0m\u001b[0m\n\u001b[1;32m     16\u001b[0m \u001b[0mdisk1\u001b[0m \u001b[0;34m=\u001b[0m \u001b[0mplt\u001b[0m\u001b[0;34m.\u001b[0m\u001b[0mCircle\u001b[0m\u001b[0;34m(\u001b[0m\u001b[0;34m(\u001b[0m\u001b[0;36m0\u001b[0m\u001b[0;34m,\u001b[0m \u001b[0;36m0\u001b[0m\u001b[0;34m)\u001b[0m\u001b[0;34m,\u001b[0m \u001b[0;36m1\u001b[0m\u001b[0;34m,\u001b[0m \u001b[0mcolor\u001b[0m\u001b[0;34m=\u001b[0m\u001b[0;34m\"k\"\u001b[0m\u001b[0;34m,\u001b[0m \u001b[0mfill\u001b[0m\u001b[0;34m=\u001b[0m\u001b[0;32mFalse\u001b[0m\u001b[0;34m)\u001b[0m\u001b[0;34m\u001b[0m\u001b[0;34m\u001b[0m\u001b[0m\n\u001b[0;32m---> 17\u001b[0;31m \u001b[0max\u001b[0m\u001b[0;34m.\u001b[0m\u001b[0madd_artist\u001b[0m\u001b[0;34m(\u001b[0m\u001b[0mdisk1\u001b[0m\u001b[0;34m)\u001b[0m\u001b[0;34m\u001b[0m\u001b[0;34m\u001b[0m\u001b[0m\n\u001b[0m\u001b[1;32m     18\u001b[0m \u001b[0;34m\u001b[0m\u001b[0m\n\u001b[1;32m     19\u001b[0m \u001b[0;31m#plt.gca().add_patch(circle)\u001b[0m\u001b[0;34m\u001b[0m\u001b[0;34m\u001b[0m\u001b[0;34m\u001b[0m\u001b[0m\n",
      "\u001b[0;31mNameError\u001b[0m: name 'ax' is not defined"
     ]
    }
   ],
   "source": [
    "import matplotlib.lines as lines\n",
    "\n",
    "HP = 20.32\n",
    "HU = 133.4\n",
    "\n",
    "#plt.rcParams[\"figure.figsize\"] = (0.1,5)\n",
    "fig = plt.figure()\n",
    "\n",
    "#for l in range(6) :\n",
    "#    l1 = lines.Line2D([l*HP, l*HP], [0, 1], transform=fig.transFigure, figure=fig)\n",
    "#    fig.lines.extend([l1])\n",
    "#for l in range(2) :\n",
    "#    l1 = lines.Line2D([0, 6*HP], [l*1, l*1], transform=fig.transFigure, figure=fig)\n",
    "#    fig.lines.extend([l1])\n",
    "\n",
    "disk1 = plt.Circle((0, 0), 1, color=\"k\", fill=False)\n",
    "ax.add_artist(disk1)\n",
    "\n",
    "#plt.gca().add_patch(circle)\n",
    "\n",
    "#l2 = lines.Line2D([0, 1], [1, 0], transform=fig.transFigure, figure=fig)\n",
    "\n",
    "#fig.lines.extend([l1, l2])\n",
    "#plt.axis('off')\n",
    "plt.show()"
   ]
  },
  {
   "cell_type": "code",
   "execution_count": null,
   "metadata": {},
   "outputs": [],
   "source": [
    "import matplotlib.pyplot as plt\n",
    "\n",
    "#circle1 = plt.Circle((0, 0), 0.2, color='r')\n",
    "#circle2 = plt.Circle((0.5, 0.5), 0.2, color='blue')\n",
    "circle3 = plt.Circle((1, 1), 0.1, color='g', clip_on=False, fill=False)\n",
    "\n",
    "fig = plt.figure()\n",
    "ax = fig.gca()\n",
    "\n",
    "#ax.add_artist(circle1)\n",
    "#ax.add_artist(circle2)\n",
    "ax.add_artist(circle3)\n",
    "\n",
    "plt.axis('equal')\n",
    "plt.axis('off')\n",
    "plt.tight_layout()\n",
    "\n",
    "plt.show()"
   ]
  },
  {
   "cell_type": "markdown",
   "metadata": {},
   "source": [
    "the attenuverter is build around a differential amplifier with an opamp. "
   ]
  },
  {
   "cell_type": "markdown",
   "metadata": {},
   "source": [
    "## *references*\n",
    "\n",
    "- [Op Amp Differential Amplifier][1] eCircuit  Center\n",
    "- [Beginners' Guide to Potentiometers][2]  Rod Elliott (ESP)\n",
    "\n",
    "[1]: http://www.ecircuitcenter.com/Circuits/opdif/opdif.htm\n",
    "[2]: https://sound-au.com/pots.htm\n",
    "[10]: https://www.mouser.ch/ProductDetail/ALPS/RK09L114001T?qs=Xb8IjHhkxj78e5CYccfZWg%3D%3D\n"
   ]
  },
  {
   "cell_type": "markdown",
   "metadata": {},
   "source": [
    "## *changelog*\n",
    "\n"
   ]
  },
  {
   "cell_type": "markdown",
   "metadata": {},
   "source": [
    "---\n",
    "[![CC BY-SA](https://licensebuttons.net/l/by-sa/3.0/88x31.png)](https://creativecommons.org/licenses/by-sa/4.0/)"
   ]
  }
 ],
 "metadata": {
  "kernelspec": {
   "display_name": "Python 3.8.2 64-bit",
   "language": "python",
   "name": "python38264bitf28cdd56da7a4a91a745d4dca728ac52"
  },
  "language_info": {
   "codemirror_mode": {
    "name": "ipython",
    "version": 3
   },
   "file_extension": ".py",
   "mimetype": "text/x-python",
   "name": "python",
   "nbconvert_exporter": "python",
   "pygments_lexer": "ipython3",
   "version": "3.8.5-final"
  }
 },
 "nbformat": 4,
 "nbformat_minor": 4
}