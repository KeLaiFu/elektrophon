{
 "cells": [
  {
   "cell_type": "code",
   "execution_count": null,
   "metadata": {
    "tags": []
   },
   "outputs": [],
   "source": [
    "# Just the normal prequisites for using matplotlib and numpy in a Jupyter notebook\n",
    "%matplotlib inline\n",
    "# Use the svg backend, in my opinion it just makes better looking plots\n",
    "%config InlineBackend.figure_format = 'svg'\n",
    "\n",
    "import PySpice.Logging.Logging as Logging\n",
    "logger = Logging.setup_logging( logging_level='CRITICAL')\n",
    "\n",
    "import os\n",
    "import sys\n",
    "from pathlib import Path\n",
    "import IPython\n",
    "from scipy import signal\n",
    "import scipy.fftpack\n",
    "from PySpice.Unit import *\n",
    "from PySpice.Spice.Parser import SpiceParser\n",
    "from PySpice.Spice.Netlist import Circuit, SubCircuit, SubCircuitFactory\n",
    "from PySpice.Spice.Library import SpiceLibrary\n",
    "from PySpice.Probe.Plot import plot\n",
    "from PySpice.Doc.ExampleTools import find_libraries\n",
    "from PySpice.Math import *\n",
    "import matplotlib.pyplot as plt\n",
    "import matplotlib.image as mpimg\n",
    "import numpy as np\n",
    "import matplotlib.pyplot as plt\n",
    "import unittest\n",
    "\n",
    "directory_path = Path(os.path.abspath('')).resolve().parent.parent\n",
    "spice_libraries_path = directory_path.joinpath(\"lib\", \"spice\")\n",
    "spice_library = SpiceLibrary(spice_libraries_path)\n",
    "\n",
    "directory_path = Path(os.path.abspath('')).resolve()"
   ]
  },
  {
   "cell_type": "code",
   "execution_count": null,
   "metadata": {},
   "outputs": [],
   "source": []
  },
  {
   "cell_type": "markdown",
   "metadata": {},
   "source": [
    "![module](https://img.shields.io/badge/module-vca-yellow) ![status](https://img.shields.io/badge/status-work%20in%20progress-orange)\n",
    "\n",
    "## *übergang*\n",
    "\n",
    "<a href=\"https://photos.app.goo.gl/pg6iZUC32rTKX5LC7\"><img src=\"https://spielhuus.github.io/elektrophon/images/kontrast-logo-tmb.jpg\" height=\"300px\" align=\"right\"></a>\n",
    "\n",
    "***table of contents***\n",
    "\n",
    "* [*about*](#about)\n",
    "* [*construction*](#construction)\n",
    "* [*calibration*](#calibration)\n",
    "* [*usage*](#usage)\n",
    "* [*credits*](#credits)\n",
    "* [*links*](#links)\n",
    "* [*changelog*](#changelog)\n",
    "  \n",
    "<br/><br/><br/><br/>\n",
    "\n",
    "## *about*\n"
   ]
  },
  {
   "cell_type": "code",
   "execution_count": null,
   "metadata": {},
   "outputs": [],
   "source": [
    "#load the diffpair schema\n",
    "kicad_netlist_path = directory_path.joinpath('main', 'main.cir')\n",
    "parser = SpiceParser(path=str(kicad_netlist_path))"
   ]
  },
  {
   "cell_type": "code",
   "execution_count": null,
   "metadata": {
    "tags": []
   },
   "outputs": [],
   "source": [
    "#simulate interpolating scanner\n",
    "scanner = parser.build_circuit(ground=5)\n",
    "scanner.include(spice_library['TL072'])\n",
    "scanner.include(spice_library['TL072c'])\n",
    "scanner.include(spice_library['LT1014x_30V'])\n",
    "scanner.include(spice_library['BC556B'])\n",
    "#scanner.include(spice_library['BC857CW'])\n",
    "scanner.include(spice_library['LM13700/NS'])\n",
    "scanner.include(spice_library['LM13700d'])\n",
    "scanner.include(spice_library['D1N4148'])\n",
    "scanner.V('1', '+15V', scanner.gnd, 'DC 15')\n",
    "scanner.V('2', '-15V', scanner.gnd, 'DC -15')\n",
    "scanner.V('3', 'IN_1', scanner.gnd, 'DC 5V AC 5V SIN(0 5 400)')\n",
    "scanner.V('4', 'IN_2', scanner.gnd, 'DC 5V AC 5V PULSE(-5 5 0 1m 1m 1m 3m)') \n",
    "scanner.V('5', 'IN_3', scanner.gnd, 'DC 5V AC 5V PULSE(-5 5 0 2m 0m 1u 2m)') \n",
    "scanner.V('6', 'IN_4', scanner.gnd, 'DC 5V AC 5V PULSE(-5 5 0 0 2m 1u 2m)') \n",
    "#scanner.V('4', 'IN_2', scanner.gnd, 'DC 5V AC 5V SIN(0 5 800)')\n",
    "#scanner.V('5', 'IN_3', scanner.gnd, 'DC 5V AC 5V SIN(0 5 1200)')\n",
    "#scanner.V('6', 'IN_4', scanner.gnd, 'DC 5V AC 5V SIN(0 5 1600)')\n",
    "scanner.V('7', 'CV_IN', scanner.gnd, 'DC 5V AC 5V PULSE(0 5 0 30m 0 1u 30m)') \n",
    "\n",
    "for q in (scanner.Q1, scanner.Q2, scanner.Q3, scanner.Q4):\n",
    "    q.collector.add_current_probe(scanner)\n",
    "\n",
    "simulator = scanner.simulator(temperature=25, nominal_temperature=25)\n",
    "analysis_scanner = simulator.transient(step_time=1@u_us, end_time=40@u_ms)"
   ]
  },
  {
   "cell_type": "code",
   "execution_count": null,
   "metadata": {},
   "outputs": [],
   "source": [
    "class TestInputVoltages(unittest.TestCase):\n",
    "    \n",
    "    def test_input_audio(self):\n",
    "        self.assertAlmostEqual(10@u_mV, np.max( np.array( analysis_scanner[ 'IN_1_S' ] ) ), places=1, msg='scaled audio input max voltage')\n",
    "        self.assertAlmostEqual(-10@u_mV, np.min( np.array( analysis_scanner[ 'IN_1_S' ] ) ), places=1, msg='scaled audio input min voltage')\n",
    "\n",
    "    def test_input_cv(self):\n",
    "        self.assertAlmostEqual(5@u_V, np.max( np.array( analysis_scanner[ 'CV_S' ] ) ), places=1, msg='scaled audio input max voltage')\n",
    "        self.assertAlmostEqual(0@u_V, np.min( np.array( analysis_scanner[ 'CV_S' ] ) ), places=1, msg='scaled audio input min voltage')\n"
   ]
  },
  {
   "cell_type": "code",
   "execution_count": null,
   "metadata": {},
   "outputs": [],
   "source": [
    "print( \"the voltage dividers: R1: %.1fV, R2: %.1fV, R3: %.1fV, R4: %.1fV\" % (np.average( np.array( analysis_scanner[ 'Net-_R1-Pad2_' ] ) ), np.average( np.array( analysis_scanner[ 'Net-_R2-Pad2_' ] ) ), np.average( np.array( analysis_scanner[ 'Net-_R3-Pad2_' ] ) ), np.average( np.array( analysis_scanner[ 'Net-_R4-Pad2_' ] ) )) )"
   ]
  },
  {
   "cell_type": "code",
   "execution_count": null,
   "metadata": {},
   "outputs": [],
   "source": [
    "class TestVoltageDivider(unittest.TestCase):\n",
    "    \n",
    "    def test_voltage_divider(self):\n",
    "        self.assertAlmostEqual(4.45@u_V, np.average( np.array( analysis_scanner[ 'Net-_R1-Pad2_' ] ) ), places=1, msg='voltage divider R1')\n",
    "        self.assertAlmostEqual(3.3@u_V, np.average( np.array( analysis_scanner[ 'Net-_R2-Pad2_' ] ) ), places=1, msg='voltage divider R2')\n",
    "        self.assertAlmostEqual(2.1@u_V, np.average( np.array( analysis_scanner[ 'Net-_R3-Pad2_' ] ) ), places=1, msg='voltage divider R3')\n",
    "        self.assertAlmostEqual(0.9@u_V, np.average( np.array( analysis_scanner[ 'Net-_R4-Pad2_' ] ) ), places=1, msg='voltage divider R4')\n",
    "\n",
    "print( np.average( np.array( analysis_scanner[ 'Net-_R1-Pad2_' ] ) ) )\n",
    "print( \"the voltage dividers: R1: %fV, R2: %fV, R3: %fV, R4: %fV\" % (np.average( np.array( analysis_scanner[ 'Net-_R1-Pad2_' ] ) ), np.average( np.array( analysis_scanner[ 'Net-_R2-Pad2_' ] ) ), np.average( np.array( analysis_scanner[ 'Net-_R3-Pad2_' ] ) ), np.average( np.array( analysis_scanner[ 'Net-_R4-Pad2_' ] ) )) )"
   ]
  },
  {
   "cell_type": "code",
   "execution_count": null,
   "metadata": {},
   "outputs": [],
   "source": [
    "analysis_dc_scanner = simulator.dc(V7=slice(0, 5, .01))\n",
    "\n",
    "#plot the results\n",
    "fig, ax0 = plt.subplots(figsize=(18, 6))\n",
    "\n",
    "#plot cv\n",
    "ax0.plot(analysis_dc_scanner['CV_IN'], u_uA(-analysis_dc_scanner['vq1_collector'] ), c='Red')  # envelope input (scaled)\n",
    "ax0.plot(analysis_dc_scanner['CV_IN'], u_uA(-analysis_dc_scanner['vq2_collector'] ), c='Green')  # envelope input (scaled)\n",
    "ax0.plot(analysis_dc_scanner['CV_IN'], u_uA(-analysis_dc_scanner['vq3_collector'] ), c='Blue')  # envelope input (scaled)\n",
    "ax0.plot(analysis_dc_scanner['CV_IN'], u_uA(-analysis_dc_scanner['vq4_collector'] ), c='Magenta')  # envelope input (scaled)\n",
    "\n",
    "ax0.grid()\n",
    "ax0.set_xlabel('V')\n",
    "ax0.set_ylabel('uA')\n",
    "ax0.set_title('output with a cv envelope', y=-0.2)\n",
    "\n",
    "plt.show()\n"
   ]
  },
  {
   "cell_type": "code",
   "execution_count": null,
   "metadata": {
    "tags": []
   },
   "outputs": [],
   "source": [
    "#plot the results\n",
    "fig, ax0 = plt.subplots(figsize=(18, 6))\n",
    "\n",
    "#plot cv\n",
    "ax0.plot(analysis_scanner['CV_S'].abscissa*1000, analysis_scanner['CV_S'], c='DarkGrey')  # envelope input (scaled)\n",
    "\n",
    "#plot the voltages\n",
    "ax0.plot(analysis_scanner['Net-_R1-Pad2_'].abscissa*1000, analysis_scanner['Net-_R1-Pad2_'], c='Grey')  # envelope input (scaled)\n",
    "ax0.plot(analysis_scanner['Net-_R2-Pad2_'].abscissa*1000, analysis_scanner['Net-_R2-Pad2_'], c='Grey')  # envelope input (scaled)\n",
    "ax0.plot(analysis_scanner['Net-_R3-Pad2_'].abscissa*1000, analysis_scanner['Net-_R3-Pad2_'], c='Grey')  # envelope input (scaled)\n",
    "ax0.plot(analysis_scanner['Net-_R4-Pad2_'].abscissa*1000, analysis_scanner['Net-_R4-Pad2_'], c='Grey')  # envelope input (scaled)\n",
    "\n",
    "#plot output of the opamps\n",
    "ax0.plot(analysis_scanner['Net-_Q1-Pad2_'].abscissa*1000, analysis_scanner['Net-_Q1-Pad2_'], c='Red')  # envelope input (scaled)\n",
    "ax0.plot(analysis_scanner['Net-_Q4-Pad2_'].abscissa*1000, analysis_scanner['Net-_Q4-Pad2_'], c='Green')  # envelope input (scaled)\n",
    "ax0.plot(analysis_scanner['Net-_Q2-Pad2_'].abscissa*1000, analysis_scanner['Net-_Q2-Pad2_'], c='Blue')  # envelope input (scaled)\n",
    "ax0.plot(analysis_scanner['Net-_Q3-Pad2_'].abscissa*1000, analysis_scanner['Net-_Q3-Pad2_'], c='Magenta')  # envelope input (scaled)\n",
    "\n",
    "ax0.grid()\n",
    "ax0.set_xlabel('t [ms]')\n",
    "ax0.set_ylabel('[V]')\n",
    "ax0.set_title('output with a cv envelope', y=-0.2)\n",
    "\n",
    "ax0.axvline(x=np.average( np.array( analysis_scanner[ 'Net-_R1-Pad2_' ] ) ), color='red')\n",
    "ax0.axvline(x=np.average( np.array( analysis_scanner[ 'Net-_R2-Pad2_' ] ) ), color='red')\n",
    "ax0.axvline(x=np.average( np.array( analysis_scanner[ 'Net-_R3-Pad2_' ] ) ), color='red')\n",
    "ax0.axvline(x=np.average( np.array( analysis_scanner[ 'Net-_R4-Pad2_' ] ) ), color='red')\n",
    "\n",
    "plt.show()\n"
   ]
  },
  {
   "cell_type": "code",
   "execution_count": null,
   "metadata": {},
   "outputs": [],
   "source": [
    "#plot the results\n",
    "fig, ax0 = plt.subplots(figsize=(18, 6))\n",
    "\n",
    "#plot cv\n",
    "ax0.plot(analysis_scanner['CV_S'].abscissa*1000, analysis_scanner['CV_S'], c='DarkGrey')  # envelope input (scaled)\n",
    "\n",
    "#plot output of the opamps\n",
    "ax0.plot(analysis_scanner['Net-_Q1-Pad2_'].abscissa*1000, analysis_scanner['Net-_Q1-Pad2_'], c='Red')\n",
    "ax0.plot(analysis_scanner['Net-_Q4-Pad2_'].abscissa*1000, analysis_scanner['Net-_Q4-Pad2_'], c='Green')\n",
    "ax0.plot(analysis_scanner['Net-_Q2-Pad2_'].abscissa*1000, analysis_scanner['Net-_Q2-Pad2_'], c='Blue')\n",
    "ax0.plot(analysis_scanner['Net-_Q3-Pad2_'].abscissa*1000, analysis_scanner['Net-_Q3-Pad2_'], c='Magenta')\n",
    "\n",
    "ax0.plot(analysis_scanner['Net-_R14-Pad2_'].abscissa*1000, analysis_scanner['Net-_R14-Pad2_'], c='#3701ff')\n",
    "ax0.plot(analysis_scanner['Net-_R10-Pad1_'].abscissa*1000, analysis_scanner['Net-_R10-Pad1_'], c='#0118ff')\n",
    "ax0.plot(analysis_scanner['Net-_R13-Pad2_'].abscissa*1000, analysis_scanner['Net-_R13-Pad2_'], c='#016dff')\n",
    "ax0.plot(analysis_scanner['Net-_R12-Pad2_'].abscissa*1000, analysis_scanner['Net-_R12-Pad2_'], c='#0197ff')\n",
    "\n",
    "ax0.legend(('Out [V]', 'non inverting [V]', 'inverting [V]'), loc=(.8,.8))\n",
    "\n",
    "ax0.grid()\n",
    "ax0.set_xlabel('t [ms]')\n",
    "ax0.set_ylabel('[V]')\n",
    "ax0.set_title('output with a cv envelope', y=-0.2)\n",
    "\n",
    "ax0.axhline(y=np.average( np.array( analysis_scanner[ 'Net-_R1-Pad2_' ] ) ), color='Grey', zorder=-5)\n",
    "ax0.axhline(y=np.average( np.array( analysis_scanner[ 'Net-_R2-Pad2_' ] ) ), color='Grey', zorder=-5)\n",
    "ax0.axhline(y=np.average( np.array( analysis_scanner[ 'Net-_R3-Pad2_' ] ) ), color='Grey', zorder=-5)\n",
    "ax0.axhline(y=np.average( np.array( analysis_scanner[ 'Net-_R4-Pad2_' ] ) ), color='Grey', zorder=-5)\n",
    "\n",
    "plt.show()\n"
   ]
  },
  {
   "cell_type": "code",
   "execution_count": null,
   "metadata": {},
   "outputs": [],
   "source": [
    "fig, ax0 = plt.subplots(figsize=(18, 6))\n",
    "\n",
    "#plot cv\n",
    "ax0.plot(analysis_dc_scanner['CV_IN'], u_uA(-analysis_dc_scanner['vq1_collector'] ), c='Red')  # envelope input (scaled)\n",
    "ax0.plot(analysis_dc_scanner['CV_IN'], u_uA(-analysis_dc_scanner['vq2_collector'] ), c='Green')  # envelope input (scaled)\n",
    "ax0.plot(analysis_dc_scanner['CV_IN'], u_uA(-analysis_dc_scanner['vq3_collector'] ), c='Blue')  # envelope input (scaled)\n",
    "ax0.plot(analysis_dc_scanner['CV_IN'], u_uA(-analysis_dc_scanner['vq4_collector'] ), c='Magenta')  # envelope input (scaled)\n",
    "\n",
    "ax0.grid()\n",
    "ax0.set_xlabel('V')\n",
    "ax0.set_ylabel('uA')\n",
    "ax0.set_title('output with a cv envelope', y=-0.2)\n",
    "\n",
    "plt.show()"
   ]
  },
  {
   "cell_type": "code",
   "execution_count": null,
   "metadata": {},
   "outputs": [],
   "source": [
    "#plot the results\n",
    "fig, ax0 = plt.subplots(figsize=(18, 6))\n",
    "\n",
    "#plot cv\n",
    "ax0.plot(analysis_scanner['CV_S'].abscissa*1000, analysis_scanner['CV_S'], c='Green')  # envelope input (scaled)\n",
    "#plot output\n",
    "ax0.plot(analysis_scanner['OUT'].abscissa*1000, analysis_scanner['OUT'], c='Red')\n",
    "ax0.legend(('CV [V]', 'OUT [V]'), loc=(.8,.8))\n",
    "\n",
    "ax0.grid()\n",
    "ax0.set_xlabel('t [ms]')\n",
    "ax0.set_ylabel('[V]')\n",
    "ax0.set_title('output with a cv envelope', y=-0.2)\n",
    "\n",
    "plt.show()"
   ]
  },
  {
   "cell_type": "markdown",
   "metadata": {},
   "source": [
    "## *construction*\n",
    "\n",
    "for the final circuit input and output buffering and biasing is needed. the buffering is done with opamps. \n"
   ]
  },
  {
   "source": [
    "first we design the input stage. the input voltage for the X signal should be 10mV and 20mV for the control voltage.\n"
   ],
   "cell_type": "markdown",
   "metadata": {}
  },
  {
   "cell_type": "markdown",
   "metadata": {},
   "source": [
    "## *references*\n",
    "\n",
    "- [Muffwigler][1] thread with schematic from electrouwe\n",
    "\n",
    "[1]: https://www.muffwiggler.com/forum/viewtopic.php?f=17&t=241171&start=25\n",
    "\n",
    "\n"
   ]
  },
  {
   "cell_type": "code",
   "execution_count": null,
   "metadata": {},
   "outputs": [],
   "source": [
    "unittest.main(argv=[''], verbosity=2, exit=False)"
   ]
  }
 ],
 "metadata": {
  "kernelspec": {
   "name": "python3",
   "display_name": "Python 3",
   "language": "python"
  },
  "language_info": {
   "codemirror_mode": {
    "name": "ipython",
    "version": 3
   },
   "file_extension": ".py",
   "mimetype": "text/x-python",
   "name": "python",
   "nbconvert_exporter": "python",
   "pygments_lexer": "ipython3",
   "version": "3.8.5-final"
  }
 },
 "nbformat": 4,
 "nbformat_minor": 4
}