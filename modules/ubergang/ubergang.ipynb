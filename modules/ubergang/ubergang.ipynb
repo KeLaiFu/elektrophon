{
 "cells": [
  {
   "cell_type": "code",
   "execution_count": 1,
   "metadata": {
    "tags": []
   },
   "outputs": [],
   "source": [
    "# Just the normal prequisites for using matplotlib and numpy in a Jupyter notebook\n",
    "%matplotlib inline\n",
    "# Use the svg backend, in my opinion it just makes better looking plots\n",
    "%config InlineBackend.figure_format = 'svg'\n",
    "\n",
    "import PySpice.Logging.Logging as Logging\n",
    "logger = Logging.setup_logging( logging_level='INFO')\n",
    "\n",
    "import os\n",
    "import sys\n",
    "from pathlib import Path\n",
    "import IPython\n",
    "from scipy import signal\n",
    "import scipy.fftpack\n",
    "from PySpice.Unit import *\n",
    "from PySpice.Spice.Parser import SpiceParser\n",
    "from PySpice.Spice.Netlist import Circuit, SubCircuit, SubCircuitFactory\n",
    "from PySpice.Spice.Library import SpiceLibrary\n",
    "from PySpice.Probe.Plot import plot\n",
    "from PySpice.Doc.ExampleTools import find_libraries\n",
    "from PySpice.Math import *\n",
    "import matplotlib.pyplot as plt\n",
    "import matplotlib.image as mpimg\n",
    "import numpy as np\n",
    "import matplotlib.pyplot as plt\n",
    "import unittest\n",
    "\n",
    "directory_path = Path(os.path.abspath('')).resolve().parent.parent\n",
    "spice_libraries_path = directory_path.joinpath(\"lib\", \"spice\")\n",
    "spice_library = SpiceLibrary(spice_libraries_path)\n",
    "\n",
    "directory_path = Path(os.path.abspath('')).resolve()"
   ]
  },
  {
   "cell_type": "code",
   "execution_count": null,
   "metadata": {},
   "outputs": [],
   "source": []
  },
  {
   "cell_type": "markdown",
   "metadata": {},
   "source": [
    "![module](https://img.shields.io/badge/module-vca-yellow) ![status](https://img.shields.io/badge/status-work%20in%20progress-orange)\n",
    "\n",
    "## *übergang*\n",
    "\n",
    "<a href=\"https://photos.app.goo.gl/pg6iZUC32rTKX5LC7\"><img src=\"https://spielhuus.github.io/elektrophon/images/kontrast-logo-tmb.jpg\" height=\"300px\" align=\"right\"></a>\n",
    "\n",
    "***table of contents***\n",
    "\n",
    "* [*about*](#about)\n",
    "* [*construction*](#construction)\n",
    "* [*calibration*](#calibration)\n",
    "* [*usage*](#usage)\n",
    "* [*credits*](#credits)\n",
    "* [*links*](#links)\n",
    "* [*changelog*](#changelog)\n",
    "  \n",
    "<br/><br/><br/><br/>\n",
    "\n",
    "## *about*\n"
   ]
  },
  {
   "cell_type": "code",
   "execution_count": 2,
   "metadata": {},
   "outputs": [],
   "source": [
    "#load the diffpair schema\n",
    "kicad_netlist_path = directory_path.joinpath('main', 'main.cir')\n",
    "parser = SpiceParser(path=str(kicad_netlist_path))"
   ]
  },
  {
   "cell_type": "code",
   "execution_count": 3,
   "metadata": {
    "tags": []
   },
   "outputs": [
    {
     "output_type": "stream",
     "name": "stdout",
     "text": [
      "\u001b[1;32m2020-12-14 15:30:03,047\u001b[0m - \u001b[1;34mPySpice.Spice.NgSpice.Shared.NgSpiceShared._send_char\u001b[0m - \u001b[1;31mWARNING\u001b[0m - Warning: Could not read parameter from 0v sin(0 1v 400) at sin(0 1v 400)\n",
      "\u001b[1;32m2020-12-14 15:30:03,048\u001b[0m - \u001b[1;34mPySpice.Spice.NgSpice.Shared.NgSpiceShared._send_char\u001b[0m - \u001b[1;31mWARNING\u001b[0m - Warning: Could not read parameter from 0v sin(0 1v 800) at sin(0 1v 800)\n",
      "\u001b[1;32m2020-12-14 15:30:03,048\u001b[0m - \u001b[1;34mPySpice.Spice.NgSpice.Shared.NgSpiceShared._send_char\u001b[0m - \u001b[1;31mWARNING\u001b[0m - Warning: Could not read parameter from 0v sin(0 1v 1200) at sin(0 1v 1200)\n",
      "\u001b[1;32m2020-12-14 15:30:03,049\u001b[0m - \u001b[1;34mPySpice.Spice.NgSpice.Shared.NgSpiceShared._send_char\u001b[0m - \u001b[1;31mWARNING\u001b[0m - Warning: Could not read parameter from 0v sin(0 1v 1600) at sin(0 1v 1600)\n",
      "\u001b[1;32m2020-12-14 15:30:03,049\u001b[0m - \u001b[1;34mPySpice.Spice.NgSpice.Shared.NgSpiceShared._send_char\u001b[0m - \u001b[1;31mWARNING\u001b[0m - Warning: Could not read parameter from 0v pulse(0v 5v 0 30m 0m 1u 30m) at pulse(0v 5v 0 30m 0m 1u 30m)\n",
      "\u001b[1;32m2020-12-14 15:30:03,064\u001b[0m - \u001b[1;34mPySpice.Spice.NgSpice.Shared.NgSpiceShared._send_char\u001b[0m - \u001b[1;31mERROR\u001b[0m - Note: Starting dynamic gmin stepping\n",
      "\u001b[1;32m2020-12-14 15:30:03,068\u001b[0m - \u001b[1;34mPySpice.Spice.NgSpice.Shared.NgSpiceShared._send_char\u001b[0m - \u001b[1;31mERROR\u001b[0m - Trying gmin =   1.0000E-03 Note: One successful gmin step\n",
      "\u001b[1;32m2020-12-14 15:30:03,070\u001b[0m - \u001b[1;34mPySpice.Spice.NgSpice.Shared.NgSpiceShared._send_char\u001b[0m - \u001b[1;31mERROR\u001b[0m - Trying gmin =   1.0000E-04 Note: One successful gmin step\n",
      "\u001b[1;32m2020-12-14 15:30:03,078\u001b[0m - \u001b[1;34mPySpice.Spice.NgSpice.Shared.NgSpiceShared._send_char\u001b[0m - \u001b[1;31mERROR\u001b[0m - Trying gmin =   1.0000E-05 Warning: Further gmin increment\n",
      "\u001b[1;32m2020-12-14 15:30:03,080\u001b[0m - \u001b[1;34mPySpice.Spice.NgSpice.Shared.NgSpiceShared._send_char\u001b[0m - \u001b[1;31mERROR\u001b[0m - Trying gmin =   5.6234E-05 Note: One successful gmin step\n",
      "\u001b[1;32m2020-12-14 15:30:03,086\u001b[0m - \u001b[1;34mPySpice.Spice.NgSpice.Shared.NgSpiceShared._send_char\u001b[0m - \u001b[1;31mERROR\u001b[0m - Trying gmin =   2.3714E-05 Warning: Further gmin increment\n",
      "\u001b[1;32m2020-12-14 15:30:03,093\u001b[0m - \u001b[1;34mPySpice.Spice.NgSpice.Shared.NgSpiceShared._send_char\u001b[0m - \u001b[1;31mERROR\u001b[0m - Trying gmin =   4.5316E-05 Warning: Further gmin increment\n",
      "\u001b[1;32m2020-12-14 15:30:03,094\u001b[0m - \u001b[1;34mPySpice.Spice.NgSpice.Shared.NgSpiceShared._send_char\u001b[0m - \u001b[1;31mERROR\u001b[0m - Trying gmin =   5.3280E-05 Note: One successful gmin step\n",
      "\u001b[1;32m2020-12-14 15:30:03,095\u001b[0m - \u001b[1;34mPySpice.Spice.NgSpice.Shared.NgSpiceShared._send_char\u001b[0m - \u001b[1;31mERROR\u001b[0m - Trying gmin =   4.9137E-05 Note: One successful gmin step\n",
      "\u001b[1;32m2020-12-14 15:30:03,101\u001b[0m - \u001b[1;34mPySpice.Spice.NgSpice.Shared.NgSpiceShared._send_char\u001b[0m - \u001b[1;31mERROR\u001b[0m - Trying gmin =   4.3518E-05 Warning: Further gmin increment\n",
      "\u001b[1;32m2020-12-14 15:30:03,102\u001b[0m - \u001b[1;34mPySpice.Spice.NgSpice.Shared.NgSpiceShared._send_char\u001b[0m - \u001b[1;31mERROR\u001b[0m - Trying gmin =   4.7668E-05 Note: One successful gmin step\n",
      "\u001b[1;32m2020-12-14 15:30:03,103\u001b[0m - \u001b[1;34mPySpice.Spice.NgSpice.Shared.NgSpiceShared._send_char\u001b[0m - \u001b[1;31mERROR\u001b[0m - Trying gmin =   4.5546E-05 Note: One successful gmin step\n",
      "\u001b[1;32m2020-12-14 15:30:03,109\u001b[0m - \u001b[1;34mPySpice.Spice.NgSpice.Shared.NgSpiceShared._send_char\u001b[0m - \u001b[1;31mERROR\u001b[0m - Trying gmin =   4.2539E-05 Warning: Further gmin increment\n",
      "\u001b[1;32m2020-12-14 15:30:03,116\u001b[0m - \u001b[1;34mPySpice.Spice.NgSpice.Shared.NgSpiceShared._send_char\u001b[0m - \u001b[1;31mERROR\u001b[0m - Trying gmin =   4.4775E-05 Warning: Further gmin increment\n",
      "\u001b[1;32m2020-12-14 15:30:03,124\u001b[0m - \u001b[1;34mPySpice.Spice.NgSpice.Shared.NgSpiceShared._send_char\u001b[0m - \u001b[1;31mERROR\u001b[0m - Trying gmin =   4.5352E-05 Warning: Further gmin increment\n",
      "\u001b[1;32m2020-12-14 15:30:03,125\u001b[0m - \u001b[1;34mPySpice.Spice.NgSpice.Shared.NgSpiceShared._send_char\u001b[0m - \u001b[1;31mERROR\u001b[0m - Trying gmin =   4.5497E-05 Note: One successful gmin step\n",
      "\u001b[1;32m2020-12-14 15:30:03,126\u001b[0m - \u001b[1;34mPySpice.Spice.NgSpice.Shared.NgSpiceShared._send_char\u001b[0m - \u001b[1;31mERROR\u001b[0m - Trying gmin =   4.5424E-05 Note: One successful gmin step\n",
      "\u001b[1;32m2020-12-14 15:30:03,132\u001b[0m - \u001b[1;34mPySpice.Spice.NgSpice.Shared.NgSpiceShared._send_char\u001b[0m - \u001b[1;31mERROR\u001b[0m - Trying gmin =   4.5315E-05 Warning: Further gmin increment\n",
      "\u001b[1;32m2020-12-14 15:30:03,133\u001b[0m - \u001b[1;34mPySpice.Spice.NgSpice.Shared.NgSpiceShared._send_char\u001b[0m - \u001b[1;31mERROR\u001b[0m - Trying gmin =   4.5397E-05 Note: One successful gmin step\n",
      "\u001b[1;32m2020-12-14 15:30:03,139\u001b[0m - \u001b[1;34mPySpice.Spice.NgSpice.Shared.NgSpiceShared._send_char\u001b[0m - \u001b[1;31mERROR\u001b[0m - Trying gmin =   4.5356E-05 Warning: Further gmin increment\n",
      "\u001b[1;32m2020-12-14 15:30:03,140\u001b[0m - \u001b[1;34mPySpice.Spice.NgSpice.Shared.NgSpiceShared._send_char\u001b[0m - \u001b[1;31mERROR\u001b[0m - Trying gmin =   4.5387E-05 Note: One successful gmin step\n",
      "\u001b[1;32m2020-12-14 15:30:03,141\u001b[0m - \u001b[1;34mPySpice.Spice.NgSpice.Shared.NgSpiceShared._send_char\u001b[0m - \u001b[1;31mERROR\u001b[0m - Trying gmin =   4.5372E-05 Note: One successful gmin step\n",
      "\u001b[1;32m2020-12-14 15:30:03,149\u001b[0m - \u001b[1;34mPySpice.Spice.NgSpice.Shared.NgSpiceShared._send_char\u001b[0m - \u001b[1;31mERROR\u001b[0m - Trying gmin =   4.5349E-05 Warning: Further gmin increment\n",
      "\u001b[1;32m2020-12-14 15:30:03,150\u001b[0m - \u001b[1;34mPySpice.Spice.NgSpice.Shared.NgSpiceShared._send_char\u001b[0m - \u001b[1;31mERROR\u001b[0m - Trying gmin =   4.5366E-05 Note: One successful gmin step\n",
      "\u001b[1;32m2020-12-14 15:30:03,156\u001b[0m - \u001b[1;34mPySpice.Spice.NgSpice.Shared.NgSpiceShared._send_char\u001b[0m - \u001b[1;31mERROR\u001b[0m - Trying gmin =   4.5357E-05 Warning: Further gmin increment\n",
      "\u001b[1;32m2020-12-14 15:30:03,157\u001b[0m - \u001b[1;34mPySpice.Spice.NgSpice.Shared.NgSpiceShared._send_char\u001b[0m - \u001b[1;31mERROR\u001b[0m - Trying gmin =   4.5364E-05 Note: One successful gmin step\n",
      "\u001b[1;32m2020-12-14 15:30:03,163\u001b[0m - \u001b[1;34mPySpice.Spice.NgSpice.Shared.NgSpiceShared._send_char\u001b[0m - \u001b[1;31mERROR\u001b[0m - Trying gmin =   4.5360E-05 Warning: Further gmin increment\n",
      "\u001b[1;32m2020-12-14 15:30:03,163\u001b[0m - \u001b[1;34mPySpice.Spice.NgSpice.Shared.NgSpiceShared._send_char\u001b[0m - \u001b[1;31mERROR\u001b[0m - Trying gmin =   4.5363E-05 Note: One successful gmin step\n",
      "\u001b[1;32m2020-12-14 15:30:03,171\u001b[0m - \u001b[1;34mPySpice.Spice.NgSpice.Shared.NgSpiceShared._send_char\u001b[0m - \u001b[1;31mERROR\u001b[0m - Trying gmin =   4.5362E-05 Warning: Last gmin step failed\n",
      "\u001b[1;32m2020-12-14 15:30:03,179\u001b[0m - \u001b[1;34mPySpice.Spice.NgSpice.Shared.NgSpiceShared._send_char\u001b[0m - \u001b[1;31mERROR\u001b[0m - Note: Dynamic gmin stepping completed\n"
     ]
    },
    {
     "output_type": "error",
     "ename": "NgSpiceCommandError",
     "evalue": "Command 'run' failed",
     "traceback": [
      "\u001b[0;31m---------------------------------------------------------------------------\u001b[0m",
      "\u001b[0;31mNgSpiceCommandError\u001b[0m                       Traceback (most recent call last)",
      "\u001b[0;32m<ipython-input-3-23da7751c1b0>\u001b[0m in \u001b[0;36m<module>\u001b[0;34m\u001b[0m\n\u001b[1;32m     24\u001b[0m \u001b[0;34m\u001b[0m\u001b[0m\n\u001b[1;32m     25\u001b[0m \u001b[0msimulator\u001b[0m \u001b[0;34m=\u001b[0m \u001b[0mscanner\u001b[0m\u001b[0;34m.\u001b[0m\u001b[0msimulator\u001b[0m\u001b[0;34m(\u001b[0m\u001b[0mtemperature\u001b[0m\u001b[0;34m=\u001b[0m\u001b[0;36m25\u001b[0m\u001b[0;34m,\u001b[0m \u001b[0mnominal_temperature\u001b[0m\u001b[0;34m=\u001b[0m\u001b[0;36m25\u001b[0m\u001b[0;34m)\u001b[0m\u001b[0;34m\u001b[0m\u001b[0;34m\u001b[0m\u001b[0m\n\u001b[0;32m---> 26\u001b[0;31m \u001b[0manalysis_scanner\u001b[0m \u001b[0;34m=\u001b[0m \u001b[0msimulator\u001b[0m\u001b[0;34m.\u001b[0m\u001b[0mtransient\u001b[0m\u001b[0;34m(\u001b[0m\u001b[0mstep_time\u001b[0m\u001b[0;34m=\u001b[0m\u001b[0;36m1\u001b[0m\u001b[0;34m@\u001b[0m\u001b[0mu_us\u001b[0m\u001b[0;34m,\u001b[0m \u001b[0mend_time\u001b[0m\u001b[0;34m=\u001b[0m\u001b[0;36m40\u001b[0m\u001b[0;34m@\u001b[0m\u001b[0mu_ms\u001b[0m\u001b[0;34m)\u001b[0m\u001b[0;34m\u001b[0m\u001b[0;34m\u001b[0m\u001b[0m\n\u001b[0m",
      "\u001b[0;32m~/.local/lib/python3.8/site-packages/PySpice/Spice/Simulation.py\u001b[0m in \u001b[0;36mtransient\u001b[0;34m(self, *args, **kwargs)\u001b[0m\n\u001b[1;32m   1164\u001b[0m \u001b[0;34m\u001b[0m\u001b[0m\n\u001b[1;32m   1165\u001b[0m     \u001b[0;32mdef\u001b[0m \u001b[0mtransient\u001b[0m\u001b[0;34m(\u001b[0m\u001b[0mself\u001b[0m\u001b[0;34m,\u001b[0m \u001b[0;34m*\u001b[0m\u001b[0margs\u001b[0m\u001b[0;34m,\u001b[0m \u001b[0;34m**\u001b[0m\u001b[0mkwargs\u001b[0m\u001b[0;34m)\u001b[0m\u001b[0;34m:\u001b[0m\u001b[0;34m\u001b[0m\u001b[0;34m\u001b[0m\u001b[0m\n\u001b[0;32m-> 1166\u001b[0;31m         \u001b[0;32mreturn\u001b[0m \u001b[0mself\u001b[0m\u001b[0;34m.\u001b[0m\u001b[0m_run\u001b[0m\u001b[0;34m(\u001b[0m\u001b[0;34m'transient'\u001b[0m\u001b[0;34m,\u001b[0m \u001b[0;34m*\u001b[0m\u001b[0margs\u001b[0m\u001b[0;34m,\u001b[0m \u001b[0;34m**\u001b[0m\u001b[0mkwargs\u001b[0m\u001b[0;34m)\u001b[0m\u001b[0;34m\u001b[0m\u001b[0;34m\u001b[0m\u001b[0m\n\u001b[0m\u001b[1;32m   1167\u001b[0m \u001b[0;34m\u001b[0m\u001b[0m\n\u001b[1;32m   1168\u001b[0m     \u001b[0;31m##############################################\u001b[0m\u001b[0;34m\u001b[0m\u001b[0;34m\u001b[0m\u001b[0;34m\u001b[0m\u001b[0m\n",
      "\u001b[0;32m~/.local/lib/python3.8/site-packages/PySpice/Spice/NgSpice/Simulation.py\u001b[0m in \u001b[0;36m_run\u001b[0;34m(self, analysis_method, *args, **kwargs)\u001b[0m\n\u001b[1;32m    116\u001b[0m         \u001b[0;31m# Fixme: Error: circuit not parsed.\u001b[0m\u001b[0;34m\u001b[0m\u001b[0;34m\u001b[0m\u001b[0;34m\u001b[0m\u001b[0m\n\u001b[1;32m    117\u001b[0m         \u001b[0mself\u001b[0m\u001b[0;34m.\u001b[0m\u001b[0m_ngspice_shared\u001b[0m\u001b[0;34m.\u001b[0m\u001b[0mload_circuit\u001b[0m\u001b[0;34m(\u001b[0m\u001b[0mstr\u001b[0m\u001b[0;34m(\u001b[0m\u001b[0mself\u001b[0m\u001b[0;34m)\u001b[0m\u001b[0;34m)\u001b[0m\u001b[0;34m\u001b[0m\u001b[0;34m\u001b[0m\u001b[0m\n\u001b[0;32m--> 118\u001b[0;31m         \u001b[0mself\u001b[0m\u001b[0;34m.\u001b[0m\u001b[0m_ngspice_shared\u001b[0m\u001b[0;34m.\u001b[0m\u001b[0mrun\u001b[0m\u001b[0;34m(\u001b[0m\u001b[0;34m)\u001b[0m\u001b[0;34m\u001b[0m\u001b[0;34m\u001b[0m\u001b[0m\n\u001b[0m\u001b[1;32m    119\u001b[0m         \u001b[0mself\u001b[0m\u001b[0;34m.\u001b[0m\u001b[0m_logger\u001b[0m\u001b[0;34m.\u001b[0m\u001b[0mdebug\u001b[0m\u001b[0;34m(\u001b[0m\u001b[0mstr\u001b[0m\u001b[0;34m(\u001b[0m\u001b[0mself\u001b[0m\u001b[0;34m.\u001b[0m\u001b[0m_ngspice_shared\u001b[0m\u001b[0;34m.\u001b[0m\u001b[0mplot_names\u001b[0m\u001b[0;34m)\u001b[0m\u001b[0;34m)\u001b[0m\u001b[0;34m\u001b[0m\u001b[0;34m\u001b[0m\u001b[0m\n\u001b[1;32m    120\u001b[0m         \u001b[0mself\u001b[0m\u001b[0;34m.\u001b[0m\u001b[0mreset_analysis\u001b[0m\u001b[0;34m(\u001b[0m\u001b[0;34m)\u001b[0m\u001b[0;34m\u001b[0m\u001b[0;34m\u001b[0m\u001b[0m\n",
      "\u001b[0;32m~/.local/lib/python3.8/site-packages/PySpice/Spice/NgSpice/Shared.py\u001b[0m in \u001b[0;36mrun\u001b[0;34m(self, background)\u001b[0m\n\u001b[1;32m   1166\u001b[0m \u001b[0;34m\u001b[0m\u001b[0m\n\u001b[1;32m   1167\u001b[0m         \u001b[0mcommand\u001b[0m \u001b[0;34m=\u001b[0m \u001b[0;34m'bg_run'\u001b[0m \u001b[0;32mif\u001b[0m \u001b[0mbackground\u001b[0m \u001b[0;32melse\u001b[0m \u001b[0;34m'run'\u001b[0m\u001b[0;34m\u001b[0m\u001b[0;34m\u001b[0m\u001b[0m\n\u001b[0;32m-> 1168\u001b[0;31m         \u001b[0mself\u001b[0m\u001b[0;34m.\u001b[0m\u001b[0mexec_command\u001b[0m\u001b[0;34m(\u001b[0m\u001b[0mcommand\u001b[0m\u001b[0;34m)\u001b[0m\u001b[0;34m\u001b[0m\u001b[0;34m\u001b[0m\u001b[0m\n\u001b[0m\u001b[1;32m   1169\u001b[0m \u001b[0;34m\u001b[0m\u001b[0m\n\u001b[1;32m   1170\u001b[0m         \u001b[0;32mif\u001b[0m \u001b[0mbackground\u001b[0m\u001b[0;34m:\u001b[0m\u001b[0;34m\u001b[0m\u001b[0;34m\u001b[0m\u001b[0m\n",
      "\u001b[0;32m~/.local/lib/python3.8/site-packages/PySpice/Spice/NgSpice/Shared.py\u001b[0m in \u001b[0;36mexec_command\u001b[0;34m(self, command, join_lines)\u001b[0m\n\u001b[1;32m    840\u001b[0m \u001b[0;34m\u001b[0m\u001b[0m\n\u001b[1;32m    841\u001b[0m         \u001b[0;32mif\u001b[0m \u001b[0mself\u001b[0m\u001b[0;34m.\u001b[0m\u001b[0m_error_in_stdout\u001b[0m \u001b[0;32mor\u001b[0m \u001b[0mself\u001b[0m\u001b[0;34m.\u001b[0m\u001b[0m_error_in_stderr\u001b[0m\u001b[0;34m:\u001b[0m\u001b[0;34m\u001b[0m\u001b[0;34m\u001b[0m\u001b[0m\n\u001b[0;32m--> 842\u001b[0;31m             \u001b[0;32mraise\u001b[0m \u001b[0mNgSpiceCommandError\u001b[0m\u001b[0;34m(\u001b[0m\u001b[0;34m\"Command '{}' failed\"\u001b[0m\u001b[0;34m.\u001b[0m\u001b[0mformat\u001b[0m\u001b[0;34m(\u001b[0m\u001b[0mcommand\u001b[0m\u001b[0;34m)\u001b[0m\u001b[0;34m)\u001b[0m\u001b[0;34m\u001b[0m\u001b[0;34m\u001b[0m\u001b[0m\n\u001b[0m\u001b[1;32m    843\u001b[0m \u001b[0;34m\u001b[0m\u001b[0m\n\u001b[1;32m    844\u001b[0m         \u001b[0;32mif\u001b[0m \u001b[0mjoin_lines\u001b[0m\u001b[0;34m:\u001b[0m\u001b[0;34m\u001b[0m\u001b[0;34m\u001b[0m\u001b[0m\n",
      "\u001b[0;31mNgSpiceCommandError\u001b[0m: Command 'run' failed"
     ]
    }
   ],
   "source": [
    "#simulate interpolating scanner\n",
    "scanner = parser.build_circuit(ground=5)\n",
    "scanner.include(spice_library['TL072'])\n",
    "scanner.include(spice_library['TL072c'])\n",
    "scanner.include(spice_library['LT1014x_30V'])\n",
    "scanner.include(spice_library['BC556B'])\n",
    "#scanner.include(spice_library['BC857CW'])\n",
    "scanner.include(spice_library['LM13700/NS'])\n",
    "scanner.include(spice_library['LM13700d'])\n",
    "scanner.include(spice_library['D1N4148'])\n",
    "scanner.V('1', '+15V', scanner.gnd, 'DC 12')\n",
    "scanner.V('2', '-15V', scanner.gnd, 'DC -12')\n",
    "scanner.V('3', 'IN_1', scanner.gnd, 'DC 0V AC 0V SIN(0 5 400)')\n",
    "scanner.V('4', 'IN_2', scanner.gnd, 'DC 0V AC 0V SIN(0 5 800)')\n",
    "scanner.V('5', 'IN_3', scanner.gnd, 'DC 0V AC 0V SIN(0 5 1200)')\n",
    "scanner.V('6', 'IN_4', scanner.gnd, 'DC 0V AC 0V SIN(0 5 1600)')\n",
    "scanner.V('7', 'CV_IN', scanner.gnd, 'DC 0V AC 0V PULSE(0V 5V 0 30m 0m 1u 30m)') \n",
    "\n",
    "#for q in (scanner.Q1, scanner.Q2, scanner.Q3, scanner.Q4):\n",
    "#    q.collector.add_current_probe(scanner)\n",
    "\n",
    "for q in (scanner.Q1, scanner.Q2, scanner.Q3, scanner.Q4):\n",
    "    q.collector.add_current_probe(scanner)\n",
    "\n",
    "simulator = scanner.simulator(temperature=25, nominal_temperature=25)\n",
    "analysis_scanner = simulator.transient(step_time=1@u_us, end_time=40@u_ms)\n"
   ]
  },
  {
   "cell_type": "code",
   "execution_count": null,
   "metadata": {},
   "outputs": [],
   "source": [
    "class TestInputVoltages(unittest.TestCase):\n",
    "    \n",
    "    def test_input_audio(self):\n",
    "        self.assertAlmostEqual(10@u_mV, np.max( np.array( analysis_scanner[ 'IN_1_S' ] ) ), places=1, msg='scaled audio input max voltage')\n",
    "        self.assertAlmostEqual(-10@u_mV, np.min( np.array( analysis_scanner[ 'IN_1_S' ] ) ), places=1, msg='scaled audio input min voltage')\n",
    "\n",
    "    def test_input_cv(self):\n",
    "        self.assertAlmostEqual(5@u_V, np.max( np.array( analysis_scanner[ 'CV_S' ] ) ), places=1, msg='scaled audio input max voltage')\n",
    "        self.assertAlmostEqual(0@u_V, np.min( np.array( analysis_scanner[ 'CV_S' ] ) ), places=1, msg='scaled audio input min voltage')\n"
   ]
  },
  {
   "cell_type": "code",
   "execution_count": null,
   "metadata": {},
   "outputs": [],
   "source": [
    "print( \"the voltage dividers: R1: %.1fV, R2: %.1fV, R3: %.1fV, R4: %.1fV\" % (np.average( np.array( analysis_scanner[ 'Net-_R1-Pad2_' ] ) ), np.average( np.array( analysis_scanner[ 'Net-_R2-Pad2_' ] ) ), np.average( np.array( analysis_scanner[ 'Net-_R3-Pad2_' ] ) ), np.average( np.array( analysis_scanner[ 'Net-_R4-Pad2_' ] ) )) )"
   ]
  },
  {
   "cell_type": "code",
   "execution_count": null,
   "metadata": {},
   "outputs": [],
   "source": [
    "class TestVoltageDivider(unittest.TestCase):\n",
    "    \n",
    "    def test_voltage_divider(self):\n",
    "        self.assertAlmostEqual(4.45@u_V, np.average( np.array( analysis_scanner[ 'Net-_R1-Pad2_' ] ) ), places=1, msg='voltage divider R1')\n",
    "        self.assertAlmostEqual(3.3@u_V, np.average( np.array( analysis_scanner[ 'Net-_R2-Pad2_' ] ) ), places=1, msg='voltage divider R2')\n",
    "        self.assertAlmostEqual(2.1@u_V, np.average( np.array( analysis_scanner[ 'Net-_R3-Pad2_' ] ) ), places=1, msg='voltage divider R3')\n",
    "        self.assertAlmostEqual(0.9@u_V, np.average( np.array( analysis_scanner[ 'Net-_R4-Pad2_' ] ) ), places=1, msg='voltage divider R4')\n",
    "\n",
    "print( np.average( np.array( analysis_scanner[ 'Net-_R1-Pad2_' ] ) ) )\n",
    "print( \"the voltage dividers: R1: %fV, R2: %fV, R3: %fV, R4: %fV\" % (np.average( np.array( analysis_scanner[ 'Net-_R1-Pad2_' ] ) ), np.average( np.array( analysis_scanner[ 'Net-_R2-Pad2_' ] ) ), np.average( np.array( analysis_scanner[ 'Net-_R3-Pad2_' ] ) ), np.average( np.array( analysis_scanner[ 'Net-_R4-Pad2_' ] ) )) )"
   ]
  },
  {
   "cell_type": "code",
   "execution_count": null,
   "metadata": {},
   "outputs": [],
   "source": [
    "analysis_dc_scanner = simulator.dc(V7=slice(0, 5, .01))\n",
    "\n",
    "#plot the results\n",
    "fig, ax0 = plt.subplots(figsize=(18, 6))\n",
    "\n",
    "#plot cv\n",
    "ax0.plot(analysis_dc_scanner['CV_IN'], u_uA(-analysis_dc_scanner['vq1_collector'] ), c='Red')  # envelope input (scaled)\n",
    "ax0.plot(analysis_dc_scanner['CV_IN'], u_uA(-analysis_dc_scanner['vq2_collector'] ), c='Green')  # envelope input (scaled)\n",
    "ax0.plot(analysis_dc_scanner['CV_IN'], u_uA(-analysis_dc_scanner['vq3_collector'] ), c='Blue')  # envelope input (scaled)\n",
    "ax0.plot(analysis_dc_scanner['CV_IN'], u_uA(-analysis_dc_scanner['vq4_collector'] ), c='Magenta')  # envelope input (scaled)\n",
    "\n",
    "\n",
    "ax0.grid()\n",
    "ax0.set_xlabel('V')\n",
    "ax0.set_ylabel('uA')\n",
    "ax0.set_title('output with a cv envelope', y=-0.2)\n",
    "\n",
    "plt.show()\n"
   ]
  },
  {
   "cell_type": "code",
   "execution_count": null,
   "metadata": {
    "tags": []
   },
   "outputs": [],
   "source": [
    "#plot the results\n",
    "fig, ax0 = plt.subplots(figsize=(18, 6))\n",
    "\n",
    "#plot cv\n",
    "ax0.plot(analysis_scanner['CV_S'].abscissa*1000, analysis_scanner['CV_S'], c='DarkGrey')  # envelope input (scaled)\n",
    "\n",
    "#plot the voltages\n",
    "ax0.plot(analysis_scanner['Net-_R1-Pad2_'].abscissa*1000, analysis_scanner['Net-_R1-Pad2_'], c='Grey')  # envelope input (scaled)\n",
    "ax0.plot(analysis_scanner['Net-_R2-Pad2_'].abscissa*1000, analysis_scanner['Net-_R2-Pad2_'], c='Grey')  # envelope input (scaled)\n",
    "ax0.plot(analysis_scanner['Net-_R3-Pad2_'].abscissa*1000, analysis_scanner['Net-_R3-Pad2_'], c='Grey')  # envelope input (scaled)\n",
    "ax0.plot(analysis_scanner['Net-_R4-Pad2_'].abscissa*1000, analysis_scanner['Net-_R4-Pad2_'], c='Grey')  # envelope input (scaled)\n",
    "\n",
    "#plot output of the opamps\n",
    "ax0.plot(analysis_scanner['Net-_Q1-Pad2_'].abscissa*1000, analysis_scanner['Net-_Q1-Pad2_'], c='Red')  # envelope input (scaled)\n",
    "ax0.plot(analysis_scanner['Net-_Q4-Pad2_'].abscissa*1000, analysis_scanner['Net-_Q4-Pad2_'], c='Green')  # envelope input (scaled)\n",
    "ax0.plot(analysis_scanner['Net-_Q2-Pad2_'].abscissa*1000, analysis_scanner['Net-_Q2-Pad2_'], c='Blue')  # envelope input (scaled)\n",
    "ax0.plot(analysis_scanner['Net-_Q3-Pad2_'].abscissa*1000, analysis_scanner['Net-_Q3-Pad2_'], c='Magenta')  # envelope input (scaled)\n",
    "\n",
    "ax0.grid()\n",
    "ax0.set_xlabel('t [ms]')\n",
    "ax0.set_ylabel('[V]')\n",
    "ax0.set_title('output with a cv envelope', y=-0.2)\n",
    "\n",
    "plt.show()\n"
   ]
  },
  {
   "cell_type": "code",
   "execution_count": null,
   "metadata": {},
   "outputs": [],
   "source": [
    "#plot the results\n",
    "fig, ax0 = plt.subplots(figsize=(18, 6))\n",
    "\n",
    "#plot cv\n",
    "#ax0.plot(analysis_scanner['CV_S'].abscissa*1000, analysis_scanner['CV_S'], c='DarkGrey')  # envelope input (scaled)\n",
    "\n",
    "#plot the voltages\n",
    "ax0.plot(analysis_scanner['CV_S'].abscissa*1000, u_uA(-analysis_scanner['vq1_collector'] ), c='Red')  # envelope input (scaled)\n",
    "ax0.plot(analysis_scanner['CV_S'].abscissa*1000, u_uA(-analysis_scanner['vq2_collector'] ), c='Green')  # envelope input (scaled)\n",
    "ax0.plot(analysis_scanner['CV_S'].abscissa*1000, u_uA(-analysis_scanner['vq3_collector'] ), c='Blue')  # envelope input (scaled)\n",
    "ax0.plot(analysis_scanner['CV_S'].abscissa*1000, u_uA(-analysis_scanner['vq4_collector'] ), c='Magenta')  # envelope input (scaled)\n",
    "\n",
    "ax0.grid()\n",
    "ax0.set_xlabel('t [ms]')\n",
    "ax0.set_ylabel('[uA]')\n",
    "ax0.set_title('output with a cv envelope', y=-0.2)\n",
    "\n",
    "plt.show()"
   ]
  },
  {
   "cell_type": "code",
   "execution_count": null,
   "metadata": {},
   "outputs": [],
   "source": [
    "#plot the results\n",
    "fig, ax0 = plt.subplots(figsize=(18, 6))\n",
    "\n",
    "#plot the envelopes\n",
    "ax0.plot(analysis_scanner['Net-_Q1-Pad3_'].abscissa*1000, analysis_scanner['Net-_Q1-Pad3_'], c='Red')  # envelope input (scaled)\n",
    "ax0.plot(analysis_scanner['Net-_Q2-Pad3_'].abscissa*1000, analysis_scanner['Net-_Q2-Pad3_'], c='Green')  # envelope input (scaled)\n",
    "ax0.plot(analysis_scanner['Net-_Q3-Pad3_'].abscissa*1000, analysis_scanner['Net-_Q3-Pad3_'], c='Blue')  # envelope input (scaled)\n",
    "ax0.plot(analysis_scanner['Net-_Q4-Pad3_'].abscissa*1000, analysis_scanner['Net-_Q4-Pad3_'], c='Magenta')  # envelope input (scaled)\n",
    "\n",
    "ax0.grid()\n",
    "ax0.set_xlabel('t [ms]')\n",
    "ax0.set_ylabel('[V]')\n",
    "ax0.set_title('output with a cv envelope', y=-0.2)\n",
    "\n",
    "plt.show()"
   ]
  },
  {
   "cell_type": "code",
   "execution_count": null,
   "metadata": {},
   "outputs": [],
   "source": [
    "\n",
    "\n"
   ]
  },
  {
   "cell_type": "code",
   "execution_count": null,
   "metadata": {},
   "outputs": [],
   "source": [
    "#simulate interpolating scanner\n",
    "scanner = parser.build_circuit(ground=5)\n",
    "scanner.include(spice_library['TL072'])\n",
    "scanner.include(spice_library['TL072c'])\n",
    "scanner.include(spice_library['LT1014x_30V'])\n",
    "scanner.include(spice_library['BC556B'])\n",
    "#scanner.include(spice_library['BC857CW'])\n",
    "scanner.include(spice_library['LM13700/NS'])\n",
    "scanner.include(spice_library['LM13700d'])\n",
    "scanner.include(spice_library['D1N4148'])\n",
    "scanner.V('1', '+15V', scanner.gnd, 'DC 15')\n",
    "scanner.V('2', '-15V', scanner.gnd, 'DC -15')\n",
    "scanner.V('3', 'IN_1', scanner.gnd, 'DC 0V AC 0V SIN(0 1V 400)')\n",
    "scanner.V('4', 'IN_2', scanner.gnd, 'DC 0V AC 0V SIN(0 1V 800)')\n",
    "scanner.V('5', 'IN_3', scanner.gnd, 'DC 0V AC 0V SIN(0 1V 1200)')\n",
    "scanner.V('6', 'IN_4', scanner.gnd, 'DC 0V AC 0V SIN(0 1V 1600)')\n",
    "scanner.V('7', 'CV_IN', scanner.gnd, 'DC 0V AC 0V PULSE(0V 5V 0 20m 0m 1u 20m)') \n",
    "simulator = scanner.simulator(temperature=25, nominal_temperature=25)\n",
    "analysis_scanner = simulator.transient(step_time=1@u_us, end_time=40@u_ms)\n"
   ]
  },
  {
   "cell_type": "code",
   "execution_count": null,
   "metadata": {},
   "outputs": [],
   "source": [
    "#plot the results\n",
    "fig, ax0 = plt.subplots(figsize=(18, 6))\n",
    "\n",
    "#plot with envelope\n",
    "ax0.plot(analysis_scanner['Net-_Q1-Pad3_'].abscissa*1000, analysis_scanner['Net-_Q1-Pad3_'], c='Red')  # envelope input (scaled)\n",
    "ax0.plot(analysis_scanner['Net-_Q2-Pad3_'].abscissa*1000, analysis_scanner['Net-_Q2-Pad3_'], c='Green')  # envelope input (scaled)\n",
    "ax0.plot(analysis_scanner['Net-_Q3-Pad3_'].abscissa*1000, analysis_scanner['Net-_Q3-Pad3_'], c='Blue')  # envelope input (scaled)\n",
    "ax0.plot(analysis_scanner['Net-_Q4-Pad3_'].abscissa*1000, analysis_scanner['Net-_Q4-Pad3_'], c='Magenta')  # envelope input (scaled)\n",
    "\n",
    "ax0.grid()\n",
    "ax0.set_xlabel('t [ms]')\n",
    "ax0.set_ylabel('[V]')\n",
    "ax0.set_title('output with a cv envelope', y=-0.2)\n",
    "\n",
    "plt.show()"
   ]
  },
  {
   "cell_type": "code",
   "execution_count": null,
   "metadata": {},
   "outputs": [],
   "source": [
    "#plot the results\n",
    "fig, ax0 = plt.subplots(figsize=(18, 6))\n",
    "\n",
    "#plot with envelope\n",
    "ax0.plot(analysis_scanner['OUT'].abscissa*1000, analysis_scanner['OUT'], c='Red')  # envelope input (scaled)\n",
    "\n",
    "ax0.grid()\n",
    "ax0.set_xlabel('t [ms]')\n",
    "ax0.set_ylabel('[V]')\n",
    "ax0.set_title('output with a cv envelope', y=-0.2)\n",
    "\n",
    "plt.show()"
   ]
  },
  {
   "cell_type": "markdown",
   "metadata": {},
   "source": [
    "## *construction*\n",
    "\n",
    "for the final circuit input and output buffering and biasing is needed. the buffering is done with opamps. \n"
   ]
  },
  {
   "source": [
    "first we design the input stage. the input voltage for the X signal should be 10mV and 20mV for the control voltage.\n"
   ],
   "cell_type": "markdown",
   "metadata": {}
  },
  {
   "cell_type": "markdown",
   "metadata": {},
   "source": [
    "## *references*\n",
    "\n",
    "- [Muffwigler][1] thread with schematic from electrouwe\n",
    "\n",
    "[1]: https://www.muffwiggler.com/forum/viewtopic.php?f=17&t=241171&start=25\n",
    "\n",
    "\n"
   ]
  },
  {
   "cell_type": "code",
   "execution_count": null,
   "metadata": {},
   "outputs": [],
   "source": [
    "unittest.main(argv=[''], verbosity=2, exit=False)"
   ]
  }
 ],
 "metadata": {
  "kernelspec": {
   "name": "python3",
   "display_name": "Python 3.8.5 64-bit",
   "metadata": {
    "interpreter": {
     "hash": "31f2aee4e71d21fbe5cf8b01ff0e069b9275f58929596ceb00d14d90e3e16cd6"
    }
   }
  },
  "language_info": {
   "codemirror_mode": {
    "name": "ipython",
    "version": 3
   },
   "file_extension": ".py",
   "mimetype": "text/x-python",
   "name": "python",
   "nbconvert_exporter": "python",
   "pygments_lexer": "ipython3",
   "version": "3.8.5-final"
  }
 },
 "nbformat": 4,
 "nbformat_minor": 4
}