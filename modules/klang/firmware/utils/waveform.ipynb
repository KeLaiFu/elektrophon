At the Jupyter dashboard, click on New button and select a Python 3 notebook.
In the first cell of the notebok, enter the following Python statement:

'''
print('hello world')
'''
 
Run the cell to confim that what you entered is free of syntax and other errors.
Save the notebook as “hello_world_binder.ipynb”
