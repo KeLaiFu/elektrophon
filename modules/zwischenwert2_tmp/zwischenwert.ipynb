{
 "cells": [
  {
   "cell_type": "code",
   "execution_count": 1,
   "metadata": {
    "tags": []
   },
   "outputs": [],
   "source": [
    "# Just the normal prequisites for using matplotlib and numpy in a Jupyter notebook\n",
    "%matplotlib inline\n",
    "# Use the svg backend, in my opinion it just makes better looking plots\n",
    "%config InlineBackend.figure_format = 'svg'\n",
    "\n",
    "import PySpice.Logging.Logging as Logging\n",
    "logger = Logging.setup_logging( logging_level='INFO')\n",
    "\n",
    "import os\n",
    "import sys\n",
    "from pathlib import Path\n",
    "import IPython\n",
    "from scipy import signal\n",
    "import scipy.fftpack\n",
    "from PySpice.Unit import *\n",
    "from PySpice.Spice.Parser import SpiceParser\n",
    "from PySpice.Spice.Netlist import Circuit, SubCircuit, SubCircuitFactory\n",
    "from PySpice.Spice.Library import SpiceLibrary\n",
    "from PySpice.Probe.Plot import plot\n",
    "from PySpice.Doc.ExampleTools import find_libraries\n",
    "from PySpice.Math import *\n",
    "import matplotlib.pyplot as plt\n",
    "import matplotlib.image as mpimg\n",
    "import numpy as np\n",
    "import matplotlib.pyplot as plt\n",
    "import unittest\n",
    "\n",
    "directory_path = Path(os.path.abspath('')).resolve().parent.parent\n",
    "spice_libraries_path = directory_path.joinpath(\"lib\", \"spice\")\n",
    "spice_library = SpiceLibrary(spice_libraries_path)\n",
    "\n",
    "directory_path = Path(os.path.abspath('')).resolve()"
   ]
  },
  {
   "cell_type": "code",
   "execution_count": null,
   "metadata": {},
   "outputs": [],
   "source": []
  },
  {
   "cell_type": "markdown",
   "metadata": {},
   "source": [
    "![module](https://img.shields.io/badge/module-vca-yellow) ![status](https://img.shields.io/badge/status-work%20in%20progress-orange)\n",
    "\n",
    "## *zwischenwert*\n",
    "\n",
    "<a href=\"https://photos.app.goo.gl/pg6iZUC32rTKX5LC7\"><img src=\"https://spielhuus.github.io/elektrophon/images/kontrast-logo-tmb.jpg\" height=\"300px\" align=\"right\"></a>\n",
    "\n",
    "***table of contents***\n",
    "\n",
    "* [*about*](#about)\n",
    "* [*construction*](#construction)\n",
    "* [*calibration*](#calibration)\n",
    "* [*usage*](#usage)\n",
    "* [*credits*](#credits)\n",
    "* [*links*](#links)\n",
    "* [*changelog*](#changelog)\n",
    "  \n",
    "<br/><br/><br/><br/>\n",
    "\n",
    "## *about*\n"
   ]
  },
  {
   "cell_type": "code",
   "execution_count": 2,
   "metadata": {},
   "outputs": [],
   "source": [
    "#load the diffpair schema\n",
    "kicad_netlist_path = directory_path.joinpath('main', 'main.cir')\n",
    "parser = SpiceParser(path=str(kicad_netlist_path))"
   ]
  },
  {
   "cell_type": "code",
   "execution_count": 3,
   "metadata": {},
   "outputs": [
    {
     "output_type": "stream",
     "name": "stdout",
     "text": [
      "0.1\n",
      "0.2\n",
      "0.30000000000000004\n",
      "0.4\n",
      "0.5\n"
     ]
    },
    {
     "output_type": "error",
     "ename": "NgSpiceCommandError",
     "evalue": "Command 'run' failed",
     "traceback": [
      "\u001b[0;31m---------------------------------------------------------------------------\u001b[0m",
      "\u001b[0;31mNgSpiceCommandError\u001b[0m                       Traceback (most recent call last)",
      "\u001b[0;32m<ipython-input-3-455bafe42d45>\u001b[0m in \u001b[0;36m<module>\u001b[0;34m\u001b[0m\n\u001b[1;32m     32\u001b[0m     \u001b[0mscanner\u001b[0m\u001b[0;34m.\u001b[0m\u001b[0mV\u001b[0m\u001b[0;34m(\u001b[0m\u001b[0;34m'4'\u001b[0m\u001b[0;34m,\u001b[0m \u001b[0;34m'CV_IN'\u001b[0m\u001b[0;34m,\u001b[0m \u001b[0mscanner\u001b[0m\u001b[0;34m.\u001b[0m\u001b[0mgnd\u001b[0m\u001b[0;34m,\u001b[0m \u001b[0;34m'DC 0V AC 0V PULSE(-5V 5V 0 0m 4m 1u 4m)'\u001b[0m\u001b[0;34m)\u001b[0m\u001b[0;34m\u001b[0m\u001b[0;34m\u001b[0m\u001b[0m\n\u001b[1;32m     33\u001b[0m     \u001b[0msimulator\u001b[0m \u001b[0;34m=\u001b[0m \u001b[0mscanner\u001b[0m\u001b[0;34m.\u001b[0m\u001b[0msimulator\u001b[0m\u001b[0;34m(\u001b[0m\u001b[0mtemperature\u001b[0m\u001b[0;34m=\u001b[0m\u001b[0;36m25\u001b[0m\u001b[0;34m,\u001b[0m \u001b[0mnominal_temperature\u001b[0m\u001b[0;34m=\u001b[0m\u001b[0;36m25\u001b[0m\u001b[0;34m)\u001b[0m\u001b[0;34m\u001b[0m\u001b[0;34m\u001b[0m\u001b[0m\n\u001b[0;32m---> 34\u001b[0;31m     \u001b[0manalysis_scanner\u001b[0m \u001b[0;34m=\u001b[0m \u001b[0msimulator\u001b[0m\u001b[0;34m.\u001b[0m\u001b[0mtransient\u001b[0m\u001b[0;34m(\u001b[0m\u001b[0mstep_time\u001b[0m\u001b[0;34m=\u001b[0m\u001b[0;36m1\u001b[0m\u001b[0;34m@\u001b[0m\u001b[0mu_us\u001b[0m\u001b[0;34m,\u001b[0m \u001b[0mstart_time\u001b[0m\u001b[0;34m=\u001b[0m\u001b[0;36m100\u001b[0m\u001b[0;34m@\u001b[0m\u001b[0mu_ms\u001b[0m\u001b[0;34m,\u001b[0m \u001b[0mend_time\u001b[0m\u001b[0;34m=\u001b[0m\u001b[0;36m120\u001b[0m\u001b[0;34m@\u001b[0m\u001b[0mu_ms\u001b[0m\u001b[0;34m)\u001b[0m\u001b[0;34m\u001b[0m\u001b[0;34m\u001b[0m\u001b[0m\n\u001b[0m\u001b[1;32m     35\u001b[0m \u001b[0;34m\u001b[0m\u001b[0m\n\u001b[1;32m     36\u001b[0m     \u001b[0max0\u001b[0m\u001b[0;34m.\u001b[0m\u001b[0mplot\u001b[0m\u001b[0;34m(\u001b[0m\u001b[0manalysis_scanner\u001b[0m\u001b[0;34m[\u001b[0m\u001b[0;34m'CV'\u001b[0m\u001b[0;34m]\u001b[0m\u001b[0;34m.\u001b[0m\u001b[0mabscissa\u001b[0m\u001b[0;34m*\u001b[0m\u001b[0;36m1000\u001b[0m\u001b[0;34m,\u001b[0m \u001b[0manalysis_scanner\u001b[0m\u001b[0;34m[\u001b[0m\u001b[0;34m'CV'\u001b[0m\u001b[0;34m]\u001b[0m\u001b[0;34m,\u001b[0m \u001b[0mc\u001b[0m\u001b[0;34m=\u001b[0m\u001b[0;34m'Orange'\u001b[0m\u001b[0;34m)\u001b[0m  \u001b[0;31m# envelope input (scaled)\u001b[0m\u001b[0;34m\u001b[0m\u001b[0;34m\u001b[0m\u001b[0m\n",
      "\u001b[0;32m~/.local/lib/python3.8/site-packages/PySpice/Spice/Simulation.py\u001b[0m in \u001b[0;36mtransient\u001b[0;34m(self, *args, **kwargs)\u001b[0m\n\u001b[1;32m   1164\u001b[0m \u001b[0;34m\u001b[0m\u001b[0m\n\u001b[1;32m   1165\u001b[0m     \u001b[0;32mdef\u001b[0m \u001b[0mtransient\u001b[0m\u001b[0;34m(\u001b[0m\u001b[0mself\u001b[0m\u001b[0;34m,\u001b[0m \u001b[0;34m*\u001b[0m\u001b[0margs\u001b[0m\u001b[0;34m,\u001b[0m \u001b[0;34m**\u001b[0m\u001b[0mkwargs\u001b[0m\u001b[0;34m)\u001b[0m\u001b[0;34m:\u001b[0m\u001b[0;34m\u001b[0m\u001b[0;34m\u001b[0m\u001b[0m\n\u001b[0;32m-> 1166\u001b[0;31m         \u001b[0;32mreturn\u001b[0m \u001b[0mself\u001b[0m\u001b[0;34m.\u001b[0m\u001b[0m_run\u001b[0m\u001b[0;34m(\u001b[0m\u001b[0;34m'transient'\u001b[0m\u001b[0;34m,\u001b[0m \u001b[0;34m*\u001b[0m\u001b[0margs\u001b[0m\u001b[0;34m,\u001b[0m \u001b[0;34m**\u001b[0m\u001b[0mkwargs\u001b[0m\u001b[0;34m)\u001b[0m\u001b[0;34m\u001b[0m\u001b[0;34m\u001b[0m\u001b[0m\n\u001b[0m\u001b[1;32m   1167\u001b[0m \u001b[0;34m\u001b[0m\u001b[0m\n\u001b[1;32m   1168\u001b[0m     \u001b[0;31m##############################################\u001b[0m\u001b[0;34m\u001b[0m\u001b[0;34m\u001b[0m\u001b[0;34m\u001b[0m\u001b[0m\n",
      "\u001b[0;32m~/.local/lib/python3.8/site-packages/PySpice/Spice/NgSpice/Simulation.py\u001b[0m in \u001b[0;36m_run\u001b[0;34m(self, analysis_method, *args, **kwargs)\u001b[0m\n\u001b[1;32m    116\u001b[0m         \u001b[0;31m# Fixme: Error: circuit not parsed.\u001b[0m\u001b[0;34m\u001b[0m\u001b[0;34m\u001b[0m\u001b[0;34m\u001b[0m\u001b[0m\n\u001b[1;32m    117\u001b[0m         \u001b[0mself\u001b[0m\u001b[0;34m.\u001b[0m\u001b[0m_ngspice_shared\u001b[0m\u001b[0;34m.\u001b[0m\u001b[0mload_circuit\u001b[0m\u001b[0;34m(\u001b[0m\u001b[0mstr\u001b[0m\u001b[0;34m(\u001b[0m\u001b[0mself\u001b[0m\u001b[0;34m)\u001b[0m\u001b[0;34m)\u001b[0m\u001b[0;34m\u001b[0m\u001b[0;34m\u001b[0m\u001b[0m\n\u001b[0;32m--> 118\u001b[0;31m         \u001b[0mself\u001b[0m\u001b[0;34m.\u001b[0m\u001b[0m_ngspice_shared\u001b[0m\u001b[0;34m.\u001b[0m\u001b[0mrun\u001b[0m\u001b[0;34m(\u001b[0m\u001b[0;34m)\u001b[0m\u001b[0;34m\u001b[0m\u001b[0;34m\u001b[0m\u001b[0m\n\u001b[0m\u001b[1;32m    119\u001b[0m         \u001b[0mself\u001b[0m\u001b[0;34m.\u001b[0m\u001b[0m_logger\u001b[0m\u001b[0;34m.\u001b[0m\u001b[0mdebug\u001b[0m\u001b[0;34m(\u001b[0m\u001b[0mstr\u001b[0m\u001b[0;34m(\u001b[0m\u001b[0mself\u001b[0m\u001b[0;34m.\u001b[0m\u001b[0m_ngspice_shared\u001b[0m\u001b[0;34m.\u001b[0m\u001b[0mplot_names\u001b[0m\u001b[0;34m)\u001b[0m\u001b[0;34m)\u001b[0m\u001b[0;34m\u001b[0m\u001b[0;34m\u001b[0m\u001b[0m\n\u001b[1;32m    120\u001b[0m         \u001b[0mself\u001b[0m\u001b[0;34m.\u001b[0m\u001b[0mreset_analysis\u001b[0m\u001b[0;34m(\u001b[0m\u001b[0;34m)\u001b[0m\u001b[0;34m\u001b[0m\u001b[0;34m\u001b[0m\u001b[0m\n",
      "\u001b[0;32m~/.local/lib/python3.8/site-packages/PySpice/Spice/NgSpice/Shared.py\u001b[0m in \u001b[0;36mrun\u001b[0;34m(self, background)\u001b[0m\n\u001b[1;32m   1166\u001b[0m \u001b[0;34m\u001b[0m\u001b[0m\n\u001b[1;32m   1167\u001b[0m         \u001b[0mcommand\u001b[0m \u001b[0;34m=\u001b[0m \u001b[0;34m'bg_run'\u001b[0m \u001b[0;32mif\u001b[0m \u001b[0mbackground\u001b[0m \u001b[0;32melse\u001b[0m \u001b[0;34m'run'\u001b[0m\u001b[0;34m\u001b[0m\u001b[0;34m\u001b[0m\u001b[0m\n\u001b[0;32m-> 1168\u001b[0;31m         \u001b[0mself\u001b[0m\u001b[0;34m.\u001b[0m\u001b[0mexec_command\u001b[0m\u001b[0;34m(\u001b[0m\u001b[0mcommand\u001b[0m\u001b[0;34m)\u001b[0m\u001b[0;34m\u001b[0m\u001b[0;34m\u001b[0m\u001b[0m\n\u001b[0m\u001b[1;32m   1169\u001b[0m \u001b[0;34m\u001b[0m\u001b[0m\n\u001b[1;32m   1170\u001b[0m         \u001b[0;32mif\u001b[0m \u001b[0mbackground\u001b[0m\u001b[0;34m:\u001b[0m\u001b[0;34m\u001b[0m\u001b[0;34m\u001b[0m\u001b[0m\n",
      "\u001b[0;32m~/.local/lib/python3.8/site-packages/PySpice/Spice/NgSpice/Shared.py\u001b[0m in \u001b[0;36mexec_command\u001b[0;34m(self, command, join_lines)\u001b[0m\n\u001b[1;32m    840\u001b[0m \u001b[0;34m\u001b[0m\u001b[0m\n\u001b[1;32m    841\u001b[0m         \u001b[0;32mif\u001b[0m \u001b[0mself\u001b[0m\u001b[0;34m.\u001b[0m\u001b[0m_error_in_stdout\u001b[0m \u001b[0;32mor\u001b[0m \u001b[0mself\u001b[0m\u001b[0;34m.\u001b[0m\u001b[0m_error_in_stderr\u001b[0m\u001b[0;34m:\u001b[0m\u001b[0;34m\u001b[0m\u001b[0;34m\u001b[0m\u001b[0m\n\u001b[0;32m--> 842\u001b[0;31m             \u001b[0;32mraise\u001b[0m \u001b[0mNgSpiceCommandError\u001b[0m\u001b[0;34m(\u001b[0m\u001b[0;34m\"Command '{}' failed\"\u001b[0m\u001b[0;34m.\u001b[0m\u001b[0mformat\u001b[0m\u001b[0;34m(\u001b[0m\u001b[0mcommand\u001b[0m\u001b[0;34m)\u001b[0m\u001b[0;34m)\u001b[0m\u001b[0;34m\u001b[0m\u001b[0;34m\u001b[0m\u001b[0m\n\u001b[0m\u001b[1;32m    843\u001b[0m \u001b[0;34m\u001b[0m\u001b[0m\n\u001b[1;32m    844\u001b[0m         \u001b[0;32mif\u001b[0m \u001b[0mjoin_lines\u001b[0m\u001b[0;34m:\u001b[0m\u001b[0;34m\u001b[0m\u001b[0;34m\u001b[0m\u001b[0m\n",
      "\u001b[0;31mNgSpiceCommandError\u001b[0m: Command 'run' failed"
     ]
    }
   ],
   "source": [
    "#simulate diffpair with envelope\n",
    "\n",
    "class VoltageDivider1(SubCircuitFactory):\n",
    "    __name__ = 'voltage_divider_1'\n",
    "    __nodes__ = ('n1', 'n2', 'n3' )\n",
    "    def __init__(self, R=100@u_kΩ, w=0.4):\n",
    "        super().__init__()\n",
    "        self.R(1, 'n1', 'n2', R * w)\n",
    "        self.R(2, 'n2', 'n3', R * (1.0-w) )\n",
    "\n",
    "class VoltageDivider2(SubCircuitFactory):\n",
    "    __name__ = 'voltage_divider_2'\n",
    "    __nodes__ = ('n1', 'n2', 'n3' )\n",
    "    def __init__(self, R=100@u_kΩ, w=0.4):\n",
    "        super().__init__()\n",
    "        self.R(1, 'n1', 'n2', R * w)\n",
    "        self.R(2, 'n2', 'n3', R * (1.0-w) )\n",
    "\n",
    "fig, ax0 = plt.subplots(figsize=(18, 6))\n",
    "for offset in np.arange(0.1, 1.0, 0.1) :\n",
    "    print( offset )\n",
    "    scanner = parser.build_circuit(ground=5)\n",
    "    scanner.include(spice_library['q2n3906'])\n",
    "    scanner.include(spice_library['D1N4148'])\n",
    "    scanner.include(spice_library['TL072'])\n",
    "    scanner.include(spice_library['TL072c'])\n",
    "    for subcircuit in (VoltageDivider1(R=200@u_Ω, w=0.5), VoltageDivider2(R=100@u_kΩ, w=offset)) :\n",
    "        scanner.subcircuit(subcircuit)\n",
    "    scanner.V('1', '+15V', scanner.gnd, 'DC 15')\n",
    "    scanner.V('2', '-15V', scanner.gnd, 'DC -15')\n",
    "    scanner.V('3', 'OFFSET', scanner.gnd, 'DC %f' % offset) \n",
    "    scanner.V('4', 'CV_IN', scanner.gnd, 'DC 0V AC 0V PULSE(-5V 5V 0 0m 4m 1u 4m)')\n",
    "    simulator = scanner.simulator(temperature=25, nominal_temperature=25)\n",
    "    analysis_scanner = simulator.transient(step_time=1@u_us, start_time=100@u_ms, end_time=120@u_ms)\n",
    "\n",
    "    ax0.plot(analysis_scanner['CV'].abscissa*1000, analysis_scanner['CV'], c='Orange')  # envelope input (scaled)\n",
    "#    ax0.plot(analysis_scanner['CV_IN'].abscissa*1000, analysis_scanner['CV_IN'], c='Red')  # envelope input (scaled)\n",
    "\n",
    "ax0.grid()\n",
    "ax0.set_xlabel('t [ms]')\n",
    "ax0.set_ylabel('[V]')\n",
    "ax0.set_title('output with a cv envelope', y=-0.2)\n",
    "\n",
    "plt.show()"
   ]
  },
  {
   "cell_type": "code",
   "execution_count": null,
   "metadata": {},
   "outputs": [],
   "source": [
    "#simulate diffpair with envelope\n",
    "\n",
    "class VoltageDivider1(SubCircuitFactory):\n",
    "    __name__ = 'voltage_divider_1'\n",
    "    __nodes__ = ('n1', 'n2', 'n3' )\n",
    "    def __init__(self, R=100@u_kΩ, w=0.4):\n",
    "        super().__init__()\n",
    "        self.R(1, 'n1', 'n2', R * w)\n",
    "        self.R(2, 'n2', 'n3', R * (1.0-w) )\n",
    "\n",
    "class VoltageDivider2(SubCircuitFactory):\n",
    "    __name__ = 'voltage_divider_2'\n",
    "    __nodes__ = ('n1', 'n2', 'n3' )\n",
    "    def __init__(self, R=100@u_kΩ, w=0.4):\n",
    "        super().__init__()\n",
    "        self.R(1, 'n1', 'n2', R * w)\n",
    "        self.R(2, 'n2', 'n3', R * (1.0-w) )\n",
    "\n",
    "fig, ax0 = plt.subplots(figsize=(18, 6))\n",
    "\n",
    "scanner = parser.build_circuit(ground=5)\n",
    "scanner.include(spice_library['q2n3906'])\n",
    "scanner.include(spice_library['D1N4148'])\n",
    "scanner.include(spice_library['TL072'])\n",
    "scanner.include(spice_library['TL072c'])\n",
    "for subcircuit in (VoltageDivider1(R=200@u_Ω, w=0.5), VoltageDivider2(R=100@u_kΩ, w=0.5)) :\n",
    "    scanner.subcircuit(subcircuit)\n",
    "scanner.V('1', '+15V', scanner.gnd, 'DC 12')\n",
    "scanner.V('2', '-15V', scanner.gnd, 'DC -12')\n",
    "scanner.V('3', 'OFFSET', scanner.gnd, 'DC 0') \n",
    "scanner.V('4', 'CV_IN', scanner.gnd, 'DC 0V AC 0V PULSE(-5V 5V 0 0m 4m 1u 4m)')\n",
    "simulator = scanner.simulator(temperature=25, nominal_temperature=25)\n",
    "analysis_scanner = simulator.transient(step_time=1@u_us, start_time=100@u_ms, end_time=120@u_ms)\n",
    "\n",
    "#ax0.plot(analysis_scanner['CV'].abscissa*1000, analysis_scanner['CV'], c='Orange')  # envelope input (scaled)\n",
    "ax0.plot(analysis_scanner['I1'].abscissa*1000, analysis_scanner['I1'], c='Red')  # envelope input (scaled)\n",
    "ax0.plot(analysis_scanner['I1'].abscissa*1000, analysis_scanner['I2'], c='Green')  # envelope input (scaled)\n",
    "ax0.plot(analysis_scanner['I1'].abscissa*1000, analysis_scanner['I3'], c='Blue')  # envelope input (scaled)\n",
    "ax0.plot(analysis_scanner['I1'].abscissa*1000, analysis_scanner['I4'], c='Magenta')  # envelope input (scaled)\n",
    "\n",
    "ax0.grid()\n",
    "ax0.set_xlabel('t [ms]')\n",
    "ax0.set_ylabel('[V]')\n",
    "ax0.set_title('output with a cv envelope', y=-0.2)\n",
    "\n",
    "plt.show()"
   ]
  },
  {
   "cell_type": "markdown",
   "metadata": {},
   "source": [
    "## *construction*\n",
    "\n",
    "for the final circuit input and output buffering and biasing is needed. the buffering is done with opamps. \n"
   ]
  },
  {
   "source": [
    "first we design the input stage. the input voltage for the X signal should be 10mV and 20mV for the control voltage.\n"
   ],
   "cell_type": "markdown",
   "metadata": {}
  },
  {
   "cell_type": "markdown",
   "metadata": {},
   "source": [
    "## *references*\n",
    "\n",
    "- [VCA Techniques Investigated][1] Rod Elliott (ESP)\n",
    "- [Popular Electronics][2] Keyiing and VCA citcuits for electronic music instruments \n",
    "- [VCA-1][3] Thomas Henry CA3080 vca\n",
    "- [VCA-3][4] René Schmitz differential pair vca\n",
    "- [#223][5]: Basics of the Gilbert Cell | Analog Multiplier | Mixer | Modulator\n",
    "- [#224][6]: AM & DSB-SC Modulation with the Gilbert Cell\n",
    "- [Analog Devices][8]: Analog multiplier application guide \n",
    "- [AD633][9]: Datasheet \n",
    "\n",
    "\n",
    "[1]: https://sound-au.com/articles/vca-techniques.html\n",
    "[2]: https://tinaja.com/glib/pop_elec/mus_keying_vca_1+2_75.pdf\n",
    "[3]: https://www.birthofasynth.com/Thomas_Henry/Pages/VCA-1.html\n",
    "[4]: https://www.schmitzbits.de/vca3.png\n",
    "[5]: https://www.youtube.com/watch?v=7nmmb0pqTU0&t=2s\n",
    "[6]: https://www.youtube.com/watch?v=38OQub2Vi2Q\n",
    "[7]: http://www.ecircuitcenter.com/Circuits/BJT_Diffamp1/BJT_Diffamp1.htm\n",
    "[8]: https://www.analog.com/media/en/training-seminars/design-handbooks/ADI_Multiplier_Applications_Guide.pdf\n",
    "[9]: https://www.analog.com/media/en/technical-documentation/data-sheets/AD633.pdf\n",
    "\n",
    "\n",
    "\n"
   ]
  }
 ],
 "metadata": {
  "kernelspec": {
   "name": "python3",
   "display_name": "Python 3.8.5 64-bit",
   "metadata": {
    "interpreter": {
     "hash": "31f2aee4e71d21fbe5cf8b01ff0e069b9275f58929596ceb00d14d90e3e16cd6"
    }
   }
  },
  "language_info": {
   "codemirror_mode": {
    "name": "ipython",
    "version": 3
   },
   "file_extension": ".py",
   "mimetype": "text/x-python",
   "name": "python",
   "nbconvert_exporter": "python",
   "pygments_lexer": "ipython3",
   "version": "3.8.5-final"
  }
 },
 "nbformat": 4,
 "nbformat_minor": 4
}