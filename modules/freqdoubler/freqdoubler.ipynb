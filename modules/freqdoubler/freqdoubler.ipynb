{
 "cells": [
  {
   "cell_type": "code",
   "execution_count": null,
   "metadata": {
    "tags": []
   },
   "outputs": [],
   "source": [
    "# Just the normal prequisites for using matplotlib and numpy in a Jupyter notebook\n",
    "%matplotlib inline\n",
    "# Use the svg backend, in my opinion it just makes better looking plots\n",
    "%config InlineBackend.figure_format = 'svg'\n",
    "\n",
    "import PySpice.Logging.Logging as Logging\n",
    "logger = Logging.setup_logging( logging_level='INFO')\n",
    "\n",
    "import os\n",
    "import sys\n",
    "from pathlib import Path\n",
    "import IPython\n",
    "from scipy import signal\n",
    "import scipy.fftpack\n",
    "from PySpice.Unit import *\n",
    "from PySpice.Spice.Parser import SpiceParser\n",
    "from PySpice.Spice.Netlist import Circuit, SubCircuit, SubCircuitFactory\n",
    "from PySpice.Spice.Library import SpiceLibrary\n",
    "from PySpice.Probe.Plot import plot\n",
    "from PySpice.Doc.ExampleTools import find_libraries\n",
    "from PySpice.Math import *\n",
    "import matplotlib.pyplot as plt\n",
    "import matplotlib.image as mpimg\n",
    "import numpy as np\n",
    "import matplotlib.pyplot as plt\n",
    "import unittest\n",
    "\n",
    "directory_path = Path(os.path.abspath('')).resolve().parent.parent\n",
    "spice_libraries_path = directory_path.joinpath(\"lib\", \"spice\")\n",
    "spice_library = SpiceLibrary(spice_libraries_path)\n",
    "\n",
    "directory_path = Path(os.path.abspath('')).resolve()"
   ]
  },
  {
   "cell_type": "code",
   "execution_count": null,
   "metadata": {},
   "outputs": [],
   "source": []
  },
  {
   "cell_type": "markdown",
   "metadata": {},
   "source": [
    "![module](https://img.shields.io/badge/module-vca-yellow) ![status](https://img.shields.io/badge/status-work%20in%20progress-orange)\n",
    "\n",
    "## *freqdoubler*\n",
    "\n",
    "<a href=\"https://photos.app.goo.gl/pg6iZUC32rTKX5LC7\"><img src=\"https://spielhuus.github.io/elektrophon/images/kontrast-logo-tmb.jpg\" height=\"300px\" align=\"right\"></a>\n",
    "\n",
    "***table of contents***\n",
    "\n",
    "* [*about*](#about)\n",
    "* [*construction*](#construction)\n",
    "* [*calibration*](#calibration)\n",
    "* [*usage*](#usage)\n",
    "* [*credits*](#credits)\n",
    "* [*links*](#links)\n",
    "* [*changelog*](#changelog)\n",
    "  \n",
    "<br/><br/><br/><br/>\n",
    "\n",
    "## *about*\n"
   ]
  },
  {
   "source": [
    "### *frequency doubler*"
   ],
   "cell_type": "markdown",
   "metadata": {}
  },
  {
   "cell_type": "code",
   "execution_count": null,
   "metadata": {},
   "outputs": [],
   "source": [
    "#load the diffpair schema\n",
    "kicad_netlist_path = directory_path.joinpath('main', 'main.cir')\n",
    "parser = SpiceParser(path=str(kicad_netlist_path))"
   ]
  },
  {
   "cell_type": "code",
   "execution_count": null,
   "metadata": {
    "tags": []
   },
   "outputs": [],
   "source": [
    "#simulate interpolating scanner\n",
    "doubler = parser.build_circuit(ground=5)\n",
    "doubler.include(spice_library['TL072'])\n",
    "doubler.include(spice_library['TL072c'])\n",
    "#doubler.include(spice_library['LT1014x_30V'])\n",
    "#doubler.include(spice_library['BC556B'])\n",
    "#doubler.include(spice_library['BC857CW'])\n",
    "#doubler.include(spice_library['LM13700/NS'])\n",
    "#doubler.include(spice_library['LM13700d'])\n",
    "#doubler.include(spice_library['D1N4148'])\n",
    "doubler.V('1', '+15V', doubler.gnd, 'DC 15')\n",
    "doubler.V('2', '-15V', doubler.gnd, 'DC -15')\n",
    "doubler.V('3', 'SAW_IN', doubler.gnd, 'DC 5V AC 5V PULSE(-5 5 0 10m 0 1u 10m)')\n",
    "#doubler.V('4', 'IN_2', doubler.gnd, 'DC 5V AC 5V SIN(0 5 800)')\n",
    "#doubler.V('5', 'IN_3', doubler.gnd, 'DC 5V AC 5V SIN(0 5 1200)')\n",
    "#doubler.V('6', 'IN_4', doubler.gnd, 'DC 5V AC 5V SIN(0 5 1600)')\n",
    "#doubler.V('7', 'CV_IN', doubler.gnd, 'DC 5V AC 5V PULSE(0 5 0 30m 0 1u 30m)') \n",
    "\n",
    "simulator = doubler.simulator(temperature=25, nominal_temperature=25)\n",
    "analysis_doubler = simulator.transient(step_time=1@u_us, end_time=40@u_ms)"
   ]
  },
  {
   "cell_type": "code",
   "execution_count": null,
   "metadata": {},
   "outputs": [],
   "source": [
    "#plot the results\n",
    "fig, ax0 = plt.subplots(figsize=(18, 6))\n",
    "\n",
    "#plot cv\n",
    "ax0.plot(u_ms(analysis_doubler['SAW_IN'].abscissa), analysis_doubler['SAW_IN'], c='Red')\n",
    "ax0.plot(u_ms(analysis_doubler['OUT'].abscissa), analysis_doubler['OUT'], c='Green')\n",
    "\n",
    "ax0.grid()\n",
    "ax0.set_xlabel('t [ms]')\n",
    "ax0.set_ylabel('V')\n",
    "ax0.set_title('output with a cv envelope', y=-0.2)\n",
    "\n",
    "plt.show()\n"
   ]
  },
  {
   "source": [
    "with a sine input"
   ],
   "cell_type": "markdown",
   "metadata": {}
  },
  {
   "cell_type": "code",
   "execution_count": null,
   "metadata": {},
   "outputs": [],
   "source": [
    "#simulate interpolating scanner\n",
    "doubler = parser.build_circuit(ground=5)\n",
    "doubler.include(spice_library['TL072'])\n",
    "doubler.include(spice_library['TL072c'])\n",
    "doubler.V('1', '+15V', doubler.gnd, 'DC 15')\n",
    "doubler.V('2', '-15V', doubler.gnd, 'DC -15')\n",
    "doubler.V('6', 'SAW_IN', doubler.gnd, 'DC 5V AC 5V SIN(0 5 100)')\n",
    "\n",
    "simulator = doubler.simulator(temperature=25, nominal_temperature=25)\n",
    "analysis_doubler = simulator.transient(step_time=1@u_us, end_time=40@u_ms)"
   ]
  },
  {
   "cell_type": "code",
   "execution_count": null,
   "metadata": {},
   "outputs": [],
   "source": [
    "#plot the results\n",
    "fig, ax0 = plt.subplots(figsize=(18, 6))\n",
    "\n",
    "#plot cv\n",
    "ax0.plot(u_ms(analysis_doubler['SAW_IN'].abscissa), analysis_doubler['SAW_IN'], c='Red')\n",
    "ax0.plot(u_ms(analysis_doubler['OUT'].abscissa), analysis_doubler['OUT'], c='Green')\n",
    "\n",
    "ax0.grid()\n",
    "ax0.set_xlabel('t [ms]')\n",
    "ax0.set_ylabel('V')\n",
    "ax0.set_title('output with a cv envelope', y=-0.2)\n",
    "\n",
    "plt.show()"
   ]
  },
  {
   "source": [
    "### *frequency shifter*"
   ],
   "cell_type": "markdown",
   "metadata": {}
  },
  {
   "cell_type": "code",
   "execution_count": null,
   "metadata": {},
   "outputs": [],
   "source": [
    "#load frequency shifter schema\n",
    "kicad_netlist_path = directory_path.joinpath('shifter', 'shifter.cir')\n",
    "parser = SpiceParser(path=str(kicad_netlist_path))\n",
    "\n",
    "#plot the results\n",
    "fig, ax0 = plt.subplots(figsize=(18, 6))\n",
    "\n",
    "for shift in np.arange(-5, 5, 1) :\n",
    "    #simulate \n",
    "    shifter = parser.build_circuit(ground=5)\n",
    "    shifter.include(spice_library['TL072'])\n",
    "    shifter.include(spice_library['TL072c'])\n",
    "    shifter.V('1', '+15V', shifter.gnd, 'DC 15')\n",
    "    shifter.V('2', '-15V', shifter.gnd, 'DC -15')\n",
    "    shifter.V('3', 'SAW_IN', shifter.gnd, 'DC 5V AC 5V PULSE(-5 5 0 10m 0 1u 10m)')\n",
    "    shifter.V('4', 'PHASE_SHIFT', shifter.gnd, '%dV' % shift) #'DC 5V AC 5V PULSE(-5 5 0 10m 0 1u 10m)')\n",
    "\n",
    "    simulator = shifter.simulator(temperature=25, nominal_temperature=25)\n",
    "    analysis_shifter = simulator.transient(step_time=1@u_us, end_time=40@u_ms)\n",
    "\n",
    "    #plot cv\n",
    "    ax0.plot(u_ms(analysis_shifter['SAW_IN'].abscissa), analysis_shifter['SAW_IN'], c='Red')\n",
    "    ax0.plot(u_ms(analysis_shifter['OUT'].abscissa), analysis_shifter['OUT'], c='Green')\n",
    "    ax0.plot(u_ms(analysis_shifter['PHASE_SHIFT'].abscissa), analysis_shifter['PHASE_SHIFT'], c='Yellow')\n",
    "\n",
    "    ax0.grid()\n",
    "    ax0.set_xlabel('t [ms]')\n",
    "    ax0.set_ylabel('V')\n",
    "    ax0.set_title('output with a cv envelope', y=-0.2)\n",
    "\n",
    "plt.show()\n",
    "\n"
   ]
  },
  {
   "source": [
    "shifter with two sines"
   ],
   "cell_type": "markdown",
   "metadata": {}
  },
  {
   "cell_type": "code",
   "execution_count": null,
   "metadata": {},
   "outputs": [],
   "source": [
    "#load frequency shifter schema\n",
    "kicad_netlist_path = directory_path.joinpath('shifter', 'shifter.cir')\n",
    "parser = SpiceParser(path=str(kicad_netlist_path))\n",
    "\n",
    "#plot the results\n",
    "fig, ax0 = plt.subplots(figsize=(18, 6))\n",
    "\n",
    "#simulate \n",
    "shifter = parser.build_circuit(ground=5)\n",
    "shifter.include(spice_library['TL072'])\n",
    "shifter.include(spice_library['TL072c'])\n",
    "shifter.V('1', '+15V', shifter.gnd, 'DC 15')\n",
    "shifter.V('2', '-15V', shifter.gnd, 'DC -15')\n",
    "shifter.V('3', 'SAW_IN', doubler.gnd, 'DC 5V AC 5V PULSE(-5 5 0 10m 0 1u 10m)')\n",
    "shifter.V('4', 'PHASE_SHIFT', doubler.gnd, 'DC 5V AC 5V PULSE(-5 5 0 20m 20m 1u 40m)')\n",
    "\n",
    "simulator = shifter.simulator(temperature=25, nominal_temperature=25)\n",
    "analysis_shifter = simulator.transient(step_time=1@u_us, end_time=40@u_ms)\n",
    "\n",
    "#plot cv\n",
    "ax0.plot(u_ms(analysis_shifter['SAW_IN'].abscissa), analysis_shifter['SAW_IN'], c='Red')\n",
    "ax0.plot(u_ms(analysis_shifter['OUT'].abscissa), analysis_shifter['OUT'], c='Green')\n",
    "ax0.plot(u_ms(analysis_shifter['PHASE_SHIFT'].abscissa), analysis_shifter['PHASE_SHIFT'], c='Yellow')\n",
    "\n",
    "ax0.grid()\n",
    "ax0.set_xlabel('t [ms]')\n",
    "ax0.set_ylabel('V')\n",
    "ax0.set_title('output with a cv envelope', y=-0.2)\n",
    "\n",
    "plt.show()"
   ]
  },
  {
   "cell_type": "markdown",
   "metadata": {},
   "source": [
    "## *construction*\n",
    "\n",
    "for the final circuit input and output buffering and biasing is needed. the buffering is done with opamps. \n"
   ]
  },
  {
   "source": [
    "first we design the input stage. the input voltage for the X signal should be 10mV and 20mV for the control voltage.\n"
   ],
   "cell_type": "markdown",
   "metadata": {}
  },
  {
   "cell_type": "markdown",
   "metadata": {},
   "source": [
    "## *references*\n",
    "\n",
    "- [Magnus Synth Schematics][5] Magnus Danielson sawtooth doubler and phase shifter\n",
    "\n",
    "[1]: https://www.youtube.com/watch?v=3jlsDhgQJOM\n",
    "[2]: http://www.till.com/articles/wavepalette/\n",
    "[3]: https://web.archive.org/web/20190516064813/https://rubidium.dyndns.org/~magnus/synths/schematics/sawphaseshift2.pdf\n",
    "[4]: https://electro-music.com/forum/viewtopic.php?highlight=vca+morph&t=58189\n",
    "[5]: https://web.archive.org/web/20140830210313/http://home.swipnet.se/cfmd/synths/schematics/\n",
    "[6]: http://electronotes.netfirms.com/EN228.pdf\n",
    "[7]: http://electronotes.netfirms.com/AN73.pdf\n",
    "\n",
    "\n"
   ]
  },
  {
   "cell_type": "code",
   "execution_count": null,
   "metadata": {},
   "outputs": [],
   "source": [
    "unittest.main(argv=[''], verbosity=2, exit=False)"
   ]
  }
 ],
 "metadata": {
  "kernelspec": {
   "name": "python3",
   "display_name": "Python 3.8.5 64-bit",
   "metadata": {
    "interpreter": {
     "hash": "31f2aee4e71d21fbe5cf8b01ff0e069b9275f58929596ceb00d14d90e3e16cd6"
    }
   }
  },
  "language_info": {
   "codemirror_mode": {
    "name": "ipython",
    "version": 3
   },
   "file_extension": ".py",
   "mimetype": "text/x-python",
   "name": "python",
   "nbconvert_exporter": "python",
   "pygments_lexer": "ipython3",
   "version": "3.8.5-final"
  }
 },
 "nbformat": 4,
 "nbformat_minor": 4
}