{
 "cells": [
  {
   "cell_type": "code",
   "execution_count": null,
   "metadata": {
    "tags": []
   },
   "outputs": [],
   "source": [
    "# Just the normal prequisites for using matplotlib and numpy in a Jupyter notebook\n",
    "%matplotlib inline\n",
    "# Use the svg backend, in my opinion it just makes better looking plots\n",
    "%config InlineBackend.figure_format = 'svg'\n",
    "\n",
    "import PySpice.Logging.Logging as Logging\n",
    "logger = Logging.setup_logging( logging_level='DEBUG')\n",
    "\n",
    "import os\n",
    "import sys\n",
    "import IPython\n",
    "from scipy import signal\n",
    "import scipy.fftpack\n",
    "from PySpice.Unit import *\n",
    "from PySpice.Spice.Parser import SpiceParser\n",
    "from PySpice.Spice.Netlist import Circuit, SubCircuit, SubCircuitFactory\n",
    "from PySpice.Spice.Library import SpiceLibrary\n",
    "from PySpice.Probe.Plot import plot\n",
    "from PySpice.Plot.BodeDiagram import bode_diagram\n",
    "from PySpice.Doc.ExampleTools import find_libraries\n",
    "from PySpice.Math import *\n",
    "from pathlib import Path\n",
    "import matplotlib.pyplot as plt\n",
    "import matplotlib.image as mpimg\n",
    "import numpy as np\n",
    "import matplotlib.pyplot as plt\n",
    "import unittest\n",
    "\n",
    "import PySpice.Logging.Logging as Logging\n",
    "logger = Logging.setup_logging()\n",
    "\n",
    "directory_path = Path(os.path.abspath('')).resolve().parent.parent\n",
    "spice_libraries_path = directory_path.joinpath(\"lib\", \"spice\")\n",
    "spice_library = SpiceLibrary(spice_libraries_path)\n",
    "\n",
    "directory_path = Path(os.path.abspath('')).resolve()\n"
   ]
  },
  {
   "cell_type": "code",
   "execution_count": null,
   "metadata": {},
   "outputs": [],
   "source": []
  },
  {
   "cell_type": "markdown",
   "metadata": {},
   "source": [
    "![module](https://img.shields.io/badge/module-shin%20ey-yellow) ![status](https://img.shields.io/badge/status-work%20in%20progress-orange)\n",
    "\n",
    "## *shin ey*\n",
    "\n",
    "<a href=\"https://photos.app.goo.gl/pg6iZUC32rTKX5LC7\"><img src=\"https://spielhuus.github.io/elektrophon/images/kontrast-logo-tmb.jpg\" height=\"300px\" align=\"right\"></a>\n",
    "\n",
    "***table of contents***\n",
    "\n",
    "* [*about*](#about)\n",
    "* [*construction*](#construction)\n",
    "* [*calibration*](#calibration)\n",
    "* [*usage*](#usage)\n",
    "* [*credits*](#credits)\n",
    "* [*links*](#links)\n",
    "* [*changelog*](#changelog)\n",
    "  \n",
    "<br/><br/><br/><br/>\n",
    "\n",
    "## *about*\n",
    "\n",
    "pegel is a voltage controlled amplifier (vca). there are various designs to implement a vca. rod elliott (ESP) has an article on vca techniques [[1][1]]. diy synthesizer modules are usualy designed with an integrated vca chip [[2][2]]  or with a differential amplifier [[3][3]]. the integrated vca chips are either obsolete or rather expensive. the differential amplifier can be built with transistors only. the design has some downsides. even in the simulation the result is not symetryc and has a dc offset from the control voltage. this needs a lot of trimming to get an accurate result. but the biggest downside is, that this design can not do proper amplitude modulation (am). when the carrier signal goes below zero the base signal is completely muted. "
   ]
  },
  {
   "source": [
    "### input mixer\n",
    "\n",
    "this  is  a pasive input mixer.\n"
   ],
   "cell_type": "markdown",
   "metadata": {}
  },
  {
   "cell_type": "code",
   "execution_count": null,
   "metadata": {},
   "outputs": [],
   "source": [
    "from sympy import symbols, sqrt, exp, diff, integrate, pprint, simplify, Eq, preview, pi, solve\n",
    "\n",
    "from sympy import init_printing\n",
    "#init_printing(use_latex='mathml')\n",
    "\n",
    "R, C, fc = symbols('R,C,fc', real=True)\n",
    "lp_f = 1 / ( 2 * pi * R * C)\n",
    "Eq( lp_f, fc)\n"
   ]
  },
  {
   "cell_type": "code",
   "execution_count": null,
   "metadata": {},
   "outputs": [],
   "source": [
    "R1, R2, C1, C2, fc = symbols('R1,R2,C1,C2,fc')\n",
    "lp_f = 1 / ( 2 * pi * sqrt(R1 * R2 * C1 * C2))\n",
    "\n",
    "Eq(fc, lp_f)\n"
   ]
  },
  {
   "cell_type": "code",
   "execution_count": null,
   "metadata": {},
   "outputs": [],
   "source": [
    "r1 = 10@u_kΩ\n",
    "r2 = 10@u_kΩ\n",
    "c1 = 0.082@u_uF\n",
    "c2 = 0.082@u_uF\n",
    "\n",
    "Eq(fc, lp_f.subs(R1, r1).subs(C1, c1).subs(R2, r2).subs(C2, c2).subs(pi,math.pi))\n"
   ]
  },
  {
   "cell_type": "code",
   "execution_count": null,
   "metadata": {},
   "outputs": [],
   "source": [
    "r1 = 10@u_kΩ\n",
    "r2 = 10@u_kΩ\n",
    "c1 = 4.7@u_nF\n",
    "c2 = 4.7@u_nF\n",
    "\n",
    "Eq(fc, lp_f.subs(R1, r1).subs(C1, c1).subs(R2, r2).subs(C2, c2).subs(pi,math.pi))"
   ]
  },
  {
   "source": [
    "## low pass filter\n"
   ],
   "cell_type": "markdown",
   "metadata": {}
  },
  {
   "cell_type": "code",
   "execution_count": null,
   "metadata": {},
   "outputs": [],
   "source": [
    "#load the input mixer schema\n",
    "kicad_netlist_path = directory_path.joinpath('main', 'LowPass200.cir')\n",
    "parser = SpiceParser(path=str(kicad_netlist_path))\n",
    "\n",
    "#simulate input\n",
    "schema = parser.build_circuit(ground=5)\n",
    "schema.include(spice_library['4069UB'])\n",
    "schema.V('1', '+15V', schema.gnd, 'DC 15')\n",
    "schema.V('2', '-15V', schema.gnd, 'DC -15')\n",
    "#schema.V('3', 'NC_01', schema.gnd, 'DC 0V AC 5V SINE(0 5V 1k)')\n",
    "schema.V('3', 'NC_01', schema.gnd, 'DC 0V AC 5V PULSE(-5V 5V 1u 1u 1u 2m 4m)')\n",
    "\n",
    "simulator = schema.simulator(temperature=25, nominal_temperature=25)\n",
    "analysis_lp_ac = simulator.ac(start_frequency=10@u_Hz, stop_frequency=10@u_kHz, number_of_points=10,  variation='dec')\n",
    "analysis_lp_tr = simulator.transient(step_time=1@u_us, start_time=100@u_ms, end_time=120@u_ms)\n",
    "\n"
   ]
  },
  {
   "cell_type": "code",
   "execution_count": null,
   "metadata": {},
   "outputs": [],
   "source": [
    "#load the input mixer schema\n",
    "kicad_netlist_path = directory_path.joinpath('main', 'HighPass4000.cir')\n",
    "parser = SpiceParser(path=str(kicad_netlist_path))\n",
    "\n",
    "#simulate input\n",
    "schema = parser.build_circuit(ground=5)\n",
    "schema.include(spice_library['4069UB'])\n",
    "schema.V('1', '+15V', schema.gnd, 'DC 15')\n",
    "schema.V('2', '-15V', schema.gnd, 'DC -15')\n",
    "#schema.V('3', 'NC_01', schema.gnd, 'DC 0V AC 5V SINE(0 5V 1k)')\n",
    "schema.V('3', 'NC_01', schema.gnd, 'DC 0V AC 5V PULSE(-5V 5V 1u 1u 1u 2m 4m)')\n",
    "\n",
    "simulator = schema.simulator(temperature=25, nominal_temperature=25)\n",
    "analysis_hp_ac = simulator.ac(start_frequency=10@u_Hz, stop_frequency=10@u_kHz, number_of_points=10,  variation='dec')\n",
    "analysis_hp_tr = simulator.transient(step_time=1@u_us, start_time=100@u_ms, end_time=120@u_ms)"
   ]
  },
  {
   "cell_type": "code",
   "execution_count": null,
   "metadata": {},
   "outputs": [],
   "source": [
    "#load the input mixer schema\n",
    "kicad_netlist_path = directory_path.joinpath('main', 'BandPass900-4000.cir')\n",
    "parser = SpiceParser(path=str(kicad_netlist_path))\n",
    "\n",
    "#simulate input\n",
    "schema = parser.build_circuit(ground=5)\n",
    "schema.include(spice_library['4069UB'])\n",
    "schema.V('1', '+15V', schema.gnd, 'DC 15')\n",
    "schema.V('2', '-15V', schema.gnd, 'DC -15')\n",
    "#schema.V('3', 'NC_01', schema.gnd, 'DC 0V AC 5V SINE(0 5V 1k)')\n",
    "schema.V('3', 'NC_01', schema.gnd, 'DC 0V AC 5V PULSE(-5V 5V 1u 1u 1u 2m 4m)')\n",
    "\n",
    "simulator = schema.simulator(temperature=25, nominal_temperature=25)\n",
    "analysis_bp_900 = simulator.ac(start_frequency=10@u_Hz, stop_frequency=10@u_kHz, number_of_points=10,  variation='dec')\n"
   ]
  },
  {
   "cell_type": "code",
   "execution_count": null,
   "metadata": {},
   "outputs": [],
   "source": [
    "#load the input mixer schema\n",
    "kicad_netlist_path = directory_path.joinpath('main', 'BandPass200-900.cir')\n",
    "parser = SpiceParser(path=str(kicad_netlist_path))\n",
    "\n",
    "#simulate input\n",
    "schema = parser.build_circuit(ground=5)\n",
    "schema.include(spice_library['4069UB'])\n",
    "schema.V('1', '+15V', schema.gnd, 'DC 15')\n",
    "schema.V('2', '-15V', schema.gnd, 'DC -15')\n",
    "schema.V('3', 'NC_01', schema.gnd, 'DC 0V AC 5V SINE(0 5V 1k)')\n",
    "\n",
    "simulator = schema.simulator(temperature=25, nominal_temperature=25)\n",
    "analysis_bp_200 = simulator.ac(start_frequency=10@u_Hz, stop_frequency=10@u_kHz, number_of_points=10,  variation='dec')\n",
    "analysis_bp_200_tr = simulator.transient(step_time=1@u_us, start_time=100@u_ms, end_time=120@u_ms)"
   ]
  },
  {
   "cell_type": "code",
   "execution_count": null,
   "metadata": {},
   "outputs": [],
   "source": [
    "#plot the results\n",
    "fig, axis = plt.subplots(figsize=(18, 6))\n",
    "\n",
    "#plot mixed signal\n",
    "axis.plot(analysis_lp_tr['/OUT'].abscissa*1000, analysis_lp_tr['/OUT'], c='Orange') \n",
    "axis.plot(analysis_hp_tr['/OUT'].abscissa*1000, analysis_hp_tr['/OUT'], c='Green') \n",
    "axis.plot(analysis_bp_200_tr['/OUT'].abscissa*1000, analysis_bp_200_tr['/OUT'], c='Blue') \n",
    "#axis.plot(analysis_lp_tr['Net-_R2-Pad1_'].abscissa*1000, analysis_lp_tr['Net-_R2-Pad1_'], c='Green') \n",
    "#axis.plot(analysis_lp_tr['NC_01'].abscissa*1000, analysis_lp_tr['NC_01'], c='grey') \n",
    "\n",
    "axis.grid()\n",
    "axis.set_xlabel('t [ms]')\n",
    "axis.set_ylabel('[V]')\n",
    "axis.set_title('mixed imput saignal', y=-0.2)\n",
    "\n",
    "plt.show()"
   ]
  },
  {
   "cell_type": "code",
   "execution_count": null,
   "metadata": {},
   "outputs": [],
   "source": []
  },
  {
   "cell_type": "code",
   "execution_count": null,
   "metadata": {},
   "outputs": [],
   "source": [
    "figure, axes = plt.subplots(2, figsize=(20, 10))\n",
    "plt.title(\"Bode Diagrams of RLC Filters\")\n",
    "#out = 'Net-_C1-Pad1_'\n",
    "bode_diagram(axes=axes,\n",
    "                 frequency=analysis_lp_ac.frequency,\n",
    "                 gain=np.log10(np.absolute(analysis_lp_ac['/OUT'])),\n",
    "                 phase=np.angle(analysis_lp_ac['/OUT'], deg=False),\n",
    "                 marker='.',\n",
    "                 color='orange',\n",
    "                 linestyle='-',\n",
    "    )\n",
    "bode_diagram(axes=axes,\n",
    "                 frequency=analysis_hp_ac.frequency,\n",
    "                 gain=np.log10(np.absolute(analysis_hp_ac['/OUT'])),\n",
    "                 phase=np.angle(analysis_hp_ac['/OUT'], deg=False),\n",
    "                 marker='.',\n",
    "                 color='LightGreen',\n",
    "                 linestyle='-',\n",
    "    )\n",
    "bode_diagram(axes=axes,\n",
    "                frequency=analysis_bp_900.frequency,\n",
    "                gain=np.log10(np.absolute(analysis_bp_900['/OUT'])),\n",
    "                phase=np.angle(analysis_bp_900['/OUT'], deg=False),\n",
    "                marker='.',\n",
    "                color='Magenta',\n",
    "                linestyle='-',\n",
    ")\n",
    "bode_diagram(axes=axes,\n",
    "                frequency=analysis_bp_200.frequency,\n",
    "                gain=np.log10(np.absolute(analysis_bp_200['/OUT'])),\n",
    "                phase=np.angle(analysis_bp_200['/OUT'], deg=False),\n",
    "                marker='.',\n",
    "                color='Red',\n",
    "                linestyle='-',\n",
    ")\n",
    "    #for axe in axes:\n",
    "axes[0].axvline(x=194.091394014506, color='Red', linestyle='--')\n"
   ]
  },
  {
   "cell_type": "code",
   "execution_count": null,
   "metadata": {},
   "outputs": [],
   "source": [
    "#load the input mixer schema\n",
    "kicad_netlist_path = directory_path.joinpath('main', 'main.cir')\n",
    "parser = SpiceParser(path=str(kicad_netlist_path))\n",
    "\n",
    "#simulate input\n",
    "schema = parser.build_circuit(ground=5)\n",
    "schema.include(spice_library['BC846B'])\n",
    "schema.include(spice_library['BC556B'])\n",
    "schema.include(spice_library['CD4069UBhex'])\n",
    "schema.include(spice_library['D1N4148'])\n",
    "schema.V('1', '+15V', schema.gnd, 'DC 15')\n",
    "schema.V('2', '-15V', schema.gnd, 'DC -15')\n",
    "schema.V('3', '+5V', schema.gnd, 'DC 5')\n",
    "#schema.V('4', 'INPUT', schema.gnd, 'DC 0V AC 2V PULSE(-5V +5V 0 1m 1m 0.0001m 2.0001m)')\n",
    "schema.V('4', 'INPUT', schema.gnd, 'DC 0V AC 2V PULSE(-2V +2V 0 0.0001m 5m 0.0001m 5.0002m)')\n",
    "\n",
    "class VoltageDivider1(SubCircuitFactory):\n",
    "    __name__ = 'voltage_divider_1'\n",
    "    __nodes__ = ('n1', 'n2', 'n3' )\n",
    "    def __init__(self, R=100@u_kΩ, w=0.4):\n",
    "        super().__init__()\n",
    "        self.R(1, 'n1', 'n2', R * w)\n",
    "        self.R(2, 'n2', 'n3', R * (1.0-w) )\n",
    "\n",
    "class VoltageDivider2(SubCircuitFactory):\n",
    "    __name__ = 'voltage_divider_2'\n",
    "    __nodes__ = ('n1', 'n2', 'n3' )\n",
    "    def __init__(self, R=100@u_kΩ, w=0.4):\n",
    "        super().__init__()\n",
    "        self.R(1, 'n1', 'n2', R * w)\n",
    "        self.R(2, 'n2', 'n3', R * (1.0-w) )\n",
    "\n",
    "for subcircuit in ( VoltageDivider1(R=500@u_kΩ, w=0.999), VoltageDivider2(R=500@u_kΩ, w=0.1) ):\n",
    "    schema.subcircuit(subcircuit)\n",
    "\n",
    "simulator = schema.simulator(temperature=25, nominal_temperature=25)\n",
    "analysis = simulator.transient(step_time=1@u_us, start_time=100@u_ms, end_time=120@u_ms)\n"
   ]
  },
  {
   "source": [
    "### filter sections\n"
   ],
   "cell_type": "markdown",
   "metadata": {}
  },
  {
   "cell_type": "markdown",
   "metadata": {},
   "source": [
    "## *construction*\n",
    "\n",
    "for the final circuit input and output buffering and biasing is needed. the buffering is done with opamps. \n"
   ]
  },
  {
   "source": [
    "first we design the input stage. the input voltage for the X signal should be 10mV and 20mV for the control voltage.\n"
   ],
   "cell_type": "markdown",
   "metadata": {}
  },
  {
   "cell_type": "markdown",
   "metadata": {},
   "source": [
    "## *references*\n",
    "\n",
    "- [VCA Techniques Investigated][1] Rod Elliott (ESP)\n",
    "- [Popular Electronics][2] Keyiing and VCA citcuits for electronic music instruments \n",
    "- [VCA-1][3] Thomas Henry CA3080 vca\n",
    "- [VCA-3][4] René Schmitz differential pair vca\n",
    "- [#223][5]: Basics of the Gilbert Cell | Analog Multiplier | Mixer | Modulator\n",
    "- [#224][6]: AM & DSB-SC Modulation with the Gilbert Cell\n",
    "- [Analog Devices][8]: Analog multiplier application guide \n",
    "- [AD633][9]: Datasheet \n",
    "\n",
    "\n",
    "\n",
    "\n",
    "[1]: https://static1.squarespace.com/static/5e6e99e8bd2f8a6de8454feb/t/5e77db16e8ff44374c24b124/1584913176675/MBD+BOM+and+build.pdf\n",
    "[2]: https://www.diystompboxes.com/smfforum/index.php?topic=118397.0\n",
    "[3]: https://www.diystompboxes.com/smfforum/index.php?topic=99779.0\n",
    "\n",
    "\n",
    "\n"
   ]
  }
 ],
 "metadata": {
  "kernelspec": {
   "display_name": "Python 3",
   "language": "python",
   "name": "python3"
  }
 },
 "nbformat": 4,
 "nbformat_minor": 4
}