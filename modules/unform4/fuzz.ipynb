{
 "cells": [
  {
   "cell_type": "code",
   "execution_count": null,
   "metadata": {
    "tags": []
   },
   "outputs": [],
   "source": [
    "# Just the normal prequisites for using matplotlib and numpy in a Jupyter notebook\n",
    "%matplotlib inline\n",
    "# Use the svg backend, in my opinion it just makes better looking plots\n",
    "%config InlineBackend.figure_format = 'svg'\n",
    "\n",
    "import PySpice.Logging.Logging as Logging\n",
    "logger = Logging.setup_logging( logging_level='FATAL')\n",
    "#logger = Logging.setup_logging( logging_level='DEBUG')\n",
    "\n",
    "import os\n",
    "import sys\n",
    "import IPython\n",
    "from scipy import signal\n",
    "import scipy.fftpack\n",
    "from PySpice.Unit import *\n",
    "from PySpice.Spice.Parser import SpiceParser\n",
    "from PySpice.Spice.Netlist import Circuit, SubCircuit, SubCircuitFactory\n",
    "from PySpice.Spice.Library import SpiceLibrary\n",
    "from PySpice.Probe.Plot import plot\n",
    "from PySpice.Plot.BodeDiagram import bode_diagram\n",
    "from PySpice.Doc.ExampleTools import find_libraries\n",
    "from PySpice.Math import *\n",
    "from pathlib import Path\n",
    "import matplotlib.pyplot as plt\n",
    "import matplotlib.image as mpimg\n",
    "import numpy as np\n",
    "import matplotlib.pyplot as plt\n",
    "import unittest\n",
    "\n",
    "#sys.path.append('../../lib/python')\n",
    "#import Spice2Wav.Spice2Wav as wav\n",
    "\n",
    "import PySpice.Logging.Logging as Logging\n",
    "logger = Logging.setup_logging()\n",
    "\n",
    "directory_path = Path(os.path.abspath('')).resolve().parent.parent\n",
    "spice_libraries_path = directory_path.joinpath(\"lib\", \"spice\")\n",
    "spice_library = SpiceLibrary(spice_libraries_path)\n",
    "\n",
    "directory_path = Path(os.path.abspath('')).resolve()\n"
   ]
  },
  {
   "cell_type": "code",
   "execution_count": null,
   "metadata": {},
   "outputs": [],
   "source": []
  },
  {
   "cell_type": "markdown",
   "metadata": {},
   "source": [
    "![module](https://img.shields.io/badge/module-shin%20ey-yellow) ![status](https://img.shields.io/badge/status-work%20in%20progress-orange)\n",
    "\n",
    "## *shin ey*\n",
    "\n",
    "<a href=\"https://photos.app.goo.gl/pg6iZUC32rTKX5LC7\"><img src=\"https://spielhuus.github.io/elektrophon/images/kontrast-logo-tmb.jpg\" height=\"300px\" align=\"right\"></a>\n",
    "\n",
    "***table of contents***\n",
    "\n",
    "* [*about*](#about)\n",
    "* [*construction*](#construction)\n",
    "* [*calibration*](#calibration)\n",
    "* [*usage*](#usage)\n",
    "* [*credits*](#credits)\n",
    "* [*links*](#links)\n",
    "* [*changelog*](#changelog)\n",
    "  \n",
    "<br/><br/><br/><br/>\n",
    "\n",
    "## *about*\n",
    "\n",
    "pegel is a voltage controlled amplifier (vca). there are various designs to implement a vca. rod elliott (ESP) has an article on vca techniques [[1][1]]. diy synthesizer modules are usualy designed with an integrated vca chip [[2][2]]  or with a differential amplifier [[3][3]]. the integrated vca chips are either obsolete or rather expensive. the differential amplifier can be built with transistors only. the design has some downsides. even in the simulation the result is not symetryc and has a dc offset from the control voltage. this needs a lot of trimming to get an accurate result. but the biggest downside is, that this design can not do proper amplitude modulation (am). when the carrier signal goes below zero the base signal is completely muted. "
   ]
  },
  {
   "source": [
    "### input mixer\n",
    "\n",
    "this  is  a pasive input mixer.\n"
   ],
   "cell_type": "markdown",
   "metadata": {}
  },
  {
   "cell_type": "code",
   "execution_count": null,
   "metadata": {},
   "outputs": [],
   "source": [
    "#load the input mixer schema\n",
    "kicad_netlist_path = directory_path.joinpath('main', 'main.cir')\n",
    "parser = SpiceParser(path=str(kicad_netlist_path))\n",
    "\n",
    "#simulate input\n",
    "schema = parser.build_circuit(ground=5)\n",
    "schema.include(spice_library['BC846B'])\n",
    "schema.include(spice_library['BC556B'])\n",
    "schema.include(spice_library['CD4069UBhex'])\n",
    "schema.include(spice_library['D1N4148'])\n",
    "schema.V('1', '+15V', schema.gnd, 'DC 15')\n",
    "schema.V('2', '-15V', schema.gnd, 'DC -15')\n",
    "schema.V('3', '+5V', schema.gnd, 'DC 5')\n",
    "#schema.V('4', 'INPUT', schema.gnd, 'DC 0V AC 2V PULSE(-5V +5V 0 1m 1m 0.0001m 2.0001m)')\n",
    "schema.V('4', 'INPUT', schema.gnd, 'DC 0V AC 2V PULSE(-5V +5V 0 0.00001m 0.5m 0.0001m 0.5002m)')\n",
    "\n",
    "class VoltageDivider1(SubCircuitFactory):\n",
    "    __name__ = 'voltage_divider_1'\n",
    "    __nodes__ = ('n1', 'n2', 'n3' )\n",
    "    def __init__(self, R=100@u_kΩ, w=0.4):\n",
    "        super().__init__()\n",
    "        self.R(1, 'n1', 'n2', R * w)\n",
    "        self.R(2, 'n2', 'n3', R * (1.0-w) )\n",
    "\n",
    "class VoltageDivider2(SubCircuitFactory):\n",
    "    __name__ = 'voltage_divider_2'\n",
    "    __nodes__ = ('n1', 'n2', 'n3' )\n",
    "    def __init__(self, R=100@u_kΩ, w=0.4):\n",
    "        super().__init__()\n",
    "        self.R(1, 'n1', 'n2', R * w)\n",
    "        self.R(2, 'n2', 'n3', R * (1.0-w) )\n",
    "\n",
    "for subcircuit in ( VoltageDivider1(R=500@u_kΩ, w=0.9), VoltageDivider2(R=500@u_kΩ, w=0.1) ):\n",
    "    schema.subcircuit(subcircuit)\n",
    "\n",
    "simulator = schema.simulator(temperature=25, nominal_temperature=25)\n",
    "analysis = simulator.transient(step_time=1@u_us, start_time=100@u_ms, end_time=102@u_ms)\n"
   ]
  },
  {
   "cell_type": "code",
   "execution_count": null,
   "metadata": {},
   "outputs": [],
   "source": [
    "#plot the results\n",
    "fig, axis = plt.subplots(figsize=(18, 6))\n",
    "\n",
    "#plot mixed signal\n",
    "axis.plot(analysis['INPUT'].abscissa*1000, analysis['INPUT'], c='grey') \n",
    "axis.plot(analysis['/BAND_PASS_200_900/IN'].abscissa*1000, analysis['/BAND_PASS_200_900/IN'], c='orange') \n",
    "axis.plot(analysis['Net-_C4-Pad2_'].abscissa*1000, analysis['Net-_C4-Pad2_'], c='red') \n",
    "\n",
    "axis.grid()\n",
    "axis.set_xlabel('t [ms]')\n",
    "axis.set_ylabel('[V]')\n",
    "axis.set_title('mixed imput saignal', y=-0.2)\n",
    "\n",
    "plt.show()"
   ]
  },
  {
   "cell_type": "code",
   "execution_count": null,
   "metadata": {},
   "outputs": [],
   "source": [
    "#load the input mixer schema\n",
    "#kicad_netlist_path = directory_path.joinpath('main', 'main.cir')\n",
    "#parser = SpiceParser(path=str(kicad_netlist_path))\n",
    "\n",
    "#simulate input\n",
    "#input_mixer = parser.build_circuit(ground=5)\n",
    "#input_mixer.include(spice_library['BC846B'])\n",
    "#input_mixer.V('1', '+15V', input_mixer.gnd, 'DC 15')\n",
    "#input_mixer.V('2', '-15V', input_mixer.gnd, 'DC -15')\n",
    "#input_mixer.V('3', 'INPUT', input_mixer.gnd, 'DC 0V AC 5V SIN(0 5V 1k)')\n",
    "\n",
    "#simulator = input_mixer.simulator(temperature=25, nominal_temperature=25)\n",
    "#analysis_input_mixer = simulator.transient(step_time=1@u_us, start_time=100@u_ms, end_time=110@u_ms)\n",
    "\n",
    "mixer_max = np.max(np.array(analysis['/BAND_PASS_200_900/IN']))\n",
    "mixer_min = np.min(np.array(analysis['/BAND_PASS_200_900/IN']))\n",
    "mixer_average = np.average(np.array(analysis['/BAND_PASS_200_900/IN']))\n",
    "\n",
    "print( 'Voltages: Max: %f, Min: %f, p2p: %f, Average: %f ' % (mixer_max, mixer_min, mixer_max-mixer_min, mixer_average))\n"
   ]
  },
  {
   "source": [
    "### filter sections\n"
   ],
   "cell_type": "markdown",
   "metadata": {}
  },
  {
   "cell_type": "code",
   "execution_count": null,
   "metadata": {},
   "outputs": [],
   "source": [
    "#load the diffpair schema\n",
    "#kicad_netlist_path = directory_path.joinpath('main', 'main.cir')\n",
    "#parser = SpiceParser(path=str(kicad_netlist_path))"
   ]
  },
  {
   "cell_type": "code",
   "execution_count": null,
   "metadata": {
    "tags": []
   },
   "outputs": [],
   "source": [
    "#simulate fuzz with a sine wave\n",
    "#lp = parser.build_circuit(ground=5)\n",
    "#lp.include(spice_library['BC846B'])\n",
    "#lp.include(spice_library['BC556B'])\n",
    "#lp.V('1', '+15V', lp.gnd, 'DC 15')\n",
    "#lp.V('3', 'INPUT', input_mixer.gnd, 'DC 0V AC 5V SIN(0 5V 500)')\n",
    "\n",
    "#simulator = lp.simulator(temperature=25, nominal_temperature=25)\n",
    "#analysis_lp = simulator.transient(step_time=1@u_us, start_time=10@u_ms, end_time=100@u_ms)\n"
   ]
  },
  {
   "cell_type": "code",
   "execution_count": null,
   "metadata": {},
   "outputs": [],
   "source": [
    "#plot the results\n",
    "fig, ax0 = plt.subplots(figsize=(18, 6))\n",
    "        \n",
    "ax0.plot(analysis['/FUZZ_1/IN'].abscissa*1000, analysis['/FUZZ_1/IN'], c='orange')  # differential output\n",
    "ax0.plot(analysis['/FUZZ_2/IN'].abscissa*1000, analysis['/FUZZ_2/IN'], c='LightBlue')  # differential output\n",
    "ax0.plot(analysis['/FUZZ_3/IN'].abscissa*1000, analysis['/FUZZ_3/IN'], c='pink')  # differential output\n",
    "ax0.plot(analysis['/FUZZ_4/IN'].abscissa*1000, analysis['/FUZZ_4/IN'], c='LightGreen')  # differential output\n",
    "\n",
    "ax0.grid()\n",
    "ax0.set_xlabel('t [ms]')\n",
    "ax0.set_ylabel('[V]')\n",
    "ax0.set_title('low pass filter [200Hz]', y=-0.2)\n",
    "\n",
    "plt.show()"
   ]
  },
  {
   "cell_type": "code",
   "execution_count": null,
   "metadata": {},
   "outputs": [],
   "source": [
    "analysis_ac = simulator.ac(start_frequency=10@u_Hz, stop_frequency=10@u_kHz, number_of_points=10,  variation='dec')"
   ]
  },
  {
   "cell_type": "code",
   "execution_count": null,
   "metadata": {},
   "outputs": [],
   "source": [
    "R1 = 15@u_kOhm\n",
    "R2 = 15@u_kOhm\n",
    "C1 = 220@u_nF \n",
    "C2 = 22@u_nF\n",
    "resonant_frequency_4 = 1 / (2 * math.pi * math.sqrt(R1 * R2 * C1 * C2 ))\n",
    "print( resonant_frequency_4 )"
   ]
  },
  {
   "cell_type": "code",
   "execution_count": null,
   "metadata": {},
   "outputs": [],
   "source": [
    "figure, axes = plt.subplots(2, figsize=(20, 10))\n",
    "plt.title(\"Bode Diagrams of RLC Filters\")\n",
    "#out = 'Net-_C1-Pad1_'\n",
    "bode_diagram(axes=axes,\n",
    "                 frequency=analysis_ac.frequency,\n",
    "                 gain=np.log10(np.absolute(analysis_ac['/FUZZ_1/IN'])),\n",
    "                 phase=np.angle(analysis_ac['/FUZZ_1/IN'], deg=False),\n",
    "                 marker='.',\n",
    "                 color='orange',\n",
    "                 linestyle='-',\n",
    "    )\n",
    "bode_diagram(axes=axes,\n",
    "                 frequency=analysis_ac.frequency,\n",
    "                 gain=np.log10(np.absolute(analysis_ac['/FUZZ_2/IN'])),\n",
    "                 phase=np.angle(analysis_ac['/FUZZ_2/IN'], deg=False),\n",
    "                 marker='.',\n",
    "                 color='LightBlue',\n",
    "                 linestyle='-',\n",
    "    )\n",
    "bode_diagram(axes=axes,\n",
    "                 frequency=analysis_ac.frequency,\n",
    "                 gain=np.log10(np.absolute(analysis_ac['/FUZZ_3/IN'])),\n",
    "                 phase=np.angle(analysis_ac['/FUZZ_3/IN'], deg=False),\n",
    "                 marker='.',\n",
    "                 color='pink',\n",
    "                 linestyle='-',\n",
    "    )\n",
    "bode_diagram(axes=axes,\n",
    "                 frequency=analysis_ac.frequency,\n",
    "                 gain=np.log10(np.absolute(analysis_ac['/FUZZ_4/IN'])),\n",
    "                 phase=np.angle(analysis_ac['/FUZZ_4/IN'], deg=False),\n",
    "                 marker='.',\n",
    "                 color='LightGreen',\n",
    "                 linestyle='-',\n",
    "    )\n",
    "for axe in axes:\n",
    "    axe.axvline(x=resonant_frequency_4, color='LightGreen', linestyle='--')\n"
   ]
  },
  {
   "cell_type": "code",
   "execution_count": null,
   "metadata": {},
   "outputs": [],
   "source": [
    "#plot the results\n",
    "fig, ax0 = plt.subplots(figsize=(18, 6))\n",
    "        \n",
    "ax0.plot(analysis['OUT_1'].abscissa*1000, analysis['OUT_1'], c='orange')  # differential output\n",
    "ax0.plot(analysis['OUT_2'].abscissa*1000, analysis['OUT_2'], c='LightBlue')  # differential output\n",
    "ax0.plot(analysis['OUT_3'].abscissa*1000, analysis['OUT_3'], c='pink')  # differential output\n",
    "ax0.plot(analysis['OUT_4'].abscissa*1000, analysis['OUT_4'], c='LightGreen')  # differential output\n",
    "\n",
    "ax0.grid()\n",
    "ax0.set_xlabel('t [ms]')\n",
    "ax0.set_ylabel('[V]')\n",
    "ax0.set_title('low pass filter [200Hz]', y=-0.2)\n",
    "\n",
    "plt.show()"
   ]
  },
  {
   "cell_type": "markdown",
   "metadata": {},
   "source": [
    "more promising is it to use a four quadrant multiplier, also known as gilbert cell. the gilbert cell is designed around two differential amplifiers. the carrier signal switches between those. the result is a multiplication of the input voltages. the gilbert cell is mostly used for amplitude modulation in radio transmission. if you look at the integratd circuits like the 633 it can modulate signals up in the gigahertz range. the gilbert cell is not described in all details here, there is a good introduction from w2aew [[4][4]].\n",
    "\n",
    "\n"
   ]
  },
  {
   "cell_type": "markdown",
   "metadata": {},
   "source": [
    "this is not real amplitude modulation. when the signal is negative the phase of the output is inverted. this can be adjusted by the bias voltage of the control voltage. the control voltage has to be positive at all time. \n"
   ]
  },
  {
   "cell_type": "markdown",
   "metadata": {},
   "source": [
    "## *construction*\n",
    "\n",
    "for the final circuit input and output buffering and biasing is needed. the buffering is done with opamps. \n"
   ]
  },
  {
   "source": [
    "first we design the input stage. the input voltage for the X signal should be 10mV and 20mV for the control voltage.\n"
   ],
   "cell_type": "markdown",
   "metadata": {}
  },
  {
   "cell_type": "markdown",
   "metadata": {},
   "source": [
    "## *references*\n",
    "\n",
    "- [VCA Techniques Investigated][1] Rod Elliott (ESP)\n",
    "- [Popular Electronics][2] Keyiing and VCA citcuits for electronic music instruments \n",
    "- [VCA-1][3] Thomas Henry CA3080 vca\n",
    "- [VCA-3][4] René Schmitz differential pair vca\n",
    "- [#223][5]: Basics of the Gilbert Cell | Analog Multiplier | Mixer | Modulator\n",
    "- [#224][6]: AM & DSB-SC Modulation with the Gilbert Cell\n",
    "- [Analog Devices][8]: Analog multiplier application guide \n",
    "- [AD633][9]: Datasheet \n",
    "\n",
    "\n",
    "\n",
    "\n",
    "[1]: https://static1.squarespace.com/static/5e6e99e8bd2f8a6de8454feb/t/5e77db16e8ff44374c24b124/1584913176675/MBD+BOM+and+build.pdf\n",
    "[2]: https://www.diystompboxes.com/smfforum/index.php?topic=118397.0\n",
    "[3]: https://www.diystompboxes.com/smfforum/index.php?topic=99779.0\n",
    "\n",
    "\n",
    "\n"
   ]
  }
 ],
 "metadata": {
  "kernelspec": {
   "display_name": "Python 3.8.2 64-bit",
   "language": "python",
   "name": "python38264bitf28cdd56da7a4a91a745d4dca728ac52"
  },
  "language_info": {
   "codemirror_mode": {
    "name": "ipython",
    "version": 3
   },
   "file_extension": ".py",
   "mimetype": "text/x-python",
   "name": "python",
   "nbconvert_exporter": "python",
   "pygments_lexer": "ipython3",
   "version": "3.8.5-final"
  }
 },
 "nbformat": 4,
 "nbformat_minor": 4
}