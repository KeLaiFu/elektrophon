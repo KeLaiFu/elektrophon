{
 "cells": [
  {
   "cell_type": "code",
   "execution_count": 1,
   "metadata": {
    "tags": []
   },
   "outputs": [
    {
     "output_type": "stream",
     "name": "stdout",
     "text": [
      "\u001b[1;32m2020-11-04 17:48:18,124\u001b[0m - \u001b[1;34mPySpice.Spice.Netlist.__new__\u001b[0m - \u001b[1;31mDEBUG\u001b[0m - Element don't define a __pins__ attribute\n",
      "\u001b[1;32m2020-11-04 17:48:18,126\u001b[0m - \u001b[1;34mPySpice.Spice.Netlist.__new__\u001b[0m - \u001b[1;31mDEBUG\u001b[0m - FixedPinElement don't define a __pins__ attribute\n",
      "\u001b[1;32m2020-11-04 17:48:18,128\u001b[0m - \u001b[1;34mPySpice.Spice.Netlist.__new__\u001b[0m - \u001b[1;31mDEBUG\u001b[0m - SubCircuitElement don't define a __pins__ attribute\n",
      "\u001b[1;32m2020-11-04 17:48:18,129\u001b[0m - \u001b[1;34mPySpice.Spice.Netlist.__new__\u001b[0m - \u001b[1;31mDEBUG\u001b[0m - Resistor don't define a __pins__ attribute\n",
      "\u001b[1;32m2020-11-04 17:48:18,131\u001b[0m - \u001b[1;34mPySpice.Spice.Netlist.__new__\u001b[0m - \u001b[1;31mDEBUG\u001b[0m - SemiconductorResistor don't define a __pins__ attribute\n",
      "\u001b[1;32m2020-11-04 17:48:18,142\u001b[0m - \u001b[1;34mPySpice.Spice.Netlist.__new__\u001b[0m - \u001b[1;31mDEBUG\u001b[0m - BehavioralResistor don't define a __pins__ attribute\n",
      "\u001b[1;32m2020-11-04 17:48:18,144\u001b[0m - \u001b[1;34mPySpice.Spice.Netlist.__new__\u001b[0m - \u001b[1;31mDEBUG\u001b[0m - Capacitor don't define a __pins__ attribute\n",
      "\u001b[1;32m2020-11-04 17:48:18,146\u001b[0m - \u001b[1;34mPySpice.Spice.Netlist.__new__\u001b[0m - \u001b[1;31mDEBUG\u001b[0m - SemiconductorCapacitor don't define a __pins__ attribute\n",
      "\u001b[1;32m2020-11-04 17:48:18,147\u001b[0m - \u001b[1;34mPySpice.Spice.Netlist.__new__\u001b[0m - \u001b[1;31mDEBUG\u001b[0m - BehavioralCapacitor don't define a __pins__ attribute\n",
      "\u001b[1;32m2020-11-04 17:48:18,148\u001b[0m - \u001b[1;34mPySpice.Spice.Netlist.__new__\u001b[0m - \u001b[1;31mDEBUG\u001b[0m - Inductor don't define a __pins__ attribute\n",
      "\u001b[1;32m2020-11-04 17:48:18,150\u001b[0m - \u001b[1;34mPySpice.Spice.Netlist.__new__\u001b[0m - \u001b[1;31mDEBUG\u001b[0m - BehavioralInductor don't define a __pins__ attribute\n",
      "\u001b[1;32m2020-11-04 17:48:18,151\u001b[0m - \u001b[1;34mPySpice.Spice.Netlist.__new__\u001b[0m - \u001b[1;31mDEBUG\u001b[0m - CoupledInductor don't define a __pins__ attribute\n",
      "\u001b[1;32m2020-11-04 17:48:18,154\u001b[0m - \u001b[1;34mPySpice.Spice.Netlist.__new__\u001b[0m - \u001b[1;31mDEBUG\u001b[0m - VoltageControlledSwitch don't define a __pins__ attribute\n",
      "\u001b[1;32m2020-11-04 17:48:18,157\u001b[0m - \u001b[1;34mPySpice.Spice.Netlist.__new__\u001b[0m - \u001b[1;31mDEBUG\u001b[0m - CurrentControlledSwitch don't define a __pins__ attribute\n",
      "\u001b[1;32m2020-11-04 17:48:18,160\u001b[0m - \u001b[1;34mPySpice.Spice.Netlist.__new__\u001b[0m - \u001b[1;31mDEBUG\u001b[0m - VoltageSource don't define a __pins__ attribute\n",
      "\u001b[1;32m2020-11-04 17:48:18,163\u001b[0m - \u001b[1;34mPySpice.Spice.Netlist.__new__\u001b[0m - \u001b[1;31mDEBUG\u001b[0m - CurrentSource don't define a __pins__ attribute\n",
      "\u001b[1;32m2020-11-04 17:48:18,165\u001b[0m - \u001b[1;34mPySpice.Spice.Netlist.__new__\u001b[0m - \u001b[1;31mDEBUG\u001b[0m - VoltageControlledCurrentSource don't define a __pins__ attribute\n",
      "\u001b[1;32m2020-11-04 17:48:18,168\u001b[0m - \u001b[1;34mPySpice.Spice.Netlist.__new__\u001b[0m - \u001b[1;31mDEBUG\u001b[0m - VoltageControlledVoltageSource don't define a __pins__ attribute\n",
      "\u001b[1;32m2020-11-04 17:48:18,172\u001b[0m - \u001b[1;34mPySpice.Spice.Netlist.__new__\u001b[0m - \u001b[1;31mDEBUG\u001b[0m - CurrentControlledCurrentSource don't define a __pins__ attribute\n",
      "\u001b[1;32m2020-11-04 17:48:18,174\u001b[0m - \u001b[1;34mPySpice.Spice.Netlist.__new__\u001b[0m - \u001b[1;31mDEBUG\u001b[0m - CurrentControlledVoltageSource don't define a __pins__ attribute\n",
      "\u001b[1;32m2020-11-04 17:48:18,178\u001b[0m - \u001b[1;34mPySpice.Spice.Netlist.__new__\u001b[0m - \u001b[1;31mDEBUG\u001b[0m - BehavioralSource don't define a __pins__ attribute\n",
      "\u001b[1;32m2020-11-04 17:48:18,182\u001b[0m - \u001b[1;34mPySpice.Spice.Netlist.__new__\u001b[0m - \u001b[1;31mDEBUG\u001b[0m - NonLinearVoltageSource don't define a __pins__ attribute\n",
      "\u001b[1;32m2020-11-04 17:48:18,185\u001b[0m - \u001b[1;34mPySpice.Spice.Netlist.__new__\u001b[0m - \u001b[1;31mDEBUG\u001b[0m - NonLinearCurrentSource don't define a __pins__ attribute\n",
      "\u001b[1;32m2020-11-04 17:48:18,187\u001b[0m - \u001b[1;34mPySpice.Spice.Netlist.__new__\u001b[0m - \u001b[1;31mDEBUG\u001b[0m - JunctionFieldEffectTransistor don't define a __pins__ attribute\n",
      "\u001b[1;32m2020-11-04 17:48:18,195\u001b[0m - \u001b[1;34mPySpice.Spice.Netlist.__new__\u001b[0m - \u001b[1;31mDEBUG\u001b[0m - Mesfet don't define a __pins__ attribute\n",
      "\u001b[1;32m2020-11-04 17:48:18,198\u001b[0m - \u001b[1;34mPySpice.Spice.Netlist.__new__\u001b[0m - \u001b[1;31mDEBUG\u001b[0m - LosslessTransmissionLine don't define a __pins__ attribute\n",
      "\u001b[1;32m2020-11-04 17:48:18,201\u001b[0m - \u001b[1;34mPySpice.Spice.Netlist.__new__\u001b[0m - \u001b[1;31mDEBUG\u001b[0m - LossyTransmission don't define a __pins__ attribute\n",
      "\u001b[1;32m2020-11-04 17:48:18,202\u001b[0m - \u001b[1;34mPySpice.Spice.Netlist.__new__\u001b[0m - \u001b[1;31mDEBUG\u001b[0m - CoupledMulticonductorLine don't define a __pins__ attribute\n",
      "\u001b[1;32m2020-11-04 17:48:18,207\u001b[0m - \u001b[1;34mPySpice.Spice.Netlist.__new__\u001b[0m - \u001b[1;31mDEBUG\u001b[0m - SingleLossyTransmissionLine don't define a __pins__ attribute\n",
      "\u001b[1;32m2020-11-04 17:48:18,209\u001b[0m - \u001b[1;34mPySpice.Spice.Netlist.__new__\u001b[0m - \u001b[1;31mDEBUG\u001b[0m - XSpiceElement don't define a __pins__ attribute\n",
      "\u001b[1;32m2020-11-04 17:48:18,212\u001b[0m - \u001b[1;34mPySpice.Spice.Netlist.__new__\u001b[0m - \u001b[1;31mDEBUG\u001b[0m - GSSElement don't define a __pins__ attribute\n",
      "\u001b[1;32m2020-11-04 17:48:18,217\u001b[0m - \u001b[1;34mPySpice.Spice.Netlist.__new__\u001b[0m - \u001b[1;31mDEBUG\u001b[0m - SinusoidalVoltageSource don't define a __pins__ attribute\n",
      "\u001b[1;32m2020-11-04 17:48:18,220\u001b[0m - \u001b[1;34mPySpice.Spice.Netlist.__new__\u001b[0m - \u001b[1;31mDEBUG\u001b[0m - SinusoidalCurrentSource don't define a __pins__ attribute\n",
      "\u001b[1;32m2020-11-04 17:48:18,223\u001b[0m - \u001b[1;34mPySpice.Spice.Netlist.__new__\u001b[0m - \u001b[1;31mDEBUG\u001b[0m - AcLine don't define a __pins__ attribute\n",
      "\u001b[1;32m2020-11-04 17:48:18,225\u001b[0m - \u001b[1;34mPySpice.Spice.Netlist.__new__\u001b[0m - \u001b[1;31mDEBUG\u001b[0m - PulseVoltageSource don't define a __pins__ attribute\n",
      "\u001b[1;32m2020-11-04 17:48:18,226\u001b[0m - \u001b[1;34mPySpice.Spice.Netlist.__new__\u001b[0m - \u001b[1;31mDEBUG\u001b[0m - PulseCurrentSource don't define a __pins__ attribute\n",
      "\u001b[1;32m2020-11-04 17:48:18,229\u001b[0m - \u001b[1;34mPySpice.Spice.Netlist.__new__\u001b[0m - \u001b[1;31mDEBUG\u001b[0m - ExponentialVoltageSource don't define a __pins__ attribute\n",
      "\u001b[1;32m2020-11-04 17:48:18,231\u001b[0m - \u001b[1;34mPySpice.Spice.Netlist.__new__\u001b[0m - \u001b[1;31mDEBUG\u001b[0m - ExponentialCurrentSource don't define a __pins__ attribute\n",
      "\u001b[1;32m2020-11-04 17:48:18,233\u001b[0m - \u001b[1;34mPySpice.Spice.Netlist.__new__\u001b[0m - \u001b[1;31mDEBUG\u001b[0m - PieceWiseLinearVoltageSource don't define a __pins__ attribute\n",
      "\u001b[1;32m2020-11-04 17:48:18,234\u001b[0m - \u001b[1;34mPySpice.Spice.Netlist.__new__\u001b[0m - \u001b[1;31mDEBUG\u001b[0m - PieceWiseLinearCurrentSource don't define a __pins__ attribute\n",
      "\u001b[1;32m2020-11-04 17:48:18,238\u001b[0m - \u001b[1;34mPySpice.Spice.Netlist.__new__\u001b[0m - \u001b[1;31mDEBUG\u001b[0m - SingleFrequencyFMVoltageSource don't define a __pins__ attribute\n",
      "\u001b[1;32m2020-11-04 17:48:18,243\u001b[0m - \u001b[1;34mPySpice.Spice.Netlist.__new__\u001b[0m - \u001b[1;31mDEBUG\u001b[0m - SingleFrequencyFMCurrentSource don't define a __pins__ attribute\n",
      "\u001b[1;32m2020-11-04 17:48:18,244\u001b[0m - \u001b[1;34mPySpice.Spice.Netlist.__new__\u001b[0m - \u001b[1;31mDEBUG\u001b[0m - AmplitudeModulatedVoltageSource don't define a __pins__ attribute\n",
      "\u001b[1;32m2020-11-04 17:48:18,248\u001b[0m - \u001b[1;34mPySpice.Spice.Netlist.__new__\u001b[0m - \u001b[1;31mDEBUG\u001b[0m - AmplitudeModulatedCurrentSource don't define a __pins__ attribute\n",
      "\u001b[1;32m2020-11-04 17:48:18,250\u001b[0m - \u001b[1;34mPySpice.Spice.Netlist.__new__\u001b[0m - \u001b[1;31mDEBUG\u001b[0m - RandomVoltageSource don't define a __pins__ attribute\n",
      "\u001b[1;32m2020-11-04 17:48:18,253\u001b[0m - \u001b[1;34mPySpice.Spice.Netlist.__new__\u001b[0m - \u001b[1;31mDEBUG\u001b[0m - RandomCurrentSource don't define a __pins__ attribute\n"
     ]
    }
   ],
   "source": [
    "# Just the normal prequisites for using matplotlib and numpy in a Jupyter notebook\n",
    "%matplotlib inline\n",
    "# Use the svg backend, in my opinion it just makes better looking plots\n",
    "%config InlineBackend.figure_format = 'svg'\n",
    "\n",
    "import PySpice.Logging.Logging as Logging\n",
    "logger = Logging.setup_logging( logging_level='DEBUG')\n",
    "\n",
    "import os\n",
    "import sys\n",
    "import IPython\n",
    "from scipy import signal\n",
    "import scipy.fftpack\n",
    "from PySpice.Unit import *\n",
    "from PySpice.Spice.Parser import SpiceParser\n",
    "from PySpice.Spice.Netlist import Circuit, SubCircuit, SubCircuitFactory\n",
    "from PySpice.Spice.Library import SpiceLibrary\n",
    "from PySpice.Probe.Plot import plot\n",
    "from PySpice.Doc.ExampleTools import find_libraries\n",
    "from PySpice.Math import *\n",
    "from pathlib import Path\n",
    "import matplotlib.pyplot as plt\n",
    "import matplotlib.image as mpimg\n",
    "import numpy as np\n",
    "import matplotlib.pyplot as plt\n",
    "import unittest\n",
    "\n",
    "sys.path.append('../../lib/python')\n",
    "import Spice2Wav.Spice2Wav as wav\n",
    "\n",
    "import PySpice.Logging.Logging as Logging\n",
    "logger = Logging.setup_logging()\n",
    "\n",
    "directory_path = Path(os.path.abspath('')).resolve().parent.parent\n",
    "spice_libraries_path = directory_path.joinpath(\"lib\", \"spice\")\n",
    "spice_library = SpiceLibrary(spice_libraries_path)\n",
    "\n",
    "directory_path = Path(os.path.abspath('')).resolve()\n"
   ]
  },
  {
   "cell_type": "code",
   "execution_count": null,
   "metadata": {},
   "outputs": [],
   "source": []
  },
  {
   "cell_type": "markdown",
   "metadata": {},
   "source": [
    "![module](https://img.shields.io/badge/module-shin%20ey-yellow) ![status](https://img.shields.io/badge/status-work%20in%20progress-orange)\n",
    "\n",
    "## *shin ey*\n",
    "\n",
    "<a href=\"https://photos.app.goo.gl/pg6iZUC32rTKX5LC7\"><img src=\"https://spielhuus.github.io/elektrophon/images/kontrast-logo-tmb.jpg\" height=\"300px\" align=\"right\"></a>\n",
    "\n",
    "***table of contents***\n",
    "\n",
    "* [*about*](#about)\n",
    "* [*construction*](#construction)\n",
    "* [*calibration*](#calibration)\n",
    "* [*usage*](#usage)\n",
    "* [*credits*](#credits)\n",
    "* [*links*](#links)\n",
    "* [*changelog*](#changelog)\n",
    "  \n",
    "<br/><br/><br/><br/>\n",
    "\n",
    "## *about*\n",
    "\n",
    "pegel is a voltage controlled amplifier (vca). there are various designs to implement a vca. rod elliott (ESP) has an article on vca techniques [[1][1]]. diy synthesizer modules are usualy designed with an integrated vca chip [[2][2]]  or with a differential amplifier [[3][3]]. the integrated vca chips are either obsolete or rather expensive. the differential amplifier can be built with transistors only. the design has some downsides. even in the simulation the result is not symetryc and has a dc offset from the control voltage. this needs a lot of trimming to get an accurate result. but the biggest downside is, that this design can not do proper amplitude modulation (am). when the carrier signal goes below zero the base signal is completely muted. "
   ]
  },
  {
   "cell_type": "code",
   "execution_count": 2,
   "metadata": {},
   "outputs": [],
   "source": [
    "#load the diffpair schema\n",
    "kicad_netlist_path = directory_path.joinpath('main', 'Low Pass 200.cir')\n",
    "parser = SpiceParser(path=str(kicad_netlist_path))"
   ]
  },
  {
   "cell_type": "code",
   "execution_count": 3,
   "metadata": {
    "tags": []
   },
   "outputs": [
    {
     "output_type": "stream",
     "name": "stdout",
     "text": [
      "\u001b[1;32m2020-11-04 17:48:18,402\u001b[0m - \u001b[1;34mPySpice.Spice.NgSpice.Shared.NgSpiceShared.new_instance\u001b[0m - \u001b[1;31mDEBUG\u001b[0m - New instance for id 0\n",
      "\u001b[1;32m2020-11-04 17:48:18,404\u001b[0m - \u001b[1;34mPySpice.Spice.NgSpice.Shared.NgSpiceShared._load_library\u001b[0m - \u001b[1;31mDEBUG\u001b[0m - Set locale LC_NUMERIC to C\n",
      "\u001b[1;32m2020-11-04 17:48:18,469\u001b[0m - \u001b[1;34mPySpice.Spice.NgSpice.Shared.NgSpiceShared._load_library\u001b[0m - \u001b[1;31mDEBUG\u001b[0m - Load library libngspice.so\n",
      "\u001b[1;32m2020-11-04 17:48:18,501\u001b[0m - \u001b[1;34mPySpice.Spice.NgSpice.Shared._send_char\u001b[0m - \u001b[1;31mDEBUG\u001b[0m - b'stderr Error: bad type for debug var'\n",
      "\u001b[1;32m2020-11-04 17:48:18,502\u001b[0m - \u001b[1;34mPySpice.Spice.NgSpice.Shared.NgSpiceShared._send_char\u001b[0m - \u001b[1;31mERROR\u001b[0m - Error: bad type for debug var\n",
      "\u001b[1;32m2020-11-04 17:48:18,503\u001b[0m - \u001b[1;34mPySpice.Spice.NgSpice.Shared._send_char\u001b[0m - \u001b[1;31mDEBUG\u001b[0m - b'stderr Warning: ngspice compiled without debug messages'\n",
      "\u001b[1;32m2020-11-04 17:48:18,506\u001b[0m - \u001b[1;34mPySpice.Spice.NgSpice.Shared.NgSpiceShared._send_char\u001b[0m - \u001b[1;31mWARNING\u001b[0m - Warning: ngspice compiled without debug messages\n",
      "\u001b[1;32m2020-11-04 17:48:18,513\u001b[0m - \u001b[1;34mPySpice.Spice.NgSpice.Shared._send_char\u001b[0m - \u001b[1;31mDEBUG\u001b[0m - b'stdout ******'\n",
      "\u001b[1;32m2020-11-04 17:48:18,515\u001b[0m - \u001b[1;34mPySpice.Spice.NgSpice.Shared._send_char\u001b[0m - \u001b[1;31mDEBUG\u001b[0m - b'stdout ** ngspice-31 shared library'\n",
      "\u001b[1;32m2020-11-04 17:48:18,518\u001b[0m - \u001b[1;34mPySpice.Spice.NgSpice.Shared._send_char\u001b[0m - \u001b[1;31mDEBUG\u001b[0m - b'stdout ** Creation Date: Sun Oct 27 09:07:06 UTC 2019'\n",
      "\u001b[1;32m2020-11-04 17:48:18,519\u001b[0m - \u001b[1;34mPySpice.Spice.NgSpice.Shared._send_char\u001b[0m - \u001b[1;31mDEBUG\u001b[0m - b'stdout ******'\n",
      "\u001b[1;32m2020-11-04 17:48:18,528\u001b[0m - \u001b[1;34mPySpice.Spice.NgSpice.Shared.NgSpiceShared.exec_command\u001b[0m - \u001b[1;31mDEBUG\u001b[0m - Execute command: version -f\n",
      "\u001b[1;32m2020-11-04 17:48:18,530\u001b[0m - \u001b[1;34mPySpice.Spice.NgSpice.Shared._send_char\u001b[0m - \u001b[1;31mDEBUG\u001b[0m - b'stdout ******'\n",
      "\u001b[1;32m2020-11-04 17:48:18,532\u001b[0m - \u001b[1;34mPySpice.Spice.NgSpice.Shared._send_char\u001b[0m - \u001b[1;31mDEBUG\u001b[0m - b'stdout ** ngspice-31 : Circuit level simulation program'\n",
      "\u001b[1;32m2020-11-04 17:48:18,534\u001b[0m - \u001b[1;34mPySpice.Spice.NgSpice.Shared._send_char\u001b[0m - \u001b[1;31mDEBUG\u001b[0m - b'stdout ** The U. C. Berkeley CAD Group'\n",
      "\u001b[1;32m2020-11-04 17:48:18,536\u001b[0m - \u001b[1;34mPySpice.Spice.NgSpice.Shared._send_char\u001b[0m - \u001b[1;31mDEBUG\u001b[0m - b'stdout ** Copyright 1985-1994, Regents of the University of California.'\n",
      "\u001b[1;32m2020-11-04 17:48:18,539\u001b[0m - \u001b[1;34mPySpice.Spice.NgSpice.Shared._send_char\u001b[0m - \u001b[1;31mDEBUG\u001b[0m - b'stdout ** Please get your ngspice manual from http://ngspice.sourceforge.net/docs.html'\n",
      "\u001b[1;32m2020-11-04 17:48:18,543\u001b[0m - \u001b[1;34mPySpice.Spice.NgSpice.Shared._send_char\u001b[0m - \u001b[1;31mDEBUG\u001b[0m - b'stdout ** Please file your bug-reports at http://ngspice.sourceforge.net/bugrep.html'\n",
      "\u001b[1;32m2020-11-04 17:48:18,551\u001b[0m - \u001b[1;34mPySpice.Spice.NgSpice.Shared._send_char\u001b[0m - \u001b[1;31mDEBUG\u001b[0m - b'stdout ** Creation Date: Sun Oct 27 09:07:06 UTC 2019'\n",
      "\u001b[1;32m2020-11-04 17:48:18,554\u001b[0m - \u001b[1;34mPySpice.Spice.NgSpice.Shared._send_char\u001b[0m - \u001b[1;31mDEBUG\u001b[0m - b'stdout **'\n",
      "\u001b[1;32m2020-11-04 17:48:18,560\u001b[0m - \u001b[1;34mPySpice.Spice.NgSpice.Shared._send_char\u001b[0m - \u001b[1;31mDEBUG\u001b[0m - b'stdout ** CIDER 1.b1 (CODECS simulator) included'\n",
      "\u001b[1;32m2020-11-04 17:48:18,562\u001b[0m - \u001b[1;34mPySpice.Spice.NgSpice.Shared._send_char\u001b[0m - \u001b[1;31mDEBUG\u001b[0m - b'stdout ** XSPICE extensions included'\n",
      "\u001b[1;32m2020-11-04 17:48:18,565\u001b[0m - \u001b[1;34mPySpice.Spice.NgSpice.Shared._send_char\u001b[0m - \u001b[1;31mDEBUG\u001b[0m - b\"stdout ** Relevant compilation options (refer to user's manual):\"\n",
      "\u001b[1;32m2020-11-04 17:48:18,567\u001b[0m - \u001b[1;34mPySpice.Spice.NgSpice.Shared._send_char\u001b[0m - \u001b[1;31mDEBUG\u001b[0m - b'stdout ** OpenMP multithreading for BSIM3, BSIM4 enabled'\n",
      "\u001b[1;32m2020-11-04 17:48:18,569\u001b[0m - \u001b[1;34mPySpice.Spice.NgSpice.Shared._send_char\u001b[0m - \u001b[1;31mDEBUG\u001b[0m - b'stdout ** X11 interface not compiled into ngspice'\n",
      "\u001b[1;32m2020-11-04 17:48:18,572\u001b[0m - \u001b[1;34mPySpice.Spice.NgSpice.Shared._send_char\u001b[0m - \u001b[1;31mDEBUG\u001b[0m - b'stdout **'\n",
      "\u001b[1;32m2020-11-04 17:48:18,574\u001b[0m - \u001b[1;34mPySpice.Spice.NgSpice.Shared._send_char\u001b[0m - \u001b[1;31mDEBUG\u001b[0m - b'stdout ******'\n",
      "\u001b[1;32m2020-11-04 17:48:18,580\u001b[0m - \u001b[1;34mPySpice.Spice.NgSpice.Shared.NgSpiceShared._get_version\u001b[0m - \u001b[1;31mDEBUG\u001b[0m - Ngspice version 31 with extensions: CIDER, XSPICE\n",
      "\u001b[1;32m2020-11-04 17:48:18,583\u001b[0m - \u001b[1;34mPySpice.Spice.NgSpice.Shared.NgSpiceShared.exec_command\u001b[0m - \u001b[1;31mDEBUG\u001b[0m - Execute command: set nomoremode\n"
     ]
    },
    {
     "output_type": "error",
     "ename": "AttributeError",
     "evalue": "'NgSpiceSharedCircuitSimulator' object has no attribute 'simulator'",
     "traceback": [
      "\u001b[0;31m---------------------------------------------------------------------------\u001b[0m",
      "\u001b[0;31mAttributeError\u001b[0m                            Traceback (most recent call last)",
      "\u001b[0;32m<ipython-input-3-103b32c22aa4>\u001b[0m in \u001b[0;36m<module>\u001b[0;34m\u001b[0m\n\u001b[1;32m      7\u001b[0m \u001b[0;34m\u001b[0m\u001b[0m\n\u001b[1;32m      8\u001b[0m \u001b[0msimulator\u001b[0m \u001b[0;34m=\u001b[0m \u001b[0mlp\u001b[0m\u001b[0;34m.\u001b[0m\u001b[0msimulator\u001b[0m\u001b[0;34m(\u001b[0m\u001b[0mtemperature\u001b[0m\u001b[0;34m=\u001b[0m\u001b[0;36m25\u001b[0m\u001b[0;34m,\u001b[0m \u001b[0mnominal_temperature\u001b[0m\u001b[0;34m=\u001b[0m\u001b[0;36m25\u001b[0m\u001b[0;34m)\u001b[0m\u001b[0;34m\u001b[0m\u001b[0;34m\u001b[0m\u001b[0m\n\u001b[0;32m----> 9\u001b[0;31m \u001b[0manalysis_lp\u001b[0m \u001b[0;34m=\u001b[0m \u001b[0msimulator\u001b[0m\u001b[0;34m.\u001b[0m\u001b[0msimulator\u001b[0m\u001b[0;34m.\u001b[0m\u001b[0mac\u001b[0m\u001b[0;34m(\u001b[0m\u001b[0mstart_frequency\u001b[0m\u001b[0;34m=\u001b[0m\u001b[0;36m10\u001b[0m\u001b[0;34m@\u001b[0m\u001b[0mu_Hz\u001b[0m\u001b[0;34m,\u001b[0m \u001b[0mstop_frequency\u001b[0m\u001b[0;34m=\u001b[0m\u001b[0;36m10\u001b[0m\u001b[0;34m@\u001b[0m\u001b[0mu_kHz\u001b[0m\u001b[0;34m,\u001b[0m \u001b[0mnumber_of_points\u001b[0m\u001b[0;34m=\u001b[0m\u001b[0;36m10\u001b[0m\u001b[0;34m,\u001b[0m  \u001b[0mvariation\u001b[0m\u001b[0;34m=\u001b[0m\u001b[0;34m'dec'\u001b[0m\u001b[0;34m)\u001b[0m\u001b[0;34m\u001b[0m\u001b[0;34m\u001b[0m\u001b[0m\n\u001b[0m",
      "\u001b[0;31mAttributeError\u001b[0m: 'NgSpiceSharedCircuitSimulator' object has no attribute 'simulator'"
     ]
    }
   ],
   "source": [
    "#simulate fuzz with a sine wave\n",
    "lp = parser.build_circuit(ground=5)\n",
    "lp.include(spice_library['BC547B'])\n",
    "lp.include(spice_library['BC556B'])\n",
    "lp.V('1', '+15V', lp.gnd, 'DC 15')\n",
    "lp.V('2', 'NC_01', lp.gnd, 'DC 0V AC 1.5V SIN(0 1.5V 1k)')\n",
    "\n",
    "simulator = lp.simulator(temperature=25, nominal_temperature=25)\n",
    "analysis_lp = simulator.ac(start_frequency=10@u_Hz, stop_frequency=10@u_kHz, number_of_points=10,  variation='dec')\n"
   ]
  },
  {
   "cell_type": "code",
   "execution_count": null,
   "metadata": {},
   "outputs": [],
   "source": [
    "#plot the results\n",
    "fig, (ax0, ax1, ax2) = plt.subplots(nrows=1, ncols=3, sharex=False, figsize=(18, 6))\n",
    "\n",
    "#plot the image\n",
    "#img_diffpair_path = directory_path.joinpath('diffpair', 'diffpair.png')\n",
    "#img_diffpair = mpimg.imread(str(img_diffpair_path))\n",
    "#im = ax0.imshow(img_diffpair)\n",
    "#ax0.axis('off')\n",
    "#ax0.set_title('long tailed pair differential amplifier', y=-0.2)\n",
    "        \n",
    "#plot with envelope\n",
    "#ax0.plot(analysis_lp['NC_01'].abscissa*1000, analysis_lp['NC_01'], c='grey')  # envelope input (scaled)\n",
    "ax0.plot(analysis_lp['OUT'].abscissa*1000, analysis_lp['OUT'], c='orange')  # differential output\n",
    "ax0.grid()\n",
    "ax0.set_xlabel('t [ms]')\n",
    "ax0.set_ylabel('[V]')\n",
    "ax0.set_title('Filter Sweep', y=-0.2)\n",
    "\n",
    "#plot with envelope\n",
    "#ax2.plot(analysis_fuzz_square['IN'].abscissa*1000, analysis_fuzz_square['IN'], c='grey')  # envelope input (scaled)\n",
    "#ax2.plot(analysis_fuzz_square['OUT'].abscissa*1000, analysis_fuzz_square['OUT'], c='orange')  # differential output\n",
    "#ax2.grid()\n",
    "#ax2.set_xlabel('t [ms]')\n",
    "#ax2.set_ylabel('[V]')\n",
    "#ax2.set_title('output with a cv envelope', y=-0.2)\n",
    "\n",
    "plt.show()"
   ]
  },
  {
   "cell_type": "code",
   "execution_count": null,
   "metadata": {},
   "outputs": [],
   "source": [
    "#simulate fuzz with a sine wave\n",
    "fuzz = parser.build_circuit(ground=5)\n",
    "fuzz.include(spice_library['BC547B'])\n",
    "fuzz.V('1', '+15V', fuzz.gnd, 'DC 15')\n",
    "fuzz.V('3', 'IN', fuzz.gnd, 'DC 0V AC 0V PULSE(-0.5V +0.5V 0 0 0 2m 4m)')\n",
    "\n",
    "class VoltageDivider(SubCircuitFactory):\n",
    "    __name__ = 'voltage_divider'\n",
    "    __nodes__ = ('n1', 'n2', 'n3' )\n",
    "    def __init__(self, R=100@u_kΩ, w=0.4):\n",
    "        super().__init__()\n",
    "        self.R(1, 'n1', 'n2', R * w)\n",
    "        self.R(2, 'n2', 'n3', R * (1.0-w) )\n",
    "\n",
    "fuzz.subcircuit(VoltageDivider(R=100@u_kΩ, w=0.5))\n",
    "\n",
    "simulator = fuzz.simulator(temperature=25, nominal_temperature=25)\n",
    "analysis_fuzz_square = simulator.transient(step_time=1@u_us, start_time=100@u_ms, end_time=110@u_ms)"
   ]
  },
  {
   "cell_type": "code",
   "execution_count": null,
   "metadata": {
    "tags": []
   },
   "outputs": [],
   "source": [
    "#plot the results\n",
    "fig, (ax0, ax1, ax2) = plt.subplots(nrows=1, ncols=3, sharex=False, figsize=(18, 6))\n",
    "\n",
    "#plot the image\n",
    "#img_diffpair_path = directory_path.joinpath('diffpair', 'diffpair.png')\n",
    "#img_diffpair = mpimg.imread(str(img_diffpair_path))\n",
    "#im = ax0.imshow(img_diffpair)\n",
    "#ax0.axis('off')\n",
    "#ax0.set_title('long tailed pair differential amplifier', y=-0.2)\n",
    "        \n",
    "#plot with envelope\n",
    "ax1.plot(analysis_fuzz_sine['IN'].abscissa*1000, analysis_fuzz_sine['IN'], c='grey')  # envelope input (scaled)\n",
    "ax1.plot(analysis_fuzz_sine['OUT'].abscissa*1000, analysis_fuzz_sine['OUT'], c='orange')  # differential output\n",
    "ax1.grid()\n",
    "ax1.set_xlabel('t [ms]')\n",
    "ax1.set_ylabel('[V]')\n",
    "ax1.set_title('output with a cv envelope', y=-0.2)\n",
    "\n",
    "#plot with envelope\n",
    "ax2.plot(analysis_fuzz_square['IN'].abscissa*1000, analysis_fuzz_square['IN'], c='grey')  # envelope input (scaled)\n",
    "ax2.plot(analysis_fuzz_square['OUT'].abscissa*1000, analysis_fuzz_square['OUT'], c='orange')  # differential output\n",
    "ax2.grid()\n",
    "ax2.set_xlabel('t [ms]')\n",
    "ax2.set_ylabel('[V]')\n",
    "ax2.set_title('output with a cv envelope', y=-0.2)\n",
    "\n",
    "plt.show()\n"
   ]
  },
  {
   "cell_type": "markdown",
   "metadata": {},
   "source": [
    "more promising is it to use a four quadrant multiplier, also known as gilbert cell. the gilbert cell is designed around two differential amplifiers. the carrier signal switches between those. the result is a multiplication of the input voltages. the gilbert cell is mostly used for amplitude modulation in radio transmission. if you look at the integratd circuits like the 633 it can modulate signals up in the gigahertz range. the gilbert cell is not described in all details here, there is a good introduction from w2aew [[4][4]].\n",
    "\n",
    "\n"
   ]
  },
  {
   "cell_type": "markdown",
   "metadata": {},
   "source": [
    "this is not real amplitude modulation. when the signal is negative the phase of the output is inverted. this can be adjusted by the bias voltage of the control voltage. the control voltage has to be positive at all time. \n"
   ]
  },
  {
   "cell_type": "markdown",
   "metadata": {},
   "source": [
    "## *construction*\n",
    "\n",
    "for the final circuit input and output buffering and biasing is needed. the buffering is done with opamps. \n"
   ]
  },
  {
   "source": [
    "first we design the input stage. the input voltage for the X signal should be 10mV and 20mV for the control voltage.\n"
   ],
   "cell_type": "markdown",
   "metadata": {}
  },
  {
   "cell_type": "markdown",
   "metadata": {},
   "source": [
    "## *references*\n",
    "\n",
    "- [VCA Techniques Investigated][1] Rod Elliott (ESP)\n",
    "- [Popular Electronics][2] Keyiing and VCA citcuits for electronic music instruments \n",
    "- [VCA-1][3] Thomas Henry CA3080 vca\n",
    "- [VCA-3][4] René Schmitz differential pair vca\n",
    "- [#223][5]: Basics of the Gilbert Cell | Analog Multiplier | Mixer | Modulator\n",
    "- [#224][6]: AM & DSB-SC Modulation with the Gilbert Cell\n",
    "- [Analog Devices][8]: Analog multiplier application guide \n",
    "- [AD633][9]: Datasheet \n",
    "\n",
    "\n",
    "\n",
    "\n",
    "[1]: https://static1.squarespace.com/static/5e6e99e8bd2f8a6de8454feb/t/5e77db16e8ff44374c24b124/1584913176675/MBD+BOM+and+build.pdf\n",
    "[2]: https://www.diystompboxes.com/smfforum/index.php?topic=118397.0\n",
    "[3]: https://www.diystompboxes.com/smfforum/index.php?topic=99779.0\n",
    "\n",
    "\n",
    "\n"
   ]
  }
 ],
 "metadata": {
  "kernelspec": {
   "display_name": "Python 3.8.2 64-bit",
   "language": "python",
   "name": "python38264bitf28cdd56da7a4a91a745d4dca728ac52"
  },
  "language_info": {
   "codemirror_mode": {
    "name": "ipython",
    "version": 3
   },
   "file_extension": ".py",
   "mimetype": "text/x-python",
   "name": "python",
   "nbconvert_exporter": "python",
   "pygments_lexer": "ipython3",
   "version": "3.8.5-final"
  }
 },
 "nbformat": 4,
 "nbformat_minor": 4
}