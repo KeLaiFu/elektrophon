{
 "cells": [
  {
   "cell_type": "code",
   "execution_count": 1,
   "metadata": {
    "tags": []
   },
   "outputs": [],
   "source": [
    "# Just the normal prequisites for using matplotlib and numpy in a Jupyter notebook\n",
    "%matplotlib inline\n",
    "# Use the svg backend, in my opinion it just makes better looking plots\n",
    "%config InlineBackend.figure_format = 'svg'\n",
    "\n",
    "import PySpice.Logging.Logging as Logging\n",
    "logger = Logging.setup_logging( logging_level='FATAL')\n",
    "\n",
    "import os\n",
    "import sys\n",
    "import IPython\n",
    "from scipy import signal\n",
    "import scipy.fftpack\n",
    "from PySpice.Unit import *\n",
    "from PySpice.Spice.Parser import SpiceParser\n",
    "from PySpice.Spice.Netlist import Circuit, SubCircuit, SubCircuitFactory\n",
    "from PySpice.Spice.Library import SpiceLibrary\n",
    "from PySpice.Probe.Plot import plot\n",
    "from PySpice.Plot.BodeDiagram import bode_diagram\n",
    "from PySpice.Doc.ExampleTools import find_libraries\n",
    "from PySpice.Math import *\n",
    "from pathlib import Path\n",
    "import matplotlib.pyplot as plt\n",
    "import matplotlib.image as mpimg\n",
    "import numpy as np\n",
    "import matplotlib.pyplot as plt\n",
    "import unittest\n",
    "\n",
    "import PySpice.Logging.Logging as Logging\n",
    "logger = Logging.setup_logging()\n",
    "\n",
    "directory_path = Path(os.path.abspath('')).resolve().parent.parent\n",
    "spice_libraries_path = directory_path.joinpath(\"lib\", \"spice\")\n",
    "spice_library = SpiceLibrary(spice_libraries_path)\n",
    "\n",
    "directory_path = Path(os.path.abspath('')).resolve()\n"
   ]
  },
  {
   "cell_type": "code",
   "execution_count": null,
   "metadata": {},
   "outputs": [],
   "source": []
  },
  {
   "cell_type": "markdown",
   "metadata": {},
   "source": [
    "![module](https://img.shields.io/badge/module-shin%20ey-yellow) ![status](https://img.shields.io/badge/status-work%20in%20progress-orange)\n",
    "\n",
    "## *shin ey*\n",
    "\n",
    "<a href=\"https://photos.app.goo.gl/pg6iZUC32rTKX5LC7\"><img src=\"https://spielhuus.github.io/elektrophon/images/kontrast-logo-tmb.jpg\" height=\"300px\" align=\"right\"></a>\n",
    "\n",
    "***table of contents***\n",
    "\n",
    "* [*about*](#about)\n",
    "* [*construction*](#construction)\n",
    "* [*calibration*](#calibration)\n",
    "* [*usage*](#usage)\n",
    "* [*credits*](#credits)\n",
    "* [*links*](#links)\n",
    "* [*changelog*](#changelog)\n",
    "  \n",
    "<br/><br/><br/><br/>\n",
    "\n",
    "## *about*\n",
    "\n",
    "pegel is a voltage controlled amplifier (vca). there are various designs to implement a vca. rod elliott (ESP) has an article on vca techniques [[1][1]]. diy synthesizer modules are usualy designed with an integrated vca chip [[2][2]]  or with a differential amplifier [[3][3]]. the integrated vca chips are either obsolete or rather expensive. the differential amplifier can be built with transistors only. the design has some downsides. even in the simulation the result is not symetryc and has a dc offset from the control voltage. this needs a lot of trimming to get an accurate result. but the biggest downside is, that this design can not do proper amplitude modulation (am). when the carrier signal goes below zero the base signal is completely muted. "
   ]
  },
  {
   "source": [
    "### input mixer\n",
    "\n",
    "this  is  a pasive input mixer.\n"
   ],
   "cell_type": "markdown",
   "metadata": {}
  },
  {
   "cell_type": "code",
   "execution_count": 2,
   "metadata": {},
   "outputs": [
    {
     "output_type": "execute_result",
     "data": {
      "text/plain": [
       "Eq(1/(2*pi*C*R), fc)"
      ],
      "text/latex": "$\\displaystyle \\frac{1}{2 \\pi C R} = fc$"
     },
     "metadata": {},
     "execution_count": 2
    }
   ],
   "source": [
    "from sympy import symbols, sqrt, exp, diff, integrate, pprint, simplify, Eq, preview, pi, solve\n",
    "\n",
    "from sympy import init_printing\n",
    "#init_printing(use_latex='mathml')\n",
    "\n",
    "R, C, fc = symbols('R,C,fc', real=True)\n",
    "lp_f = 1 / ( 2 * pi * R * C)\n",
    "Eq( lp_f, fc)\n"
   ]
  },
  {
   "cell_type": "code",
   "execution_count": 3,
   "metadata": {},
   "outputs": [
    {
     "output_type": "execute_result",
     "data": {
      "text/plain": [
       "Eq(fc, 1/(2*pi*sqrt(C1*C2*R1*R2)))"
      ],
      "text/latex": "$\\displaystyle fc = \\frac{1}{2 \\pi \\sqrt{C_{1} C_{2} R_{1} R_{2}}}$"
     },
     "metadata": {},
     "execution_count": 3
    }
   ],
   "source": [
    "R1, R2, C1, C2, fc = symbols('R1,R2,C1,C2,fc')\n",
    "lp_f = 1 / ( 2 * pi * sqrt(R1 * R2 * C1 * C2))\n",
    "\n",
    "Eq(fc, lp_f)\n"
   ]
  },
  {
   "cell_type": "code",
   "execution_count": 4,
   "metadata": {},
   "outputs": [
    {
     "output_type": "execute_result",
     "data": {
      "text/plain": [
       "Eq(fc, 194.091394014506)"
      ],
      "text/latex": "$\\displaystyle fc = 194.091394014506$"
     },
     "metadata": {},
     "execution_count": 4
    }
   ],
   "source": [
    "r1 = 10@u_kΩ\n",
    "r2 = 10@u_kΩ\n",
    "c1 = 0.082@u_uF\n",
    "c2 = 0.082@u_uF\n",
    "\n",
    "Eq(fc, lp_f.subs(R1, r1).subs(C1, c1).subs(R2, r2).subs(C2, c2).subs(pi,math.pi))\n"
   ]
  },
  {
   "cell_type": "code",
   "execution_count": 5,
   "metadata": {},
   "outputs": [
    {
     "output_type": "execute_result",
     "data": {
      "text/plain": [
       "Eq(fc, 5276.16691385164)"
      ],
      "text/latex": "$\\displaystyle fc = 5276.16691385164$"
     },
     "metadata": {},
     "execution_count": 5
    }
   ],
   "source": [
    "r1 = 4.7@u_kΩ\n",
    "r2 = 40@u_kΩ\n",
    "c1 = 2.2@u_nF\n",
    "c2 = 2.2@u_nF\n",
    "\n",
    "Eq(fc, lp_f.subs(R1, r1).subs(C1, c1).subs(R2, r2).subs(C2, c2).subs(pi,math.pi))"
   ]
  },
  {
   "source": [
    "## low pass filter\n"
   ],
   "cell_type": "markdown",
   "metadata": {}
  },
  {
   "cell_type": "code",
   "execution_count": 6,
   "metadata": {},
   "outputs": [],
   "source": [
    "#load the input mixer schema\n",
    "kicad_netlist_path = directory_path.joinpath('main', 'lp.cir')\n",
    "parser = SpiceParser(path=str(kicad_netlist_path))\n",
    "\n",
    "#simulate input\n",
    "schema = parser.build_circuit(ground=5)\n",
    "schema.include(spice_library['TL072'])\n",
    "schema.V('1', '+15V', schema.gnd, 'DC 15')\n",
    "schema.V('2', '-15V', schema.gnd, 'DC -15')\n",
    "#schema.V('3', 'NC_01', schema.gnd, 'DC 0V AC 5V SINE(0 5V 1k)')\n",
    "schema.V('3', 'NC_01', schema.gnd, 'DC 0V AC 5V PULSE(-5V 5V 1u 1u 1u 2m 4m)')\n",
    "\n",
    "simulator = schema.simulator(temperature=25, nominal_temperature=25)\n",
    "analysis_lp_ac = simulator.ac(start_frequency=10@u_Hz, stop_frequency=10@u_kHz, number_of_points=10,  variation='dec')\n",
    "analysis_lp_tr = simulator.transient(step_time=1@u_us, start_time=100@u_ms, end_time=120@u_ms)\n",
    "\n"
   ]
  },
  {
   "cell_type": "code",
   "execution_count": 7,
   "metadata": {},
   "outputs": [],
   "source": [
    "#load the input mixer schema\n",
    "kicad_netlist_path = directory_path.joinpath('main', 'hp.cir')\n",
    "parser = SpiceParser(path=str(kicad_netlist_path))\n",
    "\n",
    "#simulate input\n",
    "schema = parser.build_circuit(ground=5)\n",
    "schema.include(spice_library['TL072'])\n",
    "schema.V('1', '+15V', schema.gnd, 'DC 15')\n",
    "schema.V('2', '-15V', schema.gnd, 'DC -15')\n",
    "#schema.V('3', 'NC_01', schema.gnd, 'DC 0V AC 5V SINE(0 5V 1k)')\n",
    "schema.V('3', 'NC_01', schema.gnd, 'DC 0V AC 5V PULSE(-5V 5V 1u 1u 1u 2m 4m)')\n",
    "\n",
    "simulator = schema.simulator(temperature=25, nominal_temperature=25)\n",
    "analysis_hp_ac = simulator.ac(start_frequency=10@u_Hz, stop_frequency=10@u_kHz, number_of_points=10,  variation='dec')\n",
    "analysis_hp_tr = simulator.transient(step_time=1@u_us, start_time=100@u_ms, end_time=120@u_ms)"
   ]
  },
  {
   "cell_type": "code",
   "execution_count": 8,
   "metadata": {},
   "outputs": [],
   "source": [
    "#load the input mixer schema\n",
    "kicad_netlist_path = directory_path.joinpath('main', 'BandPass900-4000.cir')\n",
    "parser = SpiceParser(path=str(kicad_netlist_path))\n",
    "\n",
    "#simulate input\n",
    "schema = parser.build_circuit(ground=5)\n",
    "schema.include(spice_library['TL072'])\n",
    "schema.V('1', '+15V', schema.gnd, 'DC 15')\n",
    "schema.V('2', '-15V', schema.gnd, 'DC -15')\n",
    "schema.V('3', 'NC_01', schema.gnd, 'DC 0V AC 5V SINE(0 5V 1k)')\n",
    "\n",
    "simulator = schema.simulator(temperature=25, nominal_temperature=25)\n",
    "analysis_bp_900 = simulator.ac(start_frequency=10@u_Hz, stop_frequency=10@u_kHz, number_of_points=10,  variation='dec')\n"
   ]
  },
  {
   "cell_type": "code",
   "execution_count": 9,
   "metadata": {},
   "outputs": [],
   "source": [
    "#load the input mixer schema\n",
    "kicad_netlist_path = directory_path.joinpath('main', 'bp200-900.cir')\n",
    "parser = SpiceParser(path=str(kicad_netlist_path))\n",
    "\n",
    "#simulate input\n",
    "schema = parser.build_circuit(ground=5)\n",
    "schema.include(spice_library['TL072'])\n",
    "schema.V('1', '+15V', schema.gnd, 'DC 15')\n",
    "schema.V('2', '-15V', schema.gnd, 'DC -15')\n",
    "schema.V('3', 'NC_01', schema.gnd, 'DC 0V AC 5V SINE(0 5V 1k)')\n",
    "\n",
    "simulator = schema.simulator(temperature=25, nominal_temperature=25)\n",
    "analysis_bp_200 = simulator.ac(start_frequency=10@u_Hz, stop_frequency=10@u_kHz, number_of_points=10,  variation='dec')"
   ]
  },
  {
   "cell_type": "code",
   "execution_count": 12,
   "metadata": {},
   "outputs": [
    {
     "output_type": "display_data",
     "data": {
      "text/plain": "<Figure size 1296x432 with 1 Axes>",
      "image/svg+xml": "<?xml version=\"1.0\" encoding=\"utf-8\" standalone=\"no\"?>\n<!DOCTYPE svg PUBLIC \"-//W3C//DTD SVG 1.1//EN\"\n  \"http://www.w3.org/Graphics/SVG/1.1/DTD/svg11.dtd\">\n<!-- Created with matplotlib (https://matplotlib.org/) -->\n<svg height=\"402.287625pt\" version=\"1.1\" viewBox=\"0 0 1070.123438 402.287625\" width=\"1070.123438pt\" xmlns=\"http://www.w3.org/2000/svg\" xmlns:xlink=\"http://www.w3.org/1999/xlink\">\n <metadata>\n  <rdf:RDF xmlns:cc=\"http://creativecommons.org/ns#\" xmlns:dc=\"http://purl.org/dc/elements/1.1/\" xmlns:rdf=\"http://www.w3.org/1999/02/22-rdf-syntax-ns#\">\n   <cc:Work>\n    <dc:type rdf:resource=\"http://purl.org/dc/dcmitype/StillImage\"/>\n    <dc:date>2020-12-06T10:44:46.369258</dc:date>\n    <dc:format>image/svg+xml</dc:format>\n    <dc:creator>\n     <cc:Agent>\n      <dc:title>Matplotlib v3.3.0, https://matplotlib.org/</dc:title>\n     </cc:Agent>\n    </dc:creator>\n   </cc:Work>\n  </rdf:RDF>\n </metadata>\n <defs>\n  <style type=\"text/css\">*{stroke-linecap:butt;stroke-linejoin:round;}</style>\n </defs>\n <g id=\"figure_1\">\n  <g id=\"patch_1\">\n   <path d=\"M 0 402.287625 \nL 1070.123438 402.287625 \nL 1070.123438 0 \nL 0 0 \nz\n\" style=\"fill:none;\"/>\n  </g>\n  <g id=\"axes_1\">\n   <g id=\"patch_2\">\n    <path d=\"M 58.523438 333.36 \nL 1062.923438 333.36 \nL 1062.923438 7.2 \nL 58.523438 7.2 \nz\n\" style=\"fill:#ffffff;\"/>\n   </g>\n   <g id=\"matplotlib.axis_1\">\n    <g id=\"xtick_1\">\n     <g id=\"line2d_1\">\n      <path clip-path=\"url(#p3b329f9c10)\" d=\"M 104.144404 333.36 \nL 104.144404 7.2 \n\" style=\"fill:none;stroke:#b0b0b0;stroke-linecap:square;stroke-width:0.8;\"/>\n     </g>\n     <g id=\"line2d_2\">\n      <defs>\n       <path d=\"M 0 0 \nL 0 3.5 \n\" id=\"m3026726123\" style=\"stroke:#000000;stroke-width:0.8;\"/>\n      </defs>\n      <g>\n       <use style=\"stroke:#000000;stroke-width:0.8;\" x=\"104.144404\" xlink:href=\"#m3026726123\" y=\"333.36\"/>\n      </g>\n     </g>\n     <g id=\"text_1\">\n      <!-- 100.0 -->\n      <g transform=\"translate(89.830342 347.958438)scale(0.1 -0.1)\">\n       <defs>\n        <path d=\"M 12.40625 8.296875 \nL 28.515625 8.296875 \nL 28.515625 63.921875 \nL 10.984375 60.40625 \nL 10.984375 69.390625 \nL 28.421875 72.90625 \nL 38.28125 72.90625 \nL 38.28125 8.296875 \nL 54.390625 8.296875 \nL 54.390625 0 \nL 12.40625 0 \nz\n\" id=\"DejaVuSans-49\"/>\n        <path d=\"M 31.78125 66.40625 \nQ 24.171875 66.40625 20.328125 58.90625 \nQ 16.5 51.421875 16.5 36.375 \nQ 16.5 21.390625 20.328125 13.890625 \nQ 24.171875 6.390625 31.78125 6.390625 \nQ 39.453125 6.390625 43.28125 13.890625 \nQ 47.125 21.390625 47.125 36.375 \nQ 47.125 51.421875 43.28125 58.90625 \nQ 39.453125 66.40625 31.78125 66.40625 \nz\nM 31.78125 74.21875 \nQ 44.046875 74.21875 50.515625 64.515625 \nQ 56.984375 54.828125 56.984375 36.375 \nQ 56.984375 17.96875 50.515625 8.265625 \nQ 44.046875 -1.421875 31.78125 -1.421875 \nQ 19.53125 -1.421875 13.0625 8.265625 \nQ 6.59375 17.96875 6.59375 36.375 \nQ 6.59375 54.828125 13.0625 64.515625 \nQ 19.53125 74.21875 31.78125 74.21875 \nz\n\" id=\"DejaVuSans-48\"/>\n        <path d=\"M 10.6875 12.40625 \nL 21 12.40625 \nL 21 0 \nL 10.6875 0 \nz\n\" id=\"DejaVuSans-46\"/>\n       </defs>\n       <use xlink:href=\"#DejaVuSans-49\"/>\n       <use x=\"63.623047\" xlink:href=\"#DejaVuSans-48\"/>\n       <use x=\"127.246094\" xlink:href=\"#DejaVuSans-48\"/>\n       <use x=\"190.869141\" xlink:href=\"#DejaVuSans-46\"/>\n       <use x=\"222.65625\" xlink:href=\"#DejaVuSans-48\"/>\n      </g>\n     </g>\n    </g>\n    <g id=\"xtick_2\">\n     <g id=\"line2d_3\">\n      <path clip-path=\"url(#p3b329f9c10)\" d=\"M 218.284965 333.36 \nL 218.284965 7.2 \n\" style=\"fill:none;stroke:#b0b0b0;stroke-linecap:square;stroke-width:0.8;\"/>\n     </g>\n     <g id=\"line2d_4\">\n      <g>\n       <use style=\"stroke:#000000;stroke-width:0.8;\" x=\"218.284965\" xlink:href=\"#m3026726123\" y=\"333.36\"/>\n      </g>\n     </g>\n     <g id=\"text_2\">\n      <!-- 102.5 -->\n      <g transform=\"translate(203.970903 347.958438)scale(0.1 -0.1)\">\n       <defs>\n        <path d=\"M 19.1875 8.296875 \nL 53.609375 8.296875 \nL 53.609375 0 \nL 7.328125 0 \nL 7.328125 8.296875 \nQ 12.9375 14.109375 22.625 23.890625 \nQ 32.328125 33.6875 34.8125 36.53125 \nQ 39.546875 41.84375 41.421875 45.53125 \nQ 43.3125 49.21875 43.3125 52.78125 \nQ 43.3125 58.59375 39.234375 62.25 \nQ 35.15625 65.921875 28.609375 65.921875 \nQ 23.96875 65.921875 18.8125 64.3125 \nQ 13.671875 62.703125 7.8125 59.421875 \nL 7.8125 69.390625 \nQ 13.765625 71.78125 18.9375 73 \nQ 24.125 74.21875 28.421875 74.21875 \nQ 39.75 74.21875 46.484375 68.546875 \nQ 53.21875 62.890625 53.21875 53.421875 \nQ 53.21875 48.921875 51.53125 44.890625 \nQ 49.859375 40.875 45.40625 35.40625 \nQ 44.1875 33.984375 37.640625 27.21875 \nQ 31.109375 20.453125 19.1875 8.296875 \nz\n\" id=\"DejaVuSans-50\"/>\n        <path d=\"M 10.796875 72.90625 \nL 49.515625 72.90625 \nL 49.515625 64.59375 \nL 19.828125 64.59375 \nL 19.828125 46.734375 \nQ 21.96875 47.46875 24.109375 47.828125 \nQ 26.265625 48.1875 28.421875 48.1875 \nQ 40.625 48.1875 47.75 41.5 \nQ 54.890625 34.8125 54.890625 23.390625 \nQ 54.890625 11.625 47.5625 5.09375 \nQ 40.234375 -1.421875 26.90625 -1.421875 \nQ 22.3125 -1.421875 17.546875 -0.640625 \nQ 12.796875 0.140625 7.71875 1.703125 \nL 7.71875 11.625 \nQ 12.109375 9.234375 16.796875 8.0625 \nQ 21.484375 6.890625 26.703125 6.890625 \nQ 35.15625 6.890625 40.078125 11.328125 \nQ 45.015625 15.765625 45.015625 23.390625 \nQ 45.015625 31 40.078125 35.4375 \nQ 35.15625 39.890625 26.703125 39.890625 \nQ 22.75 39.890625 18.8125 39.015625 \nQ 14.890625 38.140625 10.796875 36.28125 \nz\n\" id=\"DejaVuSans-53\"/>\n       </defs>\n       <use xlink:href=\"#DejaVuSans-49\"/>\n       <use x=\"63.623047\" xlink:href=\"#DejaVuSans-48\"/>\n       <use x=\"127.246094\" xlink:href=\"#DejaVuSans-50\"/>\n       <use x=\"190.869141\" xlink:href=\"#DejaVuSans-46\"/>\n       <use x=\"222.65625\" xlink:href=\"#DejaVuSans-53\"/>\n      </g>\n     </g>\n    </g>\n    <g id=\"xtick_3\">\n     <g id=\"line2d_5\">\n      <path clip-path=\"url(#p3b329f9c10)\" d=\"M 332.425526 333.36 \nL 332.425526 7.2 \n\" style=\"fill:none;stroke:#b0b0b0;stroke-linecap:square;stroke-width:0.8;\"/>\n     </g>\n     <g id=\"line2d_6\">\n      <g>\n       <use style=\"stroke:#000000;stroke-width:0.8;\" x=\"332.425526\" xlink:href=\"#m3026726123\" y=\"333.36\"/>\n      </g>\n     </g>\n     <g id=\"text_3\">\n      <!-- 105.0 -->\n      <g transform=\"translate(318.111464 347.958438)scale(0.1 -0.1)\">\n       <use xlink:href=\"#DejaVuSans-49\"/>\n       <use x=\"63.623047\" xlink:href=\"#DejaVuSans-48\"/>\n       <use x=\"127.246094\" xlink:href=\"#DejaVuSans-53\"/>\n       <use x=\"190.869141\" xlink:href=\"#DejaVuSans-46\"/>\n       <use x=\"222.65625\" xlink:href=\"#DejaVuSans-48\"/>\n      </g>\n     </g>\n    </g>\n    <g id=\"xtick_4\">\n     <g id=\"line2d_7\">\n      <path clip-path=\"url(#p3b329f9c10)\" d=\"M 446.566087 333.36 \nL 446.566087 7.2 \n\" style=\"fill:none;stroke:#b0b0b0;stroke-linecap:square;stroke-width:0.8;\"/>\n     </g>\n     <g id=\"line2d_8\">\n      <g>\n       <use style=\"stroke:#000000;stroke-width:0.8;\" x=\"446.566087\" xlink:href=\"#m3026726123\" y=\"333.36\"/>\n      </g>\n     </g>\n     <g id=\"text_4\">\n      <!-- 107.5 -->\n      <g transform=\"translate(432.252025 347.958438)scale(0.1 -0.1)\">\n       <defs>\n        <path d=\"M 8.203125 72.90625 \nL 55.078125 72.90625 \nL 55.078125 68.703125 \nL 28.609375 0 \nL 18.3125 0 \nL 43.21875 64.59375 \nL 8.203125 64.59375 \nz\n\" id=\"DejaVuSans-55\"/>\n       </defs>\n       <use xlink:href=\"#DejaVuSans-49\"/>\n       <use x=\"63.623047\" xlink:href=\"#DejaVuSans-48\"/>\n       <use x=\"127.246094\" xlink:href=\"#DejaVuSans-55\"/>\n       <use x=\"190.869141\" xlink:href=\"#DejaVuSans-46\"/>\n       <use x=\"222.65625\" xlink:href=\"#DejaVuSans-53\"/>\n      </g>\n     </g>\n    </g>\n    <g id=\"xtick_5\">\n     <g id=\"line2d_9\">\n      <path clip-path=\"url(#p3b329f9c10)\" d=\"M 560.706648 333.36 \nL 560.706648 7.2 \n\" style=\"fill:none;stroke:#b0b0b0;stroke-linecap:square;stroke-width:0.8;\"/>\n     </g>\n     <g id=\"line2d_10\">\n      <g>\n       <use style=\"stroke:#000000;stroke-width:0.8;\" x=\"560.706648\" xlink:href=\"#m3026726123\" y=\"333.36\"/>\n      </g>\n     </g>\n     <g id=\"text_5\">\n      <!-- 110.0 -->\n      <g transform=\"translate(546.392586 347.958438)scale(0.1 -0.1)\">\n       <use xlink:href=\"#DejaVuSans-49\"/>\n       <use x=\"63.623047\" xlink:href=\"#DejaVuSans-49\"/>\n       <use x=\"127.246094\" xlink:href=\"#DejaVuSans-48\"/>\n       <use x=\"190.869141\" xlink:href=\"#DejaVuSans-46\"/>\n       <use x=\"222.65625\" xlink:href=\"#DejaVuSans-48\"/>\n      </g>\n     </g>\n    </g>\n    <g id=\"xtick_6\">\n     <g id=\"line2d_11\">\n      <path clip-path=\"url(#p3b329f9c10)\" d=\"M 674.847209 333.36 \nL 674.847209 7.2 \n\" style=\"fill:none;stroke:#b0b0b0;stroke-linecap:square;stroke-width:0.8;\"/>\n     </g>\n     <g id=\"line2d_12\">\n      <g>\n       <use style=\"stroke:#000000;stroke-width:0.8;\" x=\"674.847209\" xlink:href=\"#m3026726123\" y=\"333.36\"/>\n      </g>\n     </g>\n     <g id=\"text_6\">\n      <!-- 112.5 -->\n      <g transform=\"translate(660.533147 347.958438)scale(0.1 -0.1)\">\n       <use xlink:href=\"#DejaVuSans-49\"/>\n       <use x=\"63.623047\" xlink:href=\"#DejaVuSans-49\"/>\n       <use x=\"127.246094\" xlink:href=\"#DejaVuSans-50\"/>\n       <use x=\"190.869141\" xlink:href=\"#DejaVuSans-46\"/>\n       <use x=\"222.65625\" xlink:href=\"#DejaVuSans-53\"/>\n      </g>\n     </g>\n    </g>\n    <g id=\"xtick_7\">\n     <g id=\"line2d_13\">\n      <path clip-path=\"url(#p3b329f9c10)\" d=\"M 788.98777 333.36 \nL 788.98777 7.2 \n\" style=\"fill:none;stroke:#b0b0b0;stroke-linecap:square;stroke-width:0.8;\"/>\n     </g>\n     <g id=\"line2d_14\">\n      <g>\n       <use style=\"stroke:#000000;stroke-width:0.8;\" x=\"788.98777\" xlink:href=\"#m3026726123\" y=\"333.36\"/>\n      </g>\n     </g>\n     <g id=\"text_7\">\n      <!-- 115.0 -->\n      <g transform=\"translate(774.673708 347.958438)scale(0.1 -0.1)\">\n       <use xlink:href=\"#DejaVuSans-49\"/>\n       <use x=\"63.623047\" xlink:href=\"#DejaVuSans-49\"/>\n       <use x=\"127.246094\" xlink:href=\"#DejaVuSans-53\"/>\n       <use x=\"190.869141\" xlink:href=\"#DejaVuSans-46\"/>\n       <use x=\"222.65625\" xlink:href=\"#DejaVuSans-48\"/>\n      </g>\n     </g>\n    </g>\n    <g id=\"xtick_8\">\n     <g id=\"line2d_15\">\n      <path clip-path=\"url(#p3b329f9c10)\" d=\"M 903.128331 333.36 \nL 903.128331 7.2 \n\" style=\"fill:none;stroke:#b0b0b0;stroke-linecap:square;stroke-width:0.8;\"/>\n     </g>\n     <g id=\"line2d_16\">\n      <g>\n       <use style=\"stroke:#000000;stroke-width:0.8;\" x=\"903.128331\" xlink:href=\"#m3026726123\" y=\"333.36\"/>\n      </g>\n     </g>\n     <g id=\"text_8\">\n      <!-- 117.5 -->\n      <g transform=\"translate(888.814269 347.958438)scale(0.1 -0.1)\">\n       <use xlink:href=\"#DejaVuSans-49\"/>\n       <use x=\"63.623047\" xlink:href=\"#DejaVuSans-49\"/>\n       <use x=\"127.246094\" xlink:href=\"#DejaVuSans-55\"/>\n       <use x=\"190.869141\" xlink:href=\"#DejaVuSans-46\"/>\n       <use x=\"222.65625\" xlink:href=\"#DejaVuSans-53\"/>\n      </g>\n     </g>\n    </g>\n    <g id=\"xtick_9\">\n     <g id=\"line2d_17\">\n      <path clip-path=\"url(#p3b329f9c10)\" d=\"M 1017.268892 333.36 \nL 1017.268892 7.2 \n\" style=\"fill:none;stroke:#b0b0b0;stroke-linecap:square;stroke-width:0.8;\"/>\n     </g>\n     <g id=\"line2d_18\">\n      <g>\n       <use style=\"stroke:#000000;stroke-width:0.8;\" x=\"1017.268892\" xlink:href=\"#m3026726123\" y=\"333.36\"/>\n      </g>\n     </g>\n     <g id=\"text_9\">\n      <!-- 120.0 -->\n      <g transform=\"translate(1002.95483 347.958438)scale(0.1 -0.1)\">\n       <use xlink:href=\"#DejaVuSans-49\"/>\n       <use x=\"63.623047\" xlink:href=\"#DejaVuSans-50\"/>\n       <use x=\"127.246094\" xlink:href=\"#DejaVuSans-48\"/>\n       <use x=\"190.869141\" xlink:href=\"#DejaVuSans-46\"/>\n       <use x=\"222.65625\" xlink:href=\"#DejaVuSans-48\"/>\n      </g>\n     </g>\n    </g>\n    <g id=\"text_10\">\n     <!-- t [ms] -->\n     <g transform=\"translate(545.797656 361.636562)scale(0.1 -0.1)\">\n      <defs>\n       <path d=\"M 18.3125 70.21875 \nL 18.3125 54.6875 \nL 36.8125 54.6875 \nL 36.8125 47.703125 \nL 18.3125 47.703125 \nL 18.3125 18.015625 \nQ 18.3125 11.328125 20.140625 9.421875 \nQ 21.96875 7.515625 27.59375 7.515625 \nL 36.8125 7.515625 \nL 36.8125 0 \nL 27.59375 0 \nQ 17.1875 0 13.234375 3.875 \nQ 9.28125 7.765625 9.28125 18.015625 \nL 9.28125 47.703125 \nL 2.6875 47.703125 \nL 2.6875 54.6875 \nL 9.28125 54.6875 \nL 9.28125 70.21875 \nz\n\" id=\"DejaVuSans-116\"/>\n       <path id=\"DejaVuSans-32\"/>\n       <path d=\"M 8.59375 75.984375 \nL 29.296875 75.984375 \nL 29.296875 69 \nL 17.578125 69 \nL 17.578125 -6.203125 \nL 29.296875 -6.203125 \nL 29.296875 -13.1875 \nL 8.59375 -13.1875 \nz\n\" id=\"DejaVuSans-91\"/>\n       <path d=\"M 52 44.1875 \nQ 55.375 50.25 60.0625 53.125 \nQ 64.75 56 71.09375 56 \nQ 79.640625 56 84.28125 50.015625 \nQ 88.921875 44.046875 88.921875 33.015625 \nL 88.921875 0 \nL 79.890625 0 \nL 79.890625 32.71875 \nQ 79.890625 40.578125 77.09375 44.375 \nQ 74.3125 48.1875 68.609375 48.1875 \nQ 61.625 48.1875 57.5625 43.546875 \nQ 53.515625 38.921875 53.515625 30.90625 \nL 53.515625 0 \nL 44.484375 0 \nL 44.484375 32.71875 \nQ 44.484375 40.625 41.703125 44.40625 \nQ 38.921875 48.1875 33.109375 48.1875 \nQ 26.21875 48.1875 22.15625 43.53125 \nQ 18.109375 38.875 18.109375 30.90625 \nL 18.109375 0 \nL 9.078125 0 \nL 9.078125 54.6875 \nL 18.109375 54.6875 \nL 18.109375 46.1875 \nQ 21.1875 51.21875 25.484375 53.609375 \nQ 29.78125 56 35.6875 56 \nQ 41.65625 56 45.828125 52.96875 \nQ 50 49.953125 52 44.1875 \nz\n\" id=\"DejaVuSans-109\"/>\n       <path d=\"M 44.28125 53.078125 \nL 44.28125 44.578125 \nQ 40.484375 46.53125 36.375 47.5 \nQ 32.28125 48.484375 27.875 48.484375 \nQ 21.1875 48.484375 17.84375 46.4375 \nQ 14.5 44.390625 14.5 40.28125 \nQ 14.5 37.15625 16.890625 35.375 \nQ 19.28125 33.59375 26.515625 31.984375 \nL 29.59375 31.296875 \nQ 39.15625 29.25 43.1875 25.515625 \nQ 47.21875 21.78125 47.21875 15.09375 \nQ 47.21875 7.46875 41.1875 3.015625 \nQ 35.15625 -1.421875 24.609375 -1.421875 \nQ 20.21875 -1.421875 15.453125 -0.5625 \nQ 10.6875 0.296875 5.421875 2 \nL 5.421875 11.28125 \nQ 10.40625 8.6875 15.234375 7.390625 \nQ 20.0625 6.109375 24.8125 6.109375 \nQ 31.15625 6.109375 34.5625 8.28125 \nQ 37.984375 10.453125 37.984375 14.40625 \nQ 37.984375 18.0625 35.515625 20.015625 \nQ 33.0625 21.96875 24.703125 23.78125 \nL 21.578125 24.515625 \nQ 13.234375 26.265625 9.515625 29.90625 \nQ 5.8125 33.546875 5.8125 39.890625 \nQ 5.8125 47.609375 11.28125 51.796875 \nQ 16.75 56 26.8125 56 \nQ 31.78125 56 36.171875 55.265625 \nQ 40.578125 54.546875 44.28125 53.078125 \nz\n\" id=\"DejaVuSans-115\"/>\n       <path d=\"M 30.421875 75.984375 \nL 30.421875 -13.1875 \nL 9.71875 -13.1875 \nL 9.71875 -6.203125 \nL 21.390625 -6.203125 \nL 21.390625 69 \nL 9.71875 69 \nL 9.71875 75.984375 \nz\n\" id=\"DejaVuSans-93\"/>\n      </defs>\n      <use xlink:href=\"#DejaVuSans-116\"/>\n      <use x=\"39.208984\" xlink:href=\"#DejaVuSans-32\"/>\n      <use x=\"70.996094\" xlink:href=\"#DejaVuSans-91\"/>\n      <use x=\"110.009766\" xlink:href=\"#DejaVuSans-109\"/>\n      <use x=\"207.421875\" xlink:href=\"#DejaVuSans-115\"/>\n      <use x=\"259.521484\" xlink:href=\"#DejaVuSans-93\"/>\n     </g>\n    </g>\n   </g>\n   <g id=\"matplotlib.axis_2\">\n    <g id=\"ytick_1\">\n     <g id=\"line2d_19\">\n      <path clip-path=\"url(#p3b329f9c10)\" d=\"M 58.523438 320.630401 \nL 1062.923438 320.630401 \n\" style=\"fill:none;stroke:#b0b0b0;stroke-linecap:square;stroke-width:0.8;\"/>\n     </g>\n     <g id=\"line2d_20\">\n      <defs>\n       <path d=\"M 0 0 \nL -3.5 0 \n\" id=\"mc4aa5dbd0b\" style=\"stroke:#000000;stroke-width:0.8;\"/>\n      </defs>\n      <g>\n       <use style=\"stroke:#000000;stroke-width:0.8;\" x=\"58.523438\" xlink:href=\"#mc4aa5dbd0b\" y=\"320.630401\"/>\n      </g>\n     </g>\n     <g id=\"text_11\">\n      <!-- −10.0 -->\n      <g transform=\"translate(20.878125 324.42962)scale(0.1 -0.1)\">\n       <defs>\n        <path d=\"M 10.59375 35.5 \nL 73.1875 35.5 \nL 73.1875 27.203125 \nL 10.59375 27.203125 \nz\n\" id=\"DejaVuSans-8722\"/>\n       </defs>\n       <use xlink:href=\"#DejaVuSans-8722\"/>\n       <use x=\"83.789062\" xlink:href=\"#DejaVuSans-49\"/>\n       <use x=\"147.412109\" xlink:href=\"#DejaVuSans-48\"/>\n       <use x=\"211.035156\" xlink:href=\"#DejaVuSans-46\"/>\n       <use x=\"242.822266\" xlink:href=\"#DejaVuSans-48\"/>\n      </g>\n     </g>\n    </g>\n    <g id=\"ytick_2\">\n     <g id=\"line2d_21\">\n      <path clip-path=\"url(#p3b329f9c10)\" d=\"M 58.523438 283.029394 \nL 1062.923438 283.029394 \n\" style=\"fill:none;stroke:#b0b0b0;stroke-linecap:square;stroke-width:0.8;\"/>\n     </g>\n     <g id=\"line2d_22\">\n      <g>\n       <use style=\"stroke:#000000;stroke-width:0.8;\" x=\"58.523438\" xlink:href=\"#mc4aa5dbd0b\" y=\"283.029394\"/>\n      </g>\n     </g>\n     <g id=\"text_12\">\n      <!-- −7.5 -->\n      <g transform=\"translate(27.240625 286.828613)scale(0.1 -0.1)\">\n       <use xlink:href=\"#DejaVuSans-8722\"/>\n       <use x=\"83.789062\" xlink:href=\"#DejaVuSans-55\"/>\n       <use x=\"147.412109\" xlink:href=\"#DejaVuSans-46\"/>\n       <use x=\"179.199219\" xlink:href=\"#DejaVuSans-53\"/>\n      </g>\n     </g>\n    </g>\n    <g id=\"ytick_3\">\n     <g id=\"line2d_23\">\n      <path clip-path=\"url(#p3b329f9c10)\" d=\"M 58.523438 245.428386 \nL 1062.923438 245.428386 \n\" style=\"fill:none;stroke:#b0b0b0;stroke-linecap:square;stroke-width:0.8;\"/>\n     </g>\n     <g id=\"line2d_24\">\n      <g>\n       <use style=\"stroke:#000000;stroke-width:0.8;\" x=\"58.523438\" xlink:href=\"#mc4aa5dbd0b\" y=\"245.428386\"/>\n      </g>\n     </g>\n     <g id=\"text_13\">\n      <!-- −5.0 -->\n      <g transform=\"translate(27.240625 249.227605)scale(0.1 -0.1)\">\n       <use xlink:href=\"#DejaVuSans-8722\"/>\n       <use x=\"83.789062\" xlink:href=\"#DejaVuSans-53\"/>\n       <use x=\"147.412109\" xlink:href=\"#DejaVuSans-46\"/>\n       <use x=\"179.199219\" xlink:href=\"#DejaVuSans-48\"/>\n      </g>\n     </g>\n    </g>\n    <g id=\"ytick_4\">\n     <g id=\"line2d_25\">\n      <path clip-path=\"url(#p3b329f9c10)\" d=\"M 58.523438 207.827379 \nL 1062.923438 207.827379 \n\" style=\"fill:none;stroke:#b0b0b0;stroke-linecap:square;stroke-width:0.8;\"/>\n     </g>\n     <g id=\"line2d_26\">\n      <g>\n       <use style=\"stroke:#000000;stroke-width:0.8;\" x=\"58.523438\" xlink:href=\"#mc4aa5dbd0b\" y=\"207.827379\"/>\n      </g>\n     </g>\n     <g id=\"text_14\">\n      <!-- −2.5 -->\n      <g transform=\"translate(27.240625 211.626598)scale(0.1 -0.1)\">\n       <use xlink:href=\"#DejaVuSans-8722\"/>\n       <use x=\"83.789062\" xlink:href=\"#DejaVuSans-50\"/>\n       <use x=\"147.412109\" xlink:href=\"#DejaVuSans-46\"/>\n       <use x=\"179.199219\" xlink:href=\"#DejaVuSans-53\"/>\n      </g>\n     </g>\n    </g>\n    <g id=\"ytick_5\">\n     <g id=\"line2d_27\">\n      <path clip-path=\"url(#p3b329f9c10)\" d=\"M 58.523438 170.226372 \nL 1062.923438 170.226372 \n\" style=\"fill:none;stroke:#b0b0b0;stroke-linecap:square;stroke-width:0.8;\"/>\n     </g>\n     <g id=\"line2d_28\">\n      <g>\n       <use style=\"stroke:#000000;stroke-width:0.8;\" x=\"58.523438\" xlink:href=\"#mc4aa5dbd0b\" y=\"170.226372\"/>\n      </g>\n     </g>\n     <g id=\"text_15\">\n      <!-- 0.0 -->\n      <g transform=\"translate(35.620313 174.02559)scale(0.1 -0.1)\">\n       <use xlink:href=\"#DejaVuSans-48\"/>\n       <use x=\"63.623047\" xlink:href=\"#DejaVuSans-46\"/>\n       <use x=\"95.410156\" xlink:href=\"#DejaVuSans-48\"/>\n      </g>\n     </g>\n    </g>\n    <g id=\"ytick_6\">\n     <g id=\"line2d_29\">\n      <path clip-path=\"url(#p3b329f9c10)\" d=\"M 58.523438 132.625364 \nL 1062.923438 132.625364 \n\" style=\"fill:none;stroke:#b0b0b0;stroke-linecap:square;stroke-width:0.8;\"/>\n     </g>\n     <g id=\"line2d_30\">\n      <g>\n       <use style=\"stroke:#000000;stroke-width:0.8;\" x=\"58.523438\" xlink:href=\"#mc4aa5dbd0b\" y=\"132.625364\"/>\n      </g>\n     </g>\n     <g id=\"text_16\">\n      <!-- 2.5 -->\n      <g transform=\"translate(35.620313 136.424583)scale(0.1 -0.1)\">\n       <use xlink:href=\"#DejaVuSans-50\"/>\n       <use x=\"63.623047\" xlink:href=\"#DejaVuSans-46\"/>\n       <use x=\"95.410156\" xlink:href=\"#DejaVuSans-53\"/>\n      </g>\n     </g>\n    </g>\n    <g id=\"ytick_7\">\n     <g id=\"line2d_31\">\n      <path clip-path=\"url(#p3b329f9c10)\" d=\"M 58.523438 95.024357 \nL 1062.923438 95.024357 \n\" style=\"fill:none;stroke:#b0b0b0;stroke-linecap:square;stroke-width:0.8;\"/>\n     </g>\n     <g id=\"line2d_32\">\n      <g>\n       <use style=\"stroke:#000000;stroke-width:0.8;\" x=\"58.523438\" xlink:href=\"#mc4aa5dbd0b\" y=\"95.024357\"/>\n      </g>\n     </g>\n     <g id=\"text_17\">\n      <!-- 5.0 -->\n      <g transform=\"translate(35.620313 98.823576)scale(0.1 -0.1)\">\n       <use xlink:href=\"#DejaVuSans-53\"/>\n       <use x=\"63.623047\" xlink:href=\"#DejaVuSans-46\"/>\n       <use x=\"95.410156\" xlink:href=\"#DejaVuSans-48\"/>\n      </g>\n     </g>\n    </g>\n    <g id=\"ytick_8\">\n     <g id=\"line2d_33\">\n      <path clip-path=\"url(#p3b329f9c10)\" d=\"M 58.523438 57.423349 \nL 1062.923438 57.423349 \n\" style=\"fill:none;stroke:#b0b0b0;stroke-linecap:square;stroke-width:0.8;\"/>\n     </g>\n     <g id=\"line2d_34\">\n      <g>\n       <use style=\"stroke:#000000;stroke-width:0.8;\" x=\"58.523438\" xlink:href=\"#mc4aa5dbd0b\" y=\"57.423349\"/>\n      </g>\n     </g>\n     <g id=\"text_18\">\n      <!-- 7.5 -->\n      <g transform=\"translate(35.620313 61.222568)scale(0.1 -0.1)\">\n       <use xlink:href=\"#DejaVuSans-55\"/>\n       <use x=\"63.623047\" xlink:href=\"#DejaVuSans-46\"/>\n       <use x=\"95.410156\" xlink:href=\"#DejaVuSans-53\"/>\n      </g>\n     </g>\n    </g>\n    <g id=\"ytick_9\">\n     <g id=\"line2d_35\">\n      <path clip-path=\"url(#p3b329f9c10)\" d=\"M 58.523438 19.822342 \nL 1062.923438 19.822342 \n\" style=\"fill:none;stroke:#b0b0b0;stroke-linecap:square;stroke-width:0.8;\"/>\n     </g>\n     <g id=\"line2d_36\">\n      <g>\n       <use style=\"stroke:#000000;stroke-width:0.8;\" x=\"58.523438\" xlink:href=\"#mc4aa5dbd0b\" y=\"19.822342\"/>\n      </g>\n     </g>\n     <g id=\"text_19\">\n      <!-- 10.0 -->\n      <g transform=\"translate(29.257813 23.621561)scale(0.1 -0.1)\">\n       <use xlink:href=\"#DejaVuSans-49\"/>\n       <use x=\"63.623047\" xlink:href=\"#DejaVuSans-48\"/>\n       <use x=\"127.246094\" xlink:href=\"#DejaVuSans-46\"/>\n       <use x=\"159.033203\" xlink:href=\"#DejaVuSans-48\"/>\n      </g>\n     </g>\n    </g>\n    <g id=\"text_20\">\n     <!-- [V] -->\n     <g transform=\"translate(14.798438 177.601875)rotate(-90)scale(0.1 -0.1)\">\n      <defs>\n       <path d=\"M 28.609375 0 \nL 0.78125 72.90625 \nL 11.078125 72.90625 \nL 34.1875 11.53125 \nL 57.328125 72.90625 \nL 67.578125 72.90625 \nL 39.796875 0 \nz\n\" id=\"DejaVuSans-86\"/>\n      </defs>\n      <use xlink:href=\"#DejaVuSans-91\"/>\n      <use x=\"39.013672\" xlink:href=\"#DejaVuSans-86\"/>\n      <use x=\"107.421875\" xlink:href=\"#DejaVuSans-93\"/>\n     </g>\n    </g>\n   </g>\n   <g id=\"line2d_37\">\n    <path clip-path=\"url(#p3b329f9c10)\" d=\"M 104.177983 206.215213 \nL 104.194279 206.116219 \nL 105.728464 207.205719 \nL 107.280776 207.933564 \nL 108.833088 208.417244 \nL 110.431056 208.679751 \nL 112.07468 208.720521 \nL 113.76396 208.540465 \nL 115.544553 208.128681 \nL 117.462114 207.454725 \nL 119.516644 206.495055 \nL 121.753799 205.202951 \nL 124.219235 203.519452 \nL 127.004265 201.339507 \nL 130.154544 198.58084 \nL 133.807042 195.076977 \nL 138.281352 190.461106 \nL 144.35363 183.851152 \nL 163.34662 162.970472 \nL 169.555866 156.591998 \nL 175.217238 151.091295 \nL 180.604672 146.164202 \nL 185.809482 141.701916 \nL 190.922979 137.607027 \nL 195.548166 134.148623 \nL 195.548434 134.161247 \nL 195.552582 134.257789 \nL 195.64681 134.077575 \nL 197.179295 133.11823 \nL 198.731606 132.407444 \nL 200.283918 131.939648 \nL 201.881886 131.692337 \nL 203.52551 131.666046 \nL 205.21479 131.859843 \nL 207.041039 132.298628 \nL 208.9586 132.991028 \nL 211.058787 133.992765 \nL 213.341598 135.336226 \nL 215.85269 137.079541 \nL 218.63772 139.288699 \nL 221.833656 142.116782 \nL 225.577466 145.740357 \nL 230.143089 150.483968 \nL 236.489304 157.425396 \nL 253.656044 176.345537 \nL 259.956603 182.875119 \nL 265.663631 188.475558 \nL 271.096722 193.497855 \nL 276.347188 198.049597 \nL 281.506341 202.227935 \nL 286.619838 206.082472 \nL 288.349024 207.203325 \nL 289.901336 207.931879 \nL 291.453647 208.416215 \nL 293.051615 208.679344 \nL 294.695239 208.720703 \nL 296.38452 208.541198 \nL 298.165112 208.129944 \nL 300.082674 207.4565 \nL 302.137204 206.49732 \nL 304.374359 205.205685 \nL 306.839795 203.52263 \nL 309.624825 201.343105 \nL 312.775104 198.584822 \nL 316.427602 195.081299 \nL 320.901912 190.465712 \nL 326.97419 183.855958 \nL 345.967179 162.975042 \nL 352.176426 156.596333 \nL 357.837798 151.095386 \nL 363.225232 146.168044 \nL 368.430042 141.705512 \nL 373.543539 137.610379 \nL 378.173063 134.148623 \nL 378.173395 134.16417 \nL 378.177952 134.258452 \nL 378.271593 134.077657 \nL 379.803892 133.118393 \nL 381.356204 132.407557 \nL 382.908515 131.939716 \nL 384.506483 131.692362 \nL 386.150107 131.666031 \nL 387.839387 131.85979 \nL 389.665636 132.298538 \nL 391.583198 132.990902 \nL 393.683384 133.992605 \nL 395.966195 135.336033 \nL 398.477288 137.079317 \nL 401.262317 139.288447 \nL 404.458253 142.116504 \nL 408.202063 145.740055 \nL 412.767686 150.483647 \nL 419.113901 157.425063 \nL 436.280641 176.345218 \nL 442.5812 182.874817 \nL 448.288228 188.475272 \nL 453.721319 193.497586 \nL 458.971785 198.049345 \nL 464.130938 202.227701 \nL 469.244435 206.082254 \nL 470.972188 207.202368 \nL 472.5245 207.931205 \nL 474.076811 208.415803 \nL 475.674779 208.679181 \nL 477.318403 208.720775 \nL 479.007684 208.541491 \nL 480.788276 208.130448 \nL 482.705838 207.45721 \nL 484.760368 206.498225 \nL 486.997523 205.206777 \nL 489.462959 203.5239 \nL 492.247989 201.344543 \nL 495.398268 198.586414 \nL 499.050766 195.083026 \nL 503.525076 190.467553 \nL 509.597354 183.857879 \nL 528.590343 162.976868 \nL 534.79959 156.598066 \nL 540.460962 151.097021 \nL 545.848396 146.169579 \nL 551.053206 141.706949 \nL 556.166703 137.611719 \nL 560.797961 134.148623 \nL 560.798318 134.165331 \nL 560.803028 134.258469 \nL 560.896938 134.077338 \nL 562.43045 133.117495 \nL 563.982762 132.40693 \nL 565.535073 131.939339 \nL 567.133041 131.692222 \nL 568.776665 131.666115 \nL 570.465946 131.860084 \nL 572.292195 132.299038 \nL 574.209756 132.991598 \nL 576.309942 133.99349 \nL 578.592753 135.337098 \nL 581.103846 137.080553 \nL 583.888876 139.289841 \nL 587.084811 142.118043 \nL 590.828622 145.741724 \nL 595.394244 150.485421 \nL 601.740459 157.426909 \nL 618.9072 176.346981 \nL 625.207759 182.876492 \nL 630.914787 188.476855 \nL 636.347877 193.499073 \nL 641.598343 198.050737 \nL 646.757496 202.228999 \nL 651.870994 206.08346 \nL 653.598602 207.203205 \nL 655.150913 207.931795 \nL 656.703225 208.416163 \nL 658.301193 208.679324 \nL 659.944817 208.720712 \nL 661.634097 208.541235 \nL 663.41469 208.130007 \nL 665.332251 207.456589 \nL 667.386781 206.497434 \nL 669.623936 205.205822 \nL 672.089373 203.522789 \nL 674.874402 201.343286 \nL 678.024682 198.585022 \nL 681.67718 195.081516 \nL 686.15149 190.465943 \nL 692.223767 183.856199 \nL 711.216757 162.975271 \nL 717.426003 156.59655 \nL 723.087375 151.095591 \nL 728.47481 146.168236 \nL 733.679619 141.705692 \nL 738.793116 137.610547 \nL 743.422858 134.148623 \nL 743.423193 134.164316 \nL 743.427768 134.258461 \nL 743.521411 134.077641 \nL 745.053774 133.118345 \nL 746.606086 132.407524 \nL 748.158397 131.939697 \nL 749.756365 131.692355 \nL 751.399989 131.666035 \nL 753.08927 131.859805 \nL 754.915519 132.298564 \nL 756.83308 132.990939 \nL 758.933266 133.992651 \nL 761.216077 135.336089 \nL 763.72717 137.079382 \nL 766.5122 139.28852 \nL 769.708135 142.116585 \nL 773.451946 145.740143 \nL 778.017568 150.48374 \nL 784.363783 157.42516 \nL 801.530524 176.345311 \nL 807.831083 182.874904 \nL 813.538111 188.475355 \nL 818.971201 193.497664 \nL 824.221667 198.049418 \nL 829.38082 202.227769 \nL 834.494318 206.082317 \nL 836.224887 207.203971 \nL 837.777199 207.932334 \nL 839.32951 208.416493 \nL 840.927478 208.679454 \nL 842.571102 208.720654 \nL 844.260383 208.541 \nL 846.040975 208.129603 \nL 847.958537 207.456021 \nL 850.013067 206.496709 \nL 852.250222 205.204947 \nL 854.715658 203.521773 \nL 857.500688 201.342134 \nL 860.650967 198.583748 \nL 864.303465 195.080133 \nL 868.777775 190.464469 \nL 874.850053 183.854661 \nL 893.843042 162.973809 \nL 900.052289 156.595163 \nL 905.713661 151.094282 \nL 911.101095 146.167007 \nL 916.305905 141.704542 \nL 921.419402 137.609474 \nL 926.047756 134.148623 \nL 926.04807 134.163383 \nL 926.052538 134.258384 \nL 926.146772 134.07731 \nL 927.68046 133.117379 \nL 929.232772 132.406849 \nL 930.785084 131.93929 \nL 932.383051 131.692204 \nL 934.026675 131.666126 \nL 935.715956 131.860122 \nL 937.542205 132.299103 \nL 939.459766 132.991688 \nL 941.559952 133.993604 \nL 943.842764 135.337236 \nL 946.353856 137.080713 \nL 949.138886 139.290021 \nL 952.334821 142.118243 \nL 956.078632 145.74194 \nL 960.644254 150.485651 \nL 967.036126 157.477906 \nL 984.111554 176.298719 \nL 990.412113 182.83064 \nL 996.119141 188.433546 \nL 1001.552231 193.458372 \nL 1006.802697 198.012637 \nL 1011.96185 202.193471 \nL 1017.075348 206.050452 \nL 1017.268892 206.190889 \nL 1017.268892 206.190889 \n\" style=\"fill:none;stroke:#ffa500;stroke-linecap:square;stroke-width:1.5;\"/>\n   </g>\n   <g id=\"line2d_38\">\n    <path clip-path=\"url(#p3b329f9c10)\" d=\"M 104.179947 170.226234 \nL 104.190634 170.131591 \nL 104.204457 130.798184 \nL 104.240791 22.026409 \nL 104.330674 29.413557 \nL 105.517735 132.318229 \nL 106.293891 188.521304 \nL 106.841766 214.809238 \nL 107.298328 227.280139 \nL 107.617922 231.152619 \nL 107.800547 231.730282 \nL 107.891859 231.608803 \nL 108.074484 230.607377 \nL 108.348421 227.410588 \nL 108.759327 219.563696 \nL 109.489827 200.311173 \nL 110.722545 168.108481 \nL 111.316076 157.78951 \nL 111.772638 152.977647 \nL 112.137888 151.047243 \nL 112.366169 150.636476 \nL 112.503138 150.657528 \nL 112.685763 150.970556 \nL 112.9597 151.981545 \nL 113.370606 154.473837 \nL 114.101106 160.60381 \nL 115.333824 170.877153 \nL 115.927355 174.175041 \nL 116.429573 175.822176 \nL 116.794823 176.37786 \nL 117.06876 176.473379 \nL 117.342697 176.327466 \nL 117.707947 175.820041 \nL 118.255822 174.578304 \nL 120.401665 169.175022 \nL 120.949539 168.516047 \nL 121.406101 168.266318 \nL 121.862664 168.257292 \nL 122.410538 168.496083 \nL 123.186694 169.1165 \nL 124.784662 170.43401 \nL 125.560818 170.77041 \nL 126.336974 170.860301 \nL 127.250098 170.728185 \nL 130.583003 170.0287 \nL 132.135314 170.088273 \nL 135.6965 170.290075 \nL 159.985611 170.226104 \nL 195.548764 170.330909 \nL 195.563498 212.842805 \nL 195.598867 318.532918 \nL 195.675255 312.114328 \nL 196.771005 217.000587 \nL 197.592817 155.487676 \nL 198.186348 126.138943 \nL 198.64291 113.417642 \nL 198.962504 109.384314 \nL 199.145128 108.722979 \nL 199.236441 108.805248 \nL 199.37341 109.410321 \nL 199.601691 111.593149 \nL 199.96694 117.652649 \nL 200.560471 132.087013 \nL 202.249752 175.735393 \nL 202.797626 184.237069 \nL 203.254189 188.31356 \nL 203.573782 189.612863 \nL 203.802063 189.82985 \nL 203.984688 189.619555 \nL 204.258626 188.74149 \nL 204.669532 186.398122 \nL 205.354375 180.796725 \nL 206.724062 169.360913 \nL 207.317593 166.139765 \nL 207.774155 164.660314 \nL 208.139405 164.085507 \nL 208.413342 163.977224 \nL 208.687279 164.112059 \nL 209.052529 164.607658 \nL 209.554748 165.719848 \nL 211.883215 171.46127 \nL 212.43109 172.030034 \nL 212.887652 172.210792 \nL 213.344214 172.162421 \nL 213.892089 171.874419 \nL 214.805213 171.096554 \nL 216.083588 170.054451 \nL 216.859743 169.698608 \nL 217.635899 169.591252 \nL 218.549024 169.71038 \nL 222.110209 170.427781 \nL 223.79949 170.336691 \nL 226.858457 170.161713 \nL 286.815534 170.130982 \nL 286.82941 130.61659 \nL 286.86553 22.038806 \nL 286.955568 29.413329 \nL 288.14263 132.317994 \nL 288.918786 188.521141 \nL 289.466661 214.809139 \nL 289.923223 227.280092 \nL 290.242816 231.152606 \nL 290.425441 231.730286 \nL 290.516754 231.608815 \nL 290.699379 230.607404 \nL 290.973316 227.410634 \nL 291.384222 219.563762 \nL 292.114722 200.311255 \nL 293.34744 168.10854 \nL 293.940971 157.789547 \nL 294.397533 152.977667 \nL 294.762783 151.04725 \nL 294.991064 150.636476 \nL 295.128032 150.657525 \nL 295.310657 150.970547 \nL 295.584595 151.98153 \nL 295.995501 154.473816 \nL 296.726 160.603784 \nL 297.958718 170.877135 \nL 298.552249 174.175029 \nL 299.054468 175.82217 \nL 299.419717 176.377858 \nL 299.693655 176.47338 \nL 299.967592 176.327469 \nL 300.332842 175.820047 \nL 300.880717 174.578311 \nL 303.026559 169.175026 \nL 303.574434 168.516049 \nL 304.030996 168.266318 \nL 304.487558 168.257291 \nL 305.035433 168.496081 \nL 305.811589 169.116498 \nL 307.409557 170.434008 \nL 308.185713 170.77041 \nL 308.961868 170.860301 \nL 309.874993 170.728186 \nL 313.207897 170.0287 \nL 314.760209 170.088273 \nL 318.321394 170.290075 \nL 342.610506 170.226104 \nL 378.173661 170.33092 \nL 378.188396 212.845945 \nL 378.223763 318.532943 \nL 378.300127 312.11633 \nL 379.395877 217.002781 \nL 380.217689 155.489247 \nL 380.81122 126.139897 \nL 381.267782 113.418121 \nL 381.587375 109.384488 \nL 381.77 108.722993 \nL 381.861313 108.805188 \nL 381.998281 109.410156 \nL 382.226563 111.592828 \nL 382.591812 117.652131 \nL 383.185343 132.086313 \nL 384.874624 175.734905 \nL 385.422498 184.236763 \nL 385.879061 188.313406 \nL 386.198654 189.612807 \nL 386.426935 189.829857 \nL 386.60956 189.619607 \nL 386.883497 188.741601 \nL 387.294403 186.398299 \nL 387.979247 180.796955 \nL 389.348934 169.361082 \nL 389.942464 166.139872 \nL 390.399027 164.660373 \nL 390.764277 164.08553 \nL 391.038214 163.977222 \nL 391.312151 164.112036 \nL 391.677401 164.607612 \nL 392.179619 165.719782 \nL 394.508087 171.461234 \nL 395.055962 172.030017 \nL 395.512524 172.210789 \nL 395.969086 172.162429 \nL 396.516961 171.874437 \nL 397.430085 171.096577 \nL 398.70846 170.054467 \nL 399.484615 169.698616 \nL 400.260771 169.591252 \nL 401.173896 169.710374 \nL 404.735081 170.427781 \nL 406.424361 170.336693 \nL 409.483329 170.161713 \nL 469.440431 170.130851 \nL 469.454319 130.578348 \nL 469.490416 22.039948 \nL 469.580465 29.41325 \nL 470.767527 132.31791 \nL 471.543682 188.521082 \nL 472.091557 214.809103 \nL 472.548119 227.280074 \nL 472.867713 231.1526 \nL 473.050338 231.730286 \nL 473.14165 231.608818 \nL 473.324275 230.607412 \nL 473.598212 227.41065 \nL 474.009119 219.563785 \nL 474.739618 200.311283 \nL 475.972336 168.108561 \nL 476.565867 157.789561 \nL 477.022429 152.977674 \nL 477.387679 151.047253 \nL 477.61596 150.636476 \nL 477.752929 150.657524 \nL 477.935554 150.970544 \nL 478.209491 151.981526 \nL 478.620397 154.473809 \nL 479.350897 160.603775 \nL 480.583615 170.877128 \nL 481.177146 174.175024 \nL 481.679364 175.822168 \nL 482.044614 176.377857 \nL 482.318551 176.47338 \nL 482.592489 176.32747 \nL 482.957738 175.820048 \nL 483.505613 174.578314 \nL 485.651456 169.175028 \nL 486.19933 168.51605 \nL 486.655893 168.266319 \nL 487.112455 168.257291 \nL 487.66033 168.496081 \nL 488.436485 169.116497 \nL 490.034453 170.434008 \nL 490.810609 170.770409 \nL 491.586765 170.860301 \nL 492.499889 170.728186 \nL 495.832794 170.0287 \nL 497.385105 170.088273 \nL 500.946291 170.290075 \nL 525.235402 170.226104 \nL 560.798559 170.330924 \nL 560.813294 212.84706 \nL 560.848661 318.532952 \nL 560.925016 312.117038 \nL 562.020765 217.003557 \nL 562.842577 155.489803 \nL 563.436108 126.140235 \nL 563.89267 113.41829 \nL 564.212264 109.384549 \nL 564.394889 108.722998 \nL 564.486201 108.805167 \nL 564.62317 109.410098 \nL 564.851451 111.592715 \nL 565.216701 117.651948 \nL 565.810232 132.086066 \nL 567.499512 175.734732 \nL 568.047387 184.236655 \nL 568.503949 188.313352 \nL 568.823543 189.612787 \nL 569.051824 189.829859 \nL 569.234449 189.619626 \nL 569.508386 188.74164 \nL 569.919292 186.398362 \nL 570.604135 180.797036 \nL 571.973822 169.361142 \nL 572.567353 166.13991 \nL 573.023915 164.660394 \nL 573.389165 164.085538 \nL 573.663102 163.977222 \nL 573.93704 164.112028 \nL 574.302289 164.607596 \nL 574.804508 165.719759 \nL 577.132975 171.461221 \nL 577.68085 172.030011 \nL 578.137412 172.210788 \nL 578.593975 172.162432 \nL 579.141849 171.874443 \nL 580.054974 171.096586 \nL 581.333348 170.054472 \nL 582.109504 169.698618 \nL 582.88566 169.591252 \nL 583.798784 169.710372 \nL 587.35997 170.42778 \nL 589.04925 170.336694 \nL 592.108217 170.161713 \nL 652.065324 170.132294 \nL 652.07909 130.991786 \nL 652.115521 22.025455 \nL 652.205736 29.442619 \nL 653.392798 132.349114 \nL 654.168953 188.543126 \nL 654.716828 214.822791 \nL 655.17339 227.286843 \nL 655.492984 231.154937 \nL 655.675609 231.730322 \nL 655.766921 231.607776 \nL 655.949546 230.604373 \nL 656.223484 227.405039 \nL 656.63439 219.555318 \nL 657.364889 200.300646 \nL 658.597607 168.1007 \nL 659.191138 157.784501 \nL 659.6477 152.974854 \nL 660.01295 151.046104 \nL 660.241231 150.636273 \nL 660.3782 150.657843 \nL 660.560825 150.971501 \nL 660.834762 151.983304 \nL 661.245668 154.476501 \nL 661.976168 160.607165 \nL 663.208886 170.879638 \nL 663.802417 174.176643 \nL 664.304635 175.823003 \nL 664.669885 176.378166 \nL 664.943822 176.473337 \nL 665.21776 176.327122 \nL 665.58301 175.819373 \nL 666.130884 174.577331 \nL 668.276727 169.174441 \nL 668.824602 168.515738 \nL 669.281164 168.266219 \nL 669.737726 168.25737 \nL 670.285601 168.496316 \nL 671.061757 169.116836 \nL 672.659724 170.434231 \nL 673.43588 170.770509 \nL 674.212036 170.860292 \nL 675.12516 170.728097 \nL 678.458065 170.028688 \nL 680.010376 170.088305 \nL 683.571562 170.290073 \nL 707.815017 170.2261 \nL 743.423452 170.329404 \nL 743.438068 212.444419 \nL 743.473595 318.531025 \nL 743.551806 311.969078 \nL 744.647555 216.841537 \nL 745.469367 155.373812 \nL 746.062898 126.06982 \nL 746.519461 113.383001 \nL 746.839054 109.371811 \nL 747.021679 108.721989 \nL 747.112991 108.809655 \nL 747.24996 109.422336 \nL 747.478241 111.616468 \nL 747.843491 117.690265 \nL 748.437022 132.137774 \nL 750.126302 175.770734 \nL 750.674177 184.259192 \nL 751.130739 188.324686 \nL 751.450333 189.616924 \nL 751.678614 189.829363 \nL 751.861239 189.615786 \nL 752.135176 188.733455 \nL 752.546082 186.385263 \nL 753.230926 180.780021 \nL 754.600612 169.348647 \nL 755.194143 166.131967 \nL 755.650705 164.65606 \nL 756.015955 164.083882 \nL 756.289893 163.977358 \nL 756.56383 164.113724 \nL 756.92908 164.610964 \nL 757.476954 165.84314 \nL 759.668453 171.330203 \nL 760.216328 171.964322 \nL 760.67289 172.194824 \nL 761.129452 172.187673 \nL 761.677327 171.934795 \nL 762.499139 171.263332 \nL 764.005795 170.025412 \nL 764.78195 169.685152 \nL 765.558106 169.591843 \nL 766.471231 169.721462 \nL 769.849791 170.424861 \nL 771.447759 170.357246 \nL 774.871976 170.162063 \nL 806.968302 170.226255 \nL 834.690197 170.139009 \nL 834.70333 133.134797 \nL 834.740685 22.025566 \nL 834.845663 30.627786 \nL 837.17413 208.09393 \nL 837.630692 223.692925 \nL 837.995942 230.124946 \nL 838.224223 231.626527 \nL 838.315536 231.728339 \nL 838.361192 231.678145 \nL 838.498161 231.141875 \nL 838.726442 229.061373 \nL 839.091692 223.131656 \nL 839.685222 208.817931 \nL 841.420159 164.172756 \nL 841.968034 155.878194 \nL 842.424596 151.972965 \nL 842.744189 150.783205 \nL 842.926814 150.622181 \nL 843.063783 150.727267 \nL 843.292064 151.29212 \nL 843.611658 152.78618 \nL 844.113876 156.35399 \nL 846.305375 173.616829 \nL 846.807593 175.519902 \nL 847.218499 176.304337 \nL 847.538093 176.475302 \nL 847.81203 176.35436 \nL 848.17728 175.873718 \nL 848.679499 174.775042 \nL 851.053622 168.95129 \nL 851.601497 168.403605 \nL 852.058059 168.238638 \nL 852.514621 168.299899 \nL 853.108152 168.631729 \nL 854.158246 169.550897 \nL 855.299651 170.443152 \nL 856.075807 170.774492 \nL 856.851963 170.859894 \nL 857.765087 170.724495 \nL 861.052335 170.029771 \nL 862.604647 170.085676 \nL 866.257145 170.289622 \nL 885.615384 170.226714 \nL 926.048326 170.321136 \nL 926.062096 209.601565 \nL 926.098279 318.534545 \nL 926.170088 312.485643 \nL 927.217603 221.561672 \nL 928.085071 155.938526 \nL 928.678602 126.413276 \nL 929.135164 113.555758 \nL 929.454758 109.434901 \nL 929.637383 108.728013 \nL 929.728695 108.788928 \nL 929.865664 109.363883 \nL 930.093945 111.501941 \nL 930.459195 117.504757 \nL 931.052726 131.886839 \nL 932.787662 176.455592 \nL 933.335537 184.684063 \nL 933.792099 188.534324 \nL 934.111693 189.688772 \nL 934.294318 189.831423 \nL 934.431286 189.713573 \nL 934.659567 189.12957 \nL 934.979161 187.613494 \nL 935.481379 184.022855 \nL 937.672878 166.789795 \nL 938.175097 164.906428 \nL 938.586003 164.137227 \nL 938.905596 163.976808 \nL 939.179534 164.105581 \nL 939.544783 164.594675 \nL 940.047002 165.701029 \nL 942.375469 171.450924 \nL 942.923344 172.025033 \nL 943.379906 172.209819 \nL 943.836468 172.164754 \nL 944.384343 171.879532 \nL 945.297468 171.103341 \nL 946.575842 170.059015 \nL 947.351998 169.700771 \nL 948.128153 169.591227 \nL 949.041278 169.708701 \nL 952.602463 170.427676 \nL 954.291744 170.33737 \nL 957.350711 170.161712 \nL 1017.268892 170.226234 \nL 1017.268892 170.226234 \n\" style=\"fill:none;stroke:#008000;stroke-linecap:square;stroke-width:1.5;\"/>\n   </g>\n   <g id=\"line2d_39\">\n    <path clip-path=\"url(#p3b329f9c10)\" d=\"M 104.177983 245.428386 \nL 104.190061 245.428386 \nL 104.313121 95.024357 \nL 195.548166 95.024357 \nL 195.672639 245.428386 \nL 286.814958 245.428386 \nL 286.933681 95.024357 \nL 378.173063 95.024357 \nL 378.297237 245.428386 \nL 469.439856 245.428386 \nL 469.556845 95.024357 \nL 560.797961 95.024357 \nL 560.923795 245.428386 \nL 652.064786 245.320465 \nL 652.183259 95.024357 \nL 743.422858 95.024357 \nL 743.547119 245.428386 \nL 834.689651 245.428386 \nL 834.809544 95.024357 \nL 926.047756 95.024357 \nL 926.173805 245.428386 \nL 1017.268892 245.428386 \nL 1017.268892 245.428386 \n\" style=\"fill:none;stroke:#808080;stroke-linecap:square;stroke-width:1.5;\"/>\n   </g>\n   <g id=\"patch_3\">\n    <path d=\"M 58.523438 333.36 \nL 58.523438 7.2 \n\" style=\"fill:none;stroke:#000000;stroke-linecap:square;stroke-linejoin:miter;stroke-width:0.8;\"/>\n   </g>\n   <g id=\"patch_4\">\n    <path d=\"M 1062.923438 333.36 \nL 1062.923438 7.2 \n\" style=\"fill:none;stroke:#000000;stroke-linecap:square;stroke-linejoin:miter;stroke-width:0.8;\"/>\n   </g>\n   <g id=\"patch_5\">\n    <path d=\"M 58.523438 333.36 \nL 1062.923437 333.36 \n\" style=\"fill:none;stroke:#000000;stroke-linecap:square;stroke-linejoin:miter;stroke-width:0.8;\"/>\n   </g>\n   <g id=\"patch_6\">\n    <path d=\"M 58.523438 7.2 \nL 1062.923437 7.2 \n\" style=\"fill:none;stroke:#000000;stroke-linecap:square;stroke-linejoin:miter;stroke-width:0.8;\"/>\n   </g>\n   <g id=\"text_21\">\n    <!-- mixed imput saignal -->\n    <g transform=\"translate(499.634063 392.592)scale(0.12 -0.12)\">\n     <defs>\n      <path d=\"M 9.421875 54.6875 \nL 18.40625 54.6875 \nL 18.40625 0 \nL 9.421875 0 \nz\nM 9.421875 75.984375 \nL 18.40625 75.984375 \nL 18.40625 64.59375 \nL 9.421875 64.59375 \nz\n\" id=\"DejaVuSans-105\"/>\n      <path d=\"M 54.890625 54.6875 \nL 35.109375 28.078125 \nL 55.90625 0 \nL 45.3125 0 \nL 29.390625 21.484375 \nL 13.484375 0 \nL 2.875 0 \nL 24.125 28.609375 \nL 4.6875 54.6875 \nL 15.28125 54.6875 \nL 29.78125 35.203125 \nL 44.28125 54.6875 \nz\n\" id=\"DejaVuSans-120\"/>\n      <path d=\"M 56.203125 29.59375 \nL 56.203125 25.203125 \nL 14.890625 25.203125 \nQ 15.484375 15.921875 20.484375 11.0625 \nQ 25.484375 6.203125 34.421875 6.203125 \nQ 39.59375 6.203125 44.453125 7.46875 \nQ 49.3125 8.734375 54.109375 11.28125 \nL 54.109375 2.78125 \nQ 49.265625 0.734375 44.1875 -0.34375 \nQ 39.109375 -1.421875 33.890625 -1.421875 \nQ 20.796875 -1.421875 13.15625 6.1875 \nQ 5.515625 13.8125 5.515625 26.8125 \nQ 5.515625 40.234375 12.765625 48.109375 \nQ 20.015625 56 32.328125 56 \nQ 43.359375 56 49.78125 48.890625 \nQ 56.203125 41.796875 56.203125 29.59375 \nz\nM 47.21875 32.234375 \nQ 47.125 39.59375 43.09375 43.984375 \nQ 39.0625 48.390625 32.421875 48.390625 \nQ 24.90625 48.390625 20.390625 44.140625 \nQ 15.875 39.890625 15.1875 32.171875 \nz\n\" id=\"DejaVuSans-101\"/>\n      <path d=\"M 45.40625 46.390625 \nL 45.40625 75.984375 \nL 54.390625 75.984375 \nL 54.390625 0 \nL 45.40625 0 \nL 45.40625 8.203125 \nQ 42.578125 3.328125 38.25 0.953125 \nQ 33.9375 -1.421875 27.875 -1.421875 \nQ 17.96875 -1.421875 11.734375 6.484375 \nQ 5.515625 14.40625 5.515625 27.296875 \nQ 5.515625 40.1875 11.734375 48.09375 \nQ 17.96875 56 27.875 56 \nQ 33.9375 56 38.25 53.625 \nQ 42.578125 51.265625 45.40625 46.390625 \nz\nM 14.796875 27.296875 \nQ 14.796875 17.390625 18.875 11.75 \nQ 22.953125 6.109375 30.078125 6.109375 \nQ 37.203125 6.109375 41.296875 11.75 \nQ 45.40625 17.390625 45.40625 27.296875 \nQ 45.40625 37.203125 41.296875 42.84375 \nQ 37.203125 48.484375 30.078125 48.484375 \nQ 22.953125 48.484375 18.875 42.84375 \nQ 14.796875 37.203125 14.796875 27.296875 \nz\n\" id=\"DejaVuSans-100\"/>\n      <path d=\"M 18.109375 8.203125 \nL 18.109375 -20.796875 \nL 9.078125 -20.796875 \nL 9.078125 54.6875 \nL 18.109375 54.6875 \nL 18.109375 46.390625 \nQ 20.953125 51.265625 25.265625 53.625 \nQ 29.59375 56 35.59375 56 \nQ 45.5625 56 51.78125 48.09375 \nQ 58.015625 40.1875 58.015625 27.296875 \nQ 58.015625 14.40625 51.78125 6.484375 \nQ 45.5625 -1.421875 35.59375 -1.421875 \nQ 29.59375 -1.421875 25.265625 0.953125 \nQ 20.953125 3.328125 18.109375 8.203125 \nz\nM 48.6875 27.296875 \nQ 48.6875 37.203125 44.609375 42.84375 \nQ 40.53125 48.484375 33.40625 48.484375 \nQ 26.265625 48.484375 22.1875 42.84375 \nQ 18.109375 37.203125 18.109375 27.296875 \nQ 18.109375 17.390625 22.1875 11.75 \nQ 26.265625 6.109375 33.40625 6.109375 \nQ 40.53125 6.109375 44.609375 11.75 \nQ 48.6875 17.390625 48.6875 27.296875 \nz\n\" id=\"DejaVuSans-112\"/>\n      <path d=\"M 8.5 21.578125 \nL 8.5 54.6875 \nL 17.484375 54.6875 \nL 17.484375 21.921875 \nQ 17.484375 14.15625 20.5 10.265625 \nQ 23.53125 6.390625 29.59375 6.390625 \nQ 36.859375 6.390625 41.078125 11.03125 \nQ 45.3125 15.671875 45.3125 23.6875 \nL 45.3125 54.6875 \nL 54.296875 54.6875 \nL 54.296875 0 \nL 45.3125 0 \nL 45.3125 8.40625 \nQ 42.046875 3.421875 37.71875 1 \nQ 33.40625 -1.421875 27.6875 -1.421875 \nQ 18.265625 -1.421875 13.375 4.4375 \nQ 8.5 10.296875 8.5 21.578125 \nz\nM 31.109375 56 \nz\n\" id=\"DejaVuSans-117\"/>\n      <path d=\"M 34.28125 27.484375 \nQ 23.390625 27.484375 19.1875 25 \nQ 14.984375 22.515625 14.984375 16.5 \nQ 14.984375 11.71875 18.140625 8.90625 \nQ 21.296875 6.109375 26.703125 6.109375 \nQ 34.1875 6.109375 38.703125 11.40625 \nQ 43.21875 16.703125 43.21875 25.484375 \nL 43.21875 27.484375 \nz\nM 52.203125 31.203125 \nL 52.203125 0 \nL 43.21875 0 \nL 43.21875 8.296875 \nQ 40.140625 3.328125 35.546875 0.953125 \nQ 30.953125 -1.421875 24.3125 -1.421875 \nQ 15.921875 -1.421875 10.953125 3.296875 \nQ 6 8.015625 6 15.921875 \nQ 6 25.140625 12.171875 29.828125 \nQ 18.359375 34.515625 30.609375 34.515625 \nL 43.21875 34.515625 \nL 43.21875 35.40625 \nQ 43.21875 41.609375 39.140625 45 \nQ 35.0625 48.390625 27.6875 48.390625 \nQ 23 48.390625 18.546875 47.265625 \nQ 14.109375 46.140625 10.015625 43.890625 \nL 10.015625 52.203125 \nQ 14.9375 54.109375 19.578125 55.046875 \nQ 24.21875 56 28.609375 56 \nQ 40.484375 56 46.34375 49.84375 \nQ 52.203125 43.703125 52.203125 31.203125 \nz\n\" id=\"DejaVuSans-97\"/>\n      <path d=\"M 45.40625 27.984375 \nQ 45.40625 37.75 41.375 43.109375 \nQ 37.359375 48.484375 30.078125 48.484375 \nQ 22.859375 48.484375 18.828125 43.109375 \nQ 14.796875 37.75 14.796875 27.984375 \nQ 14.796875 18.265625 18.828125 12.890625 \nQ 22.859375 7.515625 30.078125 7.515625 \nQ 37.359375 7.515625 41.375 12.890625 \nQ 45.40625 18.265625 45.40625 27.984375 \nz\nM 54.390625 6.78125 \nQ 54.390625 -7.171875 48.1875 -13.984375 \nQ 42 -20.796875 29.203125 -20.796875 \nQ 24.46875 -20.796875 20.265625 -20.09375 \nQ 16.0625 -19.390625 12.109375 -17.921875 \nL 12.109375 -9.1875 \nQ 16.0625 -11.328125 19.921875 -12.34375 \nQ 23.78125 -13.375 27.78125 -13.375 \nQ 36.625 -13.375 41.015625 -8.765625 \nQ 45.40625 -4.15625 45.40625 5.171875 \nL 45.40625 9.625 \nQ 42.625 4.78125 38.28125 2.390625 \nQ 33.9375 0 27.875 0 \nQ 17.828125 0 11.671875 7.65625 \nQ 5.515625 15.328125 5.515625 27.984375 \nQ 5.515625 40.671875 11.671875 48.328125 \nQ 17.828125 56 27.875 56 \nQ 33.9375 56 38.28125 53.609375 \nQ 42.625 51.21875 45.40625 46.390625 \nL 45.40625 54.6875 \nL 54.390625 54.6875 \nz\n\" id=\"DejaVuSans-103\"/>\n      <path d=\"M 54.890625 33.015625 \nL 54.890625 0 \nL 45.90625 0 \nL 45.90625 32.71875 \nQ 45.90625 40.484375 42.875 44.328125 \nQ 39.84375 48.1875 33.796875 48.1875 \nQ 26.515625 48.1875 22.3125 43.546875 \nQ 18.109375 38.921875 18.109375 30.90625 \nL 18.109375 0 \nL 9.078125 0 \nL 9.078125 54.6875 \nL 18.109375 54.6875 \nL 18.109375 46.1875 \nQ 21.34375 51.125 25.703125 53.5625 \nQ 30.078125 56 35.796875 56 \nQ 45.21875 56 50.046875 50.171875 \nQ 54.890625 44.34375 54.890625 33.015625 \nz\n\" id=\"DejaVuSans-110\"/>\n      <path d=\"M 9.421875 75.984375 \nL 18.40625 75.984375 \nL 18.40625 0 \nL 9.421875 0 \nz\n\" id=\"DejaVuSans-108\"/>\n     </defs>\n     <use xlink:href=\"#DejaVuSans-109\"/>\n     <use x=\"97.412109\" xlink:href=\"#DejaVuSans-105\"/>\n     <use x=\"125.195312\" xlink:href=\"#DejaVuSans-120\"/>\n     <use x=\"181.25\" xlink:href=\"#DejaVuSans-101\"/>\n     <use x=\"242.773438\" xlink:href=\"#DejaVuSans-100\"/>\n     <use x=\"306.25\" xlink:href=\"#DejaVuSans-32\"/>\n     <use x=\"338.037109\" xlink:href=\"#DejaVuSans-105\"/>\n     <use x=\"365.820312\" xlink:href=\"#DejaVuSans-109\"/>\n     <use x=\"463.232422\" xlink:href=\"#DejaVuSans-112\"/>\n     <use x=\"526.708984\" xlink:href=\"#DejaVuSans-117\"/>\n     <use x=\"590.087891\" xlink:href=\"#DejaVuSans-116\"/>\n     <use x=\"629.296875\" xlink:href=\"#DejaVuSans-32\"/>\n     <use x=\"661.083984\" xlink:href=\"#DejaVuSans-115\"/>\n     <use x=\"713.183594\" xlink:href=\"#DejaVuSans-97\"/>\n     <use x=\"774.462891\" xlink:href=\"#DejaVuSans-105\"/>\n     <use x=\"802.246094\" xlink:href=\"#DejaVuSans-103\"/>\n     <use x=\"865.722656\" xlink:href=\"#DejaVuSans-110\"/>\n     <use x=\"929.101562\" xlink:href=\"#DejaVuSans-97\"/>\n     <use x=\"990.380859\" xlink:href=\"#DejaVuSans-108\"/>\n    </g>\n   </g>\n  </g>\n </g>\n <defs>\n  <clipPath id=\"p3b329f9c10\">\n   <rect height=\"326.16\" width=\"1004.4\" x=\"58.523438\" y=\"7.2\"/>\n  </clipPath>\n </defs>\n</svg>\n"
     },
     "metadata": {
      "needs_background": "light"
     }
    }
   ],
   "source": [
    "#plot the results\n",
    "fig, axis = plt.subplots(figsize=(18, 6))\n",
    "\n",
    "#plot mixed signal\n",
    "axis.plot(analysis_lp_tr['/LowPass200/OUT'].abscissa*1000, analysis_lp_tr['/LowPass200/OUT'], c='Orange') \n",
    "axis.plot(analysis_hp_tr['/OUT'].abscissa*1000, analysis_hp_tr['/OUT'], c='Green') \n",
    "axis.plot(analysis_lp_tr['NC_01'].abscissa*1000, analysis_lp_tr['NC_01'], c='grey') \n",
    "\n",
    "\n",
    "axis.grid()\n",
    "axis.set_xlabel('t [ms]')\n",
    "axis.set_ylabel('[V]')\n",
    "axis.set_title('mixed imput saignal', y=-0.2)\n",
    "\n",
    "plt.show()"
   ]
  },
  {
   "cell_type": "code",
   "execution_count": null,
   "metadata": {},
   "outputs": [],
   "source": []
  },
  {
   "cell_type": "code",
   "execution_count": null,
   "metadata": {},
   "outputs": [],
   "source": [
    "figure, axes = plt.subplots(2, figsize=(20, 10))\n",
    "plt.title(\"Bode Diagrams of RLC Filters\")\n",
    "#out = 'Net-_C1-Pad1_'\n",
    "bode_diagram(axes=axes,\n",
    "                 frequency=analysis_lp_ac.frequency,\n",
    "                 gain=np.log10(np.absolute(analysis_lp_ac['/LowPass200/OUT'])),\n",
    "                 phase=np.angle(analysis_lp_ac['/LowPass200/OUT'], deg=False),\n",
    "                 marker='.',\n",
    "                 color='orange',\n",
    "                 linestyle='-',\n",
    "    )\n",
    "bode_diagram(axes=axes,\n",
    "                 frequency=analysis_hp_ac.frequency,\n",
    "                 gain=np.log10(np.absolute(analysis_hp_ac['/OUT'])),\n",
    "                 phase=np.angle(analysis_hp_ac['/OUT'], deg=False),\n",
    "                 marker='.',\n",
    "                 color='LightGreen',\n",
    "                 linestyle='-',\n",
    "    )\n",
    "bode_diagram(axes=axes,\n",
    "                frequency=analysis_bp_900.frequency,\n",
    "                gain=np.log10(np.absolute(analysis_bp_900['/OUT'])),\n",
    "                phase=np.angle(analysis_bp_900['/OUT'], deg=False),\n",
    "                marker='.',\n",
    "                color='Magenta',\n",
    "                linestyle='-',\n",
    ")\n",
    "bode_diagram(axes=axes,\n",
    "                frequency=analysis_bp_200.frequency,\n",
    "                gain=np.log10(np.absolute(analysis_bp_200['/OUT'])),\n",
    "                phase=np.angle(analysis_bp_200['/OUT'], deg=False),\n",
    "                marker='.',\n",
    "                color='LightBlue',\n",
    "                linestyle='-',\n",
    ")\n",
    "    #for axe in axes:\n",
    "axes[0].axvline(x=194.091394014506, color='Red', linestyle='--')\n"
   ]
  },
  {
   "cell_type": "code",
   "execution_count": null,
   "metadata": {},
   "outputs": [],
   "source": [
    "#load the input mixer schema\n",
    "kicad_netlist_path = directory_path.joinpath('main', 'main.cir')\n",
    "parser = SpiceParser(path=str(kicad_netlist_path))\n",
    "\n",
    "#simulate input\n",
    "schema = parser.build_circuit(ground=5)\n",
    "schema.include(spice_library['BC846B'])\n",
    "schema.include(spice_library['BC556B'])\n",
    "schema.include(spice_library['CD4069UBhex'])\n",
    "schema.include(spice_library['D1N4148'])\n",
    "schema.V('1', '+15V', schema.gnd, 'DC 15')\n",
    "schema.V('2', '-15V', schema.gnd, 'DC -15')\n",
    "schema.V('3', '+5V', schema.gnd, 'DC 5')\n",
    "#schema.V('4', 'INPUT', schema.gnd, 'DC 0V AC 2V PULSE(-5V +5V 0 1m 1m 0.0001m 2.0001m)')\n",
    "schema.V('4', 'INPUT', schema.gnd, 'DC 0V AC 2V PULSE(-2V +2V 0 0.0001m 5m 0.0001m 5.0002m)')\n",
    "\n",
    "class VoltageDivider1(SubCircuitFactory):\n",
    "    __name__ = 'voltage_divider_1'\n",
    "    __nodes__ = ('n1', 'n2', 'n3' )\n",
    "    def __init__(self, R=100@u_kΩ, w=0.4):\n",
    "        super().__init__()\n",
    "        self.R(1, 'n1', 'n2', R * w)\n",
    "        self.R(2, 'n2', 'n3', R * (1.0-w) )\n",
    "\n",
    "class VoltageDivider2(SubCircuitFactory):\n",
    "    __name__ = 'voltage_divider_2'\n",
    "    __nodes__ = ('n1', 'n2', 'n3' )\n",
    "    def __init__(self, R=100@u_kΩ, w=0.4):\n",
    "        super().__init__()\n",
    "        self.R(1, 'n1', 'n2', R * w)\n",
    "        self.R(2, 'n2', 'n3', R * (1.0-w) )\n",
    "\n",
    "for subcircuit in ( VoltageDivider1(R=500@u_kΩ, w=0.999), VoltageDivider2(R=500@u_kΩ, w=0.1) ):\n",
    "    schema.subcircuit(subcircuit)\n",
    "\n",
    "simulator = schema.simulator(temperature=25, nominal_temperature=25)\n",
    "analysis = simulator.transient(step_time=1@u_us, start_time=100@u_ms, end_time=120@u_ms)\n"
   ]
  },
  {
   "source": [
    "### filter sections\n"
   ],
   "cell_type": "markdown",
   "metadata": {}
  },
  {
   "cell_type": "markdown",
   "metadata": {},
   "source": [
    "## *construction*\n",
    "\n",
    "for the final circuit input and output buffering and biasing is needed. the buffering is done with opamps. \n"
   ]
  },
  {
   "source": [
    "first we design the input stage. the input voltage for the X signal should be 10mV and 20mV for the control voltage.\n"
   ],
   "cell_type": "markdown",
   "metadata": {}
  },
  {
   "cell_type": "markdown",
   "metadata": {},
   "source": [
    "## *references*\n",
    "\n",
    "- [VCA Techniques Investigated][1] Rod Elliott (ESP)\n",
    "- [Popular Electronics][2] Keyiing and VCA citcuits for electronic music instruments \n",
    "- [VCA-1][3] Thomas Henry CA3080 vca\n",
    "- [VCA-3][4] René Schmitz differential pair vca\n",
    "- [#223][5]: Basics of the Gilbert Cell | Analog Multiplier | Mixer | Modulator\n",
    "- [#224][6]: AM & DSB-SC Modulation with the Gilbert Cell\n",
    "- [Analog Devices][8]: Analog multiplier application guide \n",
    "- [AD633][9]: Datasheet \n",
    "\n",
    "\n",
    "\n",
    "\n",
    "[1]: https://static1.squarespace.com/static/5e6e99e8bd2f8a6de8454feb/t/5e77db16e8ff44374c24b124/1584913176675/MBD+BOM+and+build.pdf\n",
    "[2]: https://www.diystompboxes.com/smfforum/index.php?topic=118397.0\n",
    "[3]: https://www.diystompboxes.com/smfforum/index.php?topic=99779.0\n",
    "\n",
    "\n",
    "\n"
   ]
  }
 ],
 "metadata": {
  "kernelspec": {
   "display_name": "Python 3.8.2 64-bit",
   "language": "python",
   "name": "python38264bitf28cdd56da7a4a91a745d4dca728ac52"
  },
  "language_info": {
   "codemirror_mode": {
    "name": "ipython",
    "version": 3
   },
   "file_extension": ".py",
   "mimetype": "text/x-python",
   "name": "python",
   "nbconvert_exporter": "python",
   "pygments_lexer": "ipython3",
   "version": "3.8.5-final"
  }
 },
 "nbformat": 4,
 "nbformat_minor": 4
}