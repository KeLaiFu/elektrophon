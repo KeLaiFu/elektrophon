{
 "cells": [
  {
   "cell_type": "code",
   "execution_count": 1,
   "metadata": {},
   "outputs": [],
   "source": [
    "# Just the normal prequisites for using matplotlib and numpy in a Jupyter notebook\n",
    "%matplotlib inline\n",
    "# Use the svg backend, in my opinion it just makes better looking plots\n",
    "%config InlineBackend.figure_format = 'svg'\n",
    "\n",
    "from scipy import signal\n",
    "from PySpice.Unit import *\n",
    "from PySpice.Spice.Parser import SpiceParser\n",
    "from PySpice.Spice.Netlist import Circuit, SubCircuit, SubCircuitFactory\n",
    "from PySpice.Spice.Library import SpiceLibrary\n",
    "from PySpice.Probe.Plot import plot\n",
    "from PySpice.Doc.ExampleTools import find_libraries\n",
    "from PySpice.Math import *\n",
    "from pathlib import Path\n",
    "import matplotlib.pyplot as plt\n",
    "import numpy as np\n",
    "import matplotlib.pyplot as plt\n",
    "import unittest\n",
    "\n",
    "import SchemDraw as schemdraw\n",
    "import SchemDraw.elements as elm\n",
    "\n",
    "# The spice and kicad modules are located above us\n",
    "import sys\n",
    "sys.path.append('../../lib/python')\n",
    "\n",
    "import PySpice.Logging.Logging as Logging\n",
    "logger = Logging.setup_logging()\n",
    "\n",
    "directory_path = Path(os.path.abspath('')).resolve().parent.parent\n",
    "spice_libraries_path = directory_path.joinpath(\"lib\", \"spice\")\n",
    "spice_library = SpiceLibrary(spice_libraries_path)"
   ]
  },
  {
   "cell_type": "code",
   "execution_count": null,
   "metadata": {},
   "outputs": [],
   "source": [
    "## schema definitions\n",
    "d = schemdraw.Drawing()\n",
    "q1 = d.add(elm.transistors.BjtNpn)\n",
    "q1.add_label('$Q_1$', loc='center', ofst=[0,-1], align=('right','bottom'))\n",
    "lineA = d.add(elm.Line('up', xy=q1.collector, l=1.5))\n",
    "d.add(elm.Dot, lftlabel='1')\n",
    "#d.add(elm.Line('up', l=0.75))\n",
    "d.add(elm.Resistor('up', label='$R_1$', rgtlabel='+15V'))\n",
    "d.add(elm.Line('down', xy=q1.emitter, l=1.5))\n",
    "tail = d.add(elm.Line('right', l=1.5))\n",
    "d.add(elm.Dot, toplabel='2')\n",
    "d.add(elm.Resistor('down', label='$R_3$', lftlabel='-15V'))\n",
    "d.add(elm.Line('right', xy=tail.end,  l=1.5))\n",
    "d.add(elm.Line('up', l=1.5))\n",
    "q2 = d.add(elm.transistors.BjtNpn('right', anchor='emitter'))\n",
    "lineB = d.add(elm.Line('up', l=0.75))\n",
    "d.add(elm.Dot, lftlabel='3')\n",
    "d.add(elm.Line('up', l=0.75))\n",
    "r2 = d.add(elm.Resistor('up', label='$R_2$', rgtlabel='+15V'))\n",
    "d.add(elm.Line('left', xy=q2.base, l=0.5))\n",
    "d.add(elm.Ground())\n",
    "lineBout = d.add(elm.Line('right', xy=lineB.end, l=0.5, rgtlabel='$v_{out2}$'))\n",
    "d.add(elm.Line('right', xy=lineA.end, tox=lineBout.end, rgtlabel='$v_{out1}$'))\n",
    "d.add(elm.Line('left', xy=q1.base, l=0.5, lftlabel='$V_{in}$'))\n",
    "d.draw()\n"
   ]
  },
  {
   "cell_type": "code",
   "execution_count": null,
   "metadata": {
    "tags": []
   },
   "outputs": [],
   "source": [
    "\n",
    "circuit = Circuit('basic long tailed pair amplifier')\n",
    "circuit.include(spice_library['BC547B'])\n",
    "\n",
    "circuit.V('1', '+15V', circuit.gnd, 15@u_V)\n",
    "circuit.V('2', '-15V', circuit.gnd, -15@u_V)\n",
    "Vin = circuit.V('input', 'input', circuit.gnd, 'DC 1V AC 1V SIN(0 10m 1k)')\n",
    "circuit.R('1', '+15V', 'qcola', 15@u_kOhm)\n",
    "circuit.R('2', '+15V', 'qcolb', 15@u_kOhm)\n",
    "circuit.BJT('1', 'qcola', 'input', 2, model='BC547B')\n",
    "circuit.BJT('2', 'qcolb', circuit.gnd, 2, model='BC547B')\n",
    "circuit.R('3', '2', '-15V', 15@u_kOhm)\n",
    "\n",
    "print(str(circuit))\n",
    "\n"
   ]
  },
  {
   "cell_type": "markdown",
   "metadata": {},
   "source": [
    "![status](https://img.shields.io/github/contributors/othneildrew/Best-README-Template.svg?style=flat-square)\n",
    "\n",
    "## *metall*\n",
    "\n",
    "*table of contents*\n",
    "===================\n",
    "\n",
    "* [*about*](#about)\n",
    "* [*construction*](#construction)\n",
    "* [*calibration*](#calibration)\n",
    "* [*usage*](#usage)\n",
    "* [*credits*](#credits)\n",
    "* [*links*](#links)\n",
    "* [*changelog*](#changelog)\n",
    "  \n",
    "## *about*\n",
    "\n",
    "<img src=\"https://spielhuus.github.io/elektrophon/images/4046-logo-tmb.jpg\" align=\"right\"/>\n",
    "Metalizer is the wavefolder module from Yvess Usson. The module uses the Lockhart waveshaper from Hutchins (Frequency multiplication and division methods. Electronotes 1976, 70) and also used in one section of the serge waveshaper. Yves Usson multiplied the lockhart waveshaper and made it CV controllable. This module creates harsh harmonics. "
   ]
  },
  {
   "cell_type": "markdown",
   "metadata": {},
   "source": [
    "lockhart frequency trippler"
   ]
  },
  {
   "cell_type": "code",
   "execution_count": null,
   "metadata": {},
   "outputs": [],
   "source": [
    "## schema definitions\n",
    "d = schemdraw.Drawing()\n",
    "r1 = d.add(elm.Resistor('down', label='$R_1$', rgtlabel='+15V'))\n",
    "q1 = d.add(elm.transistors.BjtPnp('right', anchor='emitter'))\n",
    "q2 = d.add(elm.transistors.BjtNpn('right', anchor='collector', xy=q1.collector))\n",
    "r2 = d.add(elm.Resistor('down', label='$R_2$', xy=q2.emitter, lftlabel='-15V'))\n",
    "\n",
    "d.draw()"
   ]
  },
  {
   "cell_type": "code",
   "execution_count": 5,
   "metadata": {
    "tags": []
   },
   "outputs": [
    {
     "output_type": "stream",
     "name": "stdout",
     "text": ".title lockhart frequency trippler\n.include /home/etienne/Documents/elektrophon/lib/spice/transistor/bc5x7.lib\nV1 +15V 0 15V\nV2 -15V 0 -15V\nVinput input 0 DC 1V AC 0.1V SIN(0 .1V 1k)\nR1 +15V qema 15kOhm\nR2 -15V qemb 15kOhm\nQ1 output input qema BC556B\nQ2 output input qemb BC846B\n\n"
    }
   ],
   "source": [
    "circuit = Circuit('lockhart frequency trippler')\n",
    "circuit.include(spice_library['BC846B'])\n",
    "circuit.include(spice_library['BC556B'])\n",
    "\n",
    "circuit.V('1', '+15V', circuit.gnd, 15@u_V)\n",
    "circuit.V('2', '-15V', circuit.gnd, -15@u_V)\n",
    "Vin = circuit.V('input', 'input', circuit.gnd, 'DC 1V AC 0.1V SIN(0 1V 1k)')\n",
    "circuit.R('1', '+15V', 'qema', 15@u_kOhm)\n",
    "circuit.R('2', '-15V', 'qemb', 15@u_kOhm)\n",
    "circuit.BJT('1', 'output', 'input', 'qema', model='BC556B')\n",
    "circuit.BJT('2', 'output','input', 'qemb', model='BC846B')\n",
    "\n",
    "print(str(circuit))"
   ]
  },
  {
   "cell_type": "code",
   "execution_count": 6,
   "metadata": {
    "tags": []
   },
   "outputs": [
    {
     "output_type": "stream",
     "name": "stdout",
     "text": "\u001b[1;32m2020-07-30 16:23:09,579\u001b[0m - \u001b[1;34mPySpice.Spice.NgSpice.Shared.NgSpiceShared._send_char\u001b[0m - \u001b[1;31mERROR\u001b[0m - Error: bad type for debug var\n\u001b[1;32m2020-07-30 16:23:09,580\u001b[0m - \u001b[1;34mPySpice.Spice.NgSpice.Shared.NgSpiceShared._send_char\u001b[0m - \u001b[1;31mWARNING\u001b[0m - Warning: ngspice compiled without debug messages\n"
    },
    {
     "output_type": "display_data",
     "data": {
      "text/plain": "<Figure size 1440x720 with 1 Axes>",
      "image/svg+xml": "<?xml version=\"1.0\" encoding=\"utf-8\" standalone=\"no\"?>\n<!DOCTYPE svg PUBLIC \"-//W3C//DTD SVG 1.1//EN\"\n  \"http://www.w3.org/Graphics/SVG/1.1/DTD/svg11.dtd\">\n<!-- Created with matplotlib (https://matplotlib.org/) -->\n<svg height=\"712.15625pt\" version=\"1.1\" viewBox=\"0 0 1432.510937 712.15625\" width=\"1432.510937pt\" xmlns=\"http://www.w3.org/2000/svg\" xmlns:xlink=\"http://www.w3.org/1999/xlink\">\n <metadata>\n  <rdf:RDF xmlns:cc=\"http://creativecommons.org/ns#\" xmlns:dc=\"http://purl.org/dc/elements/1.1/\" xmlns:rdf=\"http://www.w3.org/1999/02/22-rdf-syntax-ns#\">\n   <cc:Work>\n    <dc:type rdf:resource=\"http://purl.org/dc/dcmitype/StillImage\"/>\n    <dc:date>2020-07-30T16:23:09.916474</dc:date>\n    <dc:format>image/svg+xml</dc:format>\n    <dc:creator>\n     <cc:Agent>\n      <dc:title>Matplotlib v3.3.0, https://matplotlib.org/</dc:title>\n     </cc:Agent>\n    </dc:creator>\n   </cc:Work>\n  </rdf:RDF>\n </metadata>\n <defs>\n  <style type=\"text/css\">*{stroke-linecap:butt;stroke-linejoin:round;}</style>\n </defs>\n <g id=\"figure_1\">\n  <g id=\"patch_1\">\n   <path d=\"M 0 712.15625 \nL 1432.510937 712.15625 \nL 1432.510937 0 \nL 0 0 \nz\n\" style=\"fill:none;\"/>\n  </g>\n  <g id=\"axes_1\">\n   <g id=\"patch_2\">\n    <path d=\"M 52.160938 674.6 \nL 1425.310938 674.6 \nL 1425.310938 7.2 \nL 52.160938 7.2 \nz\n\" style=\"fill:#ffffff;\"/>\n   </g>\n   <g id=\"matplotlib.axis_1\">\n    <g id=\"xtick_1\">\n     <g id=\"line2d_1\">\n      <path clip-path=\"url(#p6b6767e697)\" d=\"M 114.576847 674.6 \nL 114.576847 7.2 \n\" style=\"fill:none;stroke:#b0b0b0;stroke-linecap:square;stroke-width:0.8;\"/>\n     </g>\n     <g id=\"line2d_2\">\n      <defs>\n       <path d=\"M 0 0 \nL 0 3.5 \n\" id=\"mf6a9abb2d8\" style=\"stroke:#000000;stroke-width:0.8;\"/>\n      </defs>\n      <g>\n       <use style=\"stroke:#000000;stroke-width:0.8;\" x=\"114.576847\" xlink:href=\"#mf6a9abb2d8\" y=\"674.6\"/>\n      </g>\n     </g>\n     <g id=\"text_1\">\n      <!-- 0 -->\n      <g transform=\"translate(111.395597 689.198437)scale(0.1 -0.1)\">\n       <defs>\n        <path d=\"M 31.78125 66.40625 \nQ 24.171875 66.40625 20.328125 58.90625 \nQ 16.5 51.421875 16.5 36.375 \nQ 16.5 21.390625 20.328125 13.890625 \nQ 24.171875 6.390625 31.78125 6.390625 \nQ 39.453125 6.390625 43.28125 13.890625 \nQ 47.125 21.390625 47.125 36.375 \nQ 47.125 51.421875 43.28125 58.90625 \nQ 39.453125 66.40625 31.78125 66.40625 \nz\nM 31.78125 74.21875 \nQ 44.046875 74.21875 50.515625 64.515625 \nQ 56.984375 54.828125 56.984375 36.375 \nQ 56.984375 17.96875 50.515625 8.265625 \nQ 44.046875 -1.421875 31.78125 -1.421875 \nQ 19.53125 -1.421875 13.0625 8.265625 \nQ 6.59375 17.96875 6.59375 36.375 \nQ 6.59375 54.828125 13.0625 64.515625 \nQ 19.53125 74.21875 31.78125 74.21875 \nz\n\" id=\"DejaVuSans-48\"/>\n       </defs>\n       <use xlink:href=\"#DejaVuSans-48\"/>\n      </g>\n     </g>\n    </g>\n    <g id=\"xtick_2\">\n     <g id=\"line2d_3\">\n      <path clip-path=\"url(#p6b6767e697)\" d=\"M 357.440306 674.6 \nL 357.440306 7.2 \n\" style=\"fill:none;stroke:#b0b0b0;stroke-linecap:square;stroke-width:0.8;\"/>\n     </g>\n     <g id=\"line2d_4\">\n      <g>\n       <use style=\"stroke:#000000;stroke-width:0.8;\" x=\"357.440306\" xlink:href=\"#mf6a9abb2d8\" y=\"674.6\"/>\n      </g>\n     </g>\n     <g id=\"text_2\">\n      <!-- 100 -->\n      <g transform=\"translate(347.896556 689.198437)scale(0.1 -0.1)\">\n       <defs>\n        <path d=\"M 12.40625 8.296875 \nL 28.515625 8.296875 \nL 28.515625 63.921875 \nL 10.984375 60.40625 \nL 10.984375 69.390625 \nL 28.421875 72.90625 \nL 38.28125 72.90625 \nL 38.28125 8.296875 \nL 54.390625 8.296875 \nL 54.390625 0 \nL 12.40625 0 \nz\n\" id=\"DejaVuSans-49\"/>\n       </defs>\n       <use xlink:href=\"#DejaVuSans-49\"/>\n       <use x=\"63.623047\" xlink:href=\"#DejaVuSans-48\"/>\n       <use x=\"127.246094\" xlink:href=\"#DejaVuSans-48\"/>\n      </g>\n     </g>\n    </g>\n    <g id=\"xtick_3\">\n     <g id=\"line2d_5\">\n      <path clip-path=\"url(#p6b6767e697)\" d=\"M 600.303766 674.6 \nL 600.303766 7.2 \n\" style=\"fill:none;stroke:#b0b0b0;stroke-linecap:square;stroke-width:0.8;\"/>\n     </g>\n     <g id=\"line2d_6\">\n      <g>\n       <use style=\"stroke:#000000;stroke-width:0.8;\" x=\"600.303766\" xlink:href=\"#mf6a9abb2d8\" y=\"674.6\"/>\n      </g>\n     </g>\n     <g id=\"text_3\">\n      <!-- 200 -->\n      <g transform=\"translate(590.760016 689.198437)scale(0.1 -0.1)\">\n       <defs>\n        <path d=\"M 19.1875 8.296875 \nL 53.609375 8.296875 \nL 53.609375 0 \nL 7.328125 0 \nL 7.328125 8.296875 \nQ 12.9375 14.109375 22.625 23.890625 \nQ 32.328125 33.6875 34.8125 36.53125 \nQ 39.546875 41.84375 41.421875 45.53125 \nQ 43.3125 49.21875 43.3125 52.78125 \nQ 43.3125 58.59375 39.234375 62.25 \nQ 35.15625 65.921875 28.609375 65.921875 \nQ 23.96875 65.921875 18.8125 64.3125 \nQ 13.671875 62.703125 7.8125 59.421875 \nL 7.8125 69.390625 \nQ 13.765625 71.78125 18.9375 73 \nQ 24.125 74.21875 28.421875 74.21875 \nQ 39.75 74.21875 46.484375 68.546875 \nQ 53.21875 62.890625 53.21875 53.421875 \nQ 53.21875 48.921875 51.53125 44.890625 \nQ 49.859375 40.875 45.40625 35.40625 \nQ 44.1875 33.984375 37.640625 27.21875 \nQ 31.109375 20.453125 19.1875 8.296875 \nz\n\" id=\"DejaVuSans-50\"/>\n       </defs>\n       <use xlink:href=\"#DejaVuSans-50\"/>\n       <use x=\"63.623047\" xlink:href=\"#DejaVuSans-48\"/>\n       <use x=\"127.246094\" xlink:href=\"#DejaVuSans-48\"/>\n      </g>\n     </g>\n    </g>\n    <g id=\"xtick_4\">\n     <g id=\"line2d_7\">\n      <path clip-path=\"url(#p6b6767e697)\" d=\"M 843.167225 674.6 \nL 843.167225 7.2 \n\" style=\"fill:none;stroke:#b0b0b0;stroke-linecap:square;stroke-width:0.8;\"/>\n     </g>\n     <g id=\"line2d_8\">\n      <g>\n       <use style=\"stroke:#000000;stroke-width:0.8;\" x=\"843.167225\" xlink:href=\"#mf6a9abb2d8\" y=\"674.6\"/>\n      </g>\n     </g>\n     <g id=\"text_4\">\n      <!-- 300 -->\n      <g transform=\"translate(833.623475 689.198437)scale(0.1 -0.1)\">\n       <defs>\n        <path d=\"M 40.578125 39.3125 \nQ 47.65625 37.796875 51.625 33 \nQ 55.609375 28.21875 55.609375 21.1875 \nQ 55.609375 10.40625 48.1875 4.484375 \nQ 40.765625 -1.421875 27.09375 -1.421875 \nQ 22.515625 -1.421875 17.65625 -0.515625 \nQ 12.796875 0.390625 7.625 2.203125 \nL 7.625 11.71875 \nQ 11.71875 9.328125 16.59375 8.109375 \nQ 21.484375 6.890625 26.8125 6.890625 \nQ 36.078125 6.890625 40.9375 10.546875 \nQ 45.796875 14.203125 45.796875 21.1875 \nQ 45.796875 27.640625 41.28125 31.265625 \nQ 36.765625 34.90625 28.71875 34.90625 \nL 20.21875 34.90625 \nL 20.21875 43.015625 \nL 29.109375 43.015625 \nQ 36.375 43.015625 40.234375 45.921875 \nQ 44.09375 48.828125 44.09375 54.296875 \nQ 44.09375 59.90625 40.109375 62.90625 \nQ 36.140625 65.921875 28.71875 65.921875 \nQ 24.65625 65.921875 20.015625 65.03125 \nQ 15.375 64.15625 9.8125 62.3125 \nL 9.8125 71.09375 \nQ 15.4375 72.65625 20.34375 73.4375 \nQ 25.25 74.21875 29.59375 74.21875 \nQ 40.828125 74.21875 47.359375 69.109375 \nQ 53.90625 64.015625 53.90625 55.328125 \nQ 53.90625 49.265625 50.4375 45.09375 \nQ 46.96875 40.921875 40.578125 39.3125 \nz\n\" id=\"DejaVuSans-51\"/>\n       </defs>\n       <use xlink:href=\"#DejaVuSans-51\"/>\n       <use x=\"63.623047\" xlink:href=\"#DejaVuSans-48\"/>\n       <use x=\"127.246094\" xlink:href=\"#DejaVuSans-48\"/>\n      </g>\n     </g>\n    </g>\n    <g id=\"xtick_5\">\n     <g id=\"line2d_9\">\n      <path clip-path=\"url(#p6b6767e697)\" d=\"M 1086.030685 674.6 \nL 1086.030685 7.2 \n\" style=\"fill:none;stroke:#b0b0b0;stroke-linecap:square;stroke-width:0.8;\"/>\n     </g>\n     <g id=\"line2d_10\">\n      <g>\n       <use style=\"stroke:#000000;stroke-width:0.8;\" x=\"1086.030685\" xlink:href=\"#mf6a9abb2d8\" y=\"674.6\"/>\n      </g>\n     </g>\n     <g id=\"text_5\">\n      <!-- 400 -->\n      <g transform=\"translate(1076.486935 689.198437)scale(0.1 -0.1)\">\n       <defs>\n        <path d=\"M 37.796875 64.3125 \nL 12.890625 25.390625 \nL 37.796875 25.390625 \nz\nM 35.203125 72.90625 \nL 47.609375 72.90625 \nL 47.609375 25.390625 \nL 58.015625 25.390625 \nL 58.015625 17.1875 \nL 47.609375 17.1875 \nL 47.609375 0 \nL 37.796875 0 \nL 37.796875 17.1875 \nL 4.890625 17.1875 \nL 4.890625 26.703125 \nz\n\" id=\"DejaVuSans-52\"/>\n       </defs>\n       <use xlink:href=\"#DejaVuSans-52\"/>\n       <use x=\"63.623047\" xlink:href=\"#DejaVuSans-48\"/>\n       <use x=\"127.246094\" xlink:href=\"#DejaVuSans-48\"/>\n      </g>\n     </g>\n    </g>\n    <g id=\"xtick_6\">\n     <g id=\"line2d_11\">\n      <path clip-path=\"url(#p6b6767e697)\" d=\"M 1328.894144 674.6 \nL 1328.894144 7.2 \n\" style=\"fill:none;stroke:#b0b0b0;stroke-linecap:square;stroke-width:0.8;\"/>\n     </g>\n     <g id=\"line2d_12\">\n      <g>\n       <use style=\"stroke:#000000;stroke-width:0.8;\" x=\"1328.894144\" xlink:href=\"#mf6a9abb2d8\" y=\"674.6\"/>\n      </g>\n     </g>\n     <g id=\"text_6\">\n      <!-- 500 -->\n      <g transform=\"translate(1319.350394 689.198437)scale(0.1 -0.1)\">\n       <defs>\n        <path d=\"M 10.796875 72.90625 \nL 49.515625 72.90625 \nL 49.515625 64.59375 \nL 19.828125 64.59375 \nL 19.828125 46.734375 \nQ 21.96875 47.46875 24.109375 47.828125 \nQ 26.265625 48.1875 28.421875 48.1875 \nQ 40.625 48.1875 47.75 41.5 \nQ 54.890625 34.8125 54.890625 23.390625 \nQ 54.890625 11.625 47.5625 5.09375 \nQ 40.234375 -1.421875 26.90625 -1.421875 \nQ 22.3125 -1.421875 17.546875 -0.640625 \nQ 12.796875 0.140625 7.71875 1.703125 \nL 7.71875 11.625 \nQ 12.109375 9.234375 16.796875 8.0625 \nQ 21.484375 6.890625 26.703125 6.890625 \nQ 35.15625 6.890625 40.078125 11.328125 \nQ 45.015625 15.765625 45.015625 23.390625 \nQ 45.015625 31 40.078125 35.4375 \nQ 35.15625 39.890625 26.703125 39.890625 \nQ 22.75 39.890625 18.8125 39.015625 \nQ 14.890625 38.140625 10.796875 36.28125 \nz\n\" id=\"DejaVuSans-53\"/>\n       </defs>\n       <use xlink:href=\"#DejaVuSans-53\"/>\n       <use x=\"63.623047\" xlink:href=\"#DejaVuSans-48\"/>\n       <use x=\"127.246094\" xlink:href=\"#DejaVuSans-48\"/>\n      </g>\n     </g>\n    </g>\n    <g id=\"text_7\">\n     <!-- t [s] -->\n     <g transform=\"translate(728.680469 702.876562)scale(0.1 -0.1)\">\n      <defs>\n       <path d=\"M 18.3125 70.21875 \nL 18.3125 54.6875 \nL 36.8125 54.6875 \nL 36.8125 47.703125 \nL 18.3125 47.703125 \nL 18.3125 18.015625 \nQ 18.3125 11.328125 20.140625 9.421875 \nQ 21.96875 7.515625 27.59375 7.515625 \nL 36.8125 7.515625 \nL 36.8125 0 \nL 27.59375 0 \nQ 17.1875 0 13.234375 3.875 \nQ 9.28125 7.765625 9.28125 18.015625 \nL 9.28125 47.703125 \nL 2.6875 47.703125 \nL 2.6875 54.6875 \nL 9.28125 54.6875 \nL 9.28125 70.21875 \nz\n\" id=\"DejaVuSans-116\"/>\n       <path id=\"DejaVuSans-32\"/>\n       <path d=\"M 8.59375 75.984375 \nL 29.296875 75.984375 \nL 29.296875 69 \nL 17.578125 69 \nL 17.578125 -6.203125 \nL 29.296875 -6.203125 \nL 29.296875 -13.1875 \nL 8.59375 -13.1875 \nz\n\" id=\"DejaVuSans-91\"/>\n       <path d=\"M 44.28125 53.078125 \nL 44.28125 44.578125 \nQ 40.484375 46.53125 36.375 47.5 \nQ 32.28125 48.484375 27.875 48.484375 \nQ 21.1875 48.484375 17.84375 46.4375 \nQ 14.5 44.390625 14.5 40.28125 \nQ 14.5 37.15625 16.890625 35.375 \nQ 19.28125 33.59375 26.515625 31.984375 \nL 29.59375 31.296875 \nQ 39.15625 29.25 43.1875 25.515625 \nQ 47.21875 21.78125 47.21875 15.09375 \nQ 47.21875 7.46875 41.1875 3.015625 \nQ 35.15625 -1.421875 24.609375 -1.421875 \nQ 20.21875 -1.421875 15.453125 -0.5625 \nQ 10.6875 0.296875 5.421875 2 \nL 5.421875 11.28125 \nQ 10.40625 8.6875 15.234375 7.390625 \nQ 20.0625 6.109375 24.8125 6.109375 \nQ 31.15625 6.109375 34.5625 8.28125 \nQ 37.984375 10.453125 37.984375 14.40625 \nQ 37.984375 18.0625 35.515625 20.015625 \nQ 33.0625 21.96875 24.703125 23.78125 \nL 21.578125 24.515625 \nQ 13.234375 26.265625 9.515625 29.90625 \nQ 5.8125 33.546875 5.8125 39.890625 \nQ 5.8125 47.609375 11.28125 51.796875 \nQ 16.75 56 26.8125 56 \nQ 31.78125 56 36.171875 55.265625 \nQ 40.578125 54.546875 44.28125 53.078125 \nz\n\" id=\"DejaVuSans-115\"/>\n       <path d=\"M 30.421875 75.984375 \nL 30.421875 -13.1875 \nL 9.71875 -13.1875 \nL 9.71875 -6.203125 \nL 21.390625 -6.203125 \nL 21.390625 69 \nL 9.71875 69 \nL 9.71875 75.984375 \nz\n\" id=\"DejaVuSans-93\"/>\n      </defs>\n      <use xlink:href=\"#DejaVuSans-116\"/>\n      <use x=\"39.208984\" xlink:href=\"#DejaVuSans-32\"/>\n      <use x=\"70.996094\" xlink:href=\"#DejaVuSans-91\"/>\n      <use x=\"110.009766\" xlink:href=\"#DejaVuSans-115\"/>\n      <use x=\"162.109375\" xlink:href=\"#DejaVuSans-93\"/>\n     </g>\n    </g>\n   </g>\n   <g id=\"matplotlib.axis_2\">\n    <g id=\"ytick_1\">\n     <g id=\"line2d_13\">\n      <path clip-path=\"url(#p6b6767e697)\" d=\"M 52.160938 581.591077 \nL 1425.310938 581.591077 \n\" style=\"fill:none;stroke:#b0b0b0;stroke-linecap:square;stroke-width:0.8;\"/>\n     </g>\n     <g id=\"line2d_14\">\n      <defs>\n       <path d=\"M 0 0 \nL -3.5 0 \n\" id=\"m277fc5e5e7\" style=\"stroke:#000000;stroke-width:0.8;\"/>\n      </defs>\n      <g>\n       <use style=\"stroke:#000000;stroke-width:0.8;\" x=\"52.160938\" xlink:href=\"#m277fc5e5e7\" y=\"581.591077\"/>\n      </g>\n     </g>\n     <g id=\"text_8\">\n      <!-- −0.4 -->\n      <g transform=\"translate(20.878125 585.390296)scale(0.1 -0.1)\">\n       <defs>\n        <path d=\"M 10.59375 35.5 \nL 73.1875 35.5 \nL 73.1875 27.203125 \nL 10.59375 27.203125 \nz\n\" id=\"DejaVuSans-8722\"/>\n        <path d=\"M 10.6875 12.40625 \nL 21 12.40625 \nL 21 0 \nL 10.6875 0 \nz\n\" id=\"DejaVuSans-46\"/>\n       </defs>\n       <use xlink:href=\"#DejaVuSans-8722\"/>\n       <use x=\"83.789062\" xlink:href=\"#DejaVuSans-48\"/>\n       <use x=\"147.412109\" xlink:href=\"#DejaVuSans-46\"/>\n       <use x=\"179.199219\" xlink:href=\"#DejaVuSans-52\"/>\n      </g>\n     </g>\n    </g>\n    <g id=\"ytick_2\">\n     <g id=\"line2d_15\">\n      <path clip-path=\"url(#p6b6767e697)\" d=\"M 52.160938 460.957861 \nL 1425.310938 460.957861 \n\" style=\"fill:none;stroke:#b0b0b0;stroke-linecap:square;stroke-width:0.8;\"/>\n     </g>\n     <g id=\"line2d_16\">\n      <g>\n       <use style=\"stroke:#000000;stroke-width:0.8;\" x=\"52.160938\" xlink:href=\"#m277fc5e5e7\" y=\"460.957861\"/>\n      </g>\n     </g>\n     <g id=\"text_9\">\n      <!-- −0.2 -->\n      <g transform=\"translate(20.878125 464.75708)scale(0.1 -0.1)\">\n       <use xlink:href=\"#DejaVuSans-8722\"/>\n       <use x=\"83.789062\" xlink:href=\"#DejaVuSans-48\"/>\n       <use x=\"147.412109\" xlink:href=\"#DejaVuSans-46\"/>\n       <use x=\"179.199219\" xlink:href=\"#DejaVuSans-50\"/>\n      </g>\n     </g>\n    </g>\n    <g id=\"ytick_3\">\n     <g id=\"line2d_17\">\n      <path clip-path=\"url(#p6b6767e697)\" d=\"M 52.160938 340.324644 \nL 1425.310938 340.324644 \n\" style=\"fill:none;stroke:#b0b0b0;stroke-linecap:square;stroke-width:0.8;\"/>\n     </g>\n     <g id=\"line2d_18\">\n      <g>\n       <use style=\"stroke:#000000;stroke-width:0.8;\" x=\"52.160938\" xlink:href=\"#m277fc5e5e7\" y=\"340.324644\"/>\n      </g>\n     </g>\n     <g id=\"text_10\">\n      <!-- 0.0 -->\n      <g transform=\"translate(29.257812 344.123863)scale(0.1 -0.1)\">\n       <use xlink:href=\"#DejaVuSans-48\"/>\n       <use x=\"63.623047\" xlink:href=\"#DejaVuSans-46\"/>\n       <use x=\"95.410156\" xlink:href=\"#DejaVuSans-48\"/>\n      </g>\n     </g>\n    </g>\n    <g id=\"ytick_4\">\n     <g id=\"line2d_19\">\n      <path clip-path=\"url(#p6b6767e697)\" d=\"M 52.160938 219.691428 \nL 1425.310938 219.691428 \n\" style=\"fill:none;stroke:#b0b0b0;stroke-linecap:square;stroke-width:0.8;\"/>\n     </g>\n     <g id=\"line2d_20\">\n      <g>\n       <use style=\"stroke:#000000;stroke-width:0.8;\" x=\"52.160938\" xlink:href=\"#m277fc5e5e7\" y=\"219.691428\"/>\n      </g>\n     </g>\n     <g id=\"text_11\">\n      <!-- 0.2 -->\n      <g transform=\"translate(29.257812 223.490647)scale(0.1 -0.1)\">\n       <use xlink:href=\"#DejaVuSans-48\"/>\n       <use x=\"63.623047\" xlink:href=\"#DejaVuSans-46\"/>\n       <use x=\"95.410156\" xlink:href=\"#DejaVuSans-50\"/>\n      </g>\n     </g>\n    </g>\n    <g id=\"ytick_5\">\n     <g id=\"line2d_21\">\n      <path clip-path=\"url(#p6b6767e697)\" d=\"M 52.160938 99.058212 \nL 1425.310938 99.058212 \n\" style=\"fill:none;stroke:#b0b0b0;stroke-linecap:square;stroke-width:0.8;\"/>\n     </g>\n     <g id=\"line2d_22\">\n      <g>\n       <use style=\"stroke:#000000;stroke-width:0.8;\" x=\"52.160938\" xlink:href=\"#m277fc5e5e7\" y=\"99.058212\"/>\n      </g>\n     </g>\n     <g id=\"text_12\">\n      <!-- 0.4 -->\n      <g transform=\"translate(29.257812 102.857431)scale(0.1 -0.1)\">\n       <use xlink:href=\"#DejaVuSans-48\"/>\n       <use x=\"63.623047\" xlink:href=\"#DejaVuSans-46\"/>\n       <use x=\"95.410156\" xlink:href=\"#DejaVuSans-52\"/>\n      </g>\n     </g>\n    </g>\n    <g id=\"text_13\">\n     <!-- [V] -->\n     <g transform=\"translate(14.798438 348.221875)rotate(-90)scale(0.1 -0.1)\">\n      <defs>\n       <path d=\"M 28.609375 0 \nL 0.78125 72.90625 \nL 11.078125 72.90625 \nL 34.1875 11.53125 \nL 57.328125 72.90625 \nL 67.578125 72.90625 \nL 39.796875 0 \nz\n\" id=\"DejaVuSans-86\"/>\n      </defs>\n      <use xlink:href=\"#DejaVuSans-91\"/>\n      <use x=\"39.013672\" xlink:href=\"#DejaVuSans-86\"/>\n      <use x=\"107.421875\" xlink:href=\"#DejaVuSans-93\"/>\n     </g>\n    </g>\n   </g>\n   <g id=\"line2d_23\">\n    <path clip-path=\"url(#p6b6767e697)\" d=\"M 114.576847 57.131097 \nL 124.291385 56.919256 \nL 126.72002 57.355962 \nL 129.148654 59.786073 \nL 131.577289 70.324567 \nL 134.005923 127.817846 \nL 136.434558 587.19131 \nL 138.863193 644.263636 \nL 141.291827 633.525005 \nL 143.720462 640.810524 \nL 146.149096 637.794306 \nL 148.577731 639.082693 \nL 151.006366 637.911596 \nL 153.435 637.213827 \nL 155.863635 634.246004 \nL 158.292269 631.607044 \nL 160.720904 628.490785 \nL 165.578173 623.76818 \nL 168.006808 622.285671 \nL 170.435442 621.113579 \nL 172.864077 620.839724 \nL 175.292711 621.001245 \nL 177.721346 622.014965 \nL 180.149981 623.45906 \nL 182.578615 625.622144 \nL 185.00725 628.07685 \nL 192.293154 636.708108 \nL 194.721788 638.693406 \nL 197.150423 639.147862 \nL 199.579057 634.288678 \nL 202.007692 595.967812 \nL 204.436327 192.529156 \nL 206.864961 53.884727 \nL 209.293596 37.536364 \nL 211.72223 44.906908 \nL 214.150865 43.739511 \nL 216.5795 49.71312 \nL 219.008134 51.07051 \nL 221.436769 55.816108 \nL 223.865403 57.140513 \nL 226.294038 60.507547 \nL 228.722673 61.524422 \nL 231.151307 63.499202 \nL 233.579942 63.246882 \nL 236.008576 63.733309 \nL 238.437211 62.209689 \nL 240.865846 61.289202 \nL 243.29448 58.56202 \nL 245.723115 56.48704 \nL 248.151749 52.852471 \nL 250.580384 50.10219 \nL 253.009019 46.142221 \nL 255.437653 43.59113 \nL 257.866288 40.510743 \nL 260.294922 40.217964 \nL 262.723557 41.990093 \nL 265.152191 57.974868 \nL 267.580826 134.776965 \nL 270.009461 630.280575 \nL 272.438095 641.742564 \nL 274.86673 636.173586 \nL 277.295364 638.935953 \nL 279.723999 634.324856 \nL 282.152634 633.156098 \nL 284.581268 628.886096 \nL 287.009903 627.176457 \nL 289.438537 624.250213 \nL 291.867172 622.884435 \nL 294.295807 621.234246 \nL 299.153076 620.773462 \nL 304.010345 622.893432 \nL 308.867614 627.255815 \nL 311.296249 630.232228 \nL 313.724883 632.978381 \nL 316.153518 636.033929 \nL 318.582153 638.156744 \nL 321.010787 639.397803 \nL 323.439422 636.317392 \nL 325.868056 619.853357 \nL 328.296691 239.130146 \nL 330.725326 70.861244 \nL 333.15396 37.724785 \nL 335.582595 43.24167 \nL 338.011229 42.299258 \nL 340.439864 47.510171 \nL 342.868499 49.010918 \nL 345.297133 53.733345 \nL 347.725768 55.726515 \nL 350.154402 59.112758 \nL 352.583037 60.690327 \nL 355.011671 62.795856 \nL 357.440306 63.186767 \nL 359.868941 63.865381 \nL 362.297575 62.958527 \nL 364.72621 62.220541 \nL 367.154844 60.046401 \nL 369.583479 58.074067 \nL 372.012114 54.870087 \nL 374.440748 52.05382 \nL 376.869383 48.308998 \nL 379.298017 45.358874 \nL 381.726652 42.026415 \nL 384.155287 40.442423 \nL 386.583921 40.079902 \nL 389.012556 46.509856 \nL 391.44119 73.278332 \nL 393.869825 239.339542 \nL 396.29846 642.164366 \nL 398.727094 635.999477 \nL 401.155729 638.451696 \nL 403.584363 633.163007 \nL 406.012998 632.042644 \nL 408.441633 627.823922 \nL 410.870267 626.464236 \nL 413.298902 623.5454 \nL 415.727536 622.489494 \nL 418.156171 620.914865 \nL 420.584806 621.039102 \nL 423.01344 620.907992 \nL 427.870709 623.450333 \nL 430.299344 625.88066 \nL 432.727979 628.127434 \nL 435.156613 631.275102 \nL 437.585248 633.936161 \nL 440.013882 636.96749 \nL 442.442517 638.660897 \nL 444.871152 639.232853 \nL 447.299786 633.344959 \nL 449.728421 589.460335 \nL 452.157055 182.638924 \nL 454.58569 51.261639 \nL 457.014324 37.78599 \nL 459.442959 45.056312 \nL 461.871594 44.358114 \nL 464.300228 50.120823 \nL 466.728863 51.579431 \nL 469.157497 56.196019 \nL 471.586132 57.550823 \nL 474.014767 60.796281 \nL 476.443401 61.750322 \nL 478.872036 63.596621 \nL 481.30067 63.279015 \nL 483.729305 63.641372 \nL 486.15794 62.047164 \nL 488.586574 61.016325 \nL 491.015209 58.231095 \nL 493.443843 56.072155 \nL 495.872478 52.408934 \nL 498.301113 49.619952 \nL 500.729747 45.688636 \nL 503.158382 43.185977 \nL 505.587016 40.270005 \nL 508.015651 40.284822 \nL 510.444286 42.856429 \nL 512.87292 62.765004 \nL 515.301555 161.194944 \nL 517.730189 636.095805 \nL 520.158824 639.477113 \nL 522.587459 636.168493 \nL 525.016093 634.698435 \nL 527.444728 631.2095 \nL 529.873362 628.747792 \nL 532.301997 625.740361 \nL 537.159266 622.034046 \nL 539.587901 621.269655 \nL 542.016535 620.688616 \nL 544.44517 621.169745 \nL 546.873804 621.949227 \nL 549.302439 623.653509 \nL 551.731074 625.62104 \nL 556.588343 631.027655 \nL 559.016977 634.09692 \nL 561.445612 636.719078 \nL 563.874247 638.863895 \nL 566.302881 638.976805 \nL 568.731516 634.187616 \nL 571.16015 584.620327 \nL 573.588785 186.631645 \nL 576.01742 52.236559 \nL 578.446054 37.731845 \nL 580.874689 45.079433 \nL 583.303323 44.319494 \nL 585.731958 50.149169 \nL 588.160593 51.556761 \nL 590.589227 56.215245 \nL 593.017862 57.524567 \nL 595.446496 60.796243 \nL 597.875131 61.735148 \nL 600.303766 63.603445 \nL 602.7324 63.266174 \nL 605.161035 63.646966 \nL 607.589669 62.036246 \nL 610.018304 61.021975 \nL 612.446939 58.221096 \nL 614.875573 56.077767 \nL 617.304208 52.399222 \nL 619.732842 49.625705 \nL 622.161477 45.678584 \nL 624.590112 43.19206 \nL 627.018746 40.258822 \nL 629.447381 40.59812 \nL 631.876015 43.02955 \nL 634.30465 62.655368 \nL 636.733285 161.185193 \nL 639.161919 636.100319 \nL 641.590554 639.477485 \nL 644.019188 636.16831 \nL 646.447823 634.698557 \nL 648.876457 631.209971 \nL 651.305092 628.747605 \nL 653.733727 625.740644 \nL 658.590996 622.034373 \nL 661.01963 621.269347 \nL 663.448265 620.688959 \nL 665.8769 621.169407 \nL 668.305534 621.949585 \nL 670.734169 623.653151 \nL 673.162803 625.621413 \nL 678.020073 631.028041 \nL 680.448707 634.096527 \nL 682.877342 636.719482 \nL 685.305976 638.863479 \nL 687.734611 638.977237 \nL 690.163246 634.187132 \nL 692.59188 584.621697 \nL 695.020515 186.631091 \nL 697.449149 52.236382 \nL 699.877784 37.731997 \nL 702.306419 45.079304 \nL 704.735053 44.319618 \nL 707.163688 50.149045 \nL 709.592322 51.556882 \nL 712.020957 56.215128 \nL 714.449592 57.524657 \nL 716.878226 60.79609 \nL 719.306861 61.735245 \nL 721.735495 63.603318 \nL 724.16413 63.266261 \nL 726.592765 63.646845 \nL 729.021399 62.036324 \nL 731.450034 61.021865 \nL 733.878668 58.221159 \nL 736.307303 56.077671 \nL 738.735937 52.399262 \nL 741.164572 49.625628 \nL 743.593207 45.678588 \nL 746.021841 43.192011 \nL 748.450476 40.258763 \nL 750.87911 40.598255 \nL 753.307745 43.029427 \nL 755.73638 62.656163 \nL 758.165014 161.185022 \nL 760.593649 636.100629 \nL 763.022283 639.477045 \nL 765.450918 636.168749 \nL 767.879553 634.698114 \nL 770.308187 631.210376 \nL 772.736822 628.747176 \nL 775.165456 625.74106 \nL 780.022726 622.034788 \nL 782.45136 621.268924 \nL 784.879995 620.689375 \nL 787.308629 621.168984 \nL 789.737264 621.950004 \nL 792.165899 623.652724 \nL 794.594533 625.621837 \nL 799.451802 631.028477 \nL 801.880437 634.096078 \nL 804.309072 636.719937 \nL 806.737706 638.863001 \nL 809.166341 638.977732 \nL 811.594975 634.186468 \nL 814.02361 584.625113 \nL 816.452245 186.630073 \nL 818.880879 52.236154 \nL 821.309514 37.732159 \nL 823.738148 45.079169 \nL 826.166783 44.319748 \nL 828.595418 50.148916 \nL 831.024052 51.557008 \nL 833.452687 56.215008 \nL 835.881321 57.524751 \nL 838.309956 60.795938 \nL 840.73859 61.735345 \nL 843.167225 63.60319 \nL 845.59586 63.266351 \nL 848.024494 63.646722 \nL 850.453129 62.036404 \nL 852.881763 61.021753 \nL 855.310398 58.221224 \nL 857.739033 56.077573 \nL 860.167667 52.399305 \nL 862.596302 49.625548 \nL 865.024936 45.678595 \nL 867.453571 43.191959 \nL 869.882206 40.258707 \nL 872.31084 40.598385 \nL 874.739475 43.029308 \nL 877.168109 62.656945 \nL 879.596744 161.184854 \nL 882.025379 636.100941 \nL 884.454013 639.476606 \nL 886.882648 636.169189 \nL 889.311282 634.697672 \nL 891.739917 631.210782 \nL 894.168552 628.746747 \nL 896.597186 625.741476 \nL 901.454455 622.035202 \nL 903.88309 621.268501 \nL 906.311725 620.68979 \nL 908.740359 621.168561 \nL 911.168994 621.950423 \nL 913.597628 623.652298 \nL 916.026263 625.622262 \nL 920.883532 631.028912 \nL 923.312167 634.09563 \nL 925.740801 636.720391 \nL 928.169436 638.862524 \nL 930.598071 638.978225 \nL 933.026705 634.18581 \nL 935.45534 584.628452 \nL 937.883974 186.62908 \nL 940.312609 52.235929 \nL 942.741243 37.73232 \nL 945.169878 45.079033 \nL 947.598513 44.319879 \nL 950.027147 50.148787 \nL 952.455782 51.557133 \nL 954.884416 56.214888 \nL 957.313051 57.524845 \nL 959.741686 60.795785 \nL 962.17032 61.735445 \nL 964.598955 63.603061 \nL 967.027589 63.266442 \nL 969.456224 63.646599 \nL 971.884859 62.036485 \nL 974.313493 61.021642 \nL 976.742128 58.22129 \nL 979.170762 56.077474 \nL 981.599397 52.399349 \nL 984.028032 49.625468 \nL 986.456666 45.678604 \nL 988.885301 43.191907 \nL 991.313935 40.258654 \nL 993.74257 40.598512 \nL 996.171205 43.029192 \nL 998.599839 62.657718 \nL 1001.028474 161.184689 \nL 1003.457108 636.101254 \nL 1005.885743 639.476166 \nL 1008.314378 636.169628 \nL 1010.743012 634.697229 \nL 1013.171647 631.211188 \nL 1015.600281 628.746319 \nL 1018.028916 625.741892 \nL 1022.886185 622.035616 \nL 1025.31482 621.268078 \nL 1027.743454 620.690206 \nL 1030.172089 621.168138 \nL 1032.600723 621.950841 \nL 1035.029358 623.651872 \nL 1037.457993 625.622686 \nL 1042.315262 631.029346 \nL 1044.743896 634.095183 \nL 1047.172531 636.720844 \nL 1049.601166 638.862049 \nL 1052.0298 638.978716 \nL 1054.458435 634.185157 \nL 1056.887069 584.631713 \nL 1059.315704 186.628112 \nL 1061.744339 52.235706 \nL 1064.172973 37.732482 \nL 1066.601608 45.078897 \nL 1069.030242 44.32001 \nL 1071.458877 50.148658 \nL 1073.887512 51.557259 \nL 1076.316146 56.214767 \nL 1078.744781 57.52494 \nL 1081.173415 60.795632 \nL 1083.60205 61.735546 \nL 1086.030685 63.602932 \nL 1088.459319 63.266533 \nL 1090.887954 63.646476 \nL 1093.316588 62.036567 \nL 1095.745223 61.021529 \nL 1098.173858 58.221358 \nL 1100.602492 56.077375 \nL 1103.031127 52.399395 \nL 1105.459761 49.625388 \nL 1107.888396 45.678614 \nL 1110.317031 43.191853 \nL 1112.745665 40.258603 \nL 1115.1743 40.598636 \nL 1117.602934 43.029078 \nL 1120.031569 62.658481 \nL 1122.460204 161.184528 \nL 1124.888838 636.101568 \nL 1127.317473 639.475726 \nL 1129.746107 636.170067 \nL 1132.174742 634.696787 \nL 1134.603376 631.211594 \nL 1137.032011 628.74589 \nL 1139.460646 625.742308 \nL 1144.317915 622.03603 \nL 1146.746549 621.267656 \nL 1149.175184 620.690621 \nL 1151.603819 621.167716 \nL 1154.032453 621.951259 \nL 1156.461088 623.651446 \nL 1158.889722 625.62311 \nL 1163.746992 631.02978 \nL 1166.175626 634.094736 \nL 1168.604261 636.721296 \nL 1171.032895 638.861575 \nL 1173.46153 638.979206 \nL 1175.890165 634.18451 \nL 1178.318799 584.634898 \nL 1180.747434 186.627168 \nL 1183.176068 52.235484 \nL 1185.604703 37.732643 \nL 1188.033338 45.078761 \nL 1190.461972 44.320142 \nL 1192.890607 50.148529 \nL 1195.319241 51.557385 \nL 1197.747876 56.214646 \nL 1200.176511 57.525036 \nL 1202.605145 60.795478 \nL 1205.03378 61.735648 \nL 1207.462414 63.602803 \nL 1209.891049 63.266626 \nL 1212.319684 63.646352 \nL 1214.748318 62.036649 \nL 1217.176953 61.021417 \nL 1219.605587 58.221426 \nL 1222.034222 56.077275 \nL 1224.462856 52.399441 \nL 1226.891491 49.625306 \nL 1229.320126 45.678626 \nL 1231.74876 43.191798 \nL 1234.177395 40.258554 \nL 1236.606029 40.598757 \nL 1239.034664 43.028968 \nL 1241.463299 62.659236 \nL 1243.891933 161.184371 \nL 1246.320568 636.101884 \nL 1248.749202 639.475286 \nL 1251.177837 636.170506 \nL 1253.606472 634.696345 \nL 1256.035106 631.212001 \nL 1258.463741 628.745462 \nL 1260.892375 625.742724 \nL 1265.749645 622.036444 \nL 1268.178279 621.267234 \nL 1270.606914 620.691036 \nL 1273.035548 621.167294 \nL 1275.464183 621.951677 \nL 1277.892818 623.651021 \nL 1280.321452 625.623534 \nL 1285.178721 631.030214 \nL 1287.607356 634.09429 \nL 1290.035991 636.721748 \nL 1292.464625 638.861102 \nL 1294.89326 638.979695 \nL 1297.321894 634.183868 \nL 1299.750529 584.638009 \nL 1302.179164 186.626247 \nL 1304.607798 52.235264 \nL 1307.036433 37.732804 \nL 1309.465067 45.078625 \nL 1311.893702 44.320273 \nL 1314.322337 50.148399 \nL 1316.750971 51.557512 \nL 1319.179606 56.214524 \nL 1321.60824 57.525133 \nL 1324.036875 60.795325 \nL 1326.465509 61.73575 \nL 1328.894144 63.602673 \nL 1331.322779 63.266718 \nL 1333.751413 63.646228 \nL 1336.180048 62.036733 \nL 1338.608682 61.021303 \nL 1341.037317 58.221495 \nL 1343.465952 56.077175 \nL 1345.894586 52.399489 \nL 1348.323221 49.625223 \nL 1350.751855 45.678639 \nL 1353.18049 43.191743 \nL 1355.609125 40.258507 \nL 1358.037759 40.598876 \nL 1360.466394 43.02886 \nL 1362.895028 50.49055 \nL 1362.895028 50.49055 \n\" style=\"fill:none;stroke:#1f77b4;stroke-linecap:square;stroke-width:1.5;\"/>\n   </g>\n   <g id=\"patch_3\">\n    <path d=\"M 52.160938 674.6 \nL 52.160938 7.2 \n\" style=\"fill:none;stroke:#000000;stroke-linecap:square;stroke-linejoin:miter;stroke-width:0.8;\"/>\n   </g>\n   <g id=\"patch_4\">\n    <path d=\"M 1425.310938 674.6 \nL 1425.310938 7.2 \n\" style=\"fill:none;stroke:#000000;stroke-linecap:square;stroke-linejoin:miter;stroke-width:0.8;\"/>\n   </g>\n   <g id=\"patch_5\">\n    <path d=\"M 52.160938 674.6 \nL 1425.310937 674.6 \n\" style=\"fill:none;stroke:#000000;stroke-linecap:square;stroke-linejoin:miter;stroke-width:0.8;\"/>\n   </g>\n   <g id=\"patch_6\">\n    <path d=\"M 52.160938 7.2 \nL 1425.310937 7.2 \n\" style=\"fill:none;stroke:#000000;stroke-linecap:square;stroke-linejoin:miter;stroke-width:0.8;\"/>\n   </g>\n   <g id=\"legend_1\">\n    <g id=\"patch_7\">\n     <path d=\"M 1152.680938 140.68 \nL 1218.234063 140.68 \nQ 1220.234063 140.68 1220.234063 138.68 \nL 1220.234063 125.001875 \nQ 1220.234063 123.001875 1218.234063 123.001875 \nL 1152.680938 123.001875 \nQ 1150.680938 123.001875 1150.680938 125.001875 \nL 1150.680938 138.68 \nQ 1150.680938 140.68 1152.680938 140.68 \nz\n\" style=\"fill:#ffffff;opacity:0.8;stroke:#cccccc;stroke-linejoin:miter;\"/>\n    </g>\n    <g id=\"line2d_24\">\n     <path d=\"M 1154.680938 131.100312 \nL 1174.680938 131.100312 \n\" style=\"fill:none;stroke:#1f77b4;stroke-linecap:square;stroke-width:1.5;\"/>\n    </g>\n    <g id=\"line2d_25\"/>\n    <g id=\"text_14\">\n     <!-- Vin [V] -->\n     <g transform=\"translate(1182.680938 134.600312)scale(0.1 -0.1)\">\n      <defs>\n       <path d=\"M 9.421875 54.6875 \nL 18.40625 54.6875 \nL 18.40625 0 \nL 9.421875 0 \nz\nM 9.421875 75.984375 \nL 18.40625 75.984375 \nL 18.40625 64.59375 \nL 9.421875 64.59375 \nz\n\" id=\"DejaVuSans-105\"/>\n       <path d=\"M 54.890625 33.015625 \nL 54.890625 0 \nL 45.90625 0 \nL 45.90625 32.71875 \nQ 45.90625 40.484375 42.875 44.328125 \nQ 39.84375 48.1875 33.796875 48.1875 \nQ 26.515625 48.1875 22.3125 43.546875 \nQ 18.109375 38.921875 18.109375 30.90625 \nL 18.109375 0 \nL 9.078125 0 \nL 9.078125 54.6875 \nL 18.109375 54.6875 \nL 18.109375 46.1875 \nQ 21.34375 51.125 25.703125 53.5625 \nQ 30.078125 56 35.796875 56 \nQ 45.21875 56 50.046875 50.171875 \nQ 54.890625 44.34375 54.890625 33.015625 \nz\n\" id=\"DejaVuSans-110\"/>\n      </defs>\n      <use xlink:href=\"#DejaVuSans-86\"/>\n      <use x=\"66.158203\" xlink:href=\"#DejaVuSans-105\"/>\n      <use x=\"93.941406\" xlink:href=\"#DejaVuSans-110\"/>\n      <use x=\"157.320312\" xlink:href=\"#DejaVuSans-32\"/>\n      <use x=\"189.107422\" xlink:href=\"#DejaVuSans-91\"/>\n      <use x=\"228.121094\" xlink:href=\"#DejaVuSans-86\"/>\n      <use x=\"296.529297\" xlink:href=\"#DejaVuSans-93\"/>\n     </g>\n    </g>\n   </g>\n  </g>\n </g>\n <defs>\n  <clipPath id=\"p6b6767e697\">\n   <rect height=\"667.4\" width=\"1373.15\" x=\"52.160938\" y=\"7.2\"/>\n  </clipPath>\n </defs>\n</svg>\n"
     },
     "metadata": {
      "needs_background": "light"
     }
    }
   ],
   "source": [
    "simulator = circuit.simulator(temperature=25, nominal_temperature=25)\n",
    "analysis = simulator.transient(step_time=20@u_us, end_time=10@u_ms)\n",
    "\n",
    "figure, ax = plt.subplots(figsize=(10, 8))\n",
    "ax.plot(analysis['input'])  # JackIn input\n",
    "ax.plot(analysis['output'])  # JackIn input\n",
    "ax.legend(('Vin [V]', 'Vout [V]'), loc=(.8, .8))\n",
    "ax.grid()\n",
    "ax.set_xlabel('t [s]')\n",
    "ax.set_ylabel('[V]')\n",
    "\n",
    "plt.tight_layout()\n",
    "plt.show()"
   ]
  },
  {
   "cell_type": "markdown",
   "metadata": {},
   "source": [
    "## *construction*"
   ]
  },
  {
   "cell_type": "code",
   "execution_count": null,
   "metadata": {
    "tags": []
   },
   "outputs": [],
   "source": [
    "# Just the normal prequisites for using matplotlib and numpy in a Jupyter notebook\n",
    "%matplotlib inline\n",
    "# Use the svg backend, in my opinion it just makes better looking plots\n",
    "%config InlineBackend.figure_format = 'svg'\n",
    "\n",
    "from scipy import signal\n",
    "from PySpice.Unit import *\n",
    "from PySpice.Spice.Parser import SpiceParser\n",
    "from PySpice.Spice.Netlist import SubCircuitFactory\n",
    "from PySpice.Spice.Library import SpiceLibrary\n",
    "from PySpice.Probe.Plot import plot\n",
    "from PySpice.Doc.ExampleTools import find_libraries\n",
    "from PySpice.Math import *\n",
    "from pathlib import Path\n",
    "import matplotlib.pyplot as plt\n",
    "import numpy as np\n",
    "import matplotlib.pyplot as plt\n",
    "import unittest\n",
    "\n",
    "# The spice and kicad modules are located above us\n",
    "import sys\n",
    "sys.path.append('../../lib/python')\n",
    "\n",
    "import PySpice.Logging.Logging as Logging\n",
    "logger = Logging.setup_logging()\n",
    "\n",
    "directory_path = Path(os.path.abspath('')).resolve().parent.parent\n",
    "spice_libraries_path = directory_path.joinpath(\"lib\", \"spice\", \"transistor\")\n",
    "spice_library = SpiceLibrary(spice_libraries_path)\n",
    "\n",
    "class q1(SubCircuitFactory):\n",
    "\n",
    "    __name__ = 'q1'\n",
    "\n",
    "    __nodes__ = ('OUT_B', 'IN', 'Net-_Q1-Pad3_')\n",
    "\n",
    "    def __init__(self):\n",
    "\n",
    "        super().__init__()\n",
    "\n",
    "        self.X('q1', 'BC547B', 'OUT_B', 'IN', 'Net-_Q1-Pad3_')\n",
    "\n",
    "class q2(SubCircuitFactory):\n",
    "\n",
    "    __name__ = 'q2'\n",
    "\n",
    "    __nodes__ = ('OUT_B', 'IN', 'Net-_Q1-Pad3_')\n",
    "\n",
    "    def __init__(self):\n",
    "\n",
    "        super().__init__()\n",
    "\n",
    "        self.X('q2', 'BC547B', 'OUT_B', 'IN', 'Net-_Q1-Pad3_')\n",
    "\n",
    "\n",
    "class xu1(SubCircuitFactory):\n",
    "\n",
    "    __name__ = 'xu1'\n",
    "\n",
    "    __nodes__ = ('NON_INVERTING', 'INVERTING', 'POWER_POSITIVE', \"POWER_NEGATIVE\", \"OUT\" )\n",
    "\n",
    "    def __init__(self):\n",
    "\n",
    "        super().__init__()\n",
    "\n",
    "        self.X('xu1', 'OPA2134', \"NON_INVERTING\", \"INVERTING\", \"POWER_POSITIVE\", \"POWER_NEGATIVE\", \"OUT\", \"NSD\")\n",
    "\n",
    "class xu2(SubCircuitFactory):\n",
    "\n",
    "    __name__ = 'xu2'\n",
    "\n",
    "    __nodes__ = ('NON_INVERTING', 'INVERTING', 'POWER_POSITIVE', \"POWER_NEGATIVE\", \"OUT\" )\n",
    "\n",
    "    def __init__(self):\n",
    "\n",
    "        super().__init__()\n",
    "\n",
    "        self.X('xu2', 'OPA2134', \"NON_INVERTING\", \"INVERTING\", \"POWER_POSITIVE\", \"POWER_NEGATIVE\", \"OUT\", \"NSD\")\n",
    "\n",
    "class VJ1(SubCircuitFactory):\n",
    "\n",
    "    __name__ = 'VJ1'\n",
    "    __nodes__ = ('input', 'ground', 'x' )\n",
    "\n",
    "    def __init__(self):\n",
    "\n",
    "        super().__init__()\n",
    "\n",
    "        self.V('IN', 'GND', 'input', 'DC 0V AC 1V SIN(0 5 1k)' )\n",
    "\n",
    "\n",
    "class RJ2(SubCircuitFactory):\n",
    "\n",
    "    __name__ = 'JackOut'\n",
    "    __nodes__ = ('output', 'ground', 'x' )\n",
    "\n",
    "    def __init__(self):\n",
    "\n",
    "        super().__init__()\n",
    "\n",
    "        self.R('load', 'output', 'x', 1000@u_Ω)\n",
    "\n",
    "directory_path = Path(os.path.abspath('')).resolve()\n",
    "kicad_netlist_path = directory_path.joinpath(\n",
    "    'transistor pair5.cir')\n",
    "parser = SpiceParser(path=str(kicad_netlist_path))\n",
    "\n",
    "circuit = parser.build_circuit(ground=5)\n",
    "\n",
    "circuit.include(spice_library['BC547B'])\n",
    "circuit.include(spice_library['OPA2134'])\n",
    "\n",
    "for subcircuit in ( VJ1(), q1(), q2(), xu1() ):\n",
    "    circuit.subcircuit(subcircuit)\n",
    "\n",
    "#circuit.V('V2', '+15V', circuit.gnd, 15@u_V)\n",
    "#circuit.V('V3', '-15V', circuit.gnd, -15@u_V)\n",
    "#circuit.V('V1', 'IN', circuit.gnd, 'DC 0V AC 0V SIN(0 5 1k)')\n",
    "\n",
    "print(str(circuit))\n"
   ]
  },
  {
   "cell_type": "code",
   "execution_count": null,
   "metadata": {
    "tags": []
   },
   "outputs": [],
   "source": [
    "simulator = circuit.simulator(temperature=25, nominal_temperature=25)\n",
    "analysis = simulator.transient(step_time=20@u_us, end_time=10@u_ms)\n",
    "\n",
    "figure, ax = plt.subplots(figsize=(20, 10))\n",
    "ax.plot(analysis['Net-_C1-Pad1_'])  # JackIn input\n",
    "ax.plot(analysis['Net-_R2-Pad1_'])  # Opamp output\n",
    "ax.legend(('Vin [V]', 'Vout [V]'), loc=(.8, .8))\n",
    "ax.grid()\n",
    "ax.set_xlabel('t [s]')\n",
    "ax.set_ylabel('[V]')\n",
    "\n",
    "plt.tight_layout()\n",
    "plt.show()\n",
    "\n",
    "class BufferTest(unittest.TestCase):\n",
    "    \n",
    "#    def setUp(self):\n",
    "#        self.list_of_values = np.arange(1, 22, 1).tolist()\n",
    "#        my_calc.Fibonacci(1)\n",
    "        \n",
    "#    def tearDown(self):\n",
    "#        pass\n",
    "    \n",
    "    def test_min(self):\n",
    "        min_v = 0.0\n",
    "        for v in analysis['Net-_J1-Pad2_']:\n",
    "            tmp_v = v.__float__();\n",
    "            if tmp_v < min_v :\n",
    "                min_v = tmp_v \n",
    "        min_v += 5.0\n",
    "        self.assertTrue(0.001 > min_v)\n",
    "\n",
    "    def test_max(self):\n",
    "        max_v = 0.0\n",
    "        for v in analysis['Net-_R2-Pad1_']:\n",
    "            tmp_v = v.__float__();\n",
    "            if tmp_v < max_v :\n",
    "                max_v = tmp_v \n",
    "        max_v -= 5.0\n",
    "        self.assertTrue(0.001 > max_v)\n",
    "\n",
    "\n",
    "unittest.main(argv=[''], verbosity=2,exit=False)\n"
   ]
  },
  {
   "cell_type": "code",
   "execution_count": null,
   "metadata": {},
   "outputs": [],
   "source": [
    "from kicad import schema\n",
    "fn = 'transistor pair.sch'\n",
    "sch = schema.Sch(fn)\n",
    "\n",
    "from kicad import matplotlib_renderer\n",
    "fig, ax = plt.subplots(figsize = (8, 6))\n",
    "# Add a bit of margin since matplotlib chops off the text otherwise\n",
    "ax.set_xmargin(0.1)\n",
    "ax.set_ymargin(0.1)\n",
    "matplotlib_renderer.render_to_ax(ax, sch)\n",
    "plt.show()"
   ]
  },
  {
   "cell_type": "markdown",
   "metadata": {},
   "source": [
    "the input voltage for the amplifier has to be around 100mV. We need to buffer the input signal and attenuate it to that level.\n",
    "\n",
    "inverting opa amplifier:\n",
    "\n",
    "\\begin{align*}\n",
    "Vout = -Vin * \\left(\\frac{R1}{R2}\\right)\n",
    "\\end{align*}\n",
    "\n",
    "\n",
    "\n"
   ]
  },
  {
   "cell_type": "code",
   "execution_count": null,
   "metadata": {},
   "outputs": [],
   "source": [
    "Vin = 10 #V\n",
    "R1 = 100000 #Ohm\n",
    "R2 = 10000\n",
    "\n",
    "-Vin * ( R2 / R1 )\n"
   ]
  },
  {
   "cell_type": "markdown",
   "metadata": {},
   "source": [
    "## voltage divider\n",
    "\n",
    "the input voltage for the amplifier has to be around 100mV. We need to buffer the input signal and attenuate it to that level.\n",
    "\n",
    "inverting opa amplifier:\n",
    "\n",
    "\\begin{align*}\n",
    "Vout = Vin  * \\left(\\frac{R2}{R1+R2}\\right)\n",
    "\\end{align*}\n"
   ]
  },
  {
   "cell_type": "code",
   "execution_count": null,
   "metadata": {},
   "outputs": [],
   "source": [
    "Vin = 10\n",
    "R1 = 100000\n",
    "R2 = 1000\n",
    "\n",
    "Vin * ( R2 / ( R1 + R2 ) )"
   ]
  },
  {
   "cell_type": "code",
   "execution_count": null,
   "metadata": {
    "tags": []
   },
   "outputs": [],
   "source": [
    "simulator = circuit.simulator(temperature=25, nominal_temperature=25)\n",
    "analysis = simulator.transient(step_time=20@u_us, end_time=10@u_ms)\n",
    "\n",
    "figure, ax = plt.subplots(figsize=(20, 10))\n",
    "ax.plot(analysis['Net-_C1-Pad1_'])  # JackIn input\n",
    "#ax.plot(analysis['Net-_Q1-Pad2_'])  # Opamp output\n",
    "ax.plot(analysis['Net-_J2-Pad2_'])  # Opamp output\n",
    "ax.legend(('Vin [V]', 'Vout [V]', 'Venvelope [V]'), loc=(.8, .8))\n",
    "ax.grid()\n",
    "ax.set_xlabel('t [s]')\n",
    "ax.set_ylabel('[V]')\n",
    "\n",
    "plt.tight_layout()\n",
    "plt.show()"
   ]
  },
  {
   "cell_type": "markdown",
   "metadata": {},
   "source": [
    "## *references*\n",
    "\n",
    "- [BJT Differential Amplifier][1] eCircuit  Center\n",
    "- [Beginners' Guide to Potentiometers][2]  Rod Elliott (ESP)\n",
    "\n",
    "[1]: http://www.ecircuitcenter.com/Circuits/BJT_Diffamp1/BJT_Diffamp1.htm\n",
    "[2]: https://sound-au.com/pots.htm\n",
    "[10]: https://www.mouser.ch/ProductDetail/ALPS/RK09L114001T?qs=Xb8IjHhkxj78e5CYccfZWg%3D%3D\n"
   ]
  },
  {
   "cell_type": "code",
   "execution_count": null,
   "metadata": {},
   "outputs": [],
   "source": []
  }
 ],
 "metadata": {
  "kernelspec": {
   "display_name": "Python 3.8.2 64-bit",
   "language": "python",
   "name": "python38264bitf28cdd56da7a4a91a745d4dca728ac52"
  },
  "language_info": {
   "codemirror_mode": {
    "name": "ipython",
    "version": 3
   },
   "file_extension": ".py",
   "mimetype": "text/x-python",
   "name": "python",
   "nbconvert_exporter": "python",
   "pygments_lexer": "ipython3",
   "version": "3.8.2-final"
  }
 },
 "nbformat": 4,
 "nbformat_minor": 4
}