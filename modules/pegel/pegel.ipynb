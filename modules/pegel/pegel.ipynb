{
 "cells": [
  {
   "cell_type": "code",
   "execution_count": null,
   "metadata": {
    "tags": []
   },
   "outputs": [],
   "source": [
    "# Just the normal prequisites for using matplotlib and numpy in a Jupyter notebook\n",
    "%matplotlib inline\n",
    "# Use the svg backend, in my opinion it just makes better looking plots\n",
    "%config InlineBackend.figure_format = 'svg'\n",
    "\n",
    "import PySpice.Logging.Logging as Logging\n",
    "logger = Logging.setup_logging( logging_level='CRITICAL')\n",
    "\n",
    "import os\n",
    "import sys\n",
    "from pathlib import Path\n",
    "import IPython\n",
    "from scipy import signal\n",
    "import scipy.fftpack\n",
    "from PySpice.Unit import *\n",
    "from PySpice.Spice.Parser import SpiceParser\n",
    "from PySpice.Spice.Netlist import Circuit, SubCircuit, SubCircuitFactory\n",
    "from PySpice.Spice.Library import SpiceLibrary\n",
    "from PySpice.Probe.Plot import plot\n",
    "from PySpice.Doc.ExampleTools import find_libraries\n",
    "from PySpice.Math import *\n",
    "import matplotlib.pyplot as plt\n",
    "import matplotlib.image as mpimg\n",
    "import numpy as np\n",
    "import matplotlib.pyplot as plt\n",
    "import unittest\n",
    "\n",
    "import PySpice.Logging.Logging as Logging\n",
    "logger = Logging.setup_logging()\n",
    "\n",
    "directory_path = Path(os.path.abspath('')).resolve().parent.parent\n",
    "spice_libraries_path = directory_path.joinpath(\"lib\", \"spice\")\n",
    "spice_library = SpiceLibrary(spice_libraries_path)\n",
    "\n",
    "directory_path = Path(os.path.abspath('')).resolve()"
   ]
  },
  {
   "cell_type": "code",
   "execution_count": null,
   "metadata": {},
   "outputs": [],
   "source": []
  },
  {
   "cell_type": "markdown",
   "metadata": {},
   "source": [
    "![module](https://img.shields.io/badge/module-vca-yellow) ![status](https://img.shields.io/badge/status-work%20in%20progress-orange)\n",
    "\n",
    "## *pegel*\n",
    "\n",
    "<a href=\"https://photos.app.goo.gl/pg6iZUC32rTKX5LC7\"><img src=\"https://spielhuus.github.io/elektrophon/images/kontrast-logo-tmb.jpg\" height=\"300px\" align=\"right\"></a>\n",
    "\n",
    "***table of contents***\n",
    "\n",
    "* [*about*](#about)\n",
    "* [*construction*](#construction)\n",
    "* [*calibration*](#calibration)\n",
    "* [*usage*](#usage)\n",
    "* [*credits*](#credits)\n",
    "* [*links*](#links)\n",
    "* [*changelog*](#changelog)\n",
    "  \n",
    "<br/><br/><br/><br/>\n",
    "\n",
    "## *about*\n",
    "\n",
    "pegel is a voltage controlled amplifier (vca). there are various designs to implement a vca. rod elliott (ESP) has an article on vca techniques [[1][1]]. diy synthesizer modules are usualy designed with an integrated vca chip [[2][2]]  or with a differential amplifier [[3][3]]. the integrated vca chips are either obsolete or rather expensive. the differential amplifier can be built with transistors only. the design has some downsides. even in the simulation the result is not symetryc and has a dc offset from the control voltage. this needs a lot of trimming to get an accurate result. but the biggest downside is, that this design can not do proper amplitude modulation (am). when the carrier signal goes below zero the base signal is completely muted. "
   ]
  },
  {
   "cell_type": "code",
   "execution_count": null,
   "metadata": {},
   "outputs": [],
   "source": [
    "#load the diffpair schema\n",
    "kicad_netlist_path = directory_path.joinpath('diffpair', 'diffpair.cir')\n",
    "parser = SpiceParser(path=str(kicad_netlist_path))"
   ]
  },
  {
   "cell_type": "code",
   "execution_count": null,
   "metadata": {
    "tags": []
   },
   "outputs": [],
   "source": [
    "#simulate diffpair with envelope\n",
    "diffpair_envelope = parser.build_circuit(ground=5)\n",
    "diffpair_envelope.include(spice_library['BC547B'])\n",
    "diffpair_envelope.V('1', '+15V', diffpair_envelope.gnd, 'DC 15')\n",
    "diffpair_envelope.V('2', '-15V', diffpair_envelope.gnd, 'DC -15')\n",
    "diffpair_envelope.V('3', 'Vin_a', diffpair_envelope.gnd, 'DC 0V AC 0V SIN(0 25m 1k)')\n",
    "diffpair_envelope.V('4', 'Vin_b', diffpair_envelope.gnd, 'DC 0V AC 0V PULSE(200m -4.5 1m 1u 15m 1u)')\n",
    "simulator = diffpair_envelope.simulator(temperature=25, nominal_temperature=25)\n",
    "analysis_envelope = simulator.transient(step_time=1@u_us, end_time=20@u_ms)"
   ]
  },
  {
   "cell_type": "code",
   "execution_count": null,
   "metadata": {
    "tags": []
   },
   "outputs": [],
   "source": [
    "#simulate  amplitude modulation\n",
    "diffpair_am = parser.build_circuit(ground=5)\n",
    "diffpair_am.include(spice_library['BC547B'])\n",
    "diffpair_am.V('1', '+15V', diffpair_am.gnd, 'DC 15')\n",
    "diffpair_am.V('2', '-15V', diffpair_am.gnd, 'DC -15')\n",
    "diffpair_am.V('3', 'Vin_a', diffpair_am.gnd, 'DC 0V AC 0V SIN(0 25m 1k)')\n",
    "diffpair_am.V('4', 'Vin_b', diffpair_am.gnd, 'DC 0V AC 0V SIN(0 5 100)')\n",
    "\n",
    "simulator = diffpair_am.simulator(temperature=25, nominal_temperature=25)\n",
    "analysis_am = simulator.transient(step_time=1@u_us, end_time=20@u_ms)"
   ]
  },
  {
   "cell_type": "code",
   "execution_count": null,
   "metadata": {
    "tags": []
   },
   "outputs": [],
   "source": [
    "#plot the results\n",
    "fig, (ax0, ax1, ax2) = plt.subplots(nrows=1, ncols=3, sharex=False, figsize=(18, 6))\n",
    "\n",
    "#plot the image\n",
    "img_diffpair_path = directory_path.joinpath('diffpair', 'diffpair.png')\n",
    "img_diffpair = mpimg.imread(str(img_diffpair_path))\n",
    "im = ax0.imshow(img_diffpair)\n",
    "ax0.axis('off')\n",
    "ax0.set_title('long tailed pair differential amplifier', y=-0.2)\n",
    "        \n",
    "#plot with envelope\n",
    "ax1.plot(analysis_envelope['Vin_b'].abscissa*1000, analysis_envelope['Vin_b'] * 0.2 * -1, c='grey')  # envelope input (scaled)\n",
    "ax1.plot(analysis_envelope['Vout_b'].abscissa*1000, analysis_envelope['Vout_b'] - analysis_envelope['Vout_a'], c='orange')  # differential output\n",
    "ax1.grid()\n",
    "ax1.set_xlabel('t [ms]')\n",
    "ax1.set_ylabel('[V]')\n",
    "ax1.set_title('output with a cv envelope', y=-0.2)\n",
    "\n",
    "#plot the amplitude modulation\n",
    "ax2.plot(analysis_am['Vout_b'].abscissa*1000, analysis_am['Vout_b'] - analysis_am['Vout_a'], c='orange')  # differential output\n",
    "ax2.plot(analysis_am['Vout_b'].abscissa*1000, analysis_am['Vin_b'] * 0.2 * -1, c='grey')  # differential output\n",
    "ax2.grid()\n",
    "ax2.set_xlabel('t [ms]')\n",
    "ax2.set_ylabel('[V]')\n",
    "ax2.set_title('output with a sine control voltage.', y=-0.2)\n",
    "plt.show()\n"
   ]
  },
  {
   "cell_type": "markdown",
   "metadata": {},
   "source": [
    "more promising is it to use a four quadrant multiplier, also known as gilbert cell. the gilbert cell is designed around two differential amplifiers. the carrier signal switches between those. the result is a multiplication of the input voltages. the gilbert cell is mostly used for amplitude modulation in radio transmission. if you look at the integratd circuits like the 633 it can modulate signals up in the gigahertz range. the gilbert cell is not described in all details here, there is a good introduction from w2aew [[4][4]].\n",
    "\n",
    "\n"
   ]
  },
  {
   "cell_type": "code",
   "execution_count": null,
   "metadata": {},
   "outputs": [],
   "source": [
    "#load the gilbert_cell schema\n",
    "kicad_netlist_path = directory_path.joinpath('gilbert_cell_2', 'gilbert_cell.cir')\n",
    "parser = SpiceParser(path=str(kicad_netlist_path))"
   ]
  },
  {
   "cell_type": "code",
   "execution_count": null,
   "metadata": {
    "tags": []
   },
   "outputs": [],
   "source": [
    "#simulate with envelope\n",
    "gilbert_cell_envelope = parser.build_circuit(ground=5)\n",
    "gilbert_cell_envelope.include(spice_library['BC547B'])\n",
    "gilbert_cell_envelope.include(spice_library['TL072'])\n",
    "\n",
    "gilbert_cell_envelope.V('1', '+15V', gilbert_cell_envelope.gnd, 'DC 15')\n",
    "gilbert_cell_envelope.V('2', '-15V', gilbert_cell_envelope.gnd, 'DC -15')\n",
    "gilbert_cell_envelope.V('3', 'AUDIO_IN', gilbert_cell_envelope.gnd, 'DC 0V AC 0V SIN(0 10m 1k)')\n",
    "gilbert_cell_envelope.V('4', 'CV_IN', gilbert_cell_envelope.gnd, 'DC 0V AC 0V PULSE(0 20m 1m 0u 10m 1u)')\n",
    "gilbert_cell_envelope.V('5', '+5V', gilbert_cell_envelope.gnd, 'DC 5')\n",
    "gilbert_cell_envelope.V('6', '+2V', gilbert_cell_envelope.gnd, 'DC -7.5')\n",
    "gilbert_cell_envelope.V('7', '+4V', gilbert_cell_envelope.gnd, 'DC 0')\n",
    "\n",
    "simulator = gilbert_cell_envelope.simulator(temperature=25, nominal_temperature=25)\n",
    "analysis_gilbert_cell_envelope = simulator.transient(step_time=1@u_us, end_time=20@u_ms)"
   ]
  },
  {
   "cell_type": "code",
   "execution_count": null,
   "metadata": {
    "tags": []
   },
   "outputs": [],
   "source": [
    "#simulate ring modulation\n",
    "gilbert_am = parser.build_circuit(ground=5)\n",
    "gilbert_am.include(spice_library['BC547B'])\n",
    "gilbert_am.include(spice_library['TL072'])\n",
    "\n",
    "gilbert_am.V('1', '+15V', gilbert_am.gnd, 'DC 15')\n",
    "gilbert_am.V('2', '-15V', gilbert_am.gnd, 'DC -15')\n",
    "gilbert_am.V('3', 'AUDIO_IN', gilbert_am.gnd, 'DC 0V AC 0V SIN(0 10m 1k)')\n",
    "gilbert_am.V('4', 'CV_IN', gilbert_am.gnd, 'DC 0V AC 0V SIN(20m 20m 100)')\n",
    "gilbert_am.V('5', '+5V', gilbert_am.gnd, 'DC 5')\n",
    "gilbert_am.V('6', '+2V', gilbert_am.gnd, 'DC -7.5')\n",
    "gilbert_am.V('7', '+4V', gilbert_am.gnd, 'DC 0')\n",
    "\n",
    "simulator = gilbert_am.simulator(temperature=25, nominal_temperature=25)\n",
    "analysis_gilbert_cell_am = simulator.transient(step_time=1@u_us, end_time=20@u_ms)"
   ]
  },
  {
   "cell_type": "code",
   "execution_count": null,
   "metadata": {
    "tags": []
   },
   "outputs": [],
   "source": [
    "#simulate ring modulation\n",
    "gilbert_ring = parser.build_circuit(ground=5)\n",
    "gilbert_ring.include(spice_library['BC547B'])\n",
    "gilbert_ring.include(spice_library['TL072'])\n",
    "\n",
    "gilbert_ring.V('1', '+15V', gilbert_ring.gnd, 'DC 15')\n",
    "gilbert_ring.V('2', '-15V', gilbert_ring.gnd, 'DC -15')\n",
    "gilbert_ring.V('3', 'AUDIO_IN', gilbert_ring.gnd, 'DC 0V AC 0V SIN(0 10m 1k)')\n",
    "gilbert_ring.V('4', 'CV_IN', gilbert_ring.gnd, 'DC 0V AC 0V SIN(0 20m 100)')\n",
    "gilbert_ring.V('5', '+5V', gilbert_ring.gnd, 'DC 5')\n",
    "gilbert_ring.V('6', '+2V', gilbert_ring.gnd, 'DC -7.5')\n",
    "gilbert_ring.V('7', '+4V', gilbert_ring.gnd, 'DC 0')\n",
    "\n",
    "simulator = gilbert_ring.simulator(temperature=25, nominal_temperature=25)\n",
    "analysis_gilbert_ring= simulator.transient(step_time=1@u_us, end_time=20@u_ms)"
   ]
  },
  {
   "cell_type": "code",
   "execution_count": null,
   "metadata": {
    "tags": []
   },
   "outputs": [],
   "source": [
    "fig, (ax0, ax1, ax2) = plt.subplots(nrows=1, ncols=3, sharex=False, figsize=(18, 6))\n",
    "\n",
    "#plot the image\n",
    "#img_diffpair_path = directory_path.joinpath('gilbert_cell', 'g2074.png')\n",
    "#img_gilbert = mpimg.imread(str(img_diffpair_path))\n",
    "#im = ax0.imshow(img_gilbert)\n",
    "#ax0.axis('off')\n",
    "#ax0.set_title('gilbert cell.', y=-0.2)\n",
    "\n",
    "#plot the ringmodulation\n",
    "ax0.plot(analysis_gilbert_ring['CV_IN'].abscissa*1000, analysis_gilbert_ring['CV_IN']*250, c='grey')  # modulating\n",
    "ax0.plot(analysis_gilbert_ring['OUT'].abscissa*1000, analysis_gilbert_ring['OUT'], c='orange')  # differential output\n",
    "\n",
    "ax0.grid()\n",
    "ax0.set_xlabel('t [ms]')\n",
    "ax0.set_ylabel('[V]')\n",
    "ax0.set_title('DSB-SC (ringmodulation).', y=-0.2)\n",
    "\n",
    "#plot the envelope\n",
    "ax1.plot(analysis_gilbert_cell_envelope['CV_IN'].abscissa*1000, analysis_gilbert_cell_envelope['CV_IN']*250, c='grey')  # modulating\n",
    "ax1.plot(analysis_gilbert_cell_envelope['OUT'].abscissa*1000, analysis_gilbert_cell_envelope['OUT'], c='orange')  # differential output\n",
    "\n",
    "ax1.grid()\n",
    "ax1.set_xlabel('t [ms]')\n",
    "ax1.set_ylabel('[V]')\n",
    "ax1.set_title('output with an envelope control voltage.', y=-0.2)\n",
    "\n",
    "#plot the ring modulation\n",
    "ax2.plot(analysis_gilbert_cell_am['CV_IN'].abscissa*1000, analysis_gilbert_cell_am['CV_IN']*250, c='grey')  # modulating\n",
    "ax2.plot(analysis_gilbert_cell_am['OUT'].abscissa*1000, analysis_gilbert_cell_am['OUT'], c='orange')  # differential \n",
    "ax2.legend(('Vinput b  [V]', 'Vinput a [V]', 'Vout [V]'), loc=(.8, .8))\n",
    "ax2.grid()\n",
    "ax2.set_xlabel('t [ms]')\n",
    "ax2.set_ylabel('[V]')\n",
    "ax2.set_title('output with a sine control voltage.', y=-0.2)\n",
    "\n",
    "plt.show()\n"
   ]
  },
  {
   "cell_type": "markdown",
   "metadata": {},
   "source": [
    "this is not real amplitude modulation. when the signal is negative the phase of the output is inverted. this can be adjusted by the bias voltage of the control voltage. the control voltage has to be positive at all time. \n"
   ]
  },
  {
   "cell_type": "markdown",
   "metadata": {},
   "source": [
    "## *construction*\n",
    "\n",
    "for the final circuit input and output buffering and biasing is needed. the buffering is done with opamps. \n"
   ]
  },
  {
   "source": [
    "first we design the input stage. the input voltage for the X signal should be 10mV and 20mV for the control voltage.\n"
   ],
   "cell_type": "markdown",
   "metadata": {}
  },
  {
   "cell_type": "code",
   "execution_count": null,
   "metadata": {},
   "outputs": [],
   "source": [
    "#load the kicad schema\n",
    "directory_path = Path(os.path.abspath('')).resolve()\n",
    "kicad_netlist_path = directory_path.joinpath('main', 'main.cir')\n",
    "parser = SpiceParser(path=str(kicad_netlist_path))\n"
   ]
  },
  {
   "cell_type": "code",
   "execution_count": null,
   "metadata": {
    "tags": []
   },
   "outputs": [],
   "source": [
    "#ringmodulation\n",
    "ringmod_schema = parser.build_circuit(ground=5)\n",
    "ringmod_schema.include(spice_library['TL072c'])\n",
    "ringmod_schema.include(spice_library['AD633'])\n",
    "\n",
    "ringmod_schema.V('1', '+15V', ringmod_schema.gnd, 'DC 15')\n",
    "ringmod_schema.V('2', '-15V', ringmod_schema.gnd, 'DC -15')\n",
    "ringmod_schema.V('3', 'IN_Xa', ringmod_schema.gnd, 'DC 5V AC 5V SIN(0V 5V 1k)')\n",
    "ringmod_schema.V('4', 'IN_Ya', ringmod_schema.gnd, 'DC 5V AC 5V SIN(0V 5V 100)')\n",
    "ringmod_schema.V('5', 'IN_Za', ringmod_schema.gnd, 'DC 0V AC 0V')\n",
    "\n",
    "simulator = ringmod_schema.simulator(temperature=25, nominal_temperature=25)\n",
    "analysis_ringmod = simulator.transient(step_time=10@u_us, end_time=20@u_ms)"
   ]
  },
  {
   "cell_type": "code",
   "execution_count": null,
   "metadata": {
    "tags": []
   },
   "outputs": [],
   "source": [
    "#amplitude modulation\n",
    "am_schema = parser.build_circuit(ground=5)\n",
    "am_schema.include(spice_library['TL072c'])\n",
    "am_schema.include(spice_library['AD633'])\n",
    "\n",
    "am_schema.V('1', '+15V', am_schema.gnd, 'DC 15')\n",
    "am_schema.V('2', '-15V', am_schema.gnd, 'DC -15')\n",
    "am_schema.V('3', 'IN_Xa', am_schema.gnd, 'DC 10V AC 5V SIN(0V 5V 1k)')\n",
    "am_schema.V('4', 'IN_Ya', am_schema.gnd, 'DC 5V AC 5V SIN(0V 5V 100)')\n",
    "am_schema.V('5', 'IN_Za', am_schema.gnd, 'DC 5V AC 5V SIN(0V 2.5V 1k)')\n",
    "\n",
    "simulator = am_schema.simulator(temperature=25, nominal_temperature=25)\n",
    "analysis_am = simulator.transient(step_time=10@u_us, end_time=20@u_ms)"
   ]
  },
  {
   "source": [
    "#vca\n",
    "vca_schema = parser.build_circuit(ground=5)\n",
    "vca_schema.include(spice_library['TL072c'])\n",
    "vca_schema.include(spice_library['AD633'])\n",
    "\n",
    "vca_schema.V('1', '+15V', vca_schema.gnd, 'DC 15')\n",
    "vca_schema.V('2', '-15V', vca_schema.gnd, 'DC -15')\n",
    "vca_schema.V('3', 'IN_Xa', vca_schema.gnd, 'DC 10V AC 5V SIN(0V 5V 1k)')\n",
    "vca_schema.V('4', 'IN_Ya', vca_schema.gnd, 'DC 5V AC 5V PULSE(0V 10V 1m 1m 15m 1m)')\n",
    "vca_schema.V('5', 'IN_Za', vca_schema.gnd, 'DC 0V AC 0V')\n",
    "\n",
    "simulator = vca_schema.simulator(temperature=25, nominal_temperature=25)\n",
    "analysis_vca = simulator.transient(step_time=10@u_us, end_time=20@u_ms)"
   ],
   "cell_type": "code",
   "metadata": {
    "tags": []
   },
   "execution_count": null,
   "outputs": []
  },
  {
   "cell_type": "code",
   "execution_count": null,
   "metadata": {
    "tags": []
   },
   "outputs": [],
   "source": [
    "fig, (ax0, ax1, ax2) = plt.subplots(nrows=1, ncols=3, sharex=False, figsize=(18, 6))\n",
    "\n",
    "#plot the ringmodulation\n",
    "ax0.plot(analysis_ringmod['IN_Ya'].abscissa*1000, analysis_ringmod['IN_Ya'], c='grey', linestyle=':')\n",
    "ax0.plot(analysis_ringmod['OUT_a'].abscissa*1000, analysis_ringmod['OUT_a'], c='orange') \n",
    "ax0.grid()\n",
    "ax0.set_xlabel('t [ms]')\n",
    "ax0.set_ylabel('[V]')\n",
    "ax0.set_title('DSB-SC (ringmodulation).', y=-0.2)\n",
    "\n",
    "#plot the amplitude modulation\n",
    "ax1.plot(analysis_am['IN_Ya'].abscissa*1000, analysis_am['IN_Ya'], c='grey', linestyle=':') \n",
    "ax1.plot(analysis_am['OUT_a'].abscissa*1000, analysis_am['OUT_a'], c='orange') \n",
    "ax1.grid()\n",
    "ax1.set_xlabel('t [ms]')\n",
    "ax1.set_ylabel('[V]')\n",
    "ax1.set_title('amplitude modulation', y=-0.2)\n",
    "\n",
    "#plot the envelope\n",
    "ax2.plot(analysis_vca['IN_Ya'].abscissa*1000, analysis_vca['IN_Ya'], c='grey', linestyle=':')\n",
    "ax2.plot(analysis_vca['OUT_a'].abscissa*1000, analysis_vca['OUT_a'], c='orange') \n",
    "ax2.grid()\n",
    "ax2.set_xlabel('t [ms]')\n",
    "ax2.set_ylabel('[V]')\n",
    "n = ax2.set_title('envelope control voltage.', y=-0.2)\n"
   ]
  },
  {
   "cell_type": "code",
   "execution_count": null,
   "metadata": {
    "tags": []
   },
   "outputs": [],
   "source": [
    "import unittest\n",
    "\n",
    "class TestInputVoltages(unittest.TestCase):\n",
    "    \n",
    "    def test_ringmod(self):\n",
    "        self.assertAlmostEqual(4.95, np.max(np.array(analysis_ringmod.OUT_a)), places=1, msg='ringmod input max voltage x')\n",
    "        self.assertAlmostEqual(0, np.average(np.array(analysis_ringmod.OUT_a)), places=1, msg='ringmod input average voltage x')\n",
    "\n",
    "    def test_am(self):\n",
    "        self.assertAlmostEqual(9.95, np.max(np.array(analysis_am.OUT_a)), places=1, msg='am input max voltage x')\n",
    "        self.assertAlmostEqual(0, np.average(np.array(analysis_am.OUT_a)), places=1, msg='am input average voltage x')\n",
    "\n",
    "    def test_vca(self):\n",
    "        self.assertAlmostEqual(10, np.max(np.array(analysis_vca.OUT_a)), places=1, msg='vca input voltage x')\n",
    "        self.assertAlmostEqual(0.01, np.average(np.array(analysis_vca.OUT_a)), places=1, msg='vca input voltage y')\n",
    "\n"
   ]
  },
  {
   "cell_type": "code",
   "execution_count": null,
   "metadata": {
    "tags": []
   },
   "outputs": [],
   "source": [
    "unittest.main(argv=[''], verbosity=2, exit=False)"
   ]
  },
  {
   "cell_type": "markdown",
   "metadata": {},
   "source": [
    "## *references*\n",
    "\n",
    "- [VCA Techniques Investigated][1] Rod Elliott (ESP)\n",
    "- [Popular Electronics][2] Keyiing and VCA citcuits for electronic music instruments \n",
    "- [VCA-1][3] Thomas Henry CA3080 vca\n",
    "- [VCA-3][4] René Schmitz differential pair vca\n",
    "- [#223][5]: Basics of the Gilbert Cell | Analog Multiplier | Mixer | Modulator\n",
    "- [#224][6]: AM & DSB-SC Modulation with the Gilbert Cell\n",
    "- [Analog Devices][8]: Analog multiplier application guide \n",
    "- [AD633][9]: Datasheet \n",
    "\n",
    "\n",
    "[1]: https://sound-au.com/articles/vca-techniques.html\n",
    "[2]: https://tinaja.com/glib/pop_elec/mus_keying_vca_1+2_75.pdf\n",
    "[3]: https://www.birthofasynth.com/Thomas_Henry/Pages/VCA-1.html\n",
    "[4]: https://www.schmitzbits.de/vca3.png\n",
    "[5]: https://www.youtube.com/watch?v=7nmmb0pqTU0&t=2s\n",
    "[6]: https://www.youtube.com/watch?v=38OQub2Vi2Q\n",
    "[7]: http://www.ecircuitcenter.com/Circuits/BJT_Diffamp1/BJT_Diffamp1.htm\n",
    "[8]: https://www.analog.com/media/en/training-seminars/design-handbooks/ADI_Multiplier_Applications_Guide.pdf\n",
    "[9]: https://www.analog.com/media/en/technical-documentation/data-sheets/AD633.pdf\n",
    "\n",
    "\n",
    "\n"
   ]
  }
 ],
 "metadata": {
  "kernelspec": {
   "display_name": "Python 3.8.2 64-bit",
   "language": "python",
   "name": "python38264bitf28cdd56da7a4a91a745d4dca728ac52"
  },
  "language_info": {
   "codemirror_mode": {
    "name": "ipython",
    "version": 3
   },
   "file_extension": ".py",
   "mimetype": "text/x-python",
   "name": "python",
   "nbconvert_exporter": "python",
   "pygments_lexer": "ipython3",
   "version": "3.8.5-final"
  }
 },
 "nbformat": 4,
 "nbformat_minor": 4
}