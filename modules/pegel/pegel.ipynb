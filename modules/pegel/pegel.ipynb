{
 "cells": [
  {
   "cell_type": "code",
   "execution_count": null,
   "metadata": {},
   "outputs": [],
   "source": [
    "# Just the normal prequisites for using matplotlib and numpy in a Jupyter notebook\n",
    "%matplotlib inline\n",
    "# Use the svg backend, in my opinion it just makes better looking plots\n",
    "%config InlineBackend.figure_format = 'svg'\n",
    "\n",
    "import os\n",
    "from scipy import signal\n",
    "import scipy.fftpack\n",
    "from PySpice.Unit import *\n",
    "from PySpice.Spice.Parser import SpiceParser\n",
    "from PySpice.Spice.Netlist import Circuit, SubCircuit, SubCircuitFactory\n",
    "from PySpice.Spice.Library import SpiceLibrary\n",
    "from PySpice.Probe.Plot import plot\n",
    "from PySpice.Doc.ExampleTools import find_libraries\n",
    "from PySpice.Math import *\n",
    "from pathlib import Path\n",
    "import matplotlib.pyplot as plt\n",
    "import matplotlib.image as mpimg\n",
    "import numpy as np\n",
    "import matplotlib.pyplot as plt\n",
    "import unittest\n",
    "\n",
    "import SchemDraw as schemdraw\n",
    "import SchemDraw.elements as elm\n",
    "\n",
    "# The spice and kicad modules are located above us\n",
    "import sys\n",
    "sys.path.append('../../lib/python')\n",
    "\n",
    "import PySpice.Logging.Logging as Logging\n",
    "logger = Logging.setup_logging()\n",
    "\n",
    "directory_path = Path(os.path.abspath('')).resolve().parent.parent\n",
    "spice_libraries_path = directory_path.joinpath(\"lib\", \"spice\")\n",
    "spice_library = SpiceLibrary(spice_libraries_path)\n",
    "\n",
    "directory_path = Path(os.path.abspath('')).resolve()\n"
   ]
  },
  {
   "cell_type": "code",
   "execution_count": null,
   "metadata": {},
   "outputs": [],
   "source": []
  },
  {
   "cell_type": "markdown",
   "metadata": {},
   "source": [
    "![module](https://img.shields.io/badge/module-vca-yellow)\n",
    "![status](https://img.shields.io/badge/status-work%20in%20progress-orange)\n",
    "\n",
    "## *pegel*\n",
    "\n",
    "<a href=\"https://photos.app.goo.gl/pg6iZUC32rTKX5LC7\"><img src=\"https://spielhuus.github.io/elektrophon/images/kontrast-logo-tmb.jpg\" height=\"300px\" align=\"right\"></a>\n",
    "\n",
    "***table of contents***\n",
    "\n",
    "* [*about*](#about)\n",
    "* [*construction*](#construction)\n",
    "* [*calibration*](#calibration)\n",
    "* [*usage*](#usage)\n",
    "* [*credits*](#credits)\n",
    "* [*links*](#links)\n",
    "* [*changelog*](#changelog)\n",
    "  \n",
    "<br/><br/><br/><br/>\n",
    "\n",
    "## *about*\n",
    "\n",
    "pegel is a voltage controlled amplifier (vca). there are various designs to implement a vca. rod elliott (ESP) has an article on vca techniques [[1][1]]. diy synthesizer modules are usualy designed with an integrated vca chip [[2][2]]  or with a differential amplifier [[3][3]]. the integrated vca chips are either obsolete or rather expensive. the differential amplifier can be built with transistors only. the design has some downsides. even in the simulation the result is not symetryc and has a dc offset from the control voltage. this needs a lot of trimming to get an accurate result. but the biggest downside is, that this design can not do proper amplitude modulation (am). when the carrier signal goes below zero the base signal is completely muted. "
   ]
  },
  {
   "cell_type": "code",
   "execution_count": null,
   "metadata": {},
   "outputs": [],
   "source": [
    "#load the diffpair schema\n",
    "kicad_netlist_path = directory_path.joinpath('diffpair', 'diffpair.cir')\n",
    "parser = SpiceParser(path=str(kicad_netlist_path))"
   ]
  },
  {
   "cell_type": "code",
   "execution_count": null,
   "metadata": {
    "tags": []
   },
   "outputs": [],
   "source": [
    "#simulate diffpair with envelope\n",
    "diffpair_envelope = parser.build_circuit(ground=5)\n",
    "diffpair_envelope.include(spice_library['BC547B'])\n",
    "diffpair_envelope.V('1', '+15V', diffpair_envelope.gnd, 'DC 15')\n",
    "diffpair_envelope.V('2', '-15V', diffpair_envelope.gnd, 'DC -15')\n",
    "diffpair_envelope.V('3', 'Vin_a', diffpair_envelope.gnd, 'DC 0V AC 0V SIN(0 25m 1k)')\n",
    "diffpair_envelope.V('4', 'Vin_b', diffpair_envelope.gnd, 'DC 0V AC 0V PULSE(200m -4.5 1m 1u 15m 1u)')\n",
    "simulator = diffpair_envelope.simulator(temperature=25, nominal_temperature=25)\n",
    "analysis_envelope = simulator.transient(step_time=1@u_us, end_time=20@u_ms)"
   ]
  },
  {
   "cell_type": "code",
   "execution_count": null,
   "metadata": {
    "tags": []
   },
   "outputs": [],
   "source": [
    "#simulate  amplitude modulation\n",
    "diffpair_am = parser.build_circuit(ground=5)\n",
    "diffpair_am.include(spice_library['BC547B'])\n",
    "diffpair_am.V('1', '+15V', diffpair_am.gnd, 'DC 15')\n",
    "diffpair_am.V('2', '-15V', diffpair_am.gnd, 'DC -15')\n",
    "diffpair_am.V('3', 'Vin_a', diffpair_am.gnd, 'DC 0V AC 0V SIN(0 25m 1k)')\n",
    "diffpair_am.V('4', 'Vin_b', diffpair_am.gnd, 'DC 0V AC 0V SIN(0 5 100)')\n",
    "\n",
    "simulator = diffpair_am.simulator(temperature=25, nominal_temperature=25)\n",
    "analysis_am = simulator.transient(step_time=1@u_us, end_time=20@u_ms)"
   ]
  },
  {
   "cell_type": "code",
   "execution_count": null,
   "metadata": {
    "tags": []
   },
   "outputs": [],
   "source": [
    "#plot the results\n",
    "fig, (ax0, ax1, ax2) = plt.subplots(nrows=1, ncols=3, sharex=False, figsize=(18, 6))\n",
    "\n",
    "#plot the image\n",
    "img_diffpair_path = directory_path.joinpath('diffpair', 'diffpair.png')\n",
    "img_diffpair = mpimg.imread(str(img_diffpair_path))\n",
    "im = ax0.imshow(img_diffpair)\n",
    "ax0.axis('off')\n",
    "ax0.set_title('long tailed pair differential amplifier', y=-0.2)\n",
    "        \n",
    "#plot with envelope\n",
    "ax1.plot(analysis_envelope['Vin_b'].abscissa*1000, analysis_envelope['Vin_b'] * 0.2 * -1, c='grey')  # envelope input (scaled)\n",
    "ax1.plot(analysis_envelope['Vout_b'].abscissa*1000, analysis_envelope['Vout_b'] - analysis_envelope['Vout_a'], c='orange')  # differential output\n",
    "ax1.grid()\n",
    "ax1.set_xlabel('t [ms]')\n",
    "ax1.set_ylabel('[V]')\n",
    "ax1.set_title('output with a cv envelope', y=-0.2)\n",
    "\n",
    "#plot the amplitude modulation\n",
    "ax2.plot(analysis_am['Vout_b'].abscissa*1000, analysis_am['Vout_b'] - analysis_am['Vout_a'], c='orange')  # differential output\n",
    "ax2.plot(analysis_am['Vout_b'].abscissa*1000, analysis_am['Vin_b'] * 0.2 * -1, c='grey')  # differential output\n",
    "ax2.grid()\n",
    "ax2.set_xlabel('t [ms]')\n",
    "ax2.set_ylabel('[V]')\n",
    "ax2.set_title('output with a sine control voltage.', y=-0.2)\n",
    "plt.show()\n"
   ]
  },
  {
   "cell_type": "markdown",
   "metadata": {},
   "source": [
    "more promising is it to use a four quadrant multiplier, also known as gilbert cell. the gilbert cell is designed around two differential amplifiers. the carrier signal switches between those. the result is a multiplication of the input voltages. the gilbert cell is mostly used for amplitude modulation in radio transmission. if you look at the integratd circuits like the 633 it can modulate signals up in the gigahertz range. the gilbert cell is not described in all details here, there is a good introduction from w2aew [[4][4]].\n",
    "\n",
    "\n"
   ]
  },
  {
   "cell_type": "code",
   "execution_count": null,
   "metadata": {},
   "outputs": [],
   "source": [
    "#load the gilbert_cell schema\n",
    "kicad_netlist_path = directory_path.joinpath('gilbert_cell', 'gilbert_cell.cir')\n",
    "parser = SpiceParser(path=str(kicad_netlist_path))"
   ]
  },
  {
   "cell_type": "code",
   "execution_count": null,
   "metadata": {},
   "outputs": [],
   "source": [
    "#simulate with envelope\n",
    "gilbert_cell_envelope = parser.build_circuit(ground=5)\n",
    "gilbert_cell_envelope.include(spice_library['BC547B'])\n",
    "gilbert_cell_envelope.include(spice_library['TL072'])\n",
    "\n",
    "gilbert_cell_envelope.V('1', '+15V', gilbert_cell_envelope.gnd, 'DC 15')\n",
    "gilbert_cell_envelope.V('2', '-15V', gilbert_cell_envelope.gnd, 'DC -15')\n",
    "gilbert_cell_envelope.V('3', 'NC_01', gilbert_cell_envelope.gnd, 'DC 0V AC 0V SIN(0 100m 1k)')\n",
    "gilbert_cell_envelope.V('4', 'CV_IN', gilbert_cell_envelope.gnd, 'DC 0V AC 0V PULSE(0 100m 1m 0u 10m 1u)')\n",
    "\n",
    "simulator = gilbert_cell_envelope.simulator(temperature=25, nominal_temperature=25)\n",
    "analysis_gilbert_cell_envelope = simulator.transient(step_time=1@u_us, end_time=20@u_ms)"
   ]
  },
  {
   "cell_type": "code",
   "execution_count": null,
   "metadata": {},
   "outputs": [],
   "source": [
    "#simulate ring modulation\n",
    "gilbert_am = parser.build_circuit(ground=5)\n",
    "gilbert_am.include(spice_library['BC547B'])\n",
    "gilbert_am.include(spice_library['TL072'])\n",
    "\n",
    "gilbert_am.V('1', '+15V', gilbert_am.gnd, 'DC 15')\n",
    "gilbert_am.V('2', '-15V', gilbert_am.gnd, 'DC -15')\n",
    "gilbert_am.V('3', 'NC_01', gilbert_am.gnd, 'DC 0V AC 0V SIN(0 100m 1k)')\n",
    "gilbert_am.V('4', 'CV_IN', gilbert_am.gnd, 'DC 0V AC 0V SIN(0 100m 100)')\n",
    "\n",
    "simulator = gilbert_am.simulator(temperature=25, nominal_temperature=25)\n",
    "analysis_gilbert_cell_am = simulator.transient(step_time=1@u_us, end_time=10@u_ms)"
   ]
  },
  {
   "cell_type": "code",
   "execution_count": null,
   "metadata": {
    "tags": []
   },
   "outputs": [],
   "source": [
    "fig, (ax0, ax1, ax2) = plt.subplots(nrows=1, ncols=3, sharex=False, figsize=(18, 6))\n",
    "\n",
    "#plot the image\n",
    "img_diffpair_path = directory_path.joinpath('gilbert_cell', 'g2074.png')\n",
    "img_gilbert = mpimg.imread(str(img_diffpair_path))\n",
    "im = ax0.imshow(img_gilbert)\n",
    "ax0.axis('off')\n",
    "ax0.set_title('gilbert cell.', y=-0.2)\n",
    "\n",
    "#plot the envelope\n",
    "ax1.plot(analysis_gilbert_cell_envelope['CV_IN'].abscissa*1000, analysis_gilbert_cell_envelope['CV_IN'] / 7.1, c='grey')  # envelope\n",
    "ax1.plot(analysis_gilbert_cell_envelope['OUT_A'].abscissa*1000, analysis_gilbert_cell_envelope['OUT_A'] - analysis_gilbert_cell_envelope['OUT_B'], c='orange')  # differential output\n",
    "ax1.grid()\n",
    "ax1.set_xlabel('t [ms]')\n",
    "ax1.set_ylabel('[V]')\n",
    "ax1.set_title('output with an envelope control voltage.', y=-0.2)\n",
    "\n",
    "#plot the ring modulation\n",
    "ax2.plot(analysis_gilbert_cell_am['CV_IN'].abscissa*1000, analysis_gilbert_cell_am['CV_IN'] / 7.1, c='grey')  # modulating\n",
    "ax2.plot(analysis_gilbert_cell_am['OUT_A'].abscissa*1000, analysis_gilbert_cell_am['OUT_A'] - analysis_gilbert_cell_am['OUT_B'], c='orange')  # differential output\n",
    "ax2.legend(('Vinput b  [V]', 'Vinput a [V]', 'Vout [V]'), loc=(.8, .8))\n",
    "ax2.grid()\n",
    "ax2.set_xlabel('t [ms]')\n",
    "ax2.set_ylabel('[V]')\n",
    "ax2.set_title('output with a sine control voltage.', y=-0.2)\n",
    "\n",
    "plt.show()\n"
   ]
  },
  {
   "cell_type": "code",
   "execution_count": null,
   "metadata": {},
   "outputs": [],
   "source": []
  },
  {
   "cell_type": "markdown",
   "metadata": {},
   "source": [
    "this is not real amplitude modulation. when the signal is negative the phase of the output is inverted. this can be adjusted by the bias voltage of the control voltage. the control voltage has to be positive at all time. \n"
   ]
  },
  {
   "cell_type": "code",
   "execution_count": null,
   "metadata": {},
   "outputs": [],
   "source": [
    "#plot the amplitude modulation\n",
    "gilbert_real_am = parser.build_circuit(ground=5)\n",
    "gilbert_real_am.include(spice_library['BC547B'])\n",
    "\n",
    "gilbert_real_am.V('1', '+15V', gilbert_am.gnd, 'DC 15')\n",
    "gilbert_real_am.V('2', '-15V', gilbert_am.gnd, 'DC -15')\n",
    "gilbert_real_am.V('3', 'NC_01', gilbert_am.gnd, 'DC 0V AC 0V SIN(0 50m 1k)')\n",
    "gilbert_real_am.V('4', 'CV_IN', gilbert_am.gnd, 'DC 0V AC 0V SIN(50m 50m 100)')\n",
    "\n",
    "simulator = gilbert_real_am.simulator(temperature=25, nominal_temperature=25)\n",
    "analysis_gilbert_real_am = simulator.transient(step_time=1@u_us, end_time=20@u_ms)"
   ]
  },
  {
   "cell_type": "code",
   "execution_count": null,
   "metadata": {
    "tags": []
   },
   "outputs": [],
   "source": [
    "fig, (ax0, ax1, ax2) = plt.subplots(nrows=1, ncols=3, sharex=False, figsize=(18, 6))\n",
    "\n",
    "#plot real amplitude modulation\n",
    "ax0.plot(analysis_gilbert_real_am['NC_01'].abscissa*1000, analysis_gilbert_real_am['NC_01'] / 7.1)  # differential output\n",
    "ax0.plot(analysis_gilbert_real_am['CV_IN'].abscissa*1000, (analysis_gilbert_real_am['CV_IN'] -0.05@u_V)/7.1)  # differential output\n",
    "ax0.plot(analysis_gilbert_real_am['OUT_A'].abscissa*1000, analysis_gilbert_real_am['OUT_A'] - analysis_gilbert_real_am['OUT_B'])  # differential output\n",
    "ax0.grid()\n",
    "ax0.set_xlabel('t [s]')\n",
    "ax0.set_ylabel('[V]')\n",
    "ax0.set_title('output with a sine control voltage, biased for am (Vin_b is scaled).', y=-0.2)\n",
    "\n",
    "y = analysis_gilbert_real_am['OUT_A'] - analysis_gilbert_real_am['OUT_B']\n",
    "N = y.size\n",
    "# sample spacing\n",
    "T = 1.0 / 10000.0\n",
    "x = np.linspace(0.0, N*T, N)\n",
    "yf = scipy.fftpack.fft(y)\n",
    "xf = np.linspace(0.0, 1.0//(2.0*T), N//2)\n",
    "ax1.plot(xf, 2.0/N * np.abs(yf[:N//2]))\n",
    "\n",
    "#am bode diagram\n",
    "x = np.linspace(0.0, N*T, N)\n",
    "y = analysis_gilbert_real_am['OUT_A'] - analysis_gilbert_real_am['OUT_B']\n",
    "yf = scipy.fftpack.fft(y)\n",
    "xf = np.linspace(0.0, 1.0//(2.0*T), N//2)\n",
    "ax2.plot(yf)\n",
    "\n",
    "#dsb-sc bode diagram\n",
    "#y = analysis_gilbert_am['OUT_A'] - analysis_gilbert_am['OUT_B']\n",
    "#yf = scipy.fftpack.fft(y)\n",
    "#xf = np.linspace(0.0, 1.0//(2.0*T), N)\n",
    "#ax2.plot(xf, 2.0/N * np.abs(yf[:N//2]))\n",
    "\n",
    "plt.show()\n"
   ]
  },
  {
   "cell_type": "markdown",
   "metadata": {},
   "source": [
    "## *construction*\n",
    "\n",
    "for the final circuit input and output buffering and biasing is needed. the buffering is done with opamps. \n"
   ]
  },
  {
   "cell_type": "code",
   "execution_count": null,
   "metadata": {
    "tags": []
   },
   "outputs": [],
   "source": [
    "directory_path = Path(os.path.abspath('')).resolve()\n",
    "kicad_netlist_path = directory_path.joinpath('main', 'main.cir')\n",
    "parser = SpiceParser(path=str(kicad_netlist_path))\n",
    "ad633_schema = parser.build_circuit(ground=5)\n",
    "ad633_schema.include(spice_library['AD633'])\n",
    "ad633_schema.include(spice_library['TL072'])\n",
    "\n",
    "#ad633_schema.V('1', '+15V', ad633_schema.gnd, 'DC 15V')\n",
    "#ad633_schema.V('2', '-15V', ad633_schema.gnd, 'DC -15V')\n",
    "#ad633_schema.V('3', 'X1', ad633_schema.gnd, 'DC 0V AC 10V SINE(0 1 440)')\n",
    "#ad633_schema.V('4', 'Y1', ad633_schema.gnd, 'DC 0V AC 10V SINE(0 5 100)')\n",
    "#ad633_schema.V('4', 'Y1', ad633_schema.gnd, 'DC 0V AC 10V PULSE(0 -10 0 0 500m 100u 600m)')\n",
    "#ad633_schema.V('5', 'Z', ad633_schema.gnd, 'DC 0V AC 0V')\n",
    "\n",
    "print(str(ad633_schema))\n"
   ]
  },
  {
   "cell_type": "code",
   "execution_count": null,
   "metadata": {
    "tags": []
   },
   "outputs": [],
   "source": [
    "import wave\n",
    "import struct\n",
    "\n",
    "SAMPLING_RATE = 44100\n",
    "\n",
    "def lin_interp(x0, x1, y0, y1, x):\n",
    "    x0 = float(x0)\n",
    "    x1 = float(x1)\n",
    "    y0 = float(y0)\n",
    "    y1 = float(y1)\n",
    "    x = float(x)\n",
    "    return y0 + (x - x0) * (y1 - y0) / (x1 - x0)\n",
    "\n",
    "def write_wav(times, voltages, filename, clipping):\n",
    "\twith wave.open(filename, 'w') as w:\n",
    "\t\tw.setparams((1, 2, SAMPLING_RATE, 0, 'NONE', 'not compressed'))\n",
    "\t\tm = max(max(voltages), -min(voltages))\n",
    "\t\tvrange = clipping if clipping else m\n",
    "\n",
    "\t\tvalues = bytes([])\n",
    "\t\tt = 0.0\n",
    "\t\tstep = 1.0 / SAMPLING_RATE\n",
    "\n",
    "\t\tfor i in range(len(voltages)-1):\n",
    "\t\t\twhile times[i] <= t * step < times[i+1]:\n",
    "\t\t\t\tsample = lin_interp(times[i], times[i+1],\n",
    "\t\t\t\t\tvoltages[i], voltages[i+1], t*step) / vrange\n",
    "\t\t\t\tsample = 1 if sample >1 else sample\n",
    "\t\t\t\tsample = -1 if sample <-1 else sample\n",
    "\t\t\t\td = struct.pack('<h',int(32767 * sample))\n",
    "\t\t\t\tvalues += d\n",
    "\t\t\t\tt += 1\n",
    "\n",
    "\t\tw.writeframes(values)\n",
    "\n",
    "\n",
    "fig, (ax0, ax1, ax2) = plt.subplots(nrows=1, ncols=3, sharex=False, figsize=(18, 6))\n",
    "\n",
    "simulator = ad633_schema.simulator(temperature=25, nominal_temperature=25)\n",
    "samplerate = 1 / 44100\n",
    "ad633_analysis = simulator.transient(step_time=22.675@u_us, end_time=4@u_s)\n",
    "\n",
    "#for d in ad633_analysis.NC_01 :\n",
    "#    print( '%f %f' % (d.abscissa*1e6, float(d)) )\n",
    "\n",
    "#np.array(ad633_analysis['NC_01']).astype('int16').tofile('testfile.raw')\n",
    "#write(\"example.wav\", 44100, np.array(ad633_analysis['NC_01']))\n",
    "times = []\n",
    "for a in ad633_analysis.NC_01.abscissa :\n",
    "    times.append( float(a)) \n",
    "\n",
    "write_wav(times, ad633_analysis.NC_01.astype(np.float) , 'new_out.wav', 0)\n",
    "\n",
    "ax0.plot(ad633_analysis.NC_01.abscissa, ad633_analysis.NC_01)\n",
    "\n",
    "#ax0.plot(ad633_analysis['X1'])  # cv out\n",
    "#ax0.plot(ad633_analysis['Y1'])  # cv out\n",
    "#ax0.plot(ad633_analysis['NC_01'])  # cv out\n",
    "ax0.legend(('Vout [V]'), loc=(.8, .8))\n",
    "ax0.grid()\n",
    "ax0.set_xlabel('t [s]')\n",
    "ax0.set_ylabel('[V]')\n",
    "ax0.set_title('output with a cv envelope (Vin_b is scaled).', y=-0.2)\n",
    "\n",
    "plt.tight_layout()\n",
    "plt.show()\n"
   ]
  },
  {
   "cell_type": "code",
   "execution_count": null,
   "metadata": {},
   "outputs": [],
   "source": [
    "import IPython\n",
    "IPython.display.Audio('new_out.wav')"
   ]
  },
  {
   "cell_type": "code",
   "execution_count": null,
   "metadata": {
    "tags": []
   },
   "outputs": [],
   "source": [
    "import unittest\n",
    "\n",
    "class TestInputVoltages(unittest.TestCase):\n",
    "    \n",
    "    def test_audio_a(self):\n",
    "        self.assertAlmostEqual(4.0, np.average(np.array(input_analysis.audio_a)), places=3, msg='test the audio 1 in average')\n",
    "        self.assertAlmostEqual(0.036, np.max(np.array(input_analysis.audio_a))-np.min(np.array(input_analysis.audio_a)), places=3, msg='test the audio 1 in power')\n",
    "\n",
    "    def test_audio_b(self):\n",
    "        self.assertAlmostEqual(0.0, np.average(np.array(input_analysis.audio_b)), places=2, msg='test the audio 2 in average')\n",
    "        self.assertAlmostEqual(0.036, np.max(np.array(input_analysis.audio_b))-np.min(np.array(input_analysis.audio_b)), places=3, msg='test the audio 2 in power')\n",
    "\n",
    "    def test_envelope(self):\n",
    "        self.assertAlmostEqual(0.0, np.average(np.array(input_analysis.env)), places=2, msg='test the envelope in average')\n",
    "        self.assertAlmostEqual(0.01, np.max(np.array(input_analysis.env))-np.min(np.array(input_analysis.env)), places=2, msg='test the envelope in power')\n",
    "\n",
    "    def test_cv(self):\n",
    "        self.assertAlmostEqual(2.0, np.average(np.array(input_analysis.cv)), places=2, msg='test the cv average')\n",
    "        self.assertAlmostEqual(0.056, np.max(np.array(input_analysis.cv))-np.min(np.array(input_analysis.cv)), places=2, msg='test the cv power')\n",
    "\n",
    "unittest.main(argv=[''], verbosity=2, exit=False)"
   ]
  },
  {
   "cell_type": "code",
   "execution_count": null,
   "metadata": {},
   "outputs": [],
   "source": []
  },
  {
   "cell_type": "markdown",
   "metadata": {},
   "source": [
    "## *references*\n",
    "\n",
    "- [VCA Techniques Investigated][1] Rod Elliott (ESP)\n",
    "- [Popular Electronics][2] Keyiing and VCA citcuits for electronic music instruments \n",
    "- [VCA-1][3] Thomas Henry CA3080 vca\n",
    "- [VCA-3][4] René Schmitz differential pair vca\n",
    "- [#223][5]: Basics of the Gilbert Cell | Analog Multiplier | Mixer | Modulator\n",
    "- [#224][6]: AM & DSB-SC Modulation with the Gilbert Cell\n",
    "\n",
    "\n",
    "[1]: https://sound-au.com/articles/vca-techniques.html\n",
    "[2]: https://tinaja.com/glib/pop_elec/mus_keying_vca_1+2_75.pdf\n",
    "[3]: https://www.birthofasynth.com/Thomas_Henry/Pages/VCA-1.html\n",
    "[4]: https://www.schmitzbits.de/vca3.png\n",
    "[5]: https://www.youtube.com/watch?v=7nmmb0pqTU0&t=2s\n",
    "[6]: https://www.youtube.com/watch?v=38OQub2Vi2Q\n",
    "[7]: http://www.ecircuitcenter.com/Circuits/BJT_Diffamp1/BJT_Diffamp1.htm\n"
   ]
  }
 ],
 "metadata": {
  "kernelspec": {
   "display_name": "Python 3.8.2 64-bit",
   "language": "python",
   "name": "python38264bitf28cdd56da7a4a91a745d4dca728ac52"
  },
  "language_info": {
   "codemirror_mode": {
    "name": "ipython",
    "version": 3
   },
   "file_extension": ".py",
   "mimetype": "text/x-python",
   "name": "python",
   "nbconvert_exporter": "python",
   "pygments_lexer": "ipython3",
   "version": "3.8.2-final"
  }
 },
 "nbformat": 4,
 "nbformat_minor": 4
}