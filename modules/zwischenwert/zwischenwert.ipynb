{
 "cells": [
  {
   "cell_type": "code",
   "execution_count": null,
   "metadata": {
    "tags": []
   },
   "outputs": [],
   "source": [
    "# Just the normal prequisites for using matplotlib and numpy in a Jupyter notebook\n",
    "%matplotlib inline\n",
    "# Use the svg backend, in my opinion it just makes better looking plots\n",
    "%config InlineBackend.figure_format = 'svg'\n",
    "\n",
    "import PySpice.Logging.Logging as Logging\n",
    "logger = Logging.setup_logging( logging_level='DEBUG')\n",
    "\n",
    "import os\n",
    "import sys\n",
    "from pathlib import Path\n",
    "import IPython\n",
    "from scipy import signal\n",
    "import scipy.fftpack\n",
    "from PySpice.Unit import *\n",
    "from PySpice.Spice.Parser import SpiceParser\n",
    "from PySpice.Spice.Netlist import Circuit, SubCircuit, SubCircuitFactory\n",
    "from PySpice.Spice.Library import SpiceLibrary\n",
    "from PySpice.Probe.Plot import plot\n",
    "from PySpice.Doc.ExampleTools import find_libraries\n",
    "from PySpice.Math import *\n",
    "import matplotlib.pyplot as plt\n",
    "import matplotlib.image as mpimg\n",
    "import numpy as np\n",
    "import matplotlib.pyplot as plt\n",
    "import unittest\n",
    "\n",
    "directory_path = Path(os.path.abspath('')).resolve().parent.parent\n",
    "spice_libraries_path = directory_path.joinpath(\"lib\", \"spice\")\n",
    "spice_library = SpiceLibrary(spice_libraries_path)\n",
    "\n",
    "directory_path = Path(os.path.abspath('')).resolve()"
   ]
  },
  {
   "cell_type": "code",
   "execution_count": null,
   "metadata": {},
   "outputs": [],
   "source": []
  },
  {
   "cell_type": "markdown",
   "metadata": {},
   "source": [
    "![module](https://img.shields.io/badge/module-vca-yellow) ![status](https://img.shields.io/badge/status-work%20in%20progress-orange)\n",
    "\n",
    "## *zwischenwert*\n",
    "\n",
    "<a href=\"https://photos.app.goo.gl/pg6iZUC32rTKX5LC7\"><img src=\"https://spielhuus.github.io/elektrophon/images/kontrast-logo-tmb.jpg\" height=\"300px\" align=\"right\"></a>\n",
    "\n",
    "***table of contents***\n",
    "\n",
    "* [*about*](#about)\n",
    "* [*construction*](#construction)\n",
    "* [*calibration*](#calibration)\n",
    "* [*usage*](#usage)\n",
    "* [*credits*](#credits)\n",
    "* [*links*](#links)\n",
    "* [*changelog*](#changelog)\n",
    "  \n",
    "<br/><br/><br/><br/>\n",
    "\n",
    "## *about*\n"
   ]
  },
  {
   "cell_type": "code",
   "execution_count": null,
   "metadata": {},
   "outputs": [],
   "source": [
    "#load the diffpair schema\n",
    "kicad_netlist_path = directory_path.joinpath('main', 'main.cir')\n",
    "parser = SpiceParser(path=str(kicad_netlist_path))"
   ]
  },
  {
   "cell_type": "code",
   "execution_count": null,
   "metadata": {
    "tags": []
   },
   "outputs": [],
   "source": [
    "#simulate diffpair with envelope\n",
    "scanner = parser.build_circuit(ground=5)\n",
    "scanner.include(spice_library['LM324'])\n",
    "scanner.include(spice_library['LM324c'])\n",
    "scanner.include(spice_library['BC857CW'])\n",
    "scanner.include(spice_library['LM13700/NS'])\n",
    "scanner.include(spice_library['LM13700d'])\n",
    "scanner.V('1', '+15V', scanner.gnd, 'DC 15')\n",
    "scanner.V('2', '-15V', scanner.gnd, 'DC -15')\n",
    "scanner.V('3', 'INPUT_A', scanner.gnd, 'DC 0V AC 0V SIN(0 10m 200)')\n",
    "scanner.V('4', 'INPUT_B', scanner.gnd, 'DC 0V AC 0V SIN(0 10m 200)')\n",
    "scanner.V('5', 'INPUT_C', scanner.gnd, 'DC 0V AC 0V SIN(0 10m 200)')\n",
    "scanner.V('6', 'INPUT_D', scanner.gnd, 'DC 0V AC 0V SIN(0 10m 200)')\n",
    "scanner.V('7', 'CV', scanner.gnd, 'DC 0V AC 0V PULSE(-5V 5V 0 2m 2m 1u 4m)') \n",
    "simulator = scanner.simulator(temperature=25, nominal_temperature=25)\n",
    "analysis_scanner = simulator.transient(step_time=1@u_us, end_time=20@u_ms)"
   ]
  },
  {
   "cell_type": "code",
   "execution_count": null,
   "metadata": {
    "tags": []
   },
   "outputs": [],
   "source": [
    "#plot the results\n",
    "fig, (ax0, ax1, ax2) = plt.subplots(nrows=1, ncols=3, sharex=False, figsize=(18, 6))\n",
    "\n",
    "#plot with envelope\n",
    "ax0.plot(analysis_scanner['OUT'].abscissa*1000, analysis_scanner['OUT'], c='grey')  # envelope input (scaled)\n",
    "#ax0.plot(analysis_scanner['Vout_b'].abscissa*1000, analysis_scanner['Vout_b'] - analysis_envelope['Vout_a'], c='orange')  # differential output\n",
    "ax0.grid()\n",
    "ax0.set_xlabel('t [ms]')\n",
    "ax0.set_ylabel('[V]')\n",
    "ax0.set_title('output with a cv envelope', y=-0.2)\n",
    "\n",
    "plt.show()\n"
   ]
  },
  {
   "cell_type": "markdown",
   "metadata": {},
   "source": [
    "## *construction*\n",
    "\n",
    "for the final circuit input and output buffering and biasing is needed. the buffering is done with opamps. \n"
   ]
  },
  {
   "source": [
    "first we design the input stage. the input voltage for the X signal should be 10mV and 20mV for the control voltage.\n"
   ],
   "cell_type": "markdown",
   "metadata": {}
  },
  {
   "cell_type": "markdown",
   "metadata": {},
   "source": [
    "## *references*\n",
    "\n",
    "- [VCA Techniques Investigated][1] Rod Elliott (ESP)\n",
    "- [Popular Electronics][2] Keyiing and VCA citcuits for electronic music instruments \n",
    "- [VCA-1][3] Thomas Henry CA3080 vca\n",
    "- [VCA-3][4] René Schmitz differential pair vca\n",
    "- [#223][5]: Basics of the Gilbert Cell | Analog Multiplier | Mixer | Modulator\n",
    "- [#224][6]: AM & DSB-SC Modulation with the Gilbert Cell\n",
    "- [Analog Devices][8]: Analog multiplier application guide \n",
    "- [AD633][9]: Datasheet \n",
    "\n",
    "\n",
    "[1]: https://sound-au.com/articles/vca-techniques.html\n",
    "[2]: https://tinaja.com/glib/pop_elec/mus_keying_vca_1+2_75.pdf\n",
    "[3]: https://www.birthofasynth.com/Thomas_Henry/Pages/VCA-1.html\n",
    "[4]: https://www.schmitzbits.de/vca3.png\n",
    "[5]: https://www.youtube.com/watch?v=7nmmb0pqTU0&t=2s\n",
    "[6]: https://www.youtube.com/watch?v=38OQub2Vi2Q\n",
    "[7]: http://www.ecircuitcenter.com/Circuits/BJT_Diffamp1/BJT_Diffamp1.htm\n",
    "[8]: https://www.analog.com/media/en/training-seminars/design-handbooks/ADI_Multiplier_Applications_Guide.pdf\n",
    "[9]: https://www.analog.com/media/en/technical-documentation/data-sheets/AD633.pdf\n",
    "\n",
    "\n",
    "\n"
   ]
  }
 ],
 "metadata": {
  "kernelspec": {
   "name": "python3",
   "display_name": "Python 3.8.5 64-bit",
   "metadata": {
    "interpreter": {
     "hash": "31f2aee4e71d21fbe5cf8b01ff0e069b9275f58929596ceb00d14d90e3e16cd6"
    }
   }
  },
  "language_info": {
   "codemirror_mode": {
    "name": "ipython",
    "version": 3
   },
   "file_extension": ".py",
   "mimetype": "text/x-python",
   "name": "python",
   "nbconvert_exporter": "python",
   "pygments_lexer": "ipython3",
   "version": "3.8.5-final"
  }
 },
 "nbformat": 4,
 "nbformat_minor": 4
}