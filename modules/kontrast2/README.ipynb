{
 "cells": [
  {
   "cell_type": "code",
   "execution_count": null,
   "metadata": {
    "tags": []
   },
   "outputs": [],
   "source": [
    "#general definitions and imports\n",
    "%matplotlib inline\n",
    "%config InlineBackend.figure_format = 'svg'\n",
    "\n",
    "import sys\n",
    "sys.path.append('../../lib/python')\n",
    "\n",
    "import os\n",
    "import PySpice.Logging.Logging as Logging\n",
    "logger = Logging.setup_logging()\n",
    "\n",
    "import numpy as np\n",
    "import matplotlib.pyplot as plt\n",
    "\n",
    "import unittest\n",
    "\n",
    "import SchemDraw as schemdraw\n",
    "import SchemDraw.elements as elm\n",
    "\n",
    "from pathlib import Path\n",
    "\n",
    "from PySpice.Unit import *\n",
    "from PySpice.Spice.Parser import SpiceParser\n",
    "from PySpice.Spice.Netlist import SubCircuitFactory\n",
    "from PySpice.Spice.Library import SpiceLibrary\n",
    "from PySpice.Probe.Plot import plot\n",
    "from PySpice.Math import *\n",
    "\n",
    "## setup spice library path\n",
    "directory_path = Path(os.path.abspath('')).resolve().parent.parent\n",
    "spice_libraries_path = directory_path.joinpath(\"lib\", \"spice\")\n",
    "spice_library = SpiceLibrary(spice_libraries_path)\n",
    "\n",
    "## setup path to kicad schema\n",
    "directory_path = Path(os.path.abspath('')).resolve()\n",
    "kicad_netlist_path = directory_path.joinpath( 'main', 'main.cir' )\n",
    "NETLIST = str( kicad_netlist_path )"
   ]
  },
  {
   "cell_type": "code",
   "execution_count": null,
   "metadata": {},
   "outputs": [],
   "source": [
    "## schema definitions\n",
    "d = schemdraw.Drawing()\n",
    "op = d.add(elm.Opamp)\n",
    "d.add(elm.Line(xy=op.out, l=.75, rgtlabel='$v_{out}$'))\n",
    "\n",
    "d.add(elm.Line('left', xy=op.in1, l=.75))\n",
    "d.add(elm.Line('up', l=1.5))\n",
    "d.add(elm.Dot)\n",
    "R1 = d.add(elm.Resistor('left', label='$R_1$'))\n",
    "R5 = d.add(elm.Resistor('down', label='$R_5$', rotation=90, rotation_mode='default'))\n",
    "d.add(elm.Dot)\n",
    "d.add(elm.Resistor('down', label='$R_6$', rotation=90, rotation_mode='default'))\n",
    "d.add(elm.Ground)\n",
    "\n",
    "l = d.add(elm.Line('left', xy=R1.end, l=1.5))\n",
    "d.add(elm.Line('left', l=.5, lftlabel='$v_{in}$'))\n",
    "d.add(elm.Line('down', xy=l.end, l=1.5))\n",
    "POT = d.add(elm.Potentiometer('down'))\n",
    "POT.add_label('$RV_{(R3/R4)}$', loc='center', ofst=[0,-1], align=('right','bottom'))\n",
    "d.add(elm.Ground,xy=POT.end)\n",
    "d.add(elm.Line('right', xy=POT.tap, tox=R5.end))\n",
    "d.add(elm.Line('right', xy=POT.tap, tox=op.in2-.75))\n",
    "d.add(elm.Line('up', l=0.5))\n",
    "d.add(elm.Line('right', l=.75))\n",
    "Rf = d.add(elm.Resistor('right', xy=R1.start, tox=op.out+.5, label='$R_2$'))\n",
    "d.add(elm.Line('down', toy=op.out))\n",
    "end = d.add(elm.Dot)\n",
    "\n"
   ]
  },
  {
   "cell_type": "code",
   "execution_count": null,
   "metadata": {},
   "outputs": [],
   "source": [
    "diffamp = schemdraw.Drawing()\n",
    "diffamp_op = diffamp.add(elm.Opamp)\n",
    "diffamp.add(elm.Line(xy=op.out, l=.75))\n",
    "diffamp.add(elm.Line('left', xy=op.in1, l=.75))\n",
    "diffamp.add(elm.Line('up', l=1.5))\n",
    "diffamp.add(elm.Dot)\n",
    "diffamp_R1 = diffamp.add(elm.Resistor('left', label='$R_1$', lftlabel='$v_{1}$'))\n",
    "diffamp_Rf = diffamp.add(elm.Resistor('right', xy=diffamp_R1.start, tox=diffamp_op.out+.5, label='$R_2$'))\n",
    "diffamp.add(elm.Line('down', toy=diffamp_op.out))\n",
    "diffamp.add(elm.Dot)\n",
    "\n",
    "diffamp.add(elm.Line('left', xy=diffamp_op.in2, l=.75))\n",
    "diffamp.add(elm.Line('down', l=1.5))\n",
    "diffamp_dot = diffamp.add(elm.Dot)\n",
    "\n",
    "diffamp_R3 = diffamp.add(elm.Resistor('right', label='$R_3$'))\n",
    "diffamp.add(elm.Ground)\n",
    "X = diffamp.add(elm.Resistor('left', xy=diffamp_dot.start, label='$R_4$', lftlabel='$v_{2}$'))\n"
   ]
  },
  {
   "cell_type": "code",
   "execution_count": null,
   "metadata": {},
   "outputs": [],
   "source": [
    "class XU1(SubCircuitFactory):\n",
    "    __name__ = 'XU1'\n",
    "    __nodes__ = ( 'OUT', 'INVERTING', 'NON_INVERTING', 'POWER_NEGATIVE', 'POWER_POSITIVE' )\n",
    "    def __init__(self):\n",
    "        super().__init__()\n",
    "        self.X('1', 'OPA2134', 'NON_INVERTING', 'INVERTING', 'POWER_POSITIVE', 'POWER_NEGATIVE', 'OUT' )\n",
    "\n",
    "class VoltageDivider1(SubCircuitFactory):\n",
    "    __name__ = 'voltage_divider_1'\n",
    "    __nodes__ = ('n1', 'n2', 'n3' )\n",
    "    def __init__(self, R=100@u_kΩ, w=0.4):\n",
    "        super().__init__()\n",
    "        self.R(1, 'n1', 'n2', R * w)\n",
    "        self.R(2, 'n2', 'n3', R * (1.0-w) )\n",
    "\n",
    "class VoltageDivider2(SubCircuitFactory):\n",
    "    __name__ = 'voltage_divider_2'\n",
    "    __nodes__ = ('n1', 'n2', 'n3' )\n",
    "    def __init__(self, R=100@u_kΩ, w=0.4):\n",
    "        super().__init__()\n",
    "        self.R(1, 'n1', 'n2', R * w)\n",
    "        self.R(2, 'n2', 'n3', R * (1.0-w) )\n",
    "\n",
    "class VoltageDivider3(SubCircuitFactory):\n",
    "    __name__ = 'voltage_divider_3'\n",
    "    __nodes__ = ('n1', 'n2', 'n3' )\n",
    "    def __init__(self, R=100@u_kΩ, w=0.4):\n",
    "        super().__init__()\n",
    "        self.R(1, 'n1', 'n2', R * w)\n",
    "        self.R(2, 'n2', 'n3', R * (1.0-w) )\n",
    "\n",
    "class VoltageDivider4(SubCircuitFactory):\n",
    "    __name__ = 'voltage_divider_4'\n",
    "    __nodes__ = ('n1', 'n2', 'n3' )\n",
    "    def __init__(self, R=100@u_kΩ, w=0.4):\n",
    "        super().__init__()\n",
    "        self.R(1, 'n1', 'n2', R * w)\n",
    "        self.R(2, 'n2', 'n3', R * (1.0-w) )\n",
    "\n",
    "class JackOut(SubCircuitFactory):\n",
    "    __name__ = 'jack_out'\n",
    "    __nodes__ = ('n1', 'n2', 'n3' )\n",
    "    def __init__(self, R=1@u_Ω):\n",
    "        super().__init__()\n",
    "        self.R(1, 'n1', 'n3', R)\n",
    "\n",
    "# show the netlist\n",
    "parser = SpiceParser(path=NETLIST)\n"
   ]
  },
  {
   "cell_type": "code",
   "execution_count": null,
   "metadata": {},
   "outputs": [],
   "source": [
    "from sympy import symbols, sqrt, exp, diff, integrate, pprint, simplify, Eq, preview\n",
    "\n",
    "from sympy import init_printing\n",
    "#init_printing(use_latex='mathml')\n",
    "\n",
    "R1, R2, R3, R4, Vin, Vin2, Vout = symbols('R1 R2 R3 R4 Vin Vin2, Vout', real=True)\n",
    "eq_diff = (1+R2/R1) * (R4/(R4+R3)) * Vin2 - (R2/R1) * Vin \n",
    "eq_paralell_resistor =  1 /( (1/R1) + (1/R2) ) \n"
   ]
  },
  {
   "cell_type": "markdown",
   "metadata": {},
   "source": [
    "![module](https://img.shields.io/badge/module-mischer-yellow)\n",
    "![status](https://img.shields.io/badge/status-work%20in%20progress-orange)\n",
    "\n",
    "# *kontrast*\n",
    "\n",
    "<a href=\"https://photos.app.goo.gl/pg6iZUC32rTKX5LC7\"><img src=\"https://spielhuus.github.io/elektrophon/images/kontrast-logo-tmb.jpg\" height=\"300px\" align=\"right\"></a>\n",
    "\n",
    "***table of contents***\n",
    "\n",
    "* [*about*](#about)\n",
    "* [*construction*](#construction)\n",
    "* [*calibration*](#calibration)\n",
    "* [*usage*](#usage)\n",
    "* [*references*](#lreferences)\n",
    "* [*changelog*](#changelog)\n",
    "\n",
    "<br/><br/>\n",
    "\n",
    "## *about*\n",
    "\n",
    "kontrast ist a simple mixer utility module. it can be used as a **mixer**, **attenuator** or **attenuverter** for ac or dc signals. the function depends on the patching and settings of the potentiometers. an attenuverter is used in different modules like the  Serge VCS, Maths and also in the polivoks filter. while this module can be used as a simple mixer you can also adjust cv signals. such a signal can be simply attenuated or inverted. when feeding in a positive singal slope (for example from an adsr). the signal will be turned to a neagative dc singal. if the inpout signal is ac coupled the signal will be inverted. the function is the setting on the potentiometer of the channel. when the potentiometer is at center position. the output signal is attenuated to zero. no output singal is present. when turning to the right. the signal will be stronger until the output signal is equal to the input signal. when turning the potentiomenter to the left, the output signal will be phase shifted by 180°. when you turn the potentiometer to full left the output signal will be the inverted input signal. all the inputs are mixed to the output signal; unless you connect the output of a channel. then this output does not accure on the mixed signal."
   ]
  },
  {
   "cell_type": "markdown",
   "metadata": {},
   "source": [
    "the attenuverter is build around a differential amplifier with an opamp. "
   ]
  },
  {
   "cell_type": "code",
   "execution_count": null,
   "metadata": {},
   "outputs": [],
   "source": [
    "diffamp.draw()"
   ]
  },
  {
   "cell_type": "code",
   "execution_count": null,
   "metadata": {
    "tags": []
   },
   "outputs": [],
   "source": [
    "Eq( Vout, eq_diff)\n"
   ]
  },
  {
   "cell_type": "markdown",
   "metadata": {},
   "source": [
    "the circuit of the attenuverter is based on the opamp dfferential amplifer. the two resistors at the non-inverting inputs are replaced with a potentiometer. the potentiometer is configured as a voltage divider and replace R3 and R4 from the differential amplifier. when the position of the potentiometer is adjusted, the output voltage will change or invert. at the center position  the output is zero volrs. the response to the potentiometer is linear. we can make it an centered s-curve by adding two parallel resistors (R5,R6) to the potentiometer [[2][2]]."
   ]
  },
  {
   "cell_type": "code",
   "execution_count": null,
   "metadata": {},
   "outputs": [],
   "source": [
    "d.draw()"
   ]
  },
  {
   "cell_type": "markdown",
   "metadata": {},
   "source": [
    "a simulation with the resistance at RV 1 changed from 0-100%. first run is the linear result. the second run is done with the resistors R5 and R6 added. This results in a s curve. the shape of the curve can be changed with the values of the resistors."
   ]
  },
  {
   "cell_type": "code",
   "execution_count": null,
   "metadata": {},
   "outputs": [],
   "source": [
    "Vlin = []\n",
    "Vlog = []\n",
    "\n",
    "R1val = 100@u_kOhm\n",
    "R2val = 100@u_kOhm\n",
    "RVval = 100@u_kOhm\n",
    "R5val = 33@u_kOhm\n",
    "RVstep = 1@u_kOhm\n",
    "\n",
    "for Rtemp in np.arange(1@u_Ohm, RVval, RVstep):\n",
    "    R3t = Rtemp\n",
    "    R4t = RVval - Rtemp\n",
    "    Vtemp = eq_diff.subs(R1, R1val).subs(R2, R2val).subs(R3, R3t).subs(R4, R4t).subs(Vin, 5).subs(Vin2, 5)\n",
    "    Vlin.append(Vtemp)\n",
    "\n",
    "for Rtemp in np.arange(1@u_Ohm, RVval, RVstep):\n",
    "    R3t =  eq_paralell_resistor.subs(R1, Rtemp).subs(R2, R5val)\n",
    "    R4t = eq_paralell_resistor.subs(R1, RVval - Rtemp).subs(R2, R5val) \n",
    "    Vtemp = eq_diff.subs(R1, R1val).subs(R2, R2val).subs(R3, R3t).subs(R4, R4t).subs(Vin, 5) .subs(Vin2, 5)   \n",
    "    Vlog.append(Vtemp)\n",
    "\n",
    "figure, ax = plt.subplots(figsize=(8, 5))\n",
    "ax.plot(Vlin)  # the pot position from 0 .. 1\n",
    "ax.plot(Vlog)  # the pot position from 0 .. 1\n",
    "ax.legend(('Vlin [V]', 'Vlog [V]'), loc=(.7, .8))\n",
    "ax.grid()\n",
    "ax.set_xlabel('gain [%]')\n",
    "ax.set_ylabel('Vout [V]')\n",
    "plt.tight_layout()\n",
    "plt.show()"
   ]
  },
  {
   "cell_type": "markdown",
   "metadata": {},
   "source": [
    "## construction\n",
    "\n",
    "because the channel is silent at potentometer center position, it would be nice to use a potentometer that has a center decent. such potientometers are not easy to find. some examples are [[10][10]]\n",
    "\n",
    "\n",
    "<img src=\"main/main.svg\"/>\n"
   ]
  },
  {
   "cell_type": "markdown",
   "metadata": {},
   "source": [
    "Kicad Schema!\n"
   ]
  },
  {
   "cell_type": "code",
   "execution_count": null,
   "metadata": {
    "tags": []
   },
   "outputs": [],
   "source": [
    "circuit = parser.build_circuit(ground='GND')\n",
    "circuit.include(spice_library['LED2'])\n",
    "circuit.include(spice_library['D1N4148'])\n",
    "circuit.include(spice_library['BC547B'])\n",
    "circuit.include(spice_library['OPA2134'])\n",
    "circuit.include(spice_library['OPA2134d'])\n",
    "circuit.V('1', '+15V', circuit.gnd, 15@u_V)\n",
    "circuit.V('2', '-15V', circuit.gnd, -15@u_V)\n",
    "\n",
    "for subcircuit in ( XU1(), VoltageDivider1(R=RVval,w=0), VoltageDivider2(R=RVval,w=0.5), VoltageDivider3(R=RVval,w=0.5), VoltageDivider4(R=RVval,w=0.5) ,JackOut()):\n",
    "    circuit.subcircuit(subcircuit)\n",
    "\n",
    "print(str(circuit))\n"
   ]
  },
  {
   "cell_type": "markdown",
   "metadata": {},
   "source": [
    "simulation to check the attenuation function. "
   ]
  },
  {
   "cell_type": "code",
   "execution_count": null,
   "metadata": {
    "tags": []
   },
   "outputs": [],
   "source": [
    "steps = np.arange( 1, 0, -0.01 )\n",
    "results = []\n",
    "\n",
    "for s in steps:\n",
    "\n",
    "    circuit = parser.build_circuit(ground='GND')\n",
    "    circuit.include(spice_library['LED2'])\n",
    "    circuit.include(spice_library['D1N4148'])\n",
    "    circuit.include(spice_library['BC547B'])\n",
    "    circuit.include(spice_library['OPA2134'])\n",
    "    circuit.include(spice_library['OPA2134d'])\n",
    "    circuit.V('1', '+15V', circuit.gnd, 15@u_V)\n",
    "    circuit.V('2', '-15V', circuit.gnd, -15@u_V)\n",
    "\n",
    "    for subcircuit in ( XU1(), VoltageDivider1(R=RVval,w=s), VoltageDivider2(R=RVval,w=0.5), \n",
    "                                            VoltageDivider3(R=RVval,w=0.5), VoltageDivider4(R=RVval,w=0.5), JackOut()):\n",
    "        circuit.subcircuit(subcircuit)\n",
    "\n",
    "    simulator = circuit.simulator(temperature=25, nominal_temperature=25)\n",
    "    analysis = simulator.operating_point()\n",
    "\n",
    "    results.append( float( analysis['/MIX_1'] ) )\n",
    "\n",
    "figure, ax = plt.subplots(figsize=(8, 5))\n",
    "ax.plot(results)  # input\n",
    "ax.legend(('Vout [V]'), loc=(.1, .8))\n",
    "ax.grid()\n",
    "ax.set_xlabel('wiper [%]')\n",
    "ax.set_ylabel('[V]')\n",
    "\n",
    "plt.tight_layout()\n",
    "plt.show()\n"
   ]
  },
  {
   "cell_type": "code",
   "execution_count": null,
   "metadata": {
    "tags": []
   },
   "outputs": [],
   "source": [
    "parser = SpiceParser(path=NETLIST)\n",
    "circuit = parser.build_circuit(ground='GND')\n",
    "circuit.include(spice_library['LED2'])\n",
    "circuit.include(spice_library['D1N4148'])\n",
    "circuit.include(spice_library['BC547B'])\n",
    "circuit.include(spice_library['OPA2134'])\n",
    "circuit.include(spice_library['OPA2134d'])\n",
    "circuit.V('1', '+15V', circuit.gnd, 15@u_V)\n",
    "circuit.V('2', '-15V', circuit.gnd, -15@u_V)\n",
    "\n",
    "for subcircuit in ( XU1(), VoltageDivider1(R=RVval,w=0.2), VoltageDivider2(R=RVval,w=0.2), \n",
    "                                        VoltageDivider3(R=RVval,w=0.2), VoltageDivider4(R=RVval,w=0.2), JackOut()):\n",
    "    circuit.subcircuit(subcircuit)\n",
    "\n",
    "simulator = circuit.simulator(temperature=25, nominal_temperature=25)\n",
    "analysis = simulator.transient(step_time=10@u_us, start_time=10@u_ms, end_time=11@u_ms)\n",
    "\n",
    "figure, ax = plt.subplots(figsize=(8, 5))\n",
    "\n",
    "#ax.plot(analysis['Net-_J2-PadT_'])  # channel 1 input (signal)\n",
    "#ax.plot(analysis['/MIX_1'])  # channel 1 output (signal)\n",
    "#ax.plot(analysis['/MIX_2'])  # channel 2 output (silent)\n",
    "ax.plot(analysis['Net-_J10-PadT_'])  # mixed output\n",
    "ax.legend(('Vin [V]', 'V#1 [V]', 'V#2 [V]', 'Vmix [V]'), loc=(.1, .8))\n",
    "ax.grid()\n",
    "ax.set_xlabel('t [s]')\n",
    "ax.set_ylabel('[V]')\n",
    "\n",
    "plt.tight_layout()\n",
    "plt.show()"
   ]
  },
  {
   "cell_type": "markdown",
   "metadata": {},
   "source": [
    "test the led voltage"
   ]
  },
  {
   "cell_type": "code",
   "execution_count": null,
   "metadata": {},
   "outputs": [],
   "source": [
    "parser = SpiceParser(path=NETLIST)\n",
    "circuit = parser.build_circuit(ground='GND')\n",
    "circuit.include(spice_library['LED2'])\n",
    "circuit.include(spice_library['D1N4148'])\n",
    "circuit.include(spice_library['BC547B'])\n",
    "circuit.include(spice_library['OPA2134'])\n",
    "circuit.include(spice_library['OPA2134d'])\n",
    "circuit.V('1', '+15V', circuit.gnd, 15@u_V)\n",
    "circuit.V('2', '-15V', circuit.gnd, -15@u_V)\n",
    "\n",
    "for subcircuit in ( XU1(), VoltageDivider1(R=RVval,w=0.01), VoltageDivider2(R=RVval,w=0.1), \n",
    "                                        VoltageDivider3(R=RVval,w=0.2), VoltageDivider4(R=RVval,w=0.2), JackOut()):\n",
    "    circuit.subcircuit(subcircuit)\n",
    "\n",
    "simulator = circuit.simulator(temperature=25, nominal_temperature=25)\n",
    "analysis = simulator.transient(step_time=1@u_us, start_time=10@u_ms, end_time=100@u_ms)\n",
    "\n",
    "figure, ax = plt.subplots(figsize=(8, 5))\n",
    "\n",
    "#ax.plot(analysis['/MIX_1'])  # channel 1 output (signal)\n",
    "ax.plot(analysis['Net-_C9-Pad2_'])  # transistor input\n",
    "ax.plot(analysis['Net-_D2-Pad2_'])  # transistor output\n",
    "ax.legend(('Vin [V]', 'V#1 [V]', 'V#2 [V]', 'Vmix [V]'), loc=(.1, .8))\n",
    "ax.grid()\n",
    "ax.set_xlabel('t [s]')\n",
    "ax.set_ylabel('[V]')\n",
    "\n",
    "plt.tight_layout()\n",
    "plt.show()"
   ]
  },
  {
   "cell_type": "markdown",
   "metadata": {},
   "source": [
    "tests"
   ]
  },
  {
   "cell_type": "code",
   "execution_count": null,
   "metadata": {
    "tags": []
   },
   "outputs": [],
   "source": [
    "import unittest\n",
    "class TestKontrast(unittest.TestCase):\n",
    "    \n",
    "    def test_add(self):\n",
    "        circuit = parser.build_circuit(ground='GND')\n",
    "        circuit.include(spice_library['LED2'])\n",
    "        circuit.include(spice_library['D1N4148'])\n",
    "        circuit.include(spice_library['BC547B'])\n",
    "        circuit.include(spice_library['OPA2134'])\n",
    "        circuit.include(spice_library['OPA2134d'])\n",
    "        circuit.V('1', '+15V', circuit.gnd, 15@u_V)\n",
    "        circuit.V('2', '-15V', circuit.gnd, -15@u_V)\n",
    "\n",
    "        for subcircuit in ( XU1(), VoltageDivider1(R=RVval,w=0), VoltageDivider2(R=RVval,w=1.0), \n",
    "                                                VoltageDivider3(R=RVval,w=0.5), VoltageDivider4(R=RVval,w=0.5), JackOut()):\n",
    "            circuit.subcircuit(subcircuit)\n",
    "        \n",
    "        simulator = circuit.simulator(temperature=25, nominal_temperature=25)\n",
    "        analysis = simulator.operating_point()\n",
    "\n",
    "        print( \"\\n\\nMIX1: %f, MIX2: %f, MIX3: %f, MIX4: %f, OUT: %f\" % \n",
    "            (float( analysis['/MIX_1'] ), float( analysis['/MIX_2'] ), \n",
    "            float( analysis['/MIX_3'] ), float( analysis['/MIX_4'] ), \n",
    "            float( analysis['Net-_J10-PadT_'] ) ) )\n",
    "\n",
    "        self.assertEqual(float( analysis['Net-_J1-PadT_'] ), 5 )\n",
    "        self.assertEqual(float( analysis['Net-_J2-PadT_'] ), 5 )\n",
    "        self.assertEqual(float( analysis['Net-_J3-PadT_'] ), 5 )\n",
    "        self.assertEqual(float( analysis['Net-_J4-PadT_'] ), 5 )\n",
    "        self.assertAlmostEqual(float( analysis['/MIX_1'] ), -5, places=1 )\n",
    "        self.assertAlmostEqual(float( analysis['/MIX_2'] ), 5, places=1)\n",
    "        self.assertAlmostEqual(float( analysis['/MIX_3'] ), 0, places=1 )\n",
    "        self.assertAlmostEqual(float( analysis['/MIX_4'] ), 0, places=1 )\n",
    "        self.assertAlmostEqual(float( analysis['Net-_J10-PadT_'] ), 0, places=2 )\n",
    "\n",
    "unittest.main(argv=[''], verbosity=2, exit=False)\n"
   ]
  },
  {
   "cell_type": "markdown",
   "metadata": {},
   "source": [
    "## *calibration*\n",
    "\n",
    "there is no calibration needed. but the potentiomenter knobs have to be aliged to center position."
   ]
  },
  {
   "cell_type": "markdown",
   "metadata": {},
   "source": [
    "## *usage*\n",
    "\n",
    "the input jacks are wired to 5 volts when nothing is connected.\n",
    "\n",
    "all channels are mixed to the out jack. when something is connected to the channel out, this channel is removed from the overall mix.\n",
    "\n",
    "_mixer_\n",
    "* connect the different channels from audio or cv sources to the in jacks.\n",
    "* connect the out jack to something\n",
    "* turn the pots clockwise to adjust the volume.\n",
    "\n",
    "_attenuverter_\n",
    "* connect all or a single channel. \n",
    "* when you turn the pot knob counter clockwise the signal is inverted.\n"
   ]
  },
  {
   "cell_type": "markdown",
   "metadata": {},
   "source": [
    "## *references*\n",
    "\n",
    "- [Op Amp Differential Amplifier][1] eCircuit  Center\n",
    "- [Beginners' Guide to Potentiometers][2]  Rod Elliott (ESP)\n",
    "\n",
    "[1]: http://www.ecircuitcenter.com/Circuits/opdif/opdif.htm\n",
    "[2]: https://sound-au.com/pots.htm\n",
    "[10]: https://www.mouser.ch/ProductDetail/ALPS/RK09L114001T?qs=Xb8IjHhkxj78e5CYccfZWg%3D%3D\n"
   ]
  },
  {
   "cell_type": "markdown",
   "metadata": {},
   "source": [
    "## *changelog*\n",
    "\n"
   ]
  },
  {
   "cell_type": "markdown",
   "metadata": {},
   "source": [
    "---\n",
    "[![CC BY-SA](https://licensebuttons.net/l/by-sa/3.0/88x31.png)](https://creativecommons.org/licenses/by-sa/4.0/)"
   ]
  }
 ],
 "metadata": {
  "kernelspec": {
   "display_name": "Python 3.8.2 64-bit",
   "language": "python",
   "name": "python38264bitf28cdd56da7a4a91a745d4dca728ac52"
  },
  "language_info": {
   "codemirror_mode": {
    "name": "ipython",
    "version": 3
   },
   "file_extension": ".py",
   "mimetype": "text/x-python",
   "name": "python",
   "nbconvert_exporter": "python",
   "pygments_lexer": "ipython3",
   "version": "3.8.2-final"
  }
 },
 "nbformat": 4,
 "nbformat_minor": 4
}