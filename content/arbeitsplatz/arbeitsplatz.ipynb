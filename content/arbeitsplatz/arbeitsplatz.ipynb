{
 "metadata": {
  "language_info": {
   "codemirror_mode": {
    "name": "ipython",
    "version": 3
   },
   "file_extension": ".py",
   "mimetype": "text/x-python",
   "name": "python",
   "nbconvert_exporter": "python",
   "pygments_lexer": "ipython3",
   "version": "3.9.1-final"
  },
  "orig_nbformat": 2,
  "kernelspec": {
   "name": "python3",
   "display_name": "Python 3",
   "language": "python"
  }
 },
 "nbformat": 4,
 "nbformat_minor": 2,
 "cells": [
  {
   "source": [
    "---\n",
    "layout: default\n",
    "title: arbeitsplatz\n",
    "author: spielhuus\n",
    "tags: basics\n",
    "category: article\n",
    "logo: arbeitsplatz_files/arbeitsplatz.jpg\n",
    "excerpt: install and setup required software on windows os.\n",
    "---\n",
    "\n",
    "\n",
    "[1]: https://chocolatey.org/"
   ],
   "cell_type": "markdown",
   "metadata": {}
  },
  {
   "source": [
    "## package manager\n",
    "{: class=\"is-subtitle is-size-2 is-lowercase is-italic\"}"
   ],
   "cell_type": "markdown",
   "metadata": {}
  },
  {
   "source": [
    "install the [chocolatey][1] package manager\n",
    "\n",
    "```\n",
    "Set-ExecutionPolicy Bypass -Scope Process -Force; [System.Net.ServicePointManager]::SecurityProtocol = [System.Net.ServicePointManager]::SecurityProtocol -bor 3072; iex ((New-Object System.Net.WebClient).DownloadString('https://chocolatey.org/install.ps1'))\n",
    "```"
   ],
   "cell_type": "markdown",
   "metadata": {}
  },
  {
   "source": [
    "## conda\n",
    "{: class=\"is-subtitle is-size-2 is-lowercase is-italic\"}\n",
    "\n",
    "for python development it is the simplest way to use conda. conda comes with the correct ngspice version, whereas arch linux already uses the latest ngspice library which is not compatible with pyspice\n",
    "\n",
    "follow this guide ti install anaconda on linux:\n",
    "\n",
    "https://docs.anaconda.com/anaconda/install/linux/\n"
   ],
   "cell_type": "markdown",
   "metadata": {}
  },
  {
   "source": [
    "## environment for basic development\n",
    "{: class=\"is-subtitle is-size-2 is-lowercase is-italic\"}\n"
   ],
   "cell_type": "markdown",
   "metadata": {}
  },
  {
   "source": [
    "## create conda environment\n",
    "{: class=\"is-subtitle is-size-2 is-lowercase is-italic\"}\n",
    "\n",
    "```\n",
    "conda create --name elektrophon\n",
    "conda activate elektrophon\n",
    "```\n"
   ],
   "cell_type": "markdown",
   "metadata": {}
  },
  {
   "source": [
    "### python packages\n",
    "{: class=\"is-subtitle is-size-3 is-lowercase is-italic\"}\n",
    "\n",
    "* [SchemDraw](https://schemdraw.readthedocs.io/en/latest/index.html) Schemdraw is a Python package for producing high-quality electrical circuit schematic diagrams. \n",
    "* [itikz](https://github.com/jbn/itikz) Cell magic for PGF/TikZ-to-SVG rendering in Jupyter\n",
    "* [librosa](https://librosa.org/doc/latest/index.html) is a python package for music and audio analysis. It provides the building blocks necessary to create music information retrieval systems.\n"
   ],
   "cell_type": "markdown",
   "metadata": {}
  },
  {
   "source": [
    "install dependencies\n",
    "\n",
    "```\n",
    "conda install -c conda-forge matplotlib\n",
    "\n",
    "pip3 install schemdraw\n",
    "```\n",
    "\n",
    "\n",
    "install pyspice \n",
    "\n",
    "```\n",
    "conda install -c conda-forge ngspice-lib\n",
    "conda install -c conda-forge pyspice\n",
    "pyspice-post-installation --check-install #optional\n",
    "\n",
    "```\n",
    "\n",
    "\n",
    "\n"
   ],
   "cell_type": "markdown",
   "metadata": {}
  },
  {
   "source": [
    "install livetex, imagemagick and pdf2svg\n",
    "\n",
    "```\n",
    "choco install livetex imagemagick pdf2svg\n",
    "```\n",
    "\n",
    "install the latex modules in the tex live shell\n",
    "install: \n",
    "* pgf\n",
    "* xkeyval\n",
    "* standalone\n",
    "\n",
    "[]()\n"
   ],
   "cell_type": "markdown",
   "metadata": {}
  },
  {
   "source": [
    "## environment for stm32 development\n",
    "{: class=\"is-subtitle is-size-2 is-lowercase is-italic\"}"
   ],
   "cell_type": "markdown",
   "metadata": {}
  },
  {
   "source": [
    "## web page\n",
    "{: class=\"is-subtitle is-size-2 is-lowercase is-italic\"}\n",
    "\n",
    "* [KiBot](https://github.com/INTI-CMNB/kibot) is a program which helps you to generate the fabrication and documentation files for your KiCad projects"
   ],
   "cell_type": "markdown",
   "metadata": {}
  },
  {
   "source": [
    "## other software\n",
    "{: class=\"is-subtitle is-size-2 is-lowercase is-italic\"}\n",
    "\n",
    "* [audacity](https://www.audacityteam.org/) Free, open source, cross-platform audio software"
   ],
   "cell_type": "markdown",
   "metadata": {}
  }
 ]
}