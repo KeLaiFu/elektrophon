{
 "metadata": {
  "language_info": {
   "codemirror_mode": {
    "name": "ipython",
    "version": 3
   },
   "file_extension": ".py",
   "mimetype": "text/x-python",
   "name": "python",
   "nbconvert_exporter": "python",
   "pygments_lexer": "ipython3",
   "version": "3.8.5-final"
  },
  "orig_nbformat": 2,
  "kernelspec": {
   "name": "python3",
   "display_name": "Python 3",
   "language": "python"
  }
 },
 "nbformat": 4,
 "nbformat_minor": 2,
 "cells": [
  {
   "source": [
    "---\n",
    "layout: module\n",
    "title: polivoks\n",
    "author: spielhuus\n",
    "version: 0\n",
    "status: draft\n",
    "tags: cv\n",
    "category: module\n",
    "logo: polivoks_files/polivoks-logo.jpg\n",
    "panel: polivoks_files/polivoks-panel.jpg\n",
    "excerpt: the polivoks filter has very unusual design. It is a filter without capacitors and also does not need to be trimmed. but it is a very screaming filter.\n",
    "---\n",
    "\n",
    "[1]: http://m.bareille.free.fr/modular1/vcf_polivoks/vcf_polivoks.htm\n",
    "[2]: https://modularsynthesis.com/kuzmin/polivoks/djb-polivoks_schematic.jpg\n",
    "[3]: http://electro-music.com/forum/topic-65609.html\n",
    "[4]: http://electro-music.com/forum/phpbb-files/polivoks_vcf_soft_917.png\n",
    "[5]: http://www.muztech.com/company.php\n",
    "[6]: https://www.youtube.com/watch?v=s8BHnQAXdr4"
   ],
   "cell_type": "markdown",
   "metadata": {}
  },
  {
   "cell_type": "code",
   "execution_count": 3,
   "metadata": {},
   "outputs": [],
   "source": [
    "import logging\n",
    "logging.Logger.disabled=True\n",
    "import schemdraw\n",
    "import schemdraw.elements as elm\n",
    "from schemdraw import dsp\n"
   ]
  },
  {
   "source": [],
   "cell_type": "markdown",
   "metadata": {}
  },
  {
   "source": [
    "people seem to love the russian polivoks synthesizer [[6][6]]. for me the most interesting thing is the filter section. it is built without any capacitors, instead it uses some weird russian opamps (KR140UD12). these are programmable opamps. with a control voltage the gain can be changed. this filter want to scream and can give percusive feedback responses, but can be well controlled. this filter is invented by vladimir kuzmin[[5][5]]. it has a lowpas and bandpass sections. instead of the original russion opamp also the western counterparts can be used (uA776, MC1776, LM4250,NTE888). of course none of these parts is available anymore. i got some LM4250 from china. beside the programmable opamp this filter is a very simple build. no calibration trimmers or accurate tempco stages required.<br/><br>\n",
    "\n",
    "## construction\n",
    "\n",
    "The gerber files are part of the release. It should be possible to directly order them from your manufacturer. But check the result on the preview when you order them. The parts are in the [BOM](BOM.md). all of the parts are active and available. but the LM4250 is not and an alternative source has to be find.\n",
    "\n",
    "bom: main circuit\n",
    "\n",
    "{% include bom.html content=\"polivoks-main-bom\" %}\n",
    "\n",
    "bom: mount circuit\n",
    "\n",
    "{% include bom.html content=\"polivoks-mount-bom\" %}\n",
    "\n",
    "*files*\n",
    "\n",
    "* [schematic pdf file](/assets/polivoks_files/main-schematic.pdf)\n",
    "* [schematic pdf file](/assets/polivoks_files/mount-schematic.pdf)\n",
    "* [PCB pdf file](/assets/polivoks_files/main-pcb.pdf)\n",
    "* [PCB pdf file](/assets/polivoks_files/mount-pcb.pdf)\n",
    "* [PCB pdf file](/assets/polivoks_files/panel-pcb.pdf)\n",
    "\n",
    "\n",
    "## calibration\n",
    "\n",
    "no calibration needed.\n",
    "\n",
    "## *use*"
   ],
   "cell_type": "markdown",
   "metadata": {}
  },
  {
   "source": [
    "## references\n",
    "\n",
    "* [papareil synth labs][1] polivoks clone\n",
    "* [polivoks clone][2] using the NTE888.\n",
    "* [electro-music][3] thread with a [polivoks clone][4] using the LM4250. \n",
    "* website from [vladimir kuzmin][5]"
   ],
   "cell_type": "markdown",
   "metadata": {}
  }
 ]
}