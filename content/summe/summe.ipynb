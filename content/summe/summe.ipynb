{
 "cells": [
  {
   "source": [
    "---\n",
    "layout: module\n",
    "title: summe\n",
    "author: spielhuus\n",
    "tags: vca+mixer\n",
    "category: module\n",
    "toc: true\n",
    "logo: summe_files/summe-logo-tmb.jpg\n",
    "excerpt: audio and cv mixer that also can add offset or attenuvert a s\n",
    "---"
   ],
   "cell_type": "markdown",
   "metadata": {}
  },
  {
   "cell_type": "code",
   "execution_count": 1,
   "metadata": {
    "tags": []
   },
   "outputs": [],
   "source": [
    "#general definitions and imports\n",
    "%matplotlib inline\n",
    "%config InlineBackend.figure_format = 'svg'\n",
    "%load_ext itikz\n",
    "\n",
    "import os\n",
    "import PySpice.Logging.Logging as Logging\n",
    "logger = Logging.setup_logging( logging_level='CRITICAL')\n",
    "\n",
    "import numpy as np\n",
    "import matplotlib.pyplot as plt\n",
    "\n",
    "import unittest\n",
    "\n",
    "from pathlib import Path\n",
    "\n",
    "from PySpice.Unit import *\n",
    "from PySpice.Spice.Parser import SpiceParser\n",
    "from PySpice.Spice.Netlist import SubCircuitFactory\n",
    "from PySpice.Spice.Library import SpiceLibrary\n",
    "from PySpice.Spice.Netlist import Circuit\n",
    "from PySpice.Probe.Plot import plot\n",
    "from PySpice.Math import *\n",
    "\n",
    "## setup spice library path\n",
    "directory_path = Path(os.path.abspath('')).resolve().parent.parent\n",
    "spice_libraries_path = directory_path.joinpath(\"lib\", \"spice\")\n",
    "spice_library = SpiceLibrary(spice_libraries_path)\n",
    "## set the project directory as directory_path\n",
    "directory_path = Path(os.path.abspath('')).resolve()"
   ]
  },
  {
   "cell_type": "code",
   "execution_count": 2,
   "metadata": {},
   "outputs": [],
   "source": [
    "# definitions\n",
    "        \n",
    "class VoltageDivider(SubCircuitFactory):\n",
    "    __name__ = 'voltage_divider'\n",
    "    __nodes__ = ('n1', 'n2', 'n3' )\n",
    "    def __init__(self, R=100@u_kΩ, w=0.4, name='voltage_divider'):\n",
    "        self.__name__ = name\n",
    "        super().__init__()\n",
    "        self.R(1, 'n1', 'n2', R * w)\n",
    "        self.R(2, 'n2', 'n3', R * (1.0-w) )\n",
    "\n",
    "class JackIn(SubCircuitFactory):\n",
    "    __name__ = 'jack_in'\n",
    "    __nodes__ = ('n1', 'n2', 'n3' )\n",
    "    def __init__(self, R=1@u_kΩ, name='jack_in', value='DC 5'):\n",
    "        self.__name__ = name\n",
    "        super().__init__()\n",
    "        self.V(1, 'n2', self.gnd, value)\n",
    "\n",
    "class JackOut(SubCircuitFactory):\n",
    "    __name__ = 'jack_out'\n",
    "    __nodes__ = ('n1', 'n2', 'n3' )\n",
    "    def __init__(self, R=100@u_kΩ, name='jack_out'):\n",
    "        self.__name__ = name\n",
    "        super().__init__()\n",
    "        self.R(1, 'n2', 'n1', R)\n"
   ]
  },
  {
   "cell_type": "code",
   "execution_count": 3,
   "metadata": {
    "tags": []
   },
   "outputs": [],
   "source": [
    "# run unit tests\n",
    "\n",
    "kicad_netlist_path = directory_path.joinpath('main', 'main.cir')\n",
    "parser = SpiceParser(path=str(kicad_netlist_path))\n",
    "\n",
    "circuit = parser.build_circuit(ground=5)\n",
    "circuit.include(spice_library['OPA2134'])\n",
    "circuit.include(spice_library['OPA2134d'])\n",
    "circuit.V('1', '+15V', circuit.gnd, 'DC 15')\n",
    "circuit.V('2', '-15V', circuit.gnd, 'DC -15')\n",
    "circuit.V('3', '+5V', circuit.gnd, 'DC 5')\n",
    "\n",
    "for c in ( VoltageDivider(R=100@u_kΩ, w=0.001, name='voltage_divider_1'), \n",
    "           VoltageDivider(R=100@u_kΩ, w=0.001, name='voltage_divider_2'), \n",
    "           VoltageDivider(R=100@u_kΩ, w=0.001, name='voltage_divider_3'), \n",
    "           VoltageDivider(R=100@u_kΩ, w=0.001, name='voltage_divider_4'), \n",
    "           JackIn(name='IN_1', value='AC 5 DC 5 SINE(0 5 1k)'), \n",
    "           JackIn(name='IN_2', value='AC 5 DC 5 SINE(0 5 2k)'), \n",
    "           JackIn(name='IN_3', value='AC 5 DC 5 SINE(0 5 3k)'), \n",
    "           JackIn(name='IN_4', value='AC 5 DC 5 SINE(0 5 4k)'), \n",
    "           JackOut(name='OUT_1'), \n",
    "           JackOut(name='OUT_2'), \n",
    "           JackOut(name='OUT_3'), \n",
    "           JackOut(name='OUT_4'), \n",
    "           JackOut(name='OUT') ):\n",
    "    circuit.subcircuit(c)\n",
    "\n",
    "#print(circuit)\n",
    "\n",
    "simulator = circuit.simulator(temperature=25, nominal_temperature=25)\n",
    "analysis = simulator.transient(step_time=10@u_us, end_time=4@u_ms)"
   ]
  },
  {
   "cell_type": "code",
   "execution_count": 4,
   "metadata": {},
   "outputs": [],
   "source": [
    "class TestInputAttenuverter(unittest.TestCase):\n",
    "    \n",
    "    def test_1_voltage(self):\n",
    "        self.assertAlmostEqual(4.95, np.max(np.array(analysis['Net-_J6-PadT_'])), places=1, msg='input 1 attenuverter voltage.')\n"
   ]
  },
  {
   "cell_type": "code",
   "execution_count": 5,
   "metadata": {},
   "outputs": [
    {
     "output_type": "stream",
     "name": "stderr",
     "text": [
      "----------------------------------------------------------------------\nRan 1 test in 0.000s\n\nOK\n"
     ]
    },
    {
     "output_type": "execute_result",
     "data": {
      "text/plain": [
       "<unittest.main.TestProgram at 0x1386bd1a880>"
      ]
     },
     "metadata": {},
     "execution_count": 5
    }
   ],
   "source": [
    "unittest.main(argv=[''], verbosity=0, exit=False)"
   ]
  },
  {
   "cell_type": "code",
   "execution_count": 6,
   "metadata": {},
   "outputs": [
    {
     "output_type": "display_data",
     "data": {
      "text/plain": "<Figure size 432x288 with 1 Axes>",
      "image/svg+xml": "<?xml version=\"1.0\" encoding=\"utf-8\" standalone=\"no\"?>\r\n<!DOCTYPE svg PUBLIC \"-//W3C//DTD SVG 1.1//EN\"\r\n  \"http://www.w3.org/Graphics/SVG/1.1/DTD/svg11.dtd\">\r\n<!-- Created with matplotlib (https://matplotlib.org/) -->\r\n<svg height=\"280.15625pt\" version=\"1.1\" viewBox=\"0 0 424.470312 280.15625\" width=\"424.470312pt\" xmlns=\"http://www.w3.org/2000/svg\" xmlns:xlink=\"http://www.w3.org/1999/xlink\">\r\n <metadata>\r\n  <rdf:RDF xmlns:cc=\"http://creativecommons.org/ns#\" xmlns:dc=\"http://purl.org/dc/elements/1.1/\" xmlns:rdf=\"http://www.w3.org/1999/02/22-rdf-syntax-ns#\">\r\n   <cc:Work>\r\n    <dc:type rdf:resource=\"http://purl.org/dc/dcmitype/StillImage\"/>\r\n    <dc:date>2021-01-02T08:40:58.415033</dc:date>\r\n    <dc:format>image/svg+xml</dc:format>\r\n    <dc:creator>\r\n     <cc:Agent>\r\n      <dc:title>Matplotlib v3.3.2, https://matplotlib.org/</dc:title>\r\n     </cc:Agent>\r\n    </dc:creator>\r\n   </cc:Work>\r\n  </rdf:RDF>\r\n </metadata>\r\n <defs>\r\n  <style type=\"text/css\">*{stroke-linecap:butt;stroke-linejoin:round;}</style>\r\n </defs>\r\n <g id=\"figure_1\">\r\n  <g id=\"patch_1\">\r\n   <path d=\"M 0 280.15625 \r\nL 424.470312 280.15625 \r\nL 424.470312 0 \r\nL 0 0 \r\nz\r\n\" style=\"fill:none;\"/>\r\n  </g>\r\n  <g id=\"axes_1\">\r\n   <g id=\"patch_2\">\r\n    <path d=\"M 42.620313 242.6 \r\nL 417.270312 242.6 \r\nL 417.270312 7.2 \r\nL 42.620313 7.2 \r\nz\r\n\" style=\"fill:#ffffff;\"/>\r\n   </g>\r\n   <g id=\"matplotlib.axis_1\">\r\n    <g id=\"xtick_1\">\r\n     <g id=\"line2d_1\">\r\n      <path clip-path=\"url(#p0eafc3f3f9)\" d=\"M 59.649858 242.6 \r\nL 59.649858 7.2 \r\n\" style=\"fill:none;stroke:#b0b0b0;stroke-linecap:square;stroke-width:0.8;\"/>\r\n     </g>\r\n     <g id=\"line2d_2\">\r\n      <defs>\r\n       <path d=\"M 0 0 \r\nL 0 3.5 \r\n\" id=\"m040315ed83\" style=\"stroke:#000000;stroke-width:0.8;\"/>\r\n      </defs>\r\n      <g>\r\n       <use style=\"stroke:#000000;stroke-width:0.8;\" x=\"59.649858\" xlink:href=\"#m040315ed83\" y=\"242.6\"/>\r\n      </g>\r\n     </g>\r\n     <g id=\"text_1\">\r\n      <!-- 0 -->\r\n      <g transform=\"translate(56.468608 257.198437)scale(0.1 -0.1)\">\r\n       <defs>\r\n        <path d=\"M 31.78125 66.40625 \r\nQ 24.171875 66.40625 20.328125 58.90625 \r\nQ 16.5 51.421875 16.5 36.375 \r\nQ 16.5 21.390625 20.328125 13.890625 \r\nQ 24.171875 6.390625 31.78125 6.390625 \r\nQ 39.453125 6.390625 43.28125 13.890625 \r\nQ 47.125 21.390625 47.125 36.375 \r\nQ 47.125 51.421875 43.28125 58.90625 \r\nQ 39.453125 66.40625 31.78125 66.40625 \r\nz\r\nM 31.78125 74.21875 \r\nQ 44.046875 74.21875 50.515625 64.515625 \r\nQ 56.984375 54.828125 56.984375 36.375 \r\nQ 56.984375 17.96875 50.515625 8.265625 \r\nQ 44.046875 -1.421875 31.78125 -1.421875 \r\nQ 19.53125 -1.421875 13.0625 8.265625 \r\nQ 6.59375 17.96875 6.59375 36.375 \r\nQ 6.59375 54.828125 13.0625 64.515625 \r\nQ 19.53125 74.21875 31.78125 74.21875 \r\nz\r\n\" id=\"DejaVuSans-48\"/>\r\n       </defs>\r\n       <use xlink:href=\"#DejaVuSans-48\"/>\r\n      </g>\r\n     </g>\r\n    </g>\r\n    <g id=\"xtick_2\">\r\n     <g id=\"line2d_3\">\r\n      <path clip-path=\"url(#p0eafc3f3f9)\" d=\"M 140.936471 242.6 \r\nL 140.936471 7.2 \r\n\" style=\"fill:none;stroke:#b0b0b0;stroke-linecap:square;stroke-width:0.8;\"/>\r\n     </g>\r\n     <g id=\"line2d_4\">\r\n      <g>\r\n       <use style=\"stroke:#000000;stroke-width:0.8;\" x=\"140.936471\" xlink:href=\"#m040315ed83\" y=\"242.6\"/>\r\n      </g>\r\n     </g>\r\n     <g id=\"text_2\">\r\n      <!-- 100 -->\r\n      <g transform=\"translate(131.392721 257.198437)scale(0.1 -0.1)\">\r\n       <defs>\r\n        <path d=\"M 12.40625 8.296875 \r\nL 28.515625 8.296875 \r\nL 28.515625 63.921875 \r\nL 10.984375 60.40625 \r\nL 10.984375 69.390625 \r\nL 28.421875 72.90625 \r\nL 38.28125 72.90625 \r\nL 38.28125 8.296875 \r\nL 54.390625 8.296875 \r\nL 54.390625 0 \r\nL 12.40625 0 \r\nz\r\n\" id=\"DejaVuSans-49\"/>\r\n       </defs>\r\n       <use xlink:href=\"#DejaVuSans-49\"/>\r\n       <use x=\"63.623047\" xlink:href=\"#DejaVuSans-48\"/>\r\n       <use x=\"127.246094\" xlink:href=\"#DejaVuSans-48\"/>\r\n      </g>\r\n     </g>\r\n    </g>\r\n    <g id=\"xtick_3\">\r\n     <g id=\"line2d_5\">\r\n      <path clip-path=\"url(#p0eafc3f3f9)\" d=\"M 222.223084 242.6 \r\nL 222.223084 7.2 \r\n\" style=\"fill:none;stroke:#b0b0b0;stroke-linecap:square;stroke-width:0.8;\"/>\r\n     </g>\r\n     <g id=\"line2d_6\">\r\n      <g>\r\n       <use style=\"stroke:#000000;stroke-width:0.8;\" x=\"222.223084\" xlink:href=\"#m040315ed83\" y=\"242.6\"/>\r\n      </g>\r\n     </g>\r\n     <g id=\"text_3\">\r\n      <!-- 200 -->\r\n      <g transform=\"translate(212.679334 257.198437)scale(0.1 -0.1)\">\r\n       <defs>\r\n        <path d=\"M 19.1875 8.296875 \r\nL 53.609375 8.296875 \r\nL 53.609375 0 \r\nL 7.328125 0 \r\nL 7.328125 8.296875 \r\nQ 12.9375 14.109375 22.625 23.890625 \r\nQ 32.328125 33.6875 34.8125 36.53125 \r\nQ 39.546875 41.84375 41.421875 45.53125 \r\nQ 43.3125 49.21875 43.3125 52.78125 \r\nQ 43.3125 58.59375 39.234375 62.25 \r\nQ 35.15625 65.921875 28.609375 65.921875 \r\nQ 23.96875 65.921875 18.8125 64.3125 \r\nQ 13.671875 62.703125 7.8125 59.421875 \r\nL 7.8125 69.390625 \r\nQ 13.765625 71.78125 18.9375 73 \r\nQ 24.125 74.21875 28.421875 74.21875 \r\nQ 39.75 74.21875 46.484375 68.546875 \r\nQ 53.21875 62.890625 53.21875 53.421875 \r\nQ 53.21875 48.921875 51.53125 44.890625 \r\nQ 49.859375 40.875 45.40625 35.40625 \r\nQ 44.1875 33.984375 37.640625 27.21875 \r\nQ 31.109375 20.453125 19.1875 8.296875 \r\nz\r\n\" id=\"DejaVuSans-50\"/>\r\n       </defs>\r\n       <use xlink:href=\"#DejaVuSans-50\"/>\r\n       <use x=\"63.623047\" xlink:href=\"#DejaVuSans-48\"/>\r\n       <use x=\"127.246094\" xlink:href=\"#DejaVuSans-48\"/>\r\n      </g>\r\n     </g>\r\n    </g>\r\n    <g id=\"xtick_4\">\r\n     <g id=\"line2d_7\">\r\n      <path clip-path=\"url(#p0eafc3f3f9)\" d=\"M 303.509697 242.6 \r\nL 303.509697 7.2 \r\n\" style=\"fill:none;stroke:#b0b0b0;stroke-linecap:square;stroke-width:0.8;\"/>\r\n     </g>\r\n     <g id=\"line2d_8\">\r\n      <g>\r\n       <use style=\"stroke:#000000;stroke-width:0.8;\" x=\"303.509697\" xlink:href=\"#m040315ed83\" y=\"242.6\"/>\r\n      </g>\r\n     </g>\r\n     <g id=\"text_4\">\r\n      <!-- 300 -->\r\n      <g transform=\"translate(293.965947 257.198437)scale(0.1 -0.1)\">\r\n       <defs>\r\n        <path d=\"M 40.578125 39.3125 \r\nQ 47.65625 37.796875 51.625 33 \r\nQ 55.609375 28.21875 55.609375 21.1875 \r\nQ 55.609375 10.40625 48.1875 4.484375 \r\nQ 40.765625 -1.421875 27.09375 -1.421875 \r\nQ 22.515625 -1.421875 17.65625 -0.515625 \r\nQ 12.796875 0.390625 7.625 2.203125 \r\nL 7.625 11.71875 \r\nQ 11.71875 9.328125 16.59375 8.109375 \r\nQ 21.484375 6.890625 26.8125 6.890625 \r\nQ 36.078125 6.890625 40.9375 10.546875 \r\nQ 45.796875 14.203125 45.796875 21.1875 \r\nQ 45.796875 27.640625 41.28125 31.265625 \r\nQ 36.765625 34.90625 28.71875 34.90625 \r\nL 20.21875 34.90625 \r\nL 20.21875 43.015625 \r\nL 29.109375 43.015625 \r\nQ 36.375 43.015625 40.234375 45.921875 \r\nQ 44.09375 48.828125 44.09375 54.296875 \r\nQ 44.09375 59.90625 40.109375 62.90625 \r\nQ 36.140625 65.921875 28.71875 65.921875 \r\nQ 24.65625 65.921875 20.015625 65.03125 \r\nQ 15.375 64.15625 9.8125 62.3125 \r\nL 9.8125 71.09375 \r\nQ 15.4375 72.65625 20.34375 73.4375 \r\nQ 25.25 74.21875 29.59375 74.21875 \r\nQ 40.828125 74.21875 47.359375 69.109375 \r\nQ 53.90625 64.015625 53.90625 55.328125 \r\nQ 53.90625 49.265625 50.4375 45.09375 \r\nQ 46.96875 40.921875 40.578125 39.3125 \r\nz\r\n\" id=\"DejaVuSans-51\"/>\r\n       </defs>\r\n       <use xlink:href=\"#DejaVuSans-51\"/>\r\n       <use x=\"63.623047\" xlink:href=\"#DejaVuSans-48\"/>\r\n       <use x=\"127.246094\" xlink:href=\"#DejaVuSans-48\"/>\r\n      </g>\r\n     </g>\r\n    </g>\r\n    <g id=\"xtick_5\">\r\n     <g id=\"line2d_9\">\r\n      <path clip-path=\"url(#p0eafc3f3f9)\" d=\"M 384.796311 242.6 \r\nL 384.796311 7.2 \r\n\" style=\"fill:none;stroke:#b0b0b0;stroke-linecap:square;stroke-width:0.8;\"/>\r\n     </g>\r\n     <g id=\"line2d_10\">\r\n      <g>\r\n       <use style=\"stroke:#000000;stroke-width:0.8;\" x=\"384.796311\" xlink:href=\"#m040315ed83\" y=\"242.6\"/>\r\n      </g>\r\n     </g>\r\n     <g id=\"text_5\">\r\n      <!-- 400 -->\r\n      <g transform=\"translate(375.252561 257.198437)scale(0.1 -0.1)\">\r\n       <defs>\r\n        <path d=\"M 37.796875 64.3125 \r\nL 12.890625 25.390625 \r\nL 37.796875 25.390625 \r\nz\r\nM 35.203125 72.90625 \r\nL 47.609375 72.90625 \r\nL 47.609375 25.390625 \r\nL 58.015625 25.390625 \r\nL 58.015625 17.1875 \r\nL 47.609375 17.1875 \r\nL 47.609375 0 \r\nL 37.796875 0 \r\nL 37.796875 17.1875 \r\nL 4.890625 17.1875 \r\nL 4.890625 26.703125 \r\nz\r\n\" id=\"DejaVuSans-52\"/>\r\n       </defs>\r\n       <use xlink:href=\"#DejaVuSans-52\"/>\r\n       <use x=\"63.623047\" xlink:href=\"#DejaVuSans-48\"/>\r\n       <use x=\"127.246094\" xlink:href=\"#DejaVuSans-48\"/>\r\n      </g>\r\n     </g>\r\n    </g>\r\n    <g id=\"text_6\">\r\n     <!-- wiper [%] -->\r\n     <g transform=\"translate(205.919531 270.876562)scale(0.1 -0.1)\">\r\n      <defs>\r\n       <path d=\"M 4.203125 54.6875 \r\nL 13.1875 54.6875 \r\nL 24.421875 12.015625 \r\nL 35.59375 54.6875 \r\nL 46.1875 54.6875 \r\nL 57.421875 12.015625 \r\nL 68.609375 54.6875 \r\nL 77.59375 54.6875 \r\nL 63.28125 0 \r\nL 52.6875 0 \r\nL 40.921875 44.828125 \r\nL 29.109375 0 \r\nL 18.5 0 \r\nz\r\n\" id=\"DejaVuSans-119\"/>\r\n       <path d=\"M 9.421875 54.6875 \r\nL 18.40625 54.6875 \r\nL 18.40625 0 \r\nL 9.421875 0 \r\nz\r\nM 9.421875 75.984375 \r\nL 18.40625 75.984375 \r\nL 18.40625 64.59375 \r\nL 9.421875 64.59375 \r\nz\r\n\" id=\"DejaVuSans-105\"/>\r\n       <path d=\"M 18.109375 8.203125 \r\nL 18.109375 -20.796875 \r\nL 9.078125 -20.796875 \r\nL 9.078125 54.6875 \r\nL 18.109375 54.6875 \r\nL 18.109375 46.390625 \r\nQ 20.953125 51.265625 25.265625 53.625 \r\nQ 29.59375 56 35.59375 56 \r\nQ 45.5625 56 51.78125 48.09375 \r\nQ 58.015625 40.1875 58.015625 27.296875 \r\nQ 58.015625 14.40625 51.78125 6.484375 \r\nQ 45.5625 -1.421875 35.59375 -1.421875 \r\nQ 29.59375 -1.421875 25.265625 0.953125 \r\nQ 20.953125 3.328125 18.109375 8.203125 \r\nz\r\nM 48.6875 27.296875 \r\nQ 48.6875 37.203125 44.609375 42.84375 \r\nQ 40.53125 48.484375 33.40625 48.484375 \r\nQ 26.265625 48.484375 22.1875 42.84375 \r\nQ 18.109375 37.203125 18.109375 27.296875 \r\nQ 18.109375 17.390625 22.1875 11.75 \r\nQ 26.265625 6.109375 33.40625 6.109375 \r\nQ 40.53125 6.109375 44.609375 11.75 \r\nQ 48.6875 17.390625 48.6875 27.296875 \r\nz\r\n\" id=\"DejaVuSans-112\"/>\r\n       <path d=\"M 56.203125 29.59375 \r\nL 56.203125 25.203125 \r\nL 14.890625 25.203125 \r\nQ 15.484375 15.921875 20.484375 11.0625 \r\nQ 25.484375 6.203125 34.421875 6.203125 \r\nQ 39.59375 6.203125 44.453125 7.46875 \r\nQ 49.3125 8.734375 54.109375 11.28125 \r\nL 54.109375 2.78125 \r\nQ 49.265625 0.734375 44.1875 -0.34375 \r\nQ 39.109375 -1.421875 33.890625 -1.421875 \r\nQ 20.796875 -1.421875 13.15625 6.1875 \r\nQ 5.515625 13.8125 5.515625 26.8125 \r\nQ 5.515625 40.234375 12.765625 48.109375 \r\nQ 20.015625 56 32.328125 56 \r\nQ 43.359375 56 49.78125 48.890625 \r\nQ 56.203125 41.796875 56.203125 29.59375 \r\nz\r\nM 47.21875 32.234375 \r\nQ 47.125 39.59375 43.09375 43.984375 \r\nQ 39.0625 48.390625 32.421875 48.390625 \r\nQ 24.90625 48.390625 20.390625 44.140625 \r\nQ 15.875 39.890625 15.1875 32.171875 \r\nz\r\n\" id=\"DejaVuSans-101\"/>\r\n       <path d=\"M 41.109375 46.296875 \r\nQ 39.59375 47.171875 37.8125 47.578125 \r\nQ 36.03125 48 33.890625 48 \r\nQ 26.265625 48 22.1875 43.046875 \r\nQ 18.109375 38.09375 18.109375 28.8125 \r\nL 18.109375 0 \r\nL 9.078125 0 \r\nL 9.078125 54.6875 \r\nL 18.109375 54.6875 \r\nL 18.109375 46.1875 \r\nQ 20.953125 51.171875 25.484375 53.578125 \r\nQ 30.03125 56 36.53125 56 \r\nQ 37.453125 56 38.578125 55.875 \r\nQ 39.703125 55.765625 41.0625 55.515625 \r\nz\r\n\" id=\"DejaVuSans-114\"/>\r\n       <path id=\"DejaVuSans-32\"/>\r\n       <path d=\"M 8.59375 75.984375 \r\nL 29.296875 75.984375 \r\nL 29.296875 69 \r\nL 17.578125 69 \r\nL 17.578125 -6.203125 \r\nL 29.296875 -6.203125 \r\nL 29.296875 -13.1875 \r\nL 8.59375 -13.1875 \r\nz\r\n\" id=\"DejaVuSans-91\"/>\r\n       <path d=\"M 72.703125 32.078125 \r\nQ 68.453125 32.078125 66.03125 28.46875 \r\nQ 63.625 24.859375 63.625 18.40625 \r\nQ 63.625 12.0625 66.03125 8.421875 \r\nQ 68.453125 4.78125 72.703125 4.78125 \r\nQ 76.859375 4.78125 79.265625 8.421875 \r\nQ 81.6875 12.0625 81.6875 18.40625 \r\nQ 81.6875 24.8125 79.265625 28.4375 \r\nQ 76.859375 32.078125 72.703125 32.078125 \r\nz\r\nM 72.703125 38.28125 \r\nQ 80.421875 38.28125 84.953125 32.90625 \r\nQ 89.5 27.546875 89.5 18.40625 \r\nQ 89.5 9.28125 84.9375 3.921875 \r\nQ 80.375 -1.421875 72.703125 -1.421875 \r\nQ 64.890625 -1.421875 60.34375 3.921875 \r\nQ 55.8125 9.28125 55.8125 18.40625 \r\nQ 55.8125 27.59375 60.375 32.9375 \r\nQ 64.9375 38.28125 72.703125 38.28125 \r\nz\r\nM 22.3125 68.015625 \r\nQ 18.109375 68.015625 15.6875 64.375 \r\nQ 13.28125 60.75 13.28125 54.390625 \r\nQ 13.28125 47.953125 15.671875 44.328125 \r\nQ 18.0625 40.71875 22.3125 40.71875 \r\nQ 26.5625 40.71875 28.96875 44.328125 \r\nQ 31.390625 47.953125 31.390625 54.390625 \r\nQ 31.390625 60.6875 28.953125 64.34375 \r\nQ 26.515625 68.015625 22.3125 68.015625 \r\nz\r\nM 66.40625 74.21875 \r\nL 74.21875 74.21875 \r\nL 28.609375 -1.421875 \r\nL 20.796875 -1.421875 \r\nz\r\nM 22.3125 74.21875 \r\nQ 30.03125 74.21875 34.609375 68.875 \r\nQ 39.203125 63.53125 39.203125 54.390625 \r\nQ 39.203125 45.171875 34.640625 39.84375 \r\nQ 30.078125 34.515625 22.3125 34.515625 \r\nQ 14.546875 34.515625 10.03125 39.859375 \r\nQ 5.515625 45.21875 5.515625 54.390625 \r\nQ 5.515625 63.484375 10.046875 68.84375 \r\nQ 14.59375 74.21875 22.3125 74.21875 \r\nz\r\n\" id=\"DejaVuSans-37\"/>\r\n       <path d=\"M 30.421875 75.984375 \r\nL 30.421875 -13.1875 \r\nL 9.71875 -13.1875 \r\nL 9.71875 -6.203125 \r\nL 21.390625 -6.203125 \r\nL 21.390625 69 \r\nL 9.71875 69 \r\nL 9.71875 75.984375 \r\nz\r\n\" id=\"DejaVuSans-93\"/>\r\n      </defs>\r\n      <use xlink:href=\"#DejaVuSans-119\"/>\r\n      <use x=\"81.787109\" xlink:href=\"#DejaVuSans-105\"/>\r\n      <use x=\"109.570312\" xlink:href=\"#DejaVuSans-112\"/>\r\n      <use x=\"173.046875\" xlink:href=\"#DejaVuSans-101\"/>\r\n      <use x=\"234.570312\" xlink:href=\"#DejaVuSans-114\"/>\r\n      <use x=\"275.683594\" xlink:href=\"#DejaVuSans-32\"/>\r\n      <use x=\"307.470703\" xlink:href=\"#DejaVuSans-91\"/>\r\n      <use x=\"346.484375\" xlink:href=\"#DejaVuSans-37\"/>\r\n      <use x=\"441.503906\" xlink:href=\"#DejaVuSans-93\"/>\r\n     </g>\r\n    </g>\r\n   </g>\r\n   <g id=\"matplotlib.axis_2\">\r\n    <g id=\"ytick_1\">\r\n     <g id=\"line2d_11\">\r\n      <path clip-path=\"url(#p0eafc3f3f9)\" d=\"M 42.620313 211.931633 \r\nL 417.270312 211.931633 \r\n\" style=\"fill:none;stroke:#b0b0b0;stroke-linecap:square;stroke-width:0.8;\"/>\r\n     </g>\r\n     <g id=\"line2d_12\">\r\n      <defs>\r\n       <path d=\"M 0 0 \r\nL -3.5 0 \r\n\" id=\"ma5dbbef563\" style=\"stroke:#000000;stroke-width:0.8;\"/>\r\n      </defs>\r\n      <g>\r\n       <use style=\"stroke:#000000;stroke-width:0.8;\" x=\"42.620313\" xlink:href=\"#ma5dbbef563\" y=\"211.931633\"/>\r\n      </g>\r\n     </g>\r\n     <g id=\"text_7\">\r\n      <!-- −4 -->\r\n      <g transform=\"translate(20.878125 215.730852)scale(0.1 -0.1)\">\r\n       <defs>\r\n        <path d=\"M 10.59375 35.5 \r\nL 73.1875 35.5 \r\nL 73.1875 27.203125 \r\nL 10.59375 27.203125 \r\nz\r\n\" id=\"DejaVuSans-8722\"/>\r\n       </defs>\r\n       <use xlink:href=\"#DejaVuSans-8722\"/>\r\n       <use x=\"83.789062\" xlink:href=\"#DejaVuSans-52\"/>\r\n      </g>\r\n     </g>\r\n    </g>\r\n    <g id=\"ytick_2\">\r\n     <g id=\"line2d_13\">\r\n      <path clip-path=\"url(#p0eafc3f3f9)\" d=\"M 42.620313 168.415942 \r\nL 417.270312 168.415942 \r\n\" style=\"fill:none;stroke:#b0b0b0;stroke-linecap:square;stroke-width:0.8;\"/>\r\n     </g>\r\n     <g id=\"line2d_14\">\r\n      <g>\r\n       <use style=\"stroke:#000000;stroke-width:0.8;\" x=\"42.620313\" xlink:href=\"#ma5dbbef563\" y=\"168.415942\"/>\r\n      </g>\r\n     </g>\r\n     <g id=\"text_8\">\r\n      <!-- −2 -->\r\n      <g transform=\"translate(20.878125 172.215161)scale(0.1 -0.1)\">\r\n       <use xlink:href=\"#DejaVuSans-8722\"/>\r\n       <use x=\"83.789062\" xlink:href=\"#DejaVuSans-50\"/>\r\n      </g>\r\n     </g>\r\n    </g>\r\n    <g id=\"ytick_3\">\r\n     <g id=\"line2d_15\">\r\n      <path clip-path=\"url(#p0eafc3f3f9)\" d=\"M 42.620313 124.900251 \r\nL 417.270312 124.900251 \r\n\" style=\"fill:none;stroke:#b0b0b0;stroke-linecap:square;stroke-width:0.8;\"/>\r\n     </g>\r\n     <g id=\"line2d_16\">\r\n      <g>\r\n       <use style=\"stroke:#000000;stroke-width:0.8;\" x=\"42.620313\" xlink:href=\"#ma5dbbef563\" y=\"124.900251\"/>\r\n      </g>\r\n     </g>\r\n     <g id=\"text_9\">\r\n      <!-- 0 -->\r\n      <g transform=\"translate(29.257813 128.69947)scale(0.1 -0.1)\">\r\n       <use xlink:href=\"#DejaVuSans-48\"/>\r\n      </g>\r\n     </g>\r\n    </g>\r\n    <g id=\"ytick_4\">\r\n     <g id=\"line2d_17\">\r\n      <path clip-path=\"url(#p0eafc3f3f9)\" d=\"M 42.620313 81.38456 \r\nL 417.270312 81.38456 \r\n\" style=\"fill:none;stroke:#b0b0b0;stroke-linecap:square;stroke-width:0.8;\"/>\r\n     </g>\r\n     <g id=\"line2d_18\">\r\n      <g>\r\n       <use style=\"stroke:#000000;stroke-width:0.8;\" x=\"42.620313\" xlink:href=\"#ma5dbbef563\" y=\"81.38456\"/>\r\n      </g>\r\n     </g>\r\n     <g id=\"text_10\">\r\n      <!-- 2 -->\r\n      <g transform=\"translate(29.257813 85.183779)scale(0.1 -0.1)\">\r\n       <use xlink:href=\"#DejaVuSans-50\"/>\r\n      </g>\r\n     </g>\r\n    </g>\r\n    <g id=\"ytick_5\">\r\n     <g id=\"line2d_19\">\r\n      <path clip-path=\"url(#p0eafc3f3f9)\" d=\"M 42.620313 37.868869 \r\nL 417.270312 37.868869 \r\n\" style=\"fill:none;stroke:#b0b0b0;stroke-linecap:square;stroke-width:0.8;\"/>\r\n     </g>\r\n     <g id=\"line2d_20\">\r\n      <g>\r\n       <use style=\"stroke:#000000;stroke-width:0.8;\" x=\"42.620313\" xlink:href=\"#ma5dbbef563\" y=\"37.868869\"/>\r\n      </g>\r\n     </g>\r\n     <g id=\"text_11\">\r\n      <!-- 4 -->\r\n      <g transform=\"translate(29.257813 41.668088)scale(0.1 -0.1)\">\r\n       <use xlink:href=\"#DejaVuSans-52\"/>\r\n      </g>\r\n     </g>\r\n    </g>\r\n    <g id=\"text_12\">\r\n     <!-- [V] -->\r\n     <g transform=\"translate(14.798438 132.221875)rotate(-90)scale(0.1 -0.1)\">\r\n      <defs>\r\n       <path d=\"M 28.609375 0 \r\nL 0.78125 72.90625 \r\nL 11.078125 72.90625 \r\nL 34.1875 11.53125 \r\nL 57.328125 72.90625 \r\nL 67.578125 72.90625 \r\nL 39.796875 0 \r\nz\r\n\" id=\"DejaVuSans-86\"/>\r\n      </defs>\r\n      <use xlink:href=\"#DejaVuSans-91\"/>\r\n      <use x=\"39.013672\" xlink:href=\"#DejaVuSans-86\"/>\r\n      <use x=\"107.421875\" xlink:href=\"#DejaVuSans-93\"/>\r\n     </g>\r\n    </g>\r\n   </g>\r\n   <g id=\"line2d_21\">\r\n    <path clip-path=\"url(#p0eafc3f3f9)\" d=\"M 59.649858 124.899999 \r\nL 62.088456 124.95213 \r\nL 67.778519 125.048522 \r\nL 70.217118 125.188748 \r\nL 71.84285 125.463649 \r\nL 72.655716 125.783124 \r\nL 73.468582 126.422076 \r\nL 74.281448 127.69977 \r\nL 75.094314 130.253801 \r\nL 75.907181 135.351227 \r\nL 79.158645 161.51585 \r\nL 81.597244 179.714883 \r\nL 84.035842 195.972061 \r\nL 85.661574 205.443511 \r\nL 87.287306 213.644741 \r\nL 88.913039 220.446413 \r\nL 90.538771 225.741261 \r\nL 91.351637 227.79657 \r\nL 92.164503 229.445783 \r\nL 92.977369 230.682411 \r\nL 93.790235 231.501555 \r\nL 94.603102 231.9 \r\nL 95.415968 231.876156 \r\nL 96.228834 231.430135 \r\nL 97.0417 230.56368 \r\nL 97.854566 229.280227 \r\nL 98.667432 227.584824 \r\nL 99.480298 225.48418 \r\nL 100.293165 222.986568 \r\nL 101.918897 216.841427 \r\nL 103.544629 209.246315 \r\nL 105.170361 200.321011 \r\nL 106.796094 190.206273 \r\nL 109.234692 173.157435 \r\nL 111.67329 154.399047 \r\nL 116.550487 114.448767 \r\nL 119.801952 88.284144 \r\nL 122.24055 70.085119 \r\nL 124.679148 53.827933 \r\nL 126.304881 44.356484 \r\nL 127.930613 36.155254 \r\nL 129.556345 29.353582 \r\nL 131.182078 24.058734 \r\nL 131.994944 22.003432 \r\nL 132.80781 20.354212 \r\nL 133.620676 19.117591 \r\nL 134.433542 18.298441 \r\nL 135.246408 17.900002 \r\nL 136.059274 17.92384 \r\nL 136.87214 18.369866 \r\nL 137.685007 19.236316 \r\nL 138.497873 20.519775 \r\nL 139.310739 22.215172 \r\nL 140.123605 24.315822 \r\nL 140.936471 26.813429 \r\nL 142.562203 32.95857 \r\nL 144.187936 40.553682 \r\nL 145.813668 49.478986 \r\nL 147.4394 59.593724 \r\nL 149.877999 76.642566 \r\nL 152.316597 95.40095 \r\nL 157.193794 135.35123 \r\nL 160.445258 161.515852 \r\nL 162.883857 179.714881 \r\nL 165.322455 195.972064 \r\nL 166.948187 205.443513 \r\nL 168.57392 213.644743 \r\nL 170.199652 220.446416 \r\nL 171.825384 225.741264 \r\nL 172.63825 227.796567 \r\nL 173.451116 229.445785 \r\nL 174.263982 230.682408 \r\nL 175.076849 231.501557 \r\nL 175.889715 231.899998 \r\nL 176.702581 231.876159 \r\nL 177.515447 231.430133 \r\nL 178.328313 230.563682 \r\nL 179.141179 229.280225 \r\nL 179.954045 227.584827 \r\nL 180.766912 225.484178 \r\nL 181.579778 222.98657 \r\nL 183.20551 216.841429 \r\nL 184.831242 209.246317 \r\nL 186.456974 200.321013 \r\nL 188.082707 190.206275 \r\nL 190.521305 173.157433 \r\nL 192.959904 154.399049 \r\nL 197.8371 114.448769 \r\nL 201.088565 88.284146 \r\nL 203.527163 70.085117 \r\nL 205.965762 53.827934 \r\nL 207.591494 44.356485 \r\nL 209.217226 36.155255 \r\nL 210.842958 29.353583 \r\nL 212.468691 24.058735 \r\nL 213.281557 22.00343 \r\nL 214.094423 20.354214 \r\nL 214.907289 19.117589 \r\nL 215.720155 18.298442 \r\nL 216.533021 17.9 \r\nL 217.345887 17.923841 \r\nL 218.158754 18.369865 \r\nL 218.97162 19.236318 \r\nL 219.784486 20.519774 \r\nL 220.597352 22.215174 \r\nL 221.410218 24.315821 \r\nL 222.223084 26.813431 \r\nL 223.848817 32.958571 \r\nL 225.474549 40.553683 \r\nL 227.100281 49.478987 \r\nL 228.726013 59.593725 \r\nL 231.164612 76.642565 \r\nL 233.60321 95.400951 \r\nL 238.480407 135.351231 \r\nL 241.731871 161.515853 \r\nL 244.17047 179.71488 \r\nL 246.609068 195.972065 \r\nL 248.2348 205.443514 \r\nL 249.860533 213.644744 \r\nL 251.486265 220.446416 \r\nL 253.111997 225.741265 \r\nL 253.924863 227.796566 \r\nL 254.73773 229.445786 \r\nL 255.550596 230.682408 \r\nL 256.363462 231.501558 \r\nL 257.176328 231.899997 \r\nL 257.989194 231.876159 \r\nL 258.80206 231.430132 \r\nL 259.614926 230.563683 \r\nL 260.427792 229.280224 \r\nL 261.240659 227.584827 \r\nL 262.053525 225.484177 \r\nL 262.866391 222.98657 \r\nL 264.492123 216.84143 \r\nL 266.117855 209.246318 \r\nL 267.743588 200.321014 \r\nL 269.36932 190.206276 \r\nL 271.807918 173.157433 \r\nL 274.246517 154.399049 \r\nL 279.123713 114.448769 \r\nL 282.375178 88.284147 \r\nL 284.813776 70.085117 \r\nL 287.252375 53.827935 \r\nL 288.878107 44.356486 \r\nL 290.503839 36.155256 \r\nL 292.129572 29.353583 \r\nL 293.755304 24.058735 \r\nL 294.56817 22.00343 \r\nL 295.381036 20.354214 \r\nL 296.193902 19.117589 \r\nL 297.006768 18.298443 \r\nL 297.819634 17.9 \r\nL 298.632501 17.923841 \r\nL 299.445367 18.369865 \r\nL 300.258233 19.236318 \r\nL 301.071099 20.519773 \r\nL 301.883965 22.215174 \r\nL 302.696831 24.31582 \r\nL 303.509697 26.813431 \r\nL 305.13543 32.958571 \r\nL 306.761162 40.553683 \r\nL 308.386894 49.478987 \r\nL 310.012626 59.593725 \r\nL 312.451225 76.642565 \r\nL 314.889823 95.400951 \r\nL 319.76702 135.351231 \r\nL 323.018485 161.515853 \r\nL 325.457083 179.71488 \r\nL 327.895681 195.972065 \r\nL 329.521414 205.443514 \r\nL 331.147146 213.644744 \r\nL 332.772878 220.446416 \r\nL 334.39861 225.741265 \r\nL 335.211477 227.796567 \r\nL 336.024343 229.445786 \r\nL 336.837209 230.682408 \r\nL 337.650075 231.501558 \r\nL 338.462941 231.899997 \r\nL 339.275807 231.876159 \r\nL 340.088673 231.430132 \r\nL 340.901539 230.563683 \r\nL 341.714406 229.280224 \r\nL 342.527272 227.584827 \r\nL 343.340138 225.484177 \r\nL 344.153004 222.98657 \r\nL 345.778736 216.84143 \r\nL 347.404468 209.246318 \r\nL 349.030201 200.321014 \r\nL 350.655933 190.206276 \r\nL 353.094531 173.157433 \r\nL 355.53313 154.399049 \r\nL 360.410327 114.448769 \r\nL 363.661791 88.284146 \r\nL 366.10039 70.085117 \r\nL 368.538988 53.827934 \r\nL 370.16472 44.356485 \r\nL 371.790452 36.155255 \r\nL 373.416185 29.353583 \r\nL 375.041917 24.058735 \r\nL 375.854783 22.00343 \r\nL 376.667649 20.354214 \r\nL 377.480515 19.117589 \r\nL 378.293381 18.298442 \r\nL 379.106248 17.9 \r\nL 379.919114 17.923841 \r\nL 380.73198 18.369865 \r\nL 381.544846 19.236317 \r\nL 382.357712 20.519774 \r\nL 383.170578 22.215173 \r\nL 383.983444 24.315821 \r\nL 384.796311 26.81343 \r\nL 386.422043 32.958571 \r\nL 388.047775 40.553683 \r\nL 389.673507 49.478987 \r\nL 391.29924 59.593725 \r\nL 393.737838 76.642565 \r\nL 396.176436 95.400951 \r\nL 399.427901 121.917054 \r\nL 400.240767 124.881119 \r\nL 400.240767 124.881119 \r\n\" style=\"fill:none;stroke:#1f77b4;stroke-linecap:square;stroke-width:1.5;\"/>\r\n   </g>\r\n   <g id=\"patch_3\">\r\n    <path d=\"M 42.620313 242.6 \r\nL 42.620313 7.2 \r\n\" style=\"fill:none;stroke:#000000;stroke-linecap:square;stroke-linejoin:miter;stroke-width:0.8;\"/>\r\n   </g>\r\n   <g id=\"patch_4\">\r\n    <path d=\"M 417.270312 242.6 \r\nL 417.270312 7.2 \r\n\" style=\"fill:none;stroke:#000000;stroke-linecap:square;stroke-linejoin:miter;stroke-width:0.8;\"/>\r\n   </g>\r\n   <g id=\"patch_5\">\r\n    <path d=\"M 42.620313 242.6 \r\nL 417.270312 242.6 \r\n\" style=\"fill:none;stroke:#000000;stroke-linecap:square;stroke-linejoin:miter;stroke-width:0.8;\"/>\r\n   </g>\r\n   <g id=\"patch_6\">\r\n    <path d=\"M 42.620313 7.2 \r\nL 417.270312 7.2 \r\n\" style=\"fill:none;stroke:#000000;stroke-linecap:square;stroke-linejoin:miter;stroke-width:0.8;\"/>\r\n   </g>\r\n   <g id=\"legend_1\">\r\n    <g id=\"patch_7\">\r\n     <path d=\"M 82.085313 54.28 \r\nL 120.925938 54.28 \r\nQ 122.925938 54.28 122.925938 52.28 \r\nL 122.925938 38.601875 \r\nQ 122.925938 36.601875 120.925938 36.601875 \r\nL 82.085313 36.601875 \r\nQ 80.085313 36.601875 80.085313 38.601875 \r\nL 80.085313 52.28 \r\nQ 80.085313 54.28 82.085313 54.28 \r\nz\r\n\" style=\"fill:#ffffff;opacity:0.8;stroke:#cccccc;stroke-linejoin:miter;\"/>\r\n    </g>\r\n    <g id=\"line2d_22\">\r\n     <path d=\"M 84.085313 44.700312 \r\nL 104.085313 44.700312 \r\n\" style=\"fill:none;stroke:#1f77b4;stroke-linecap:square;stroke-width:1.5;\"/>\r\n    </g>\r\n    <g id=\"line2d_23\"/>\r\n    <g id=\"text_13\">\r\n     <!-- V -->\r\n     <g transform=\"translate(112.085313 48.200312)scale(0.1 -0.1)\">\r\n      <use xlink:href=\"#DejaVuSans-86\"/>\r\n     </g>\r\n    </g>\r\n   </g>\r\n  </g>\r\n </g>\r\n <defs>\r\n  <clipPath id=\"p0eafc3f3f9\">\r\n   <rect height=\"235.4\" width=\"374.65\" x=\"42.620313\" y=\"7.2\"/>\r\n  </clipPath>\r\n </defs>\r\n</svg>\r\n"
     },
     "metadata": {
      "needs_background": "light"
     }
    }
   ],
   "source": [
    "figure, ax = plt.subplots()\n",
    "ax.plot(analysis['Net-_J6-PadT_'])  # input\n",
    "ax.legend(('Vout [V]'), loc=(.1, .8))\n",
    "ax.grid()\n",
    "ax.set_xlabel('wiper [%]')\n",
    "ax.set_ylabel('[V]')\n",
    "\n",
    "plt.tight_layout()\n",
    "plt.show()"
   ]
  },
  {
   "cell_type": "markdown",
   "metadata": {},
   "source": [
    "\n",
    "\n",
    "\n",
    "long description: summe is a simple mixer utility module. it can be used as a **mixer**, **attenuator** or **attenuverter** for ac or dc signals. the function depends on the patching and settings of the potentiometers. an attenuverter is used in different modules like the  Serge VCS, Maths and also in the polivoks filter. while this module can be used as a simple mixer you can also adjust cv signals. such a signal can be simply attenuated or inverted. when feeding in a positive singal slope (for example from an adsr). the signal will be turned to a neagative dc singal. if the inpout signal is ac coupled the signal will be inverted. the function is the setting on the potentiometer of the channel. when the potentiometer is at center position. the output signal is attenuated to zero. no output singal is present. when turning to the right. the signal will be stronger until the output signal is equal to the input signal. when turning the potentiomenter to the left, the output signal will be phase shifted by 180°. when you turn the potentiometer to full left the output signal will be the inverted input signal. all the inputs are mixed to the output signal; unless you connect the output of a channel. then this output does not accure on the mixed signal."
   ]
  },
  {
   "cell_type": "markdown",
   "metadata": {},
   "source": [
    "## construction\n",
    "\n",
    "the attenuverter is build around a differential amplifier with an opamp. "
   ]
  },
  {
   "cell_type": "code",
   "execution_count": 27,
   "metadata": {},
   "outputs": [
    {
     "output_type": "stream",
     "name": "stderr",
     "text": [
      "[Loading MPS to PDF converter (version 2006.09.02).]\n) (c:/texlive/2020/texmf-dist/tex/latex/epstopdf-pkg/epstopdf-base.sty\n(c:/texlive/2020/texmf-dist/tex/latex/latexconfig/epstopdf-sys.cfg))\n\n! Package pgf Error: No shape named `input' is known.\n\nSee the pgf package documentation for explanation.\nType  H <return>  for immediate help.\n ...                                              \n                                                  \nl.19 ...t]         (attenuverter1) {attenuverter};\n                                                  \n? \n! Emergency stop.\n ...                                              \n                                                  \nl.19 ...t]         (attenuverter1) {attenuverter};\n                                                  \n!  ==> Fatal error occurred, no output PDF file produced!\nTranscript written on e4b2fb34f248a6f2052a96f4ceb71446.log.\n"
     ]
    }
   ],
   "source": [
    "%%itikz --temp-dir\n",
    "\\documentclass[14pt]{standalone}\n",
    "\\usepackage{tikz}\n",
    "\\usetikzlibrary{shapes,arrows}\n",
    "\\begin{document}\n",
    "\n",
    "\\tikzstyle{block} = [draw, fill=white, rectangle, minimum height=3em, minimum width=6em]\n",
    "\\tikzstyle{sum} = [draw, fill=white, circle, node distance=1cm]\n",
    "\\tikzstyle{input} = [coordinate]\n",
    "\\tikzstyle{output} = [coordinate]\n",
    "\\tikzstyle{pinstyle} = [pin edge={to-,thin,black}]\n",
    "\n",
    "\n",
    "\\begin{tikzpicture}[auto, node distance=2cm,>=latex']\n",
    "\n",
    "    \\node [input, name=input1] {};\n",
    "    \\node [input, name=input2] {};\n",
    "    \\node [input, name=input3] {};\n",
    "    \\node [input, name=input4] {};\n",
    "    \\node [block, right of=input1]        (attenuverter1) {attenuverter};\n",
    "    \\node [block, above of=attenuverter1] (attenuverter2) {attenuverter};\n",
    "    \\node [block, above of=attenuverter2] (attenuverter3) {attenuverter};\n",
    "    \\node [block, above of=attenuverter3] (attenuverter4) {attenuverter};\n",
    "    \\node [block, right of=attenuverter1] (measurements) {Measurements};\n",
    "    \\node [output, right of=measurements] (output) {};\n",
    "\n",
    "\\end{tikzpicture}\n",
    "\\end{document}\n"
   ]
  },
  {
   "cell_type": "code",
   "execution_count": 12,
   "metadata": {},
   "outputs": [
    {
     "output_type": "execute_result",
     "data": {
      "text/plain": [
       "<IPython.core.display.SVG object>"
      ],
      "image/svg+xml": "<svg xmlns=\"http://www.w3.org/2000/svg\" xmlns:xlink=\"http://www.w3.org/1999/xlink\" width=\"142.031pt\" height=\"269.69pt\" viewBox=\"0 0 142.031 269.69\" version=\"1.1\">\n<defs>\n<clipPath id=\"clip1\">\n  <path d=\"M 0 127 L 142.03125 127 L 142.03125 269.691406 L 0 269.691406 Z M 0 127 \"/>\n</clipPath>\n<clipPath id=\"clip2\">\n  <path d=\"M 0 212 L 86 212 L 86 269.691406 L 0 269.691406 Z M 0 212 \"/>\n</clipPath>\n</defs>\n<g id=\"surface1\">\n<g clip-path=\"url(#clip1)\" clip-rule=\"nonzero\">\n<path style=\"fill:none;stroke-width:0.19925;stroke-linecap:butt;stroke-linejoin:miter;stroke:rgb(50%,50%,50%);stroke-opacity:1;stroke-miterlimit:10;\" d=\"M 0.00021875 -0.0011875 L 141.734594 -0.0011875 M 0.00021875 28.346469 L 141.734594 28.346469 M 0.00021875 56.694125 L 141.734594 56.694125 M 0.00021875 85.041781 L 141.734594 85.041781 M 0.00021875 113.385531 L 141.734594 113.385531 M 0.00021875 141.725375 L 141.734594 141.725375 M 0.00021875 -0.0011875 L 0.00021875 141.733187 M 28.347875 -0.0011875 L 28.347875 141.733187 M 56.695531 -0.0011875 L 56.695531 141.733187 M 85.039281 -0.0011875 L 85.039281 141.733187 M 113.386938 -0.0011875 L 113.386938 141.733187 M 141.722875 -0.0011875 L 141.722875 141.733187 \" transform=\"matrix(1,0,0,-1,0.199,269.491)\"/>\n</g>\n<g clip-path=\"url(#clip2)\" clip-rule=\"nonzero\">\n<path style=\"fill-rule:nonzero;fill:rgb(99.253845%,90.000916%,95.489502%);fill-opacity:1;stroke-width:0.3985;stroke-linecap:butt;stroke-linejoin:miter;stroke:rgb(0%,0%,0%);stroke-opacity:1;stroke-miterlimit:10;\" d=\"M 0.00021875 -0.0011875 L 0.00021875 56.694125 L 85.039281 56.694125 L 85.039281 -0.0011875 Z M 0.00021875 -0.0011875 \" transform=\"matrix(1,0,0,-1,0.199,269.491)\"/>\n</g>\n<path style=\"fill-rule:nonzero;fill:rgb(99.253845%,90.000916%,95.489502%);fill-opacity:1;stroke-width:0.3985;stroke-linecap:butt;stroke-linejoin:miter;stroke:rgb(0%,0%,0%);stroke-opacity:1;stroke-miterlimit:10;\" d=\"M 0.00021875 70.866 L 0.00021875 127.561312 L 85.039281 127.561312 L 85.039281 70.866 Z M 0.00021875 70.866 \" transform=\"matrix(1,0,0,-1,0.199,269.491)\"/>\n<path style=\"fill-rule:nonzero;fill:rgb(99.253845%,90.000916%,95.489502%);fill-opacity:1;stroke-width:0.3985;stroke-linecap:butt;stroke-linejoin:miter;stroke:rgb(0%,0%,0%);stroke-opacity:1;stroke-miterlimit:10;\" d=\"M 0.00021875 141.733187 L 0.00021875 198.4285 L 85.039281 198.4285 L 85.039281 141.733187 Z M 0.00021875 141.733187 \" transform=\"matrix(1,0,0,-1,0.199,269.491)\"/>\n<path style=\"fill-rule:nonzero;fill:rgb(99.253845%,90.000916%,95.489502%);fill-opacity:1;stroke-width:0.3985;stroke-linecap:butt;stroke-linejoin:miter;stroke:rgb(0%,0%,0%);stroke-opacity:1;stroke-miterlimit:10;\" d=\"M 0.00021875 212.600375 L 0.00021875 269.295687 L 85.039281 269.295687 L 85.039281 212.600375 Z M 0.00021875 212.600375 \" transform=\"matrix(1,0,0,-1,0.199,269.491)\"/>\n</g>\n</svg>"
     },
     "metadata": {},
     "execution_count": 12
    }
   ],
   "source": [
    "%%itikz --implicit-pic --temp-dir --file-prefix _tmp-\n",
    "\\draw[help lines] grid (5, 5);\n",
    "\\draw[fill=magenta!10] (0, 0) rectangle (3, 2);\n",
    "\\draw[fill=magenta!10] (0, 2.5) rectangle (3, 4.5);\n",
    "\\draw[fill=magenta!10] (0, 5) rectangle (3, 7);\n",
    "\\draw[fill=magenta!10] (0, 7.5) rectangle (3, 9.5);\n",
    "\n",
    "\\node (start) [startstop] {Start};\n"
   ]
  },
  {
   "cell_type": "code",
   "execution_count": 8,
   "metadata": {},
   "outputs": [
    {
     "output_type": "execute_result",
     "data": {
      "text/plain": [
       "<IPython.core.display.SVG object>"
      ],
      "image/svg+xml": "<svg xmlns=\"http://www.w3.org/2000/svg\" xmlns:xlink=\"http://www.w3.org/1999/xlink\" width=\"289.023pt\" height=\"192.319pt\" viewBox=\"0 0 289.023 192.319\" version=\"1.1\">\n<defs>\n<g>\n<symbol overflow=\"visible\" id=\"glyph0-0\">\n<path style=\"stroke:none;\" d=\"\"/>\n</symbol>\n<symbol overflow=\"visible\" id=\"glyph0-1\">\n<path style=\"stroke:none;\" d=\"M 3.734375 -6.046875 C 3.8125 -6.40625 3.84375 -6.5 4.640625 -6.5 C 4.875 -6.5 4.953125 -6.5 4.953125 -6.6875 C 4.953125 -6.8125 4.84375 -6.8125 4.8125 -6.8125 C 4.515625 -6.8125 3.78125 -6.78125 3.484375 -6.78125 C 3.1875 -6.78125 2.46875 -6.8125 2.15625 -6.8125 C 2.09375 -6.8125 1.96875 -6.8125 1.96875 -6.609375 C 1.96875 -6.5 2.046875 -6.5 2.25 -6.5 C 2.65625 -6.5 2.9375 -6.5 2.9375 -6.3125 C 2.9375 -6.265625 2.9375 -6.234375 2.90625 -6.15625 L 1.5625 -0.78125 C 1.46875 -0.40625 1.453125 -0.3125 0.65625 -0.3125 C 0.421875 -0.3125 0.34375 -0.3125 0.34375 -0.109375 C 0.34375 0 0.453125 0 0.484375 0 C 0.78125 0 1.5 -0.03125 1.796875 -0.03125 C 2.09375 -0.03125 2.828125 0 3.125 0 C 3.203125 0 3.328125 0 3.328125 -0.1875 C 3.328125 -0.3125 3.25 -0.3125 3.03125 -0.3125 C 2.84375 -0.3125 2.796875 -0.3125 2.609375 -0.328125 C 2.390625 -0.34375 2.359375 -0.390625 2.359375 -0.5 C 2.359375 -0.578125 2.375 -0.65625 2.390625 -0.734375 Z M 3.734375 -6.046875 \"/>\n</symbol>\n<symbol overflow=\"visible\" id=\"glyph0-2\">\n<path style=\"stroke:none;\" d=\"M 7.53125 -5.765625 C 7.640625 -6.15625 7.8125 -6.46875 8.609375 -6.5 C 8.65625 -6.5 8.78125 -6.515625 8.78125 -6.703125 C 8.78125 -6.703125 8.78125 -6.8125 8.65625 -6.8125 C 8.328125 -6.8125 7.96875 -6.78125 7.640625 -6.78125 C 7.3125 -6.78125 6.953125 -6.8125 6.625 -6.8125 C 6.5625 -6.8125 6.453125 -6.8125 6.453125 -6.609375 C 6.453125 -6.5 6.546875 -6.5 6.625 -6.5 C 7.203125 -6.484375 7.3125 -6.28125 7.3125 -6.0625 C 7.3125 -6.03125 7.28125 -5.875 7.28125 -5.859375 L 6.15625 -1.421875 L 3.953125 -6.625 C 3.875 -6.796875 3.875 -6.8125 3.640625 -6.8125 L 2.296875 -6.8125 C 2.109375 -6.8125 2.015625 -6.8125 2.015625 -6.609375 C 2.015625 -6.5 2.109375 -6.5 2.296875 -6.5 C 2.34375 -6.5 2.96875 -6.5 2.96875 -6.40625 L 1.640625 -1.0625 C 1.53125 -0.65625 1.359375 -0.34375 0.5625 -0.3125 C 0.5 -0.3125 0.390625 -0.296875 0.390625 -0.109375 C 0.390625 -0.046875 0.4375 0 0.515625 0 C 0.84375 0 1.1875 -0.03125 1.515625 -0.03125 C 1.859375 -0.03125 2.21875 0 2.546875 0 C 2.59375 0 2.71875 0 2.71875 -0.203125 C 2.71875 -0.296875 2.625 -0.3125 2.515625 -0.3125 C 1.9375 -0.328125 1.859375 -0.546875 1.859375 -0.75 C 1.859375 -0.8125 1.875 -0.875 1.90625 -0.984375 L 3.21875 -6.234375 C 3.265625 -6.1875 3.265625 -6.15625 3.3125 -6.0625 L 5.796875 -0.1875 C 5.859375 -0.015625 5.890625 0 5.984375 0 C 6.09375 0 6.09375 -0.03125 6.140625 -0.203125 Z M 7.53125 -5.765625 \"/>\n</symbol>\n<symbol overflow=\"visible\" id=\"glyph0-3\">\n<path style=\"stroke:none;\" d=\"M 3.734375 -6.125 C 3.796875 -6.359375 3.828125 -6.453125 4.015625 -6.484375 C 4.109375 -6.5 4.421875 -6.5 4.625 -6.5 C 5.328125 -6.5 6.4375 -6.5 6.4375 -5.515625 C 6.4375 -5.171875 6.28125 -4.484375 5.890625 -4.09375 C 5.625 -3.84375 5.109375 -3.515625 4.203125 -3.515625 L 3.09375 -3.515625 Z M 5.171875 -3.390625 C 6.1875 -3.609375 7.359375 -4.3125 7.359375 -5.3125 C 7.359375 -6.171875 6.46875 -6.8125 5.15625 -6.8125 L 2.328125 -6.8125 C 2.125 -6.8125 2.03125 -6.8125 2.03125 -6.609375 C 2.03125 -6.5 2.125 -6.5 2.3125 -6.5 C 2.328125 -6.5 2.515625 -6.5 2.6875 -6.484375 C 2.875 -6.453125 2.953125 -6.453125 2.953125 -6.3125 C 2.953125 -6.28125 2.953125 -6.25 2.921875 -6.125 L 1.578125 -0.78125 C 1.484375 -0.390625 1.46875 -0.3125 0.671875 -0.3125 C 0.5 -0.3125 0.40625 -0.3125 0.40625 -0.109375 C 0.40625 0 0.53125 0 0.546875 0 C 0.828125 0 1.53125 -0.03125 1.796875 -0.03125 C 2.078125 -0.03125 2.796875 0 3.078125 0 C 3.15625 0 3.265625 0 3.265625 -0.203125 C 3.265625 -0.3125 3.1875 -0.3125 2.984375 -0.3125 C 2.625 -0.3125 2.34375 -0.3125 2.34375 -0.484375 C 2.34375 -0.546875 2.359375 -0.59375 2.375 -0.65625 L 3.03125 -3.296875 L 4.21875 -3.296875 C 5.125 -3.296875 5.296875 -2.734375 5.296875 -2.390625 C 5.296875 -2.25 5.21875 -1.9375 5.15625 -1.703125 C 5.09375 -1.421875 5 -1.0625 5 -0.859375 C 5 0.21875 6.203125 0.21875 6.328125 0.21875 C 7.171875 0.21875 7.53125 -0.78125 7.53125 -0.921875 C 7.53125 -1.046875 7.421875 -1.046875 7.40625 -1.046875 C 7.3125 -1.046875 7.296875 -0.984375 7.28125 -0.90625 C 7.03125 -0.171875 6.59375 0 6.375 0 C 6.046875 0 5.96875 -0.21875 5.96875 -0.609375 C 5.96875 -0.921875 6.03125 -1.421875 6.078125 -1.75 C 6.09375 -1.890625 6.109375 -2.078125 6.109375 -2.21875 C 6.109375 -2.984375 5.4375 -3.296875 5.171875 -3.390625 Z M 5.171875 -3.390625 \"/>\n</symbol>\n<symbol overflow=\"visible\" id=\"glyph0-4\">\n<path style=\"stroke:none;\" d=\"M 4.671875 -3.703125 C 4.671875 -4.25 4.40625 -4.40625 4.234375 -4.40625 C 3.984375 -4.40625 3.734375 -4.140625 3.734375 -3.921875 C 3.734375 -3.796875 3.78125 -3.734375 3.890625 -3.625 C 4.109375 -3.421875 4.234375 -3.171875 4.234375 -2.8125 C 4.234375 -2.390625 3.625 -0.109375 2.46875 -0.109375 C 1.953125 -0.109375 1.71875 -0.453125 1.71875 -0.984375 C 1.71875 -1.53125 2 -2.265625 2.296875 -3.09375 C 2.375 -3.265625 2.421875 -3.40625 2.421875 -3.59375 C 2.421875 -4.03125 2.109375 -4.40625 1.609375 -4.40625 C 0.671875 -4.40625 0.296875 -2.953125 0.296875 -2.875 C 0.296875 -2.765625 0.390625 -2.765625 0.40625 -2.765625 C 0.515625 -2.765625 0.515625 -2.796875 0.5625 -2.953125 C 0.859375 -3.953125 1.28125 -4.1875 1.578125 -4.1875 C 1.65625 -4.1875 1.828125 -4.1875 1.828125 -3.875 C 1.828125 -3.625 1.71875 -3.34375 1.65625 -3.171875 C 1.21875 -2.015625 1.09375 -1.5625 1.09375 -1.125 C 1.09375 -0.046875 1.96875 0.109375 2.421875 0.109375 C 4.09375 0.109375 4.671875 -3.1875 4.671875 -3.703125 Z M 4.671875 -3.703125 \"/>\n</symbol>\n<symbol overflow=\"visible\" id=\"glyph1-0\">\n<path style=\"stroke:none;\" d=\"\"/>\n</symbol>\n<symbol overflow=\"visible\" id=\"glyph1-1\">\n<path style=\"stroke:none;\" d=\"M 2.328125 -4.4375 C 2.328125 -4.625 2.328125 -4.625 2.125 -4.625 C 1.671875 -4.1875 1.046875 -4.1875 0.765625 -4.1875 L 0.765625 -3.9375 C 0.921875 -3.9375 1.390625 -3.9375 1.765625 -4.125 L 1.765625 -0.578125 C 1.765625 -0.34375 1.765625 -0.25 1.078125 -0.25 L 0.8125 -0.25 L 0.8125 0 C 0.9375 0 1.796875 -0.03125 2.046875 -0.03125 C 2.265625 -0.03125 3.140625 0 3.296875 0 L 3.296875 -0.25 L 3.03125 -0.25 C 2.328125 -0.25 2.328125 -0.34375 2.328125 -0.578125 Z M 2.328125 -4.4375 \"/>\n</symbol>\n<symbol overflow=\"visible\" id=\"glyph1-2\">\n<path style=\"stroke:none;\" d=\"M 3.515625 -1.265625 L 3.28125 -1.265625 C 3.265625 -1.109375 3.1875 -0.703125 3.09375 -0.640625 C 3.046875 -0.59375 2.515625 -0.59375 2.40625 -0.59375 L 1.125 -0.59375 C 1.859375 -1.234375 2.109375 -1.4375 2.515625 -1.765625 C 3.03125 -2.171875 3.515625 -2.609375 3.515625 -3.265625 C 3.515625 -4.109375 2.78125 -4.625 1.890625 -4.625 C 1.03125 -4.625 0.4375 -4.015625 0.4375 -3.375 C 0.4375 -3.03125 0.734375 -2.984375 0.8125 -2.984375 C 0.96875 -2.984375 1.171875 -3.109375 1.171875 -3.359375 C 1.171875 -3.484375 1.125 -3.734375 0.765625 -3.734375 C 0.984375 -4.21875 1.453125 -4.375 1.78125 -4.375 C 2.484375 -4.375 2.84375 -3.828125 2.84375 -3.265625 C 2.84375 -2.65625 2.40625 -2.1875 2.1875 -1.9375 L 0.515625 -0.265625 C 0.4375 -0.203125 0.4375 -0.1875 0.4375 0 L 3.3125 0 Z M 3.515625 -1.265625 \"/>\n</symbol>\n<symbol overflow=\"visible\" id=\"glyph1-3\">\n<path style=\"stroke:none;\" d=\"M 1.90625 -2.328125 C 2.453125 -2.328125 2.84375 -1.953125 2.84375 -1.203125 C 2.84375 -0.34375 2.328125 -0.078125 1.9375 -0.078125 C 1.65625 -0.078125 1.03125 -0.15625 0.75 -0.578125 C 1.078125 -0.578125 1.15625 -0.8125 1.15625 -0.96875 C 1.15625 -1.1875 0.984375 -1.34375 0.765625 -1.34375 C 0.578125 -1.34375 0.375 -1.21875 0.375 -0.9375 C 0.375 -0.28125 1.09375 0.140625 1.9375 0.140625 C 2.90625 0.140625 3.578125 -0.515625 3.578125 -1.203125 C 3.578125 -1.75 3.140625 -2.296875 2.375 -2.453125 C 3.09375 -2.71875 3.359375 -3.234375 3.359375 -3.671875 C 3.359375 -4.21875 2.734375 -4.625 1.953125 -4.625 C 1.1875 -4.625 0.59375 -4.25 0.59375 -3.6875 C 0.59375 -3.453125 0.75 -3.328125 0.953125 -3.328125 C 1.171875 -3.328125 1.3125 -3.484375 1.3125 -3.671875 C 1.3125 -3.875 1.171875 -4.03125 0.953125 -4.046875 C 1.203125 -4.34375 1.671875 -4.421875 1.9375 -4.421875 C 2.25 -4.421875 2.6875 -4.265625 2.6875 -3.671875 C 2.6875 -3.375 2.59375 -3.046875 2.40625 -2.84375 C 2.1875 -2.578125 1.984375 -2.5625 1.640625 -2.53125 C 1.46875 -2.515625 1.453125 -2.515625 1.421875 -2.515625 C 1.40625 -2.515625 1.34375 -2.5 1.34375 -2.421875 C 1.34375 -2.328125 1.40625 -2.328125 1.53125 -2.328125 Z M 1.90625 -2.328125 \"/>\n</symbol>\n<symbol overflow=\"visible\" id=\"glyph1-4\">\n<path style=\"stroke:none;\" d=\"M 3.6875 -1.140625 L 3.6875 -1.390625 L 2.90625 -1.390625 L 2.90625 -4.5 C 2.90625 -4.640625 2.90625 -4.703125 2.765625 -4.703125 C 2.671875 -4.703125 2.640625 -4.703125 2.578125 -4.59375 L 0.265625 -1.390625 L 0.265625 -1.140625 L 2.328125 -1.140625 L 2.328125 -0.578125 C 2.328125 -0.328125 2.328125 -0.25 1.75 -0.25 L 1.5625 -0.25 L 1.5625 0 C 1.921875 -0.015625 2.359375 -0.03125 2.609375 -0.03125 C 2.875 -0.03125 3.3125 -0.015625 3.671875 0 L 3.671875 -0.25 L 3.484375 -0.25 C 2.90625 -0.25 2.90625 -0.328125 2.90625 -0.578125 L 2.90625 -1.140625 Z M 2.375 -3.9375 L 2.375 -1.390625 L 0.53125 -1.390625 Z M 2.375 -3.9375 \"/>\n</symbol>\n<symbol overflow=\"visible\" id=\"glyph2-0\">\n<path style=\"stroke:none;\" d=\"\"/>\n</symbol>\n<symbol overflow=\"visible\" id=\"glyph2-1\">\n<path style=\"stroke:none;\" d=\"M 7.5 -2.21875 C 7.640625 -2.21875 7.9375 -2.21875 7.9375 -2.515625 C 7.9375 -2.828125 7.65625 -2.828125 7.5 -2.828125 L 1.40625 -2.828125 C 1.25 -2.828125 0.953125 -2.828125 0.953125 -2.53125 C 0.953125 -2.21875 1.25 -2.21875 1.40625 -2.21875 Z M 7.5 -2.21875 \"/>\n</symbol>\n<symbol overflow=\"visible\" id=\"glyph3-0\">\n<path style=\"stroke:none;\" d=\"\"/>\n</symbol>\n<symbol overflow=\"visible\" id=\"glyph3-1\">\n<path style=\"stroke:none;\" d=\"M 4.75 -2.21875 L 7.828125 -2.21875 C 7.96875 -2.21875 8.265625 -2.21875 8.265625 -2.515625 C 8.265625 -2.828125 7.96875 -2.828125 7.828125 -2.828125 L 4.75 -2.828125 L 4.75 -5.953125 C 4.75 -6.0625 4.75 -6.375 4.453125 -6.375 C 4.140625 -6.375 4.140625 -6.078125 4.140625 -5.953125 L 4.140625 -2.828125 L 1.0625 -2.828125 C 0.921875 -2.828125 0.640625 -2.828125 0.640625 -2.515625 C 0.640625 -2.21875 0.9375 -2.21875 1.0625 -2.21875 L 4.140625 -2.21875 L 4.140625 0.90625 C 4.140625 1.03125 4.140625 1.328125 4.453125 1.328125 C 4.75 1.328125 4.75 1.03125 4.75 0.90625 Z M 4.75 -2.21875 \"/>\n</symbol>\n</g>\n<clipPath id=\"clip1\">\n  <path d=\"M 274 63 L 289.023438 63 L 289.023438 90 L 274 90 Z M 274 63 \"/>\n</clipPath>\n<clipPath id=\"clip2\">\n  <path d=\"M 25 186 L 39 186 L 39 192.320313 L 25 192.320313 Z M 25 186 \"/>\n</clipPath>\n<clipPath id=\"clip3\">\n  <path d=\"M 53 186 L 68 186 L 68 192.320313 L 53 192.320313 Z M 53 186 \"/>\n</clipPath>\n</defs>\n<g id=\"surface1\">\n<path style=\"fill:none;stroke-width:0.79701;stroke-linecap:butt;stroke-linejoin:miter;stroke:rgb(0%,0%,0%);stroke-opacity:1;stroke-miterlimit:10;\" d=\"M 0.00121875 0.00028125 L 28.344969 0.00028125 M 28.344969 0.00028125 L 83.341063 0.00028125 M 115.087156 0.00028125 L 155.907469 0.00028125 M 155.907469 0.00028125 L 170.079344 0.00028125 M 141.735594 0.00028125 L 141.735594 21.262 M 141.735594 21.262 L 141.735594 42.519812 L 182.552 42.519812 M 214.302 42.519812 L 255.122312 42.519812 L 255.122312 14.172156 M 255.122312 14.172156 L 255.122312 -14.171594 M 226.774656 -14.171594 L 255.122312 -14.171594 M 255.122312 -14.171594 L 283.469969 -14.171594 M 170.079344 -28.347375 L 155.907469 -28.347375 M 155.907469 -28.347375 L 141.735594 -28.347375 L 141.735594 -42.51925 M 141.735594 -42.51925 L 141.735594 -56.695031 L 99.212156 -56.695031 M 99.212156 -56.695031 L 56.692625 -56.695031 M 28.344969 0.00028125 L 28.344969 -14.171594 M 28.344969 -14.171594 L 28.344969 -40.820031 M 28.344969 -72.566125 L 28.344969 -113.386438 M 42.52075 -56.695031 L 49.606688 -56.695031 M 49.606688 -56.695031 L 56.692625 -56.695031 M 56.692625 0.00028125 L 56.692625 -12.472375 M 56.692625 -44.222375 L 56.692625 -69.167688 M 56.692625 -100.913781 L 56.692625 -113.386438 \" transform=\"matrix(1,0,0,-1,3.573,62.262)\"/>\n<path style=\"fill-rule:nonzero;fill:rgb(100%,100%,100%);fill-opacity:1;stroke-width:0.79701;stroke-linecap:butt;stroke-linejoin:miter;stroke:rgb(0%,0%,0%);stroke-opacity:1;stroke-miterlimit:10;\" d=\"M 0.00121875 0.00028125 C 0.00121875 0.875281 -0.709719 1.586219 -1.588625 1.586219 C -2.463625 1.586219 -3.174563 0.875281 -3.174563 0.00028125 C -3.174563 -0.874719 -2.463625 -1.585656 -1.588625 -1.585656 C -0.709719 -1.585656 0.00121875 -0.874719 0.00121875 0.00028125 Z M 0.00121875 0.00028125 \" transform=\"matrix(1,0,0,-1,3.573,62.262)\"/>\n<path style=\"fill-rule:nonzero;fill:rgb(0%,0%,0%);fill-opacity:1;stroke-width:0.79701;stroke-linecap:butt;stroke-linejoin:miter;stroke:rgb(0%,0%,0%);stroke-opacity:1;stroke-miterlimit:10;\" d=\"M 56.692625 0.00028125 C 56.692625 0.875281 55.981688 1.586219 55.106688 1.586219 C 54.231688 1.586219 53.52075 0.875281 53.52075 0.00028125 C 53.52075 -0.874719 54.231688 -1.585656 55.106688 -1.585656 C 55.981688 -1.585656 56.692625 -0.874719 56.692625 0.00028125 Z M 56.692625 0.00028125 \" transform=\"matrix(1,0,0,-1,3.573,62.262)\"/>\n<g style=\"fill:rgb(0%,0%,0%);fill-opacity:1;\">\n  <use xlink:href=\"#glyph0-1\" x=\"24.793\" y=\"55.076\"/>\n</g>\n<g style=\"fill:rgb(0%,0%,0%);fill-opacity:1;\">\n  <use xlink:href=\"#glyph0-2\" x=\"29.949642\" y=\"55.076\"/>\n</g>\n<path style=\"fill:none;stroke-width:1.59404;stroke-linecap:butt;stroke-linejoin:bevel;stroke:rgb(0%,0%,0%);stroke-opacity:1;stroke-miterlimit:10;\" d=\"M 82.544188 0.00028125 L 86.052 5.953406 L 91.477781 -5.952844 L 96.899656 5.953406 L 102.325438 -5.952844 L 107.747313 5.953406 L 113.173094 -5.952844 L 115.884031 0.00028125 \" transform=\"matrix(1,0,0,-1,3.573,62.262)\"/>\n<g style=\"fill:rgb(0%,0%,0%);fill-opacity:1;\">\n  <use xlink:href=\"#glyph0-3\" x=\"96.768\" y=\"52.497\"/>\n</g>\n<g style=\"fill:rgb(0%,0%,0%);fill-opacity:1;\">\n  <use xlink:href=\"#glyph1-1\" x=\"104.333\" y=\"53.991\"/>\n</g>\n<path style=\"fill:none;stroke-width:1.59404;stroke-linecap:butt;stroke-linejoin:miter;stroke:rgb(0%,0%,0%);stroke-opacity:1;stroke-miterlimit:10;\" d=\"M 222.040281 -14.171594 L 174.813719 13.883094 L 174.813719 -42.230188 Z M 222.040281 -14.171594 \" transform=\"matrix(1,0,0,-1,3.573,62.262)\"/>\n<g style=\"fill:rgb(0%,0%,0%);fill-opacity:1;\">\n  <use xlink:href=\"#glyph2-1\" x=\"181.706\" y=\"64.922\"/>\n</g>\n<g style=\"fill:rgb(0%,0%,0%);fill-opacity:1;\">\n  <use xlink:href=\"#glyph3-1\" x=\"181.706\" y=\"92.979\"/>\n</g>\n<path style=\"fill:none;stroke-width:0.79701;stroke-linecap:square;stroke-linejoin:miter;stroke:rgb(0%,0%,0%);stroke-opacity:1;stroke-miterlimit:10;\" d=\"M 164.696531 -0.14425 L 174.813719 -0.14425 M 164.696531 -28.202844 L 174.813719 -28.202844 M 232.161375 -14.171594 L 222.040281 -14.171594 \" transform=\"matrix(1,0,0,-1,3.573,62.262)\"/>\n<path style=\"fill-rule:nonzero;fill:rgb(0%,0%,0%);fill-opacity:1;stroke-width:0.79701;stroke-linecap:butt;stroke-linejoin:miter;stroke:rgb(0%,0%,0%);stroke-opacity:1;stroke-miterlimit:10;\" d=\"M 143.321531 0.00028125 C 143.321531 0.875281 142.610594 1.586219 141.735594 1.586219 C 140.856687 1.586219 140.14575 0.875281 140.14575 0.00028125 C 140.14575 -0.874719 140.856687 -1.585656 141.735594 -1.585656 C 142.610594 -1.585656 143.321531 -0.874719 143.321531 0.00028125 Z M 143.321531 0.00028125 \" transform=\"matrix(1,0,0,-1,3.573,62.262)\"/>\n<path style=\"fill:none;stroke-width:1.59404;stroke-linecap:butt;stroke-linejoin:bevel;stroke:rgb(0%,0%,0%);stroke-opacity:1;stroke-miterlimit:10;\" d=\"M 181.755125 42.519812 L 185.266844 48.472937 L 190.688719 36.566687 L 196.1145 48.472937 L 201.536375 36.566687 L 206.962156 48.472937 L 212.387937 36.566687 L 215.098875 42.519812 \" transform=\"matrix(1,0,0,-1,3.573,62.262)\"/>\n<g style=\"fill:rgb(0%,0%,0%);fill-opacity:1;\">\n  <use xlink:href=\"#glyph0-3\" x=\"195.981\" y=\"9.977\"/>\n</g>\n<g style=\"fill:rgb(0%,0%,0%);fill-opacity:1;\">\n  <use xlink:href=\"#glyph1-2\" x=\"203.546\" y=\"11.472\"/>\n</g>\n<path style=\"fill-rule:nonzero;fill:rgb(0%,0%,0%);fill-opacity:1;stroke-width:0.79701;stroke-linecap:butt;stroke-linejoin:miter;stroke:rgb(0%,0%,0%);stroke-opacity:1;stroke-miterlimit:10;\" d=\"M 256.70825 -14.171594 C 256.70825 -13.296594 255.997312 -12.585656 255.122312 -12.585656 C 254.243406 -12.585656 253.532469 -13.296594 253.532469 -14.171594 C 253.532469 -15.0505 254.243406 -15.761438 255.122312 -15.761438 C 255.997312 -15.761438 256.70825 -15.0505 256.70825 -14.171594 Z M 256.70825 -14.171594 \" transform=\"matrix(1,0,0,-1,3.573,62.262)\"/>\n<path style=\" stroke:none;fill-rule:nonzero;fill:rgb(100%,100%,100%);fill-opacity:1;\" d=\"M 288.628906 76.433594 C 288.628906 75.558594 287.917969 74.847656 287.042969 74.847656 C 286.164063 74.847656 285.453125 75.558594 285.453125 76.433594 C 285.453125 77.3125 286.164063 78.023438 287.042969 78.023438 C 287.917969 78.023438 288.628906 77.3125 288.628906 76.433594 Z M 288.628906 76.433594 \"/>\n<g clip-path=\"url(#clip1)\" clip-rule=\"nonzero\">\n<path style=\"fill:none;stroke-width:0.79701;stroke-linecap:butt;stroke-linejoin:miter;stroke:rgb(0%,0%,0%);stroke-opacity:1;stroke-miterlimit:10;\" d=\"M 285.055906 -14.171594 C 285.055906 -13.296594 284.344969 -12.585656 283.469969 -12.585656 C 282.591063 -12.585656 281.880125 -13.296594 281.880125 -14.171594 C 281.880125 -15.0505 282.591063 -15.761438 283.469969 -15.761438 C 284.344969 -15.761438 285.055906 -15.0505 285.055906 -14.171594 Z M 285.055906 -14.171594 \" transform=\"matrix(1,0,0,-1,3.573,62.262)\"/>\n</g>\n<path style=\"fill-rule:nonzero;fill:rgb(0%,0%,0%);fill-opacity:1;stroke-width:0.79701;stroke-linecap:butt;stroke-linejoin:miter;stroke:rgb(0%,0%,0%);stroke-opacity:1;stroke-miterlimit:10;\" d=\"M 58.282469 -56.695031 C 58.282469 -55.816125 57.571531 -55.105188 56.692625 -55.105188 C 55.817625 -55.105188 55.106688 -55.816125 55.106688 -56.695031 C 55.106688 -57.570031 55.817625 -58.280969 56.692625 -58.280969 C 57.571531 -58.280969 58.282469 -57.570031 58.282469 -56.695031 Z M 58.282469 -56.695031 \" transform=\"matrix(1,0,0,-1,3.573,62.262)\"/>\n<path style=\"fill-rule:nonzero;fill:rgb(0%,0%,0%);fill-opacity:1;stroke-width:0.79701;stroke-linecap:butt;stroke-linejoin:miter;stroke:rgb(0%,0%,0%);stroke-opacity:1;stroke-miterlimit:10;\" d=\"M 29.934813 0.00028125 C 29.934813 0.875281 29.223875 1.586219 28.344969 1.586219 C 27.469969 1.586219 26.759031 0.875281 26.759031 0.00028125 C 26.759031 -0.874719 27.469969 -1.585656 28.344969 -1.585656 C 29.223875 -1.585656 29.934813 -0.874719 29.934813 0.00028125 Z M 29.934813 0.00028125 \" transform=\"matrix(1,0,0,-1,3.573,62.262)\"/>\n<path style=\"fill:none;stroke-width:1.59404;stroke-linecap:butt;stroke-linejoin:bevel;stroke:rgb(0%,0%,0%);stroke-opacity:1;stroke-miterlimit:10;\" d=\"M 28.344969 -40.023156 L 34.298094 -43.530969 L 22.39575 -48.95675 L 34.298094 -54.378625 L 22.39575 -59.804406 L 34.298094 -65.230188 L 22.39575 -70.652063 L 28.344969 -73.363 \" transform=\"matrix(1,0,0,-1,3.573,62.262)\"/>\n<path style=\"fill:none;stroke-width:1.59404;stroke-linecap:butt;stroke-linejoin:bevel;stroke:rgb(0%,0%,0%);stroke-opacity:1;stroke-miterlimit:10;\" d=\"M 44.219969 -56.695031 L 38.841063 -56.695031 \" transform=\"matrix(1,0,0,-1,3.573,62.262)\"/>\n<path style=\" stroke:none;fill-rule:nonzero;fill:rgb(0%,0%,0%);fill-opacity:1;\" d=\"M 37.871094 118.957031 C 39.765625 119.335938 43.171875 120.089844 45.445313 121.796875 C 43.550781 119.710938 43.550781 118.199219 45.445313 116.117188 C 43.171875 117.820313 39.765625 118.578125 37.871094 118.957031 Z M 37.871094 118.957031 \"/>\n<g style=\"fill:rgb(0%,0%,0%);fill-opacity:1;\">\n  <use xlink:href=\"#glyph0-3\" x=\"50.989\" y=\"121.1\"/>\n</g>\n<g style=\"fill:rgb(0%,0%,0%);fill-opacity:1;\">\n  <use xlink:href=\"#glyph0-4\" x=\"58.633303\" y=\"121.1\"/>\n</g>\n<g style=\"fill:rgb(0%,0%,0%);fill-opacity:1;\">\n  <use xlink:href=\"#glyph1-1\" x=\"63.46\" y=\"122.594\"/>\n</g>\n<path style=\"fill:none;stroke-width:0.79701;stroke-linecap:butt;stroke-linejoin:miter;stroke:rgb(0%,0%,0%);stroke-opacity:1;stroke-miterlimit:10;\" d=\"M 28.344969 -113.386438 L 28.344969 -125.292688 \" transform=\"matrix(1,0,0,-1,3.573,62.262)\"/>\n<g clip-path=\"url(#clip2)\" clip-rule=\"nonzero\">\n<path style=\"fill:none;stroke-width:1.59404;stroke-linecap:butt;stroke-linejoin:miter;stroke:rgb(0%,0%,0%);stroke-opacity:1;stroke-miterlimit:10;\" d=\"M 22.39575 -125.292688 L 34.298094 -125.292688 M 24.380125 -127.277063 L 32.313719 -127.277063 M 25.868406 -129.261438 L 30.825438 -129.261438 \" transform=\"matrix(1,0,0,-1,3.573,62.262)\"/>\n</g>\n<path style=\"fill:none;stroke-width:1.59404;stroke-linecap:butt;stroke-linejoin:bevel;stroke:rgb(0%,0%,0%);stroke-opacity:1;stroke-miterlimit:10;\" d=\"M 56.692625 -11.6755 L 62.64575 -15.183313 L 50.7395 -20.609094 L 62.64575 -26.034875 L 50.7395 -31.45675 L 62.64575 -36.882531 L 50.7395 -42.304406 L 56.692625 -45.01925 \" transform=\"matrix(1,0,0,-1,3.573,62.262)\"/>\n<g style=\"fill:rgb(0%,0%,0%);fill-opacity:1;\">\n  <use xlink:href=\"#glyph0-3\" x=\"68.422\" y=\"92.753\"/>\n</g>\n<g style=\"fill:rgb(0%,0%,0%);fill-opacity:1;\">\n  <use xlink:href=\"#glyph1-3\" x=\"75.987\" y=\"94.248\"/>\n</g>\n<path style=\"fill:none;stroke-width:1.59404;stroke-linecap:butt;stroke-linejoin:bevel;stroke:rgb(0%,0%,0%);stroke-opacity:1;stroke-miterlimit:10;\" d=\"M 56.692625 -68.370813 L 62.64575 -71.878625 L 50.7395 -77.304406 L 62.64575 -82.726281 L 50.7395 -88.152063 L 62.64575 -93.573938 L 50.7395 -98.999719 L 56.692625 -101.710656 \" transform=\"matrix(1,0,0,-1,3.573,62.262)\"/>\n<g style=\"fill:rgb(0%,0%,0%);fill-opacity:1;\">\n  <use xlink:href=\"#glyph0-3\" x=\"68.422\" y=\"149.446\"/>\n</g>\n<g style=\"fill:rgb(0%,0%,0%);fill-opacity:1;\">\n  <use xlink:href=\"#glyph1-4\" x=\"75.987\" y=\"150.94\"/>\n</g>\n<path style=\"fill:none;stroke-width:0.79701;stroke-linecap:butt;stroke-linejoin:miter;stroke:rgb(0%,0%,0%);stroke-opacity:1;stroke-miterlimit:10;\" d=\"M 56.692625 -113.386438 L 56.692625 -125.292688 \" transform=\"matrix(1,0,0,-1,3.573,62.262)\"/>\n<g clip-path=\"url(#clip3)\" clip-rule=\"nonzero\">\n<path style=\"fill:none;stroke-width:1.59404;stroke-linecap:butt;stroke-linejoin:miter;stroke:rgb(0%,0%,0%);stroke-opacity:1;stroke-miterlimit:10;\" d=\"M 50.7395 -125.292688 L 62.64575 -125.292688 M 52.723875 -127.277063 L 60.661375 -127.277063 M 54.212156 -129.261438 L 59.173094 -129.261438 \" transform=\"matrix(1,0,0,-1,3.573,62.262)\"/>\n</g>\n</g>\n</svg>"
     },
     "metadata": {},
     "execution_count": 8
    }
   ],
   "source": [
    "diffamp_str = r\"\"\"\\documentclass[14pt]{standalone}\n",
    "\\usepackage{circuitikz}\n",
    "\\begin{document}\n",
    "\\begin{circuitikz}[american voltages]\n",
    "\n",
    "%from the input to the opamp\n",
    "\\draw[color=black, thick]\n",
    "    (0,0) to [short,o-*,l=$IN$,left] (2,0) {}\n",
    "    to [R,l=$R_1$] (5,0)\n",
    "    to [short] (6,0) {}\n",
    "\n",
    "    (7,-0.5) node [op amp,yscale=1.01] {}\n",
    "\n",
    "    %negative feedback\n",
    "    (5,0) to [short,*-] (5,1.5) {}\n",
    "    to [R,l=$R_2$] (9,1.5)\n",
    "    to [short,-*] (9,-0.5) {}\n",
    "    (8,-0.5) to [short,-o] (10,-0.5) {}\n",
    "\n",
    "    (6,-1) to [short] (5,-1) {}\n",
    "    to [short,] (5,-2) {}\n",
    "    to [short,-*] (2,-2) {}\n",
    "\n",
    "    %pot to ground\n",
    "    (1,0) to [short,*-] (1,-1)\n",
    "    to[american potentiometer,n=mypot,l=$Rv_1$] (1,-3)\n",
    "    to (1,-4) node [ground] {}\n",
    "\n",
    "    (1.5,-2) to [short] (2,-2)\n",
    "\n",
    "    %serial resistor to ground\n",
    "    (2,0) to[R,l=$R_3$] ++(0,-2)\n",
    "    to[R,l=$R_4$] ++(0,-2)\n",
    "    to (2,-4) node [ground] {};\n",
    "\n",
    "\\end{circuitikz}\n",
    "\\end{document}\"\"\"\n",
    "\n",
    "%itikz --temp-dir --file-prefix _tmp- diffamp_str"
   ]
  },
  {
   "source": [
    "$$\n",
    "\\begin{array}{c}\n",
    "Vout = \\Bigl(1 + \\frac{R2}{R1}\\Bigr) \\Bigl(\\frac{R4}{R3+R4}\\Bigr) * V2 - \\Bigl(\\frac{R2}{R1}\\Bigr) * V1\n",
    "\\end{array}\n",
    "$$"
   ],
   "cell_type": "markdown",
   "metadata": {}
  },
  {
   "cell_type": "code",
   "execution_count": 9,
   "metadata": {},
   "outputs": [
    {
     "output_type": "display_data",
     "data": {
      "text/plain": "<Figure size 432x288 with 1 Axes>",
      "image/svg+xml": "<?xml version=\"1.0\" encoding=\"utf-8\" standalone=\"no\"?>\r\n<!DOCTYPE svg PUBLIC \"-//W3C//DTD SVG 1.1//EN\"\r\n  \"http://www.w3.org/Graphics/SVG/1.1/DTD/svg11.dtd\">\r\n<!-- Created with matplotlib (https://matplotlib.org/) -->\r\n<svg height=\"280.15625pt\" version=\"1.1\" viewBox=\"0 0 424.470312 280.15625\" width=\"424.470312pt\" xmlns=\"http://www.w3.org/2000/svg\" xmlns:xlink=\"http://www.w3.org/1999/xlink\">\r\n <metadata>\r\n  <rdf:RDF xmlns:cc=\"http://creativecommons.org/ns#\" xmlns:dc=\"http://purl.org/dc/elements/1.1/\" xmlns:rdf=\"http://www.w3.org/1999/02/22-rdf-syntax-ns#\">\r\n   <cc:Work>\r\n    <dc:type rdf:resource=\"http://purl.org/dc/dcmitype/StillImage\"/>\r\n    <dc:date>2021-01-02T08:40:59.556065</dc:date>\r\n    <dc:format>image/svg+xml</dc:format>\r\n    <dc:creator>\r\n     <cc:Agent>\r\n      <dc:title>Matplotlib v3.3.2, https://matplotlib.org/</dc:title>\r\n     </cc:Agent>\r\n    </dc:creator>\r\n   </cc:Work>\r\n  </rdf:RDF>\r\n </metadata>\r\n <defs>\r\n  <style type=\"text/css\">*{stroke-linecap:butt;stroke-linejoin:round;}</style>\r\n </defs>\r\n <g id=\"figure_1\">\r\n  <g id=\"patch_1\">\r\n   <path d=\"M 0 280.15625 \r\nL 424.470312 280.15625 \r\nL 424.470312 0 \r\nL 0 0 \r\nz\r\n\" style=\"fill:none;\"/>\r\n  </g>\r\n  <g id=\"axes_1\">\r\n   <g id=\"patch_2\">\r\n    <path d=\"M 42.620313 242.6 \r\nL 417.270312 242.6 \r\nL 417.270312 7.2 \r\nL 42.620313 7.2 \r\nz\r\n\" style=\"fill:#ffffff;\"/>\r\n   </g>\r\n   <g id=\"matplotlib.axis_1\">\r\n    <g id=\"xtick_1\">\r\n     <g id=\"line2d_1\">\r\n      <path clip-path=\"url(#pc3d09111dd)\" d=\"M 59.649858 242.6 \r\nL 59.649858 7.2 \r\n\" style=\"fill:none;stroke:#b0b0b0;stroke-linecap:square;stroke-width:0.8;\"/>\r\n     </g>\r\n     <g id=\"line2d_2\">\r\n      <defs>\r\n       <path d=\"M 0 0 \r\nL 0 3.5 \r\n\" id=\"m80ccbeee13\" style=\"stroke:#000000;stroke-width:0.8;\"/>\r\n      </defs>\r\n      <g>\r\n       <use style=\"stroke:#000000;stroke-width:0.8;\" x=\"59.649858\" xlink:href=\"#m80ccbeee13\" y=\"242.6\"/>\r\n      </g>\r\n     </g>\r\n     <g id=\"text_1\">\r\n      <!-- 0 -->\r\n      <g transform=\"translate(56.468608 257.198437)scale(0.1 -0.1)\">\r\n       <defs>\r\n        <path d=\"M 31.78125 66.40625 \r\nQ 24.171875 66.40625 20.328125 58.90625 \r\nQ 16.5 51.421875 16.5 36.375 \r\nQ 16.5 21.390625 20.328125 13.890625 \r\nQ 24.171875 6.390625 31.78125 6.390625 \r\nQ 39.453125 6.390625 43.28125 13.890625 \r\nQ 47.125 21.390625 47.125 36.375 \r\nQ 47.125 51.421875 43.28125 58.90625 \r\nQ 39.453125 66.40625 31.78125 66.40625 \r\nz\r\nM 31.78125 74.21875 \r\nQ 44.046875 74.21875 50.515625 64.515625 \r\nQ 56.984375 54.828125 56.984375 36.375 \r\nQ 56.984375 17.96875 50.515625 8.265625 \r\nQ 44.046875 -1.421875 31.78125 -1.421875 \r\nQ 19.53125 -1.421875 13.0625 8.265625 \r\nQ 6.59375 17.96875 6.59375 36.375 \r\nQ 6.59375 54.828125 13.0625 64.515625 \r\nQ 19.53125 74.21875 31.78125 74.21875 \r\nz\r\n\" id=\"DejaVuSans-48\"/>\r\n       </defs>\r\n       <use xlink:href=\"#DejaVuSans-48\"/>\r\n      </g>\r\n     </g>\r\n    </g>\r\n    <g id=\"xtick_2\">\r\n     <g id=\"line2d_3\">\r\n      <path clip-path=\"url(#pc3d09111dd)\" d=\"M 128.456102 242.6 \r\nL 128.456102 7.2 \r\n\" style=\"fill:none;stroke:#b0b0b0;stroke-linecap:square;stroke-width:0.8;\"/>\r\n     </g>\r\n     <g id=\"line2d_4\">\r\n      <g>\r\n       <use style=\"stroke:#000000;stroke-width:0.8;\" x=\"128.456102\" xlink:href=\"#m80ccbeee13\" y=\"242.6\"/>\r\n      </g>\r\n     </g>\r\n     <g id=\"text_2\">\r\n      <!-- 20 -->\r\n      <g transform=\"translate(122.093602 257.198437)scale(0.1 -0.1)\">\r\n       <defs>\r\n        <path d=\"M 19.1875 8.296875 \r\nL 53.609375 8.296875 \r\nL 53.609375 0 \r\nL 7.328125 0 \r\nL 7.328125 8.296875 \r\nQ 12.9375 14.109375 22.625 23.890625 \r\nQ 32.328125 33.6875 34.8125 36.53125 \r\nQ 39.546875 41.84375 41.421875 45.53125 \r\nQ 43.3125 49.21875 43.3125 52.78125 \r\nQ 43.3125 58.59375 39.234375 62.25 \r\nQ 35.15625 65.921875 28.609375 65.921875 \r\nQ 23.96875 65.921875 18.8125 64.3125 \r\nQ 13.671875 62.703125 7.8125 59.421875 \r\nL 7.8125 69.390625 \r\nQ 13.765625 71.78125 18.9375 73 \r\nQ 24.125 74.21875 28.421875 74.21875 \r\nQ 39.75 74.21875 46.484375 68.546875 \r\nQ 53.21875 62.890625 53.21875 53.421875 \r\nQ 53.21875 48.921875 51.53125 44.890625 \r\nQ 49.859375 40.875 45.40625 35.40625 \r\nQ 44.1875 33.984375 37.640625 27.21875 \r\nQ 31.109375 20.453125 19.1875 8.296875 \r\nz\r\n\" id=\"DejaVuSans-50\"/>\r\n       </defs>\r\n       <use xlink:href=\"#DejaVuSans-50\"/>\r\n       <use x=\"63.623047\" xlink:href=\"#DejaVuSans-48\"/>\r\n      </g>\r\n     </g>\r\n    </g>\r\n    <g id=\"xtick_3\">\r\n     <g id=\"line2d_5\">\r\n      <path clip-path=\"url(#pc3d09111dd)\" d=\"M 197.262346 242.6 \r\nL 197.262346 7.2 \r\n\" style=\"fill:none;stroke:#b0b0b0;stroke-linecap:square;stroke-width:0.8;\"/>\r\n     </g>\r\n     <g id=\"line2d_6\">\r\n      <g>\r\n       <use style=\"stroke:#000000;stroke-width:0.8;\" x=\"197.262346\" xlink:href=\"#m80ccbeee13\" y=\"242.6\"/>\r\n      </g>\r\n     </g>\r\n     <g id=\"text_3\">\r\n      <!-- 40 -->\r\n      <g transform=\"translate(190.899846 257.198437)scale(0.1 -0.1)\">\r\n       <defs>\r\n        <path d=\"M 37.796875 64.3125 \r\nL 12.890625 25.390625 \r\nL 37.796875 25.390625 \r\nz\r\nM 35.203125 72.90625 \r\nL 47.609375 72.90625 \r\nL 47.609375 25.390625 \r\nL 58.015625 25.390625 \r\nL 58.015625 17.1875 \r\nL 47.609375 17.1875 \r\nL 47.609375 0 \r\nL 37.796875 0 \r\nL 37.796875 17.1875 \r\nL 4.890625 17.1875 \r\nL 4.890625 26.703125 \r\nz\r\n\" id=\"DejaVuSans-52\"/>\r\n       </defs>\r\n       <use xlink:href=\"#DejaVuSans-52\"/>\r\n       <use x=\"63.623047\" xlink:href=\"#DejaVuSans-48\"/>\r\n      </g>\r\n     </g>\r\n    </g>\r\n    <g id=\"xtick_4\">\r\n     <g id=\"line2d_7\">\r\n      <path clip-path=\"url(#pc3d09111dd)\" d=\"M 266.068591 242.6 \r\nL 266.068591 7.2 \r\n\" style=\"fill:none;stroke:#b0b0b0;stroke-linecap:square;stroke-width:0.8;\"/>\r\n     </g>\r\n     <g id=\"line2d_8\">\r\n      <g>\r\n       <use style=\"stroke:#000000;stroke-width:0.8;\" x=\"266.068591\" xlink:href=\"#m80ccbeee13\" y=\"242.6\"/>\r\n      </g>\r\n     </g>\r\n     <g id=\"text_4\">\r\n      <!-- 60 -->\r\n      <g transform=\"translate(259.706091 257.198437)scale(0.1 -0.1)\">\r\n       <defs>\r\n        <path d=\"M 33.015625 40.375 \r\nQ 26.375 40.375 22.484375 35.828125 \r\nQ 18.609375 31.296875 18.609375 23.390625 \r\nQ 18.609375 15.53125 22.484375 10.953125 \r\nQ 26.375 6.390625 33.015625 6.390625 \r\nQ 39.65625 6.390625 43.53125 10.953125 \r\nQ 47.40625 15.53125 47.40625 23.390625 \r\nQ 47.40625 31.296875 43.53125 35.828125 \r\nQ 39.65625 40.375 33.015625 40.375 \r\nz\r\nM 52.59375 71.296875 \r\nL 52.59375 62.3125 \r\nQ 48.875 64.0625 45.09375 64.984375 \r\nQ 41.3125 65.921875 37.59375 65.921875 \r\nQ 27.828125 65.921875 22.671875 59.328125 \r\nQ 17.53125 52.734375 16.796875 39.40625 \r\nQ 19.671875 43.65625 24.015625 45.921875 \r\nQ 28.375 48.1875 33.59375 48.1875 \r\nQ 44.578125 48.1875 50.953125 41.515625 \r\nQ 57.328125 34.859375 57.328125 23.390625 \r\nQ 57.328125 12.15625 50.6875 5.359375 \r\nQ 44.046875 -1.421875 33.015625 -1.421875 \r\nQ 20.359375 -1.421875 13.671875 8.265625 \r\nQ 6.984375 17.96875 6.984375 36.375 \r\nQ 6.984375 53.65625 15.1875 63.9375 \r\nQ 23.390625 74.21875 37.203125 74.21875 \r\nQ 40.921875 74.21875 44.703125 73.484375 \r\nQ 48.484375 72.75 52.59375 71.296875 \r\nz\r\n\" id=\"DejaVuSans-54\"/>\r\n       </defs>\r\n       <use xlink:href=\"#DejaVuSans-54\"/>\r\n       <use x=\"63.623047\" xlink:href=\"#DejaVuSans-48\"/>\r\n      </g>\r\n     </g>\r\n    </g>\r\n    <g id=\"xtick_5\">\r\n     <g id=\"line2d_9\">\r\n      <path clip-path=\"url(#pc3d09111dd)\" d=\"M 334.874835 242.6 \r\nL 334.874835 7.2 \r\n\" style=\"fill:none;stroke:#b0b0b0;stroke-linecap:square;stroke-width:0.8;\"/>\r\n     </g>\r\n     <g id=\"line2d_10\">\r\n      <g>\r\n       <use style=\"stroke:#000000;stroke-width:0.8;\" x=\"334.874835\" xlink:href=\"#m80ccbeee13\" y=\"242.6\"/>\r\n      </g>\r\n     </g>\r\n     <g id=\"text_5\">\r\n      <!-- 80 -->\r\n      <g transform=\"translate(328.512335 257.198437)scale(0.1 -0.1)\">\r\n       <defs>\r\n        <path d=\"M 31.78125 34.625 \r\nQ 24.75 34.625 20.71875 30.859375 \r\nQ 16.703125 27.09375 16.703125 20.515625 \r\nQ 16.703125 13.921875 20.71875 10.15625 \r\nQ 24.75 6.390625 31.78125 6.390625 \r\nQ 38.8125 6.390625 42.859375 10.171875 \r\nQ 46.921875 13.96875 46.921875 20.515625 \r\nQ 46.921875 27.09375 42.890625 30.859375 \r\nQ 38.875 34.625 31.78125 34.625 \r\nz\r\nM 21.921875 38.8125 \r\nQ 15.578125 40.375 12.03125 44.71875 \r\nQ 8.5 49.078125 8.5 55.328125 \r\nQ 8.5 64.0625 14.71875 69.140625 \r\nQ 20.953125 74.21875 31.78125 74.21875 \r\nQ 42.671875 74.21875 48.875 69.140625 \r\nQ 55.078125 64.0625 55.078125 55.328125 \r\nQ 55.078125 49.078125 51.53125 44.71875 \r\nQ 48 40.375 41.703125 38.8125 \r\nQ 48.828125 37.15625 52.796875 32.3125 \r\nQ 56.78125 27.484375 56.78125 20.515625 \r\nQ 56.78125 9.90625 50.3125 4.234375 \r\nQ 43.84375 -1.421875 31.78125 -1.421875 \r\nQ 19.734375 -1.421875 13.25 4.234375 \r\nQ 6.78125 9.90625 6.78125 20.515625 \r\nQ 6.78125 27.484375 10.78125 32.3125 \r\nQ 14.796875 37.15625 21.921875 38.8125 \r\nz\r\nM 18.3125 54.390625 \r\nQ 18.3125 48.734375 21.84375 45.5625 \r\nQ 25.390625 42.390625 31.78125 42.390625 \r\nQ 38.140625 42.390625 41.71875 45.5625 \r\nQ 45.3125 48.734375 45.3125 54.390625 \r\nQ 45.3125 60.0625 41.71875 63.234375 \r\nQ 38.140625 66.40625 31.78125 66.40625 \r\nQ 25.390625 66.40625 21.84375 63.234375 \r\nQ 18.3125 60.0625 18.3125 54.390625 \r\nz\r\n\" id=\"DejaVuSans-56\"/>\r\n       </defs>\r\n       <use xlink:href=\"#DejaVuSans-56\"/>\r\n       <use x=\"63.623047\" xlink:href=\"#DejaVuSans-48\"/>\r\n      </g>\r\n     </g>\r\n    </g>\r\n    <g id=\"xtick_6\">\r\n     <g id=\"line2d_11\">\r\n      <path clip-path=\"url(#pc3d09111dd)\" d=\"M 403.681079 242.6 \r\nL 403.681079 7.2 \r\n\" style=\"fill:none;stroke:#b0b0b0;stroke-linecap:square;stroke-width:0.8;\"/>\r\n     </g>\r\n     <g id=\"line2d_12\">\r\n      <g>\r\n       <use style=\"stroke:#000000;stroke-width:0.8;\" x=\"403.681079\" xlink:href=\"#m80ccbeee13\" y=\"242.6\"/>\r\n      </g>\r\n     </g>\r\n     <g id=\"text_6\">\r\n      <!-- 100 -->\r\n      <g transform=\"translate(394.137329 257.198437)scale(0.1 -0.1)\">\r\n       <defs>\r\n        <path d=\"M 12.40625 8.296875 \r\nL 28.515625 8.296875 \r\nL 28.515625 63.921875 \r\nL 10.984375 60.40625 \r\nL 10.984375 69.390625 \r\nL 28.421875 72.90625 \r\nL 38.28125 72.90625 \r\nL 38.28125 8.296875 \r\nL 54.390625 8.296875 \r\nL 54.390625 0 \r\nL 12.40625 0 \r\nz\r\n\" id=\"DejaVuSans-49\"/>\r\n       </defs>\r\n       <use xlink:href=\"#DejaVuSans-49\"/>\r\n       <use x=\"63.623047\" xlink:href=\"#DejaVuSans-48\"/>\r\n       <use x=\"127.246094\" xlink:href=\"#DejaVuSans-48\"/>\r\n      </g>\r\n     </g>\r\n    </g>\r\n    <g id=\"text_7\">\r\n     <!-- wiper [%] -->\r\n     <g transform=\"translate(205.919531 270.876562)scale(0.1 -0.1)\">\r\n      <defs>\r\n       <path d=\"M 4.203125 54.6875 \r\nL 13.1875 54.6875 \r\nL 24.421875 12.015625 \r\nL 35.59375 54.6875 \r\nL 46.1875 54.6875 \r\nL 57.421875 12.015625 \r\nL 68.609375 54.6875 \r\nL 77.59375 54.6875 \r\nL 63.28125 0 \r\nL 52.6875 0 \r\nL 40.921875 44.828125 \r\nL 29.109375 0 \r\nL 18.5 0 \r\nz\r\n\" id=\"DejaVuSans-119\"/>\r\n       <path d=\"M 9.421875 54.6875 \r\nL 18.40625 54.6875 \r\nL 18.40625 0 \r\nL 9.421875 0 \r\nz\r\nM 9.421875 75.984375 \r\nL 18.40625 75.984375 \r\nL 18.40625 64.59375 \r\nL 9.421875 64.59375 \r\nz\r\n\" id=\"DejaVuSans-105\"/>\r\n       <path d=\"M 18.109375 8.203125 \r\nL 18.109375 -20.796875 \r\nL 9.078125 -20.796875 \r\nL 9.078125 54.6875 \r\nL 18.109375 54.6875 \r\nL 18.109375 46.390625 \r\nQ 20.953125 51.265625 25.265625 53.625 \r\nQ 29.59375 56 35.59375 56 \r\nQ 45.5625 56 51.78125 48.09375 \r\nQ 58.015625 40.1875 58.015625 27.296875 \r\nQ 58.015625 14.40625 51.78125 6.484375 \r\nQ 45.5625 -1.421875 35.59375 -1.421875 \r\nQ 29.59375 -1.421875 25.265625 0.953125 \r\nQ 20.953125 3.328125 18.109375 8.203125 \r\nz\r\nM 48.6875 27.296875 \r\nQ 48.6875 37.203125 44.609375 42.84375 \r\nQ 40.53125 48.484375 33.40625 48.484375 \r\nQ 26.265625 48.484375 22.1875 42.84375 \r\nQ 18.109375 37.203125 18.109375 27.296875 \r\nQ 18.109375 17.390625 22.1875 11.75 \r\nQ 26.265625 6.109375 33.40625 6.109375 \r\nQ 40.53125 6.109375 44.609375 11.75 \r\nQ 48.6875 17.390625 48.6875 27.296875 \r\nz\r\n\" id=\"DejaVuSans-112\"/>\r\n       <path d=\"M 56.203125 29.59375 \r\nL 56.203125 25.203125 \r\nL 14.890625 25.203125 \r\nQ 15.484375 15.921875 20.484375 11.0625 \r\nQ 25.484375 6.203125 34.421875 6.203125 \r\nQ 39.59375 6.203125 44.453125 7.46875 \r\nQ 49.3125 8.734375 54.109375 11.28125 \r\nL 54.109375 2.78125 \r\nQ 49.265625 0.734375 44.1875 -0.34375 \r\nQ 39.109375 -1.421875 33.890625 -1.421875 \r\nQ 20.796875 -1.421875 13.15625 6.1875 \r\nQ 5.515625 13.8125 5.515625 26.8125 \r\nQ 5.515625 40.234375 12.765625 48.109375 \r\nQ 20.015625 56 32.328125 56 \r\nQ 43.359375 56 49.78125 48.890625 \r\nQ 56.203125 41.796875 56.203125 29.59375 \r\nz\r\nM 47.21875 32.234375 \r\nQ 47.125 39.59375 43.09375 43.984375 \r\nQ 39.0625 48.390625 32.421875 48.390625 \r\nQ 24.90625 48.390625 20.390625 44.140625 \r\nQ 15.875 39.890625 15.1875 32.171875 \r\nz\r\n\" id=\"DejaVuSans-101\"/>\r\n       <path d=\"M 41.109375 46.296875 \r\nQ 39.59375 47.171875 37.8125 47.578125 \r\nQ 36.03125 48 33.890625 48 \r\nQ 26.265625 48 22.1875 43.046875 \r\nQ 18.109375 38.09375 18.109375 28.8125 \r\nL 18.109375 0 \r\nL 9.078125 0 \r\nL 9.078125 54.6875 \r\nL 18.109375 54.6875 \r\nL 18.109375 46.1875 \r\nQ 20.953125 51.171875 25.484375 53.578125 \r\nQ 30.03125 56 36.53125 56 \r\nQ 37.453125 56 38.578125 55.875 \r\nQ 39.703125 55.765625 41.0625 55.515625 \r\nz\r\n\" id=\"DejaVuSans-114\"/>\r\n       <path id=\"DejaVuSans-32\"/>\r\n       <path d=\"M 8.59375 75.984375 \r\nL 29.296875 75.984375 \r\nL 29.296875 69 \r\nL 17.578125 69 \r\nL 17.578125 -6.203125 \r\nL 29.296875 -6.203125 \r\nL 29.296875 -13.1875 \r\nL 8.59375 -13.1875 \r\nz\r\n\" id=\"DejaVuSans-91\"/>\r\n       <path d=\"M 72.703125 32.078125 \r\nQ 68.453125 32.078125 66.03125 28.46875 \r\nQ 63.625 24.859375 63.625 18.40625 \r\nQ 63.625 12.0625 66.03125 8.421875 \r\nQ 68.453125 4.78125 72.703125 4.78125 \r\nQ 76.859375 4.78125 79.265625 8.421875 \r\nQ 81.6875 12.0625 81.6875 18.40625 \r\nQ 81.6875 24.8125 79.265625 28.4375 \r\nQ 76.859375 32.078125 72.703125 32.078125 \r\nz\r\nM 72.703125 38.28125 \r\nQ 80.421875 38.28125 84.953125 32.90625 \r\nQ 89.5 27.546875 89.5 18.40625 \r\nQ 89.5 9.28125 84.9375 3.921875 \r\nQ 80.375 -1.421875 72.703125 -1.421875 \r\nQ 64.890625 -1.421875 60.34375 3.921875 \r\nQ 55.8125 9.28125 55.8125 18.40625 \r\nQ 55.8125 27.59375 60.375 32.9375 \r\nQ 64.9375 38.28125 72.703125 38.28125 \r\nz\r\nM 22.3125 68.015625 \r\nQ 18.109375 68.015625 15.6875 64.375 \r\nQ 13.28125 60.75 13.28125 54.390625 \r\nQ 13.28125 47.953125 15.671875 44.328125 \r\nQ 18.0625 40.71875 22.3125 40.71875 \r\nQ 26.5625 40.71875 28.96875 44.328125 \r\nQ 31.390625 47.953125 31.390625 54.390625 \r\nQ 31.390625 60.6875 28.953125 64.34375 \r\nQ 26.515625 68.015625 22.3125 68.015625 \r\nz\r\nM 66.40625 74.21875 \r\nL 74.21875 74.21875 \r\nL 28.609375 -1.421875 \r\nL 20.796875 -1.421875 \r\nz\r\nM 22.3125 74.21875 \r\nQ 30.03125 74.21875 34.609375 68.875 \r\nQ 39.203125 63.53125 39.203125 54.390625 \r\nQ 39.203125 45.171875 34.640625 39.84375 \r\nQ 30.078125 34.515625 22.3125 34.515625 \r\nQ 14.546875 34.515625 10.03125 39.859375 \r\nQ 5.515625 45.21875 5.515625 54.390625 \r\nQ 5.515625 63.484375 10.046875 68.84375 \r\nQ 14.59375 74.21875 22.3125 74.21875 \r\nz\r\n\" id=\"DejaVuSans-37\"/>\r\n       <path d=\"M 30.421875 75.984375 \r\nL 30.421875 -13.1875 \r\nL 9.71875 -13.1875 \r\nL 9.71875 -6.203125 \r\nL 21.390625 -6.203125 \r\nL 21.390625 69 \r\nL 9.71875 69 \r\nL 9.71875 75.984375 \r\nz\r\n\" id=\"DejaVuSans-93\"/>\r\n      </defs>\r\n      <use xlink:href=\"#DejaVuSans-119\"/>\r\n      <use x=\"81.787109\" xlink:href=\"#DejaVuSans-105\"/>\r\n      <use x=\"109.570312\" xlink:href=\"#DejaVuSans-112\"/>\r\n      <use x=\"173.046875\" xlink:href=\"#DejaVuSans-101\"/>\r\n      <use x=\"234.570312\" xlink:href=\"#DejaVuSans-114\"/>\r\n      <use x=\"275.683594\" xlink:href=\"#DejaVuSans-32\"/>\r\n      <use x=\"307.470703\" xlink:href=\"#DejaVuSans-91\"/>\r\n      <use x=\"346.484375\" xlink:href=\"#DejaVuSans-37\"/>\r\n      <use x=\"441.503906\" xlink:href=\"#DejaVuSans-93\"/>\r\n     </g>\r\n    </g>\r\n   </g>\r\n   <g id=\"matplotlib.axis_2\">\r\n    <g id=\"ytick_1\">\r\n     <g id=\"line2d_13\">\r\n      <path clip-path=\"url(#pc3d09111dd)\" d=\"M 42.620313 209.842679 \r\nL 417.270312 209.842679 \r\n\" style=\"fill:none;stroke:#b0b0b0;stroke-linecap:square;stroke-width:0.8;\"/>\r\n     </g>\r\n     <g id=\"line2d_14\">\r\n      <defs>\r\n       <path d=\"M 0 0 \r\nL -3.5 0 \r\n\" id=\"mf68d3c3db5\" style=\"stroke:#000000;stroke-width:0.8;\"/>\r\n      </defs>\r\n      <g>\r\n       <use style=\"stroke:#000000;stroke-width:0.8;\" x=\"42.620313\" xlink:href=\"#mf68d3c3db5\" y=\"209.842679\"/>\r\n      </g>\r\n     </g>\r\n     <g id=\"text_8\">\r\n      <!-- −4 -->\r\n      <g transform=\"translate(20.878125 213.641898)scale(0.1 -0.1)\">\r\n       <defs>\r\n        <path d=\"M 10.59375 35.5 \r\nL 73.1875 35.5 \r\nL 73.1875 27.203125 \r\nL 10.59375 27.203125 \r\nz\r\n\" id=\"DejaVuSans-8722\"/>\r\n       </defs>\r\n       <use xlink:href=\"#DejaVuSans-8722\"/>\r\n       <use x=\"83.789062\" xlink:href=\"#DejaVuSans-52\"/>\r\n      </g>\r\n     </g>\r\n    </g>\r\n    <g id=\"ytick_2\">\r\n     <g id=\"line2d_15\">\r\n      <path clip-path=\"url(#pc3d09111dd)\" d=\"M 42.620313 165.727351 \r\nL 417.270312 165.727351 \r\n\" style=\"fill:none;stroke:#b0b0b0;stroke-linecap:square;stroke-width:0.8;\"/>\r\n     </g>\r\n     <g id=\"line2d_16\">\r\n      <g>\r\n       <use style=\"stroke:#000000;stroke-width:0.8;\" x=\"42.620313\" xlink:href=\"#mf68d3c3db5\" y=\"165.727351\"/>\r\n      </g>\r\n     </g>\r\n     <g id=\"text_9\">\r\n      <!-- −2 -->\r\n      <g transform=\"translate(20.878125 169.526569)scale(0.1 -0.1)\">\r\n       <use xlink:href=\"#DejaVuSans-8722\"/>\r\n       <use x=\"83.789062\" xlink:href=\"#DejaVuSans-50\"/>\r\n      </g>\r\n     </g>\r\n    </g>\r\n    <g id=\"ytick_3\">\r\n     <g id=\"line2d_17\">\r\n      <path clip-path=\"url(#pc3d09111dd)\" d=\"M 42.620313 121.612022 \r\nL 417.270312 121.612022 \r\n\" style=\"fill:none;stroke:#b0b0b0;stroke-linecap:square;stroke-width:0.8;\"/>\r\n     </g>\r\n     <g id=\"line2d_18\">\r\n      <g>\r\n       <use style=\"stroke:#000000;stroke-width:0.8;\" x=\"42.620313\" xlink:href=\"#mf68d3c3db5\" y=\"121.612022\"/>\r\n      </g>\r\n     </g>\r\n     <g id=\"text_10\">\r\n      <!-- 0 -->\r\n      <g transform=\"translate(29.257813 125.411241)scale(0.1 -0.1)\">\r\n       <use xlink:href=\"#DejaVuSans-48\"/>\r\n      </g>\r\n     </g>\r\n    </g>\r\n    <g id=\"ytick_4\">\r\n     <g id=\"line2d_19\">\r\n      <path clip-path=\"url(#pc3d09111dd)\" d=\"M 42.620313 77.496694 \r\nL 417.270312 77.496694 \r\n\" style=\"fill:none;stroke:#b0b0b0;stroke-linecap:square;stroke-width:0.8;\"/>\r\n     </g>\r\n     <g id=\"line2d_20\">\r\n      <g>\r\n       <use style=\"stroke:#000000;stroke-width:0.8;\" x=\"42.620313\" xlink:href=\"#mf68d3c3db5\" y=\"77.496694\"/>\r\n      </g>\r\n     </g>\r\n     <g id=\"text_11\">\r\n      <!-- 2 -->\r\n      <g transform=\"translate(29.257813 81.295913)scale(0.1 -0.1)\">\r\n       <use xlink:href=\"#DejaVuSans-50\"/>\r\n      </g>\r\n     </g>\r\n    </g>\r\n    <g id=\"ytick_5\">\r\n     <g id=\"line2d_21\">\r\n      <path clip-path=\"url(#pc3d09111dd)\" d=\"M 42.620313 33.381366 \r\nL 417.270312 33.381366 \r\n\" style=\"fill:none;stroke:#b0b0b0;stroke-linecap:square;stroke-width:0.8;\"/>\r\n     </g>\r\n     <g id=\"line2d_22\">\r\n      <g>\r\n       <use style=\"stroke:#000000;stroke-width:0.8;\" x=\"42.620313\" xlink:href=\"#mf68d3c3db5\" y=\"33.381366\"/>\r\n      </g>\r\n     </g>\r\n     <g id=\"text_12\">\r\n      <!-- 4 -->\r\n      <g transform=\"translate(29.257813 37.180584)scale(0.1 -0.1)\">\r\n       <use xlink:href=\"#DejaVuSans-52\"/>\r\n      </g>\r\n     </g>\r\n    </g>\r\n    <g id=\"text_13\">\r\n     <!-- [V] -->\r\n     <g transform=\"translate(14.798438 132.221875)rotate(-90)scale(0.1 -0.1)\">\r\n      <defs>\r\n       <path d=\"M 28.609375 0 \r\nL 0.78125 72.90625 \r\nL 11.078125 72.90625 \r\nL 34.1875 11.53125 \r\nL 57.328125 72.90625 \r\nL 67.578125 72.90625 \r\nL 39.796875 0 \r\nz\r\n\" id=\"DejaVuSans-86\"/>\r\n      </defs>\r\n      <use xlink:href=\"#DejaVuSans-91\"/>\r\n      <use x=\"39.013672\" xlink:href=\"#DejaVuSans-86\"/>\r\n      <use x=\"107.421875\" xlink:href=\"#DejaVuSans-93\"/>\r\n     </g>\r\n    </g>\r\n   </g>\r\n   <g id=\"line2d_23\">\r\n    <path clip-path=\"url(#pc3d09111dd)\" d=\"M 59.649858 231.9 \r\nL 63.09017 225.325091 \r\nL 66.530482 219.337806 \r\nL 69.970795 213.859801 \r\nL 73.411107 208.825966 \r\nL 76.851419 204.181743 \r\nL 80.291731 199.881067 \r\nL 83.732043 195.884775 \r\nL 87.172356 192.159354 \r\nL 90.612668 188.675954 \r\nL 94.05298 185.409601 \r\nL 97.493292 182.338566 \r\nL 100.933605 179.443846 \r\nL 104.373917 176.708754 \r\nL 107.814229 174.118564 \r\nL 111.254541 171.660237 \r\nL 114.694853 169.322175 \r\nL 118.135166 167.094029 \r\nL 121.575478 164.966531 \r\nL 125.01579 162.931352 \r\nL 128.456102 160.980983 \r\nL 131.896414 159.108634 \r\nL 135.336727 157.308145 \r\nL 138.777039 155.573914 \r\nL 142.217351 153.900828 \r\nL 145.657663 152.284209 \r\nL 149.097975 150.719768 \r\nL 152.538288 149.203557 \r\nL 155.9786 147.731934 \r\nL 159.418912 146.301531 \r\nL 162.859224 144.909226 \r\nL 166.299537 143.552113 \r\nL 169.739849 142.227483 \r\nL 173.180161 140.932804 \r\nL 176.620473 139.665699 \r\nL 180.060785 138.423935 \r\nL 183.501098 137.205405 \r\nL 186.94141 136.008114 \r\nL 190.381722 134.830171 \r\nL 193.822034 133.669774 \r\nL 197.262346 132.525203 \r\nL 200.702659 131.394809 \r\nL 204.142971 130.277005 \r\nL 207.583283 129.170261 \r\nL 211.023595 128.073094 \r\nL 214.463908 126.984063 \r\nL 217.90422 125.90176 \r\nL 221.344532 124.824806 \r\nL 224.784844 123.751844 \r\nL 228.225156 122.681535 \r\nL 231.665469 121.612549 \r\nL 235.105781 120.543564 \r\nL 238.546093 119.473255 \r\nL 241.986405 118.400293 \r\nL 245.426717 117.323339 \r\nL 248.86703 116.241036 \r\nL 252.307342 115.152004 \r\nL 255.747654 114.054838 \r\nL 259.187966 112.948094 \r\nL 262.628279 111.83029 \r\nL 266.068591 110.699895 \r\nL 269.508903 109.555324 \r\nL 272.949215 108.394928 \r\nL 276.389527 107.216985 \r\nL 279.82984 106.019694 \r\nL 283.270152 104.801163 \r\nL 286.710464 103.559399 \r\nL 290.150776 102.292295 \r\nL 293.591088 100.997615 \r\nL 297.031401 99.672985 \r\nL 300.471713 98.315872 \r\nL 303.912025 96.923566 \r\nL 307.352337 95.493164 \r\nL 310.79265 94.021541 \r\nL 314.232962 92.505329 \r\nL 317.673274 90.940888 \r\nL 321.113586 89.324269 \r\nL 324.553898 87.651183 \r\nL 327.994211 85.916951 \r\nL 331.434523 84.116462 \r\nL 334.874835 82.244113 \r\nL 338.315147 80.293744 \r\nL 341.755459 78.258564 \r\nL 345.195772 76.131066 \r\nL 348.636084 73.902921 \r\nL 352.076396 71.564858 \r\nL 355.516708 69.106531 \r\nL 358.95702 66.516341 \r\nL 362.397333 63.781248 \r\nL 365.837645 60.886528 \r\nL 369.277957 57.815493 \r\nL 372.718269 54.54914 \r\nL 376.158582 51.065739 \r\nL 379.598894 47.340318 \r\nL 383.039206 43.344025 \r\nL 386.479518 39.043349 \r\nL 389.91983 34.399126 \r\nL 393.360143 29.36529 \r\nL 396.800455 23.887285 \r\nL 400.240767 17.9 \r\n\" style=\"fill:none;stroke:#1f77b4;stroke-linecap:square;stroke-width:1.5;\"/>\r\n   </g>\r\n   <g id=\"patch_3\">\r\n    <path d=\"M 42.620313 242.6 \r\nL 42.620313 7.2 \r\n\" style=\"fill:none;stroke:#000000;stroke-linecap:square;stroke-linejoin:miter;stroke-width:0.8;\"/>\r\n   </g>\r\n   <g id=\"patch_4\">\r\n    <path d=\"M 417.270312 242.6 \r\nL 417.270312 7.2 \r\n\" style=\"fill:none;stroke:#000000;stroke-linecap:square;stroke-linejoin:miter;stroke-width:0.8;\"/>\r\n   </g>\r\n   <g id=\"patch_5\">\r\n    <path d=\"M 42.620312 242.6 \r\nL 417.270312 242.6 \r\n\" style=\"fill:none;stroke:#000000;stroke-linecap:square;stroke-linejoin:miter;stroke-width:0.8;\"/>\r\n   </g>\r\n   <g id=\"patch_6\">\r\n    <path d=\"M 42.620312 7.2 \r\nL 417.270312 7.2 \r\n\" style=\"fill:none;stroke:#000000;stroke-linecap:square;stroke-linejoin:miter;stroke-width:0.8;\"/>\r\n   </g>\r\n   <g id=\"legend_1\">\r\n    <g id=\"patch_7\">\r\n     <path d=\"M 82.085313 54.28 \r\nL 120.925938 54.28 \r\nQ 122.925938 54.28 122.925938 52.28 \r\nL 122.925938 38.601875 \r\nQ 122.925938 36.601875 120.925938 36.601875 \r\nL 82.085313 36.601875 \r\nQ 80.085313 36.601875 80.085313 38.601875 \r\nL 80.085313 52.28 \r\nQ 80.085313 54.28 82.085313 54.28 \r\nz\r\n\" style=\"fill:#ffffff;opacity:0.8;stroke:#cccccc;stroke-linejoin:miter;\"/>\r\n    </g>\r\n    <g id=\"line2d_24\">\r\n     <path d=\"M 84.085313 44.700312 \r\nL 104.085313 44.700312 \r\n\" style=\"fill:none;stroke:#1f77b4;stroke-linecap:square;stroke-width:1.5;\"/>\r\n    </g>\r\n    <g id=\"line2d_25\"/>\r\n    <g id=\"text_14\">\r\n     <!-- V -->\r\n     <g transform=\"translate(112.085313 48.200312)scale(0.1 -0.1)\">\r\n      <use xlink:href=\"#DejaVuSans-86\"/>\r\n     </g>\r\n    </g>\r\n   </g>\r\n  </g>\r\n </g>\r\n <defs>\r\n  <clipPath id=\"pc3d09111dd\">\r\n   <rect height=\"235.4\" width=\"374.65\" x=\"42.620313\" y=\"7.2\"/>\r\n  </clipPath>\r\n </defs>\r\n</svg>\r\n"
     },
     "metadata": {
      "needs_background": "light"
     }
    }
   ],
   "source": [
    "# calcultate the pot sweep\n",
    "circuit = Circuit('attenuverter')\n",
    "circuit.include(spice_library['OPA2134'])\n",
    "\n",
    "circuit.V('1', '+15V', circuit.gnd, 'DC 15')\n",
    "circuit.V('2', '-15V', circuit.gnd, 'DC -15')\n",
    "circuit.V('3', 'INPUT', circuit.gnd, 'DC 5 AC 5 SIN(0 5V 1k)')\n",
    "\n",
    "rv1 = circuit.R('RV1', 'INPUT', 'RV1out', 100@u_kΩ)\n",
    "rv2 = circuit.R('RV2', 'RV1out', circuit.gnd, 100@u_kΩ)\n",
    "circuit.R(3, 'INPUT', 'RV1out', 47@u_kΩ)\n",
    "circuit.R(4, 'RV1out', circuit.gnd, 47@u_kΩ)\n",
    "\n",
    "circuit.R(1, 'INPUT', 'op_neg', 100@u_kΩ)\n",
    "circuit.R(2, 'op_neg', 'OUT', 100@u_kΩ)\n",
    "\n",
    "circuit.X('op', 'OPA2134', 'RV1out', 'op_neg', '+15V', '-15V', 'OUT')\n",
    "\n",
    "attenuverter_results = []\n",
    "for s in np.arange( 1, 0, -0.01 ):\n",
    "    rv1.resistance = s * 100@u_kOhm\n",
    "    rv2.resistance = 100@u_kOhm - (s * 100@u_kOhm)\n",
    "    simulator = circuit.simulator(temperature=25, nominal_temperature=25)\n",
    "    analysis = simulator.operating_point()\n",
    "    attenuverter_results.append(float(analysis['OUT']))\n",
    "\n",
    "figure, ax = plt.subplots()\n",
    "ax.plot(attenuverter_results)  # input\n",
    "ax.legend(('Vout [V]'), loc=(.1, .8))\n",
    "ax.grid()\n",
    "ax.set_xlabel('wiper [%]')\n",
    "ax.set_ylabel('[V]')\n",
    "\n",
    "plt.tight_layout()\n",
    "plt.show()"
   ]
  },
  {
   "cell_type": "markdown",
   "metadata": {},
   "source": [
    "the circuit of the attenuverter is based on the opamp dfferential amplifer. the two resistors at the non-inverting inputs are replaced with a potentiometer. the potentiometer is configured as a voltage divider and replace R3 and R4 from the differential amplifier. when the position of the potentiometer is adjusted, the output voltage will change or invert. at the center position  the output is zero volrs. the response to the potentiometer is linear. we can make it an centered s-curve by adding two parallel resistors (R5,R6) to the potentiometer [[2][2]]."
   ]
  },
  {
   "cell_type": "markdown",
   "metadata": {},
   "source": [
    "a simulation with the resistance at RV 1 changed from 0-100%. first run is the linear result. the second run is done with the resistors R5 and R6 added. This results in a s curve. the shape of the curve can be changed with the values of the resistors."
   ]
  },
  {
   "source": [
    "### bom\n",
    "\n",
    "#### main circuit\n",
    "\n",
    "{% include bom.html content=\"summe-main-bom\" %}\n",
    "\n"
   ],
   "cell_type": "markdown",
   "metadata": {}
  },
  {
   "source": [
    "[schematic pdf file](/assets/summe_files/main-schematic.pdf)\n",
    "[PCB pdf file](/assets/summe_files/main-pcb.pdf)\n",
    "[3d file](/assets/summe_files/main-3D.step)"
   ],
   "cell_type": "markdown",
   "metadata": {}
  },
  {
   "source": [
    "{% include reports.html content=\"summe_kibot_data\" %}"
   ],
   "cell_type": "markdown",
   "metadata": {}
  },
  {
   "cell_type": "markdown",
   "metadata": {},
   "source": [
    "## *calibration*\n",
    "\n",
    "there is no calibration needed. but the potentiomenter knobs have to be aliged to center position."
   ]
  },
  {
   "cell_type": "markdown",
   "metadata": {},
   "source": [
    "## *usage*\n",
    "\n",
    "the input jacks are wired to 5 volts when nothing is connected.\n",
    "\n",
    "all channels are mixed to the out jack. when something is connected to the channel out, this channel is removed from the overall mix.\n",
    "\n",
    "_mixer_\n",
    "* connect the different channels from audio or cv sources to the in jacks.\n",
    "* connect the out jack to something\n",
    "* turn the pots clockwise to adjust the volume.\n",
    "\n",
    "_attenuverter_\n",
    "* connect all or a single channel. \n",
    "* when you turn the pot knob counter clockwise the signal is inverted.\n"
   ]
  },
  {
   "cell_type": "markdown",
   "metadata": {},
   "source": [
    "## *references*\n",
    "\n",
    "- [Op Amp Differential Amplifier][1] eCircuit  Center\n",
    "- [Beginners' Guide to Potentiometers][2]  Rod Elliott (ESP)\n",
    "\n",
    "[1]: http://www.ecircuitcenter.com/Circuits/opdif/opdif.htm\n",
    "[2]: https://sound-au.com/pots.htm\n",
    "[10]: https://www.mouser.ch/ProductDetail/ALPS/RK09L114001T?qs=Xb8IjHhkxj78e5CYccfZWg%3D%3D\n"
   ]
  }
 ],
 "metadata": {
  "kernelspec": {
   "name": "python3",
   "display_name": "Python 3.8.5 64-bit (conda)",
   "metadata": {
    "interpreter": {
     "hash": "32753a87ac38655a2753eac03dab2d3fc565cac601c56fbd8b3d179dedd74815"
    }
   }
  },
  "language_info": {
   "codemirror_mode": {
    "name": "ipython",
    "version": 3
   },
   "file_extension": ".py",
   "mimetype": "text/x-python",
   "name": "python",
   "nbconvert_exporter": "python",
   "pygments_lexer": "ipython3",
   "version": "3.8.5-final"
  }
 },
 "nbformat": 4,
 "nbformat_minor": 4
}