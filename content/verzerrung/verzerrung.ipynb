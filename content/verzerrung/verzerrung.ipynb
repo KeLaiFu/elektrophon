{
 "metadata": {
  "language_info": {
   "codemirror_mode": {
    "name": "ipython",
    "version": 3
   },
   "file_extension": ".py",
   "mimetype": "text/x-python",
   "name": "python",
   "nbconvert_exporter": "python",
   "pygments_lexer": "ipython3",
   "version": "3.8.5-final"
  },
  "orig_nbformat": 2,
  "kernelspec": {
   "name": "python3",
   "display_name": "Python 3",
   "language": "python"
  }
 },
 "nbformat": 4,
 "nbformat_minor": 2,
 "cells": [
  {
   "source": [
    "---\n",
    "layout: article\n",
    "title: fuzz circuits\n",
    "author: spielhuus\n",
    "tags: fuzz\n",
    "cateory: article\n",
    "logo: verzerrung_files/shin-ei-fy-2-red.jpg\n",
    "excerpt: comparison and simulation of different fuzz and distortion circuits.\n",
    "---"
   ],
   "cell_type": "markdown",
   "metadata": {}
  },
  {
   "source": [
    "this time multiple distortion pedals are simulated. the simultions contains processing and plotting a sine wave, simulate with wave files and analyse the result. the input wave file is a clean guitar. in figure 1 there is a spectrum analysis of the file."
   ],
   "cell_type": "markdown",
   "metadata": {}
  },
  {
   "cell_type": "code",
   "execution_count": null,
   "metadata": {},
   "outputs": [],
   "source": [
    "# Just the normal prequisites for using matplotlib and numpy in a Jupyter notebook\n",
    "%matplotlib inline\n",
    "# Use the svg backend, in my opinion it just makes better looking plots\n",
    "%config InlineBackend.figure_format = 'svg'\n",
    "\n",
    "import PySpice.Logging.Logging as Logging\n",
    "logger = Logging.setup_logging( logging_level='CRITICAL')\n",
    "\n",
    "import os\n",
    "import sys\n",
    "from pathlib import Path\n",
    "import IPython.display as ipd\n",
    "from PySpice.Unit import *\n",
    "from PySpice.Spice.Parser import SpiceParser\n",
    "from PySpice.Spice.Netlist import Circuit, SubCircuit, SubCircuitFactory\n",
    "from PySpice.Spice.Library import SpiceLibrary\n",
    "from PySpice.Probe.Plot import plot\n",
    "from PySpice.Doc.ExampleTools import find_libraries\n",
    "from PySpice.Math import *\n",
    "import numpy as np\n",
    "import matplotlib.pyplot as plt\n",
    "import librosa.display\n",
    "\n",
    "directory_path = Path(os.path.abspath('')).resolve().parent.parent\n",
    "spice_libraries_path = directory_path.joinpath(\"lib\", \"spice\")\n",
    "spice_library = SpiceLibrary(spice_libraries_path)\n",
    "\n",
    "directory_path = Path(os.path.abspath('')).resolve()"
   ]
  },
  {
   "cell_type": "code",
   "execution_count": null,
   "metadata": {},
   "outputs": [],
   "source": [
    "x, sr = librosa.load('151009__khoon__rhythm-1-clean-95-bpm.wav')\n",
    "X = librosa.stft(x)\n",
    "Xdb = librosa.amplitude_to_db(abs(X))\n",
    "plt.figure(figsize=(14, 5))\n",
    "librosa.display.specshow(Xdb, sr=sr, x_axis='time', y_axis='hz')"
   ]
  },
  {
   "source": [
    "## overdrive 250\n",
    "\n",
    "![overdrive 250](verzerrung_files/Overdrive 250.jpg)\n",
    "\n",
    "The famous DOD 250 Overdrive Preamp Pedal has been reissued and it's a screeching, roaring return! The DOD 250 is ideal for players who like to clean up their tone and just clip the top of the signal. The reissue DOD 250 Overedrive Preamp includes a level and gain control, and that good ol' metal switch.\n",
    "\n",
    "![overdrive 250 schematic](verzerrung_files/Overdrive_250_schema.svg)"
   ],
   "cell_type": "markdown",
   "metadata": {}
  },
  {
   "cell_type": "code",
   "execution_count": null,
   "metadata": {},
   "outputs": [],
   "source": [
    "#load the Overdrive 250 schema\n",
    "kicad_netlist_path = directory_path.joinpath('Overdrive 250/Overdrive 250.cir')\n",
    "parser = SpiceParser(path=str(kicad_netlist_path))\n",
    "\n",
    "class VoltageDivider(SubCircuitFactory):\n",
    "    __name__ = 'voltage_divider'\n",
    "    __nodes__ = ('n1', 'n2', 'n3' )\n",
    "    def __init__(self, R=100@u_kΩ, w=0.4):\n",
    "        super().__init__()\n",
    "        self.R(1, 'n1', 'n2', R * w)\n",
    "        self.R(2, 'n2', 'n3', R * (1.0-w) )\n",
    "\n",
    "def overdrivePlot( drive ) :\n",
    "    overdrive = parser.build_circuit(ground=5)\n",
    "    overdrive.include(spice_library['TL072'])\n",
    "    overdrive.include(spice_library['D1N4148'])\n",
    "    overdrive.V('1', '+15V', overdrive.gnd, 'DC 9')\n",
    "    overdrive.V('3', 'IN', overdrive.gnd, 'DC 0V AC 0V SIN(0 5V 500)')\n",
    "    overdrive.subcircuit(VoltageDivider(R=500@u_kΩ, w=drive))\n",
    "    simulator = overdrive.simulator(temperature=25, nominal_temperature=25)\n",
    "    return simulator.transient(step_time=1@u_us, start_time=100@u_ms, end_time=104@u_ms)\n",
    "\n",
    "#plot the results\n",
    "fig, axis = plt.subplots(figsize=(18, 6))\n",
    "analysis_shiney = overdrivePlot( 0.1 )    \n",
    "axis.plot(analysis_shiney['OUT'].abscissa*1000, analysis_shiney['OUT'], c='orange')\n",
    "analysis_shiney = overdrivePlot( 0.25 )    \n",
    "axis.plot(analysis_shiney['OUT'].abscissa*1000, analysis_shiney['OUT'], c='LightGreen')\n",
    "analysis_shiney = overdrivePlot( 0.75 )    \n",
    "axis.plot(analysis_shiney['OUT'].abscissa*1000, analysis_shiney['OUT'], c='magenta')\n",
    "analysis_shiney = overdrivePlot( 0.9999 )    \n",
    "axis.plot(analysis_shiney['OUT'].abscissa*1000, analysis_shiney['OUT'], c='LightBlue') \n",
    "\n",
    "axis.grid()\n",
    "axis.set_xlabel('t [ms]')\n",
    "axis.set_ylabel('[V]')\n",
    "axis.set_title('overdrive 250', y=-0.2)\n",
    "plt.show()\n"
   ]
  },
  {
   "source": [
    "output with guitar sample:"
   ],
   "cell_type": "markdown",
   "metadata": {}
  },
  {
   "cell_type": "code",
   "execution_count": null,
   "metadata": {},
   "outputs": [],
   "source": [
    "ipd.Audio(filename='Overdrive 250/build/Overdrive250_151009__khoon__rhythm-1-clean-95-bpm.wav')"
   ]
  },
  {
   "cell_type": "code",
   "execution_count": null,
   "metadata": {},
   "outputs": [],
   "source": [
    "x, sr = librosa.load('Overdrive 250/build/Overdrive250_151009__khoon__rhythm-1-clean-95-bpm.wav')\n",
    "X = librosa.stft(x)\n",
    "Xdb = librosa.amplitude_to_db(abs(X))\n",
    "plt.figure(figsize=(14, 5))\n",
    "librosa.display.specshow(Xdb, sr=sr, x_axis='time', y_axis='hz')"
   ]
  },
  {
   "source": [],
   "cell_type": "markdown",
   "metadata": {}
  },
  {
   "source": [
    "## Shin-ei Companion FY-2\n",
    "\n",
    "![Shin Ei FY-2](verzerrung_files/shin-ei-fy-2-red.jpg)\n",
    "\n",
    "The Shin-ei Companion FY-2 is a discontinued fuzz pedal, made by the Japanese Shin-ei effects pedal company from the late 1960s to the early 1970s. The pedal is known for its raw, distinctive, gated fuzz. FY-2 pedals are now rare.\n",
    "\n",
    "Different versions were made, most using silicon transistors. These had a mid-cutting tone circuit, which lowered the volume. An earlier, rarer, version used germanium transistors. These did not have the tone circuit, and therefore had a louder output. The sound from this version is very rich, fluid and thick.\n",
    "\n",
    "The pedal has two knobs:\n",
    "\n",
    "\"Volume\" (controls overall level)\n",
    "\"Fuzz\" (tone)\n",
    "\n",
    "![Shin Ei FY-2](verzerrung_files/Shin Ei FY-2_schema.svg)"
   ],
   "cell_type": "markdown",
   "metadata": {}
  },
  {
   "cell_type": "code",
   "execution_count": null,
   "metadata": {},
   "outputs": [],
   "source": [
    "#load shin ey schema\n",
    "kicad_netlist_path = directory_path.joinpath('Shin Ei FY-2/Fuzz.cir')\n",
    "parser = SpiceParser(path=str(kicad_netlist_path))\n",
    "\n",
    "def shiney( drive )  :\n",
    "    fuzz = parser.build_circuit(ground=5)\n",
    "    fuzz.include(spice_library['BC547B'])\n",
    "    fuzz.V('1', '+15V', fuzz.gnd, 'DC 15')\n",
    "    fuzz.V('3', 'IN', fuzz.gnd, 'DC 0V AC 0V SIN(0 5V 500)')\n",
    "\n",
    "    class VoltageDivider(SubCircuitFactory):\n",
    "        __name__ = 'voltage_divider'\n",
    "        __nodes__ = ('n1', 'n2', 'n3' )\n",
    "        def __init__(self, R=100@u_kΩ, w=0.4):\n",
    "            super().__init__()\n",
    "            self.R(1, 'n1', 'n2', R * w)\n",
    "            self.R(2, 'n2', 'n3', R * (1.0-w) )\n",
    "\n",
    "    fuzz.subcircuit(VoltageDivider(R=100@u_kΩ, w=drive))\n",
    "    simulator = fuzz.simulator(temperature=25, nominal_temperature=25)\n",
    "    return simulator.transient(step_time=1@u_us, start_time=100@u_ms, end_time=104@u_ms)\n",
    "\n",
    "fig, axis = plt.subplots(figsize=(18, 6))\n",
    "analysis_shiney = shiney( 0.1 )    \n",
    "axis.plot(analysis_shiney['OUT'].abscissa*1000, analysis_shiney['OUT'], c='orange')\n",
    "analysis_shiney = shiney( 0.25 )    \n",
    "axis.plot(analysis_shiney['OUT'].abscissa*1000, analysis_shiney['OUT'], c='LightGreen')\n",
    "analysis_shiney = shiney( 0.75 )    \n",
    "axis.plot(analysis_shiney['OUT'].abscissa*1000, analysis_shiney['OUT'], c='magenta')\n",
    "analysis_shiney = shiney( 0.99 )    \n",
    "axis.plot(analysis_shiney['OUT'].abscissa*1000, analysis_shiney['OUT'], c='LightBlue')\n",
    "\n",
    "axis.grid()\n",
    "axis.set_xlabel('t [ms]')\n",
    "axis.set_ylabel('[V]')\n",
    "axis.set_title('Shin Ei FY-2', y=-0.2)\n",
    "\n",
    "plt.show()"
   ]
  },
  {
   "source": [
    "output with guitar sample:"
   ],
   "cell_type": "markdown",
   "metadata": {}
  },
  {
   "cell_type": "code",
   "execution_count": null,
   "metadata": {},
   "outputs": [],
   "source": [
    "ipd.Audio(filename='Shin Ei FY-2/build/ShinEiFY-2_151009__khoon__rhythm-1-clean-95-bpm.wav')"
   ]
  },
  {
   "cell_type": "code",
   "execution_count": null,
   "metadata": {},
   "outputs": [],
   "source": [
    "x, sr = librosa.load('Shin Ei FY-2/build/ShinEiFY-2_151009__khoon__rhythm-1-clean-95-bpm.wav')\n",
    "X = librosa.stft(x)\n",
    "Xdb = librosa.amplitude_to_db(abs(X))\n",
    "plt.figure(figsize=(14, 5))\n",
    "librosa.display.specshow(Xdb, sr=sr, x_axis='time', y_axis='hz')"
   ]
  },
  {
   "source": [
    "## Way Huge Red LLama\n",
    "\n",
    "![Way Huge Red LLama](verzerrung_files/Way Huge Red LLama.jpg)\n",
    "\n",
    "Its space-age circuitry delivers a delicious overdrive that is reminiscent of tube amp distortion and \"provides solid tweed-like rhythm tones\" Guitar School Magazine (Oct. '96). This pedal has a wide range of dynamic tones from soft and subtle to loud and screaming. Guitar Player Magazine (June '95) says, \"[The Red Llama is]...very mean and punchy sounding with just the right amount of fatness a very cool sounding box.\" Units have volume and drive controls.\n",
    "\n",
    "More than 25000 guitar effects pedals from 4000 brands: \n",
    "http://www.effectsdatabase.com/model/wayhuge/redllama\n",
    "\n",
    "![Way Huge Red LLama](verzerrung_files/Way Huge Red LLama_schema.svg)"
   ],
   "cell_type": "markdown",
   "metadata": {}
  },
  {
   "cell_type": "code",
   "execution_count": null,
   "metadata": {},
   "outputs": [],
   "source": [
    "#load the Huge Red LLama schema\n",
    "kicad_netlist_path = directory_path.joinpath('Way Huge Red LLama/Way Huge Red LLama.cir')\n",
    "parser = SpiceParser(path=str(kicad_netlist_path))\n",
    "\n",
    "def redllama( drive )  :\n",
    "    redllama_circuit = parser.build_circuit(ground=5)\n",
    "    redllama_circuit.include(spice_library['CD4069UBhex'])\n",
    "    redllama_circuit.V('1', '+5V', redllama_circuit.gnd, 'DC 5')\n",
    "    redllama_circuit.V('3', 'IN', redllama_circuit.gnd, 'DC 0V AC 0V SIN(0 0.1V 500)')\n",
    "\n",
    "    class VoltageDivider(SubCircuitFactory):\n",
    "        __name__ = 'voltage_divider'\n",
    "        __nodes__ = ('n1', 'n2', 'n3' )\n",
    "        def __init__(self, R=100@u_kΩ, w=0.4):\n",
    "            super().__init__()\n",
    "            self.R(1, 'n1', 'n2', R * w)\n",
    "            self.R(2, 'n2', 'n3', R * (1.0-w) )\n",
    "\n",
    "    redllama_circuit.subcircuit(VoltageDivider(R=100@u_kΩ, w=drive))\n",
    "    simulator = redllama_circuit.simulator(temperature=25, nominal_temperature=25)\n",
    "    return simulator.transient(step_time=1@u_us, start_time=100@u_ms, end_time=104@u_ms)\n",
    "\n",
    "fig, axis = plt.subplots(figsize=(18, 6))\n",
    "analysis_redllama = redllama( 0.1 )    \n",
    "axis.plot(analysis_redllama['OUT'].abscissa*1000, analysis_redllama['OUT'], c='orange')\n",
    "analysis_redllama = redllama( 0.25 )    \n",
    "axis.plot(analysis_redllama['OUT'].abscissa*1000, analysis_redllama['OUT'], c='LightGreen')\n",
    "analysis_redllama = redllama( 0.75 )    \n",
    "axis.plot(analysis_redllama['OUT'].abscissa*1000, analysis_redllama['OUT'], c='magenta')\n",
    "analysis_redllama = redllama( 0.99 )    \n",
    "axis.plot(analysis_redllama['OUT'].abscissa*1000, analysis_redllama['OUT'], c='LightBlue')\n",
    "\n",
    "axis.grid()\n",
    "axis.set_xlabel('t [ms]')\n",
    "axis.set_ylabel('[V]')\n",
    "axis.set_title('Way Huge Red LLama', y=-0.2)\n",
    "\n",
    "plt.show()"
   ]
  },
  {
   "source": [
    "output with guitar sample"
   ],
   "cell_type": "markdown",
   "metadata": {}
  },
  {
   "cell_type": "code",
   "execution_count": null,
   "metadata": {},
   "outputs": [],
   "source": [
    "ipd.Audio(filename='Way Huge Red LLama/build/WayHugeRedLLama_151009__khoon__rhythm-1-clean-95-bpm.wav')"
   ]
  },
  {
   "cell_type": "code",
   "execution_count": null,
   "metadata": {},
   "outputs": [],
   "source": [
    "x, sr = librosa.load('Way Huge Red LLama/build/WayHugeRedLLama_151009__khoon__rhythm-1-clean-95-bpm.wav')\n",
    "X = librosa.stft(x)\n",
    "Xdb = librosa.amplitude_to_db(abs(X))\n",
    "plt.figure(figsize=(14, 5))\n",
    "librosa.display.specshow(Xdb, sr=sr, x_axis='time', y_axis='hz')"
   ]
  },
  {
   "source": [
    "## UBE Screamer\n",
    "\n",
    "\n",
    "![UBE Screamer](verzerrung_files/UBE Screamer_schema.svg)"
   ],
   "cell_type": "markdown",
   "metadata": {}
  },
  {
   "cell_type": "code",
   "execution_count": null,
   "metadata": {},
   "outputs": [],
   "source": [
    "#load the UBE Screamer\n",
    "kicad_netlist_path = directory_path.joinpath('UBE Screamer/UBE Screamer.cir')\n",
    "parser = SpiceParser(path=str(kicad_netlist_path))\n",
    "\n",
    "def ube( drive )  :\n",
    "    ube_circuit = parser.build_circuit(ground=5)\n",
    "    ube_circuit.include(spice_library['CD4069UBhex'])\n",
    "    ube_circuit.include(spice_library['D1N4148'])\n",
    "    ube_circuit.V('1', '+5V', ube_circuit.gnd, 'DC 5')\n",
    "    ube_circuit.V('3', 'IN', ube_circuit.gnd, 'DC 0V AC 0V SIN(0 0.5V 500)')\n",
    "\n",
    "    class VoltageDivider1(SubCircuitFactory):\n",
    "        __name__ = 'voltage_divider_1'\n",
    "        __nodes__ = ('n1', 'n2', 'n3' )\n",
    "        def __init__(self, R=100@u_kΩ, w=0.4):\n",
    "            super().__init__()\n",
    "            self.R(1, 'n1', 'n2', R * w)\n",
    "            self.R(2, 'n2', 'n3', R * (1.0-w) )\n",
    "\n",
    "    class VoltageDivider2(SubCircuitFactory):\n",
    "        __name__ = 'voltage_divider_2'\n",
    "        __nodes__ = ('n1', 'n2', 'n3' )\n",
    "        def __init__(self, R=100@u_kΩ, w=0.4):\n",
    "            super().__init__()\n",
    "            self.R(1, 'n1', 'n2', R * w)\n",
    "            self.R(2, 'n2', 'n3', R * (1.0-w) )\n",
    "\n",
    "    ube_circuit.subcircuit(VoltageDivider1(R=500@u_kΩ, w=drive))\n",
    "    ube_circuit.subcircuit(VoltageDivider2(R=500@u_kΩ, w=0.5))\n",
    "    simulator = ube_circuit.simulator(temperature=25, nominal_temperature=25)\n",
    "    return simulator.transient(step_time=1@u_us, start_time=100@u_ms, end_time=110@u_ms)\n",
    "\n",
    "fig, axis = plt.subplots(figsize=(18, 6))\n",
    "analysis_ube= ube( 0.1 )    \n",
    "axis.plot(analysis_ube['OUT'].abscissa*1000, analysis_ube['OUT'], c='orange') \n",
    "analysis_ube = ube( 0.25 )    \n",
    "axis.plot(analysis_ube['OUT'].abscissa*1000, analysis_ube['OUT'], c='LightGreen')\n",
    "analysis_ube = ube( 0.75 )    \n",
    "axis.plot(analysis_ube['OUT'].abscissa*1000, analysis_ube['OUT'], c='magenta')\n",
    "analysis_ube = ube( 0.99 )    \n",
    "axis.plot(analysis_ube['OUT'].abscissa*1000, analysis_ube['OUT'], c='LightBlue') \n",
    "\n",
    "axis.grid()\n",
    "axis.set_xlabel('t [ms]')\n",
    "axis.set_ylabel('[V]')\n",
    "axis.set_title('UBE Screamer', y=-0.2)\n",
    "\n",
    "plt.show()"
   ]
  },
  {
   "source": [
    "output with guitar sample"
   ],
   "cell_type": "markdown",
   "metadata": {}
  },
  {
   "cell_type": "code",
   "execution_count": null,
   "metadata": {},
   "outputs": [],
   "source": [
    "ipd.Audio(filename='UBE Screamer/build/UBEScreamer_151009__khoon__rhythm-1-clean-95-bpm.wav')"
   ]
  },
  {
   "cell_type": "code",
   "execution_count": null,
   "metadata": {},
   "outputs": [],
   "source": [
    "x, sr = librosa.load('UBE Screamer/build/UBEScreamer_151009__khoon__rhythm-1-clean-95-bpm.wav')\n",
    "X = librosa.stft(x)\n",
    "Xdb = librosa.amplitude_to_db(abs(X))\n",
    "plt.figure(figsize=(14, 5))\n",
    "librosa.display.specshow(Xdb, sr=sr, x_axis='time', y_axis='hz')"
   ]
  },
  {
   "source": [
    "[1]: http://beavisaudio.com/schematics/DOD-250-Overdrive-Schematic.htm\n",
    "[2]: https://www.diystompboxes.com/smfforum/index.php?topic=118397.0\n",
    "[3]: https://www.diystompboxes.com/smfforum/index.php?topic=99779.0\n",
    "[4]: http://www.runoffgroove.com/ubescreamer.html\n",
    "[5]: http://beavisaudio.com/schematics/Way-Huge-Red-Llama-Schematic.htm\n",
    "[6]: https://static1.squarespace.com/static/5e6e99e8bd2f8a6de8454feb/t/5e77db16e8ff44374c24b124/1584913176675/MBD+BOM+and+build.pdf\n"
   ],
   "cell_type": "markdown",
   "metadata": {}
  }
 ]
}